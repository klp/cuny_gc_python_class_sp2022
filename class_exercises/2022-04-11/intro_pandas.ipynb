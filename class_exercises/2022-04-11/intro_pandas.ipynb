{
 "cells": [
  {
   "cell_type": "markdown",
   "id": "fa5ad18f-f601-47a0-a2d6-61bae0146efc",
   "metadata": {},
   "source": [
    "# Class"
   ]
  },
  {
   "cell_type": "markdown",
   "id": "69b16653-59e6-442e-a1db-da57d97c0c5e",
   "metadata": {},
   "source": [
    "## Intro \n",
    "Why doing mathematically operations aren't intuitive in python without a library."
   ]
  },
  {
   "cell_type": "code",
   "execution_count": 1,
   "id": "d8cf6ef1-7860-4097-873d-5300e3188d09",
   "metadata": {},
   "outputs": [],
   "source": [
    "my_list = [1, 4, 5]"
   ]
  },
  {
   "cell_type": "code",
   "execution_count": 2,
   "id": "c223ff1e-c3dc-42ea-acd7-453cbe9cba78",
   "metadata": {},
   "outputs": [
    {
     "data": {
      "text/plain": [
       "[1, 4, 5, 1, 4, 5, 1, 4, 5]"
      ]
     },
     "execution_count": 2,
     "metadata": {},
     "output_type": "execute_result"
    }
   ],
   "source": [
    "my_list * 3"
   ]
  },
  {
   "cell_type": "code",
   "execution_count": 3,
   "id": "6722ed9d-c70f-456c-8bf5-229eb3460198",
   "metadata": {},
   "outputs": [],
   "source": [
    "# my_list + 3    # produces error to illustrate the point"
   ]
  },
  {
   "cell_type": "code",
   "execution_count": 4,
   "id": "de15f5f9-6e4d-4122-b617-e8fb72ec126d",
   "metadata": {},
   "outputs": [
    {
     "data": {
      "text/plain": [
       "[3, 12, 15]"
      ]
     },
     "execution_count": 4,
     "metadata": {},
     "output_type": "execute_result"
    }
   ],
   "source": [
    "# Instead, you'll typically use a for loop or list comprehension to accomplish mathmatical operations\n",
    "[n * 3 for n in my_list]"
   ]
  },
  {
   "cell_type": "markdown",
   "id": "9ad94a4c-d3e9-4ecb-aaf7-4fa48f22ccb8",
   "metadata": {},
   "source": [
    "Doing this a lot is annoying, and we would do this a lot in data analysis."
   ]
  },
  {
   "cell_type": "markdown",
   "id": "9684c06c-7d30-409d-b3a8-8b64013e4c43",
   "metadata": {},
   "source": [
    "## Pandas\n",
    "Pandas was created to handle mathematical operations and data analysis. Note that this library is not very pythonic, and does things its own way."
   ]
  },
  {
   "cell_type": "code",
   "execution_count": 5,
   "id": "00d36137-e8d0-4aa5-88ac-2da48176c93f",
   "metadata": {},
   "outputs": [],
   "source": [
    "# import libraries\n",
    "import pandas as pd    # pd is a shortcut to call python methods\n",
    "import random          # To import random numbers that are random for our purposes, but are reproducable\n",
    "random.seed(10)        # Using this specific seed to reproduce results when notebook is reru"
   ]
  },
  {
   "cell_type": "markdown",
   "id": "dabe4834-40cf-4fde-a53c-0feb0b1ef83a",
   "metadata": {},
   "source": [
    "### Pandas Series"
   ]
  },
  {
   "cell_type": "code",
   "execution_count": 6,
   "id": "8e2e8faa-bd54-47a2-ba94-bb94c9a3ecdf",
   "metadata": {},
   "outputs": [],
   "source": [
    "temp_cs = [random.randint(-20, 40) for i in range(20)]    # Created 20 random values between -20 and 40 "
   ]
  },
  {
   "cell_type": "code",
   "execution_count": 7,
   "id": "868772cd-afe0-4036-9f03-d3bdf7d9dee6",
   "metadata": {},
   "outputs": [
    {
     "name": "stdout",
     "output_type": "stream",
     "text": [
      "[16, -18, 7, 10, 16, -20, -7, 9, 32, 11, 32, -3, 21, 31, -10, -18, 13, 11, 0, -16]\n"
     ]
    }
   ],
   "source": [
    "print(temp_cs)    # If you only run the random.seed once, you should have the same list as everyone else in the class"
   ]
  },
  {
   "cell_type": "markdown",
   "id": "951dceb7-9ca3-45be-8c72-736af5b4bd99",
   "metadata": {},
   "source": [
    "We want to convert the temps_cs from celcius to fahrenheit. The formula is `F = (C * 9/5) + 32`."
   ]
  },
  {
   "cell_type": "code",
   "execution_count": 8,
   "id": "c78deb3e-551e-4825-bb4c-f8ee1d0a286b",
   "metadata": {},
   "outputs": [],
   "source": [
    "# You will get an error becauase of the issues listed at the top of this notebook.\n",
    "# temp_fahr = (temp_cs * 9/5) + 32"
   ]
  },
  {
   "cell_type": "markdown",
   "id": "9a19dd71-318a-4b10-b01f-c2b6bebd9b8b",
   "metadata": {},
   "source": [
    "We should use `pandas.Series` to operate on `one dimensional` data."
   ]
  },
  {
   "cell_type": "code",
   "execution_count": 9,
   "id": "3140ef54-0b21-4173-b7f3-46b429780447",
   "metadata": {},
   "outputs": [],
   "source": [
    "temp_cs_series = pd.Series(temp_cs)    # convert temp_cs list to a pandas Series in order to use pandas"
   ]
  },
  {
   "cell_type": "code",
   "execution_count": 10,
   "id": "f8386452-e666-4d55-b4e9-21ff326ea185",
   "metadata": {},
   "outputs": [],
   "source": [
    "temps_fahrenheit = (temp_cs_series * 9/5) + 32"
   ]
  },
  {
   "cell_type": "code",
   "execution_count": 11,
   "id": "c0534c27-a02f-4ea7-9e74-5b6d55a40598",
   "metadata": {},
   "outputs": [
    {
     "data": {
      "text/plain": [
       "array([60.8, -0.4, 44.6, 50. , 60.8, -4. , 19.4, 48.2, 89.6, 51.8, 89.6,\n",
       "       26.6, 69.8, 87.8, 14. , -0.4, 55.4, 51.8, 32. ,  3.2])"
      ]
     },
     "execution_count": 11,
     "metadata": {},
     "output_type": "execute_result"
    }
   ],
   "source": [
    "temps_fahrenheit.values"
   ]
  },
  {
   "cell_type": "code",
   "execution_count": 12,
   "id": "3d1b3ffb-7fad-48f6-8c1f-dba93e93b648",
   "metadata": {},
   "outputs": [
    {
     "data": {
      "text/plain": [
       "0     60.8\n",
       "1     -0.4\n",
       "2     44.6\n",
       "3     50.0\n",
       "4     60.8\n",
       "5     -4.0\n",
       "6     19.4\n",
       "7     48.2\n",
       "8     89.6\n",
       "9     51.8\n",
       "10    89.6\n",
       "11    26.6\n",
       "12    69.8\n",
       "13    87.8\n",
       "14    14.0\n",
       "15    -0.4\n",
       "16    55.4\n",
       "17    51.8\n",
       "18    32.0\n",
       "19     3.2\n",
       "dtype: float64"
      ]
     },
     "execution_count": 12,
     "metadata": {},
     "output_type": "execute_result"
    }
   ],
   "source": [
    "temps_fahrenheit    # Series with indices on the left, and values on the right"
   ]
  },
  {
   "cell_type": "markdown",
   "id": "47d613cd-7492-422e-a22a-61606e528717",
   "metadata": {},
   "source": [
    "## Another example"
   ]
  },
  {
   "cell_type": "code",
   "execution_count": 13,
   "id": "99d6e4ac-b9dd-40d6-88d9-798f1c4f92a4",
   "metadata": {},
   "outputs": [],
   "source": [
    "grades = [random.randint(4, 10) for i in range(40)]"
   ]
  },
  {
   "cell_type": "code",
   "execution_count": 14,
   "id": "d7bbc917-fe47-49f0-a0a6-ac9f708814dd",
   "metadata": {},
   "outputs": [
    {
     "name": "stdout",
     "output_type": "stream",
     "text": [
      "[5, 9, 6, 4, 7, 10, 5, 8, 6, 7, 7, 6, 10, 9, 6, 7, 5, 9, 6, 9, 6, 5, 7, 10, 10, 5, 7, 8, 7, 4, 8, 4, 5, 5, 5, 6, 8, 6, 10, 5]\n"
     ]
    }
   ],
   "source": [
    "print(grades)"
   ]
  },
  {
   "cell_type": "code",
   "execution_count": 15,
   "id": "cc9cbb08-6f1e-4200-8ef2-8e66dc043e5d",
   "metadata": {},
   "outputs": [
    {
     "name": "stdout",
     "output_type": "stream",
     "text": [
      "<class 'pandas.core.series.Series'>\n"
     ]
    }
   ],
   "source": [
    "# Let's turn that into a series\n",
    "grades_series = pd.Series(grades)\n",
    "print(type(grades_series))"
   ]
  },
  {
   "cell_type": "code",
   "execution_count": 16,
   "id": "8450feb8-bbeb-44a3-9176-ada159d458e0",
   "metadata": {},
   "outputs": [
    {
     "name": "stdout",
     "output_type": "stream",
     "text": [
      "0      5\n",
      "1      9\n",
      "2      6\n",
      "3      4\n",
      "4      7\n",
      "5     10\n",
      "6      5\n",
      "7      8\n",
      "8      6\n",
      "9      7\n",
      "10     7\n",
      "11     6\n",
      "12    10\n",
      "13     9\n",
      "14     6\n",
      "15     7\n",
      "16     5\n",
      "17     9\n",
      "18     6\n",
      "19     9\n",
      "20     6\n",
      "21     5\n",
      "22     7\n",
      "23    10\n",
      "24    10\n",
      "25     5\n",
      "26     7\n",
      "27     8\n",
      "28     7\n",
      "29     4\n",
      "30     8\n",
      "31     4\n",
      "32     5\n",
      "33     5\n",
      "34     5\n",
      "35     6\n",
      "36     8\n",
      "37     6\n",
      "38    10\n",
      "39     5\n",
      "dtype: int64\n"
     ]
    }
   ],
   "source": [
    "print(grades_series)    # indices on the left, values on the right (again)"
   ]
  },
  {
   "cell_type": "code",
   "execution_count": 17,
   "id": "c22a70b7-cc31-424f-b888-a28bdb5c6ed3",
   "metadata": {},
   "outputs": [
    {
     "data": {
      "text/plain": [
       "array([ 5,  9,  6,  4,  7, 10,  5,  8,  6,  7,  7,  6, 10,  9,  6,  7,  5,\n",
       "        9,  6,  9,  6,  5,  7, 10, 10,  5,  7,  8,  7,  4,  8,  4,  5,  5,\n",
       "        5,  6,  8,  6, 10,  5])"
      ]
     },
     "execution_count": 17,
     "metadata": {},
     "output_type": "execute_result"
    }
   ],
   "source": [
    "# Just see the values, rather than the indices\n",
    "grades_series.values"
   ]
  },
  {
   "cell_type": "code",
   "execution_count": 18,
   "id": "e0d98139-b2f8-432c-b96c-815ea2197b1e",
   "metadata": {},
   "outputs": [
    {
     "data": {
      "text/plain": [
       "RangeIndex(start=0, stop=40, step=1)"
      ]
     },
     "execution_count": 18,
     "metadata": {},
     "output_type": "execute_result"
    }
   ],
   "source": [
    "# Just see the index\n",
    "grades_series.index"
   ]
  },
  {
   "cell_type": "markdown",
   "id": "cbb29ee0-843a-41bf-848e-c3fbe21de532",
   "metadata": {},
   "source": [
    "Let's sort the values with the `sort_value` method. The index doesn't really help us that much in this context."
   ]
  },
  {
   "cell_type": "code",
   "execution_count": 19,
   "id": "4cd94d20-c32f-438b-b8a1-109d2aab88f6",
   "metadata": {},
   "outputs": [
    {
     "data": {
      "text/plain": [
       "38    10\n",
       "5     10\n",
       "24    10\n",
       "23    10\n",
       "12    10\n",
       "1      9\n",
       "13     9\n",
       "19     9\n",
       "17     9\n",
       "30     8\n",
       "36     8\n",
       "27     8\n",
       "7      8\n",
       "28     7\n",
       "26     7\n",
       "22     7\n",
       "15     7\n",
       "10     7\n",
       "9      7\n",
       "4      7\n",
       "18     6\n",
       "14     6\n",
       "11     6\n",
       "35     6\n",
       "8      6\n",
       "37     6\n",
       "2      6\n",
       "20     6\n",
       "32     5\n",
       "34     5\n",
       "33     5\n",
       "0      5\n",
       "25     5\n",
       "21     5\n",
       "16     5\n",
       "6      5\n",
       "39     5\n",
       "31     4\n",
       "29     4\n",
       "3      4\n",
       "dtype: int64"
      ]
     },
     "execution_count": 19,
     "metadata": {},
     "output_type": "execute_result"
    }
   ],
   "source": [
    "grades_series.sort_values(ascending=False)"
   ]
  },
  {
   "cell_type": "markdown",
   "id": "6f18d686-662d-40d1-8cb0-c8d8febb4d8c",
   "metadata": {},
   "source": [
    "In class, we grabbed random names from https://www.randomlists.com/. For example, I grabbed from here https://www.randomlists.com/random-names?qty=20. You can copy and paste into Jupyter notebook after manipulating these names a bit (see below)."
   ]
  },
  {
   "cell_type": "markdown",
   "id": "851cb95e-48d5-46f4-8e90-0e95f5be6f1c",
   "metadata": {},
   "source": [
    "It is worth looking at how to create a list in your text editor (TODO)... multi-cursor, and join lines to and formatting to 80 lines. "
   ]
  },
  {
   "cell_type": "code",
   "execution_count": 20,
   "id": "4b9faff7-0782-4613-ba54-69e246d9f194",
   "metadata": {},
   "outputs": [
    {
     "data": {
      "text/plain": [
       "['Molly Church',\n",
       " 'Gloria Fischer',\n",
       " 'Ashly Stuart',\n",
       " 'Raegan Hanson',\n",
       " 'Zechariah Hubbard',\n",
       " 'Payten Colon',\n",
       " 'Ainsley Vargas',\n",
       " 'Philip Sullivan',\n",
       " 'Emery Clarke',\n",
       " 'Emmy Irwin',\n",
       " 'Reyna Donovan',\n",
       " 'Elaine Burgess',\n",
       " 'Abram Hubbard',\n",
       " 'Quincy Kane',\n",
       " 'Barrett Duffy',\n",
       " 'Pranav Esparza',\n",
       " 'Darion Castaneda',\n",
       " 'Erin Prince']"
      ]
     },
     "execution_count": 20,
     "metadata": {},
     "output_type": "execute_result"
    }
   ],
   "source": [
    "students = [\"Molly Church\", \"Gloria Fischer\", \"Ashly Stuart\", \"Raegan Hanson\", \n",
    "\"Zechariah Hubbard\", \"Payten Colon\", \"Ainsley Vargas\", \"Philip Sullivan\", \n",
    "\"Emery Clarke\", \"Emmy Irwin\", \"Reyna Donovan\", \"Elaine Burgess\", \n",
    "\"Abram Hubbard\", \"Quincy Kane\", \"Barrett Duffy\", \"Pranav Esparza\", \n",
    "\"Darion Castaneda\", \"Erin Prince\"]\n",
    "students"
   ]
  },
  {
   "cell_type": "code",
   "execution_count": 21,
   "id": "871ba9db-401d-4e52-b212-12839c98ed13",
   "metadata": {},
   "outputs": [
    {
     "ename": "ValueError",
     "evalue": "Length mismatch: Expected axis has 40 elements, new values have 18 elements",
     "output_type": "error",
     "traceback": [
      "\u001b[0;31m---------------------------------------------------------------------------\u001b[0m",
      "\u001b[0;31mValueError\u001b[0m                                Traceback (most recent call last)",
      "Input \u001b[0;32mIn [21]\u001b[0m, in \u001b[0;36m<cell line: 1>\u001b[0;34m()\u001b[0m\n\u001b[0;32m----> 1\u001b[0m grades_series\u001b[38;5;241m.\u001b[39mindex \u001b[38;5;241m=\u001b[39m students\n",
      "File \u001b[0;32m~/venv/python_class_2022/lib/python3.9/site-packages/pandas/core/generic.py:5588\u001b[0m, in \u001b[0;36mNDFrame.__setattr__\u001b[0;34m(self, name, value)\u001b[0m\n\u001b[1;32m   5586\u001b[0m \u001b[38;5;28;01mtry\u001b[39;00m:\n\u001b[1;32m   5587\u001b[0m     \u001b[38;5;28mobject\u001b[39m\u001b[38;5;241m.\u001b[39m\u001b[38;5;21m__getattribute__\u001b[39m(\u001b[38;5;28mself\u001b[39m, name)\n\u001b[0;32m-> 5588\u001b[0m     \u001b[38;5;28;01mreturn\u001b[39;00m \u001b[38;5;28;43mobject\u001b[39;49m\u001b[38;5;241;43m.\u001b[39;49m\u001b[38;5;21;43m__setattr__\u001b[39;49m\u001b[43m(\u001b[49m\u001b[38;5;28;43mself\u001b[39;49m\u001b[43m,\u001b[49m\u001b[43m \u001b[49m\u001b[43mname\u001b[49m\u001b[43m,\u001b[49m\u001b[43m \u001b[49m\u001b[43mvalue\u001b[49m\u001b[43m)\u001b[49m\n\u001b[1;32m   5589\u001b[0m \u001b[38;5;28;01mexcept\u001b[39;00m \u001b[38;5;167;01mAttributeError\u001b[39;00m:\n\u001b[1;32m   5590\u001b[0m     \u001b[38;5;28;01mpass\u001b[39;00m\n",
      "File \u001b[0;32mpandas/_libs/properties.pyx:70\u001b[0m, in \u001b[0;36mpandas._libs.properties.AxisProperty.__set__\u001b[0;34m()\u001b[0m\n",
      "File \u001b[0;32m~/venv/python_class_2022/lib/python3.9/site-packages/pandas/core/series.py:572\u001b[0m, in \u001b[0;36mSeries._set_axis\u001b[0;34m(self, axis, labels, fastpath)\u001b[0m\n\u001b[1;32m    568\u001b[0m             \u001b[38;5;28;01mpass\u001b[39;00m\n\u001b[1;32m    570\u001b[0m \u001b[38;5;28;01mif\u001b[39;00m \u001b[38;5;129;01mnot\u001b[39;00m fastpath:\n\u001b[1;32m    571\u001b[0m     \u001b[38;5;66;03m# The ensure_index call above ensures we have an Index object\u001b[39;00m\n\u001b[0;32m--> 572\u001b[0m     \u001b[38;5;28;43mself\u001b[39;49m\u001b[38;5;241;43m.\u001b[39;49m\u001b[43m_mgr\u001b[49m\u001b[38;5;241;43m.\u001b[39;49m\u001b[43mset_axis\u001b[49m\u001b[43m(\u001b[49m\u001b[43maxis\u001b[49m\u001b[43m,\u001b[49m\u001b[43m \u001b[49m\u001b[43mlabels\u001b[49m\u001b[43m)\u001b[49m\n",
      "File \u001b[0;32m~/venv/python_class_2022/lib/python3.9/site-packages/pandas/core/internals/managers.py:214\u001b[0m, in \u001b[0;36mBaseBlockManager.set_axis\u001b[0;34m(self, axis, new_labels)\u001b[0m\n\u001b[1;32m    212\u001b[0m \u001b[38;5;28;01mdef\u001b[39;00m \u001b[38;5;21mset_axis\u001b[39m(\u001b[38;5;28mself\u001b[39m, axis: \u001b[38;5;28mint\u001b[39m, new_labels: Index) \u001b[38;5;241m-\u001b[39m\u001b[38;5;241m>\u001b[39m \u001b[38;5;28;01mNone\u001b[39;00m:\n\u001b[1;32m    213\u001b[0m     \u001b[38;5;66;03m# Caller is responsible for ensuring we have an Index object.\u001b[39;00m\n\u001b[0;32m--> 214\u001b[0m     \u001b[38;5;28;43mself\u001b[39;49m\u001b[38;5;241;43m.\u001b[39;49m\u001b[43m_validate_set_axis\u001b[49m\u001b[43m(\u001b[49m\u001b[43maxis\u001b[49m\u001b[43m,\u001b[49m\u001b[43m \u001b[49m\u001b[43mnew_labels\u001b[49m\u001b[43m)\u001b[49m\n\u001b[1;32m    215\u001b[0m     \u001b[38;5;28mself\u001b[39m\u001b[38;5;241m.\u001b[39maxes[axis] \u001b[38;5;241m=\u001b[39m new_labels\n",
      "File \u001b[0;32m~/venv/python_class_2022/lib/python3.9/site-packages/pandas/core/internals/base.py:69\u001b[0m, in \u001b[0;36mDataManager._validate_set_axis\u001b[0;34m(self, axis, new_labels)\u001b[0m\n\u001b[1;32m     66\u001b[0m     \u001b[38;5;28;01mpass\u001b[39;00m\n\u001b[1;32m     68\u001b[0m \u001b[38;5;28;01melif\u001b[39;00m new_len \u001b[38;5;241m!=\u001b[39m old_len:\n\u001b[0;32m---> 69\u001b[0m     \u001b[38;5;28;01mraise\u001b[39;00m \u001b[38;5;167;01mValueError\u001b[39;00m(\n\u001b[1;32m     70\u001b[0m         \u001b[38;5;124mf\u001b[39m\u001b[38;5;124m\"\u001b[39m\u001b[38;5;124mLength mismatch: Expected axis has \u001b[39m\u001b[38;5;132;01m{\u001b[39;00mold_len\u001b[38;5;132;01m}\u001b[39;00m\u001b[38;5;124m elements, new \u001b[39m\u001b[38;5;124m\"\u001b[39m\n\u001b[1;32m     71\u001b[0m         \u001b[38;5;124mf\u001b[39m\u001b[38;5;124m\"\u001b[39m\u001b[38;5;124mvalues have \u001b[39m\u001b[38;5;132;01m{\u001b[39;00mnew_len\u001b[38;5;132;01m}\u001b[39;00m\u001b[38;5;124m elements\u001b[39m\u001b[38;5;124m\"\u001b[39m\n\u001b[1;32m     72\u001b[0m     )\n",
      "\u001b[0;31mValueError\u001b[0m: Length mismatch: Expected axis has 40 elements, new values have 18 elements"
     ]
    }
   ],
   "source": [
    "grades_series.index = students"
   ]
  },
  {
   "cell_type": "markdown",
   "id": "99813d7f-0128-46fe-9a3b-205e3fdc3666",
   "metadata": {},
   "source": [
    "## Filtering data"
   ]
  },
  {
   "cell_type": "code",
   "execution_count": null,
   "id": "bafa8ded-30c6-4283-853a-4128e8a4728a",
   "metadata": {},
   "outputs": [],
   "source": [
    "grades > 7     # returns booleaning values for the filter\n",
    "# grades[grades >7]    # give grades when greater than 7"
   ]
  },
  {
   "cell_type": "code",
   "execution_count": null,
   "id": "6ad46877-43da-4333-80aa-2b88659f780f",
   "metadata": {},
   "outputs": [],
   "source": [
    "condition = (grades > 6) & [grades < 10)\n",
    "grades[condition]"
   ]
  },
  {
   "cell_type": "code",
   "execution_count": null,
   "id": "dbff821e-c6db-412a-8e2b-3c97b6b08ff2",
   "metadata": {},
   "outputs": [],
   "source": [
    "condition3 = (grades < 6) | (grades > 8) & (grades != 10)\n",
    "grades[condition3]"
   ]
  },
  {
   "cell_type": "code",
   "execution_count": null,
   "id": "75e35f6f-c368-4a74-b476-d41b3f7cb990",
   "metadata": {},
   "outputs": [],
   "source": [
    "condition_5 = grades_series.isin([4, 5, 9])\n",
    "grades_series[condition5]"
   ]
  },
  {
   "cell_type": "code",
   "execution_count": null,
   "id": "d10240f4-1cd2-4642-b988-b5de6632fc7f",
   "metadata": {},
   "outputs": [],
   "source": []
  }
 ],
 "metadata": {
  "kernelspec": {
   "display_name": "Python 3 (ipykernel)",
   "language": "python",
   "name": "python3"
  },
  "language_info": {
   "codemirror_mode": {
    "name": "ipython",
    "version": 3
   },
   "file_extension": ".py",
   "mimetype": "text/x-python",
   "name": "python",
   "nbconvert_exporter": "python",
   "pygments_lexer": "ipython3",
   "version": "3.9.12"
  }
 },
 "nbformat": 4,
 "nbformat_minor": 5
}
