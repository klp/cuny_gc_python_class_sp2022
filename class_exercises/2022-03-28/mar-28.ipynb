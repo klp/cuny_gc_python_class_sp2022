{
 "cells": [
  {
   "cell_type": "markdown",
   "id": "f9df7781-0cfc-4780-ba2f-4bcde98f78db",
   "metadata": {},
   "source": [
    "# Intro to nltk"
   ]
  },
  {
   "cell_type": "markdown",
   "id": "76a4bcf1-e3bd-4f13-a89a-ca5e212fbf36",
   "metadata": {},
   "source": [
    "## Nltk.book"
   ]
  },
  {
   "cell_type": "markdown",
   "id": "8919237a-1335-41bd-87a3-932572deb9ea",
   "metadata": {},
   "source": [
    "Let downlaod (if you haven't done so) and import nltk.books "
   ]
  },
  {
   "cell_type": "code",
   "execution_count": 1,
   "id": "a15112f9-0fef-4015-b091-e6f47562b075",
   "metadata": {},
   "outputs": [],
   "source": [
    "import nltk\n",
    "# nltk.download()"
   ]
  },
  {
   "cell_type": "code",
   "execution_count": 2,
   "id": "139e9c1d-919c-4ed0-b323-01a71ca9e3fe",
   "metadata": {},
   "outputs": [
    {
     "name": "stdout",
     "output_type": "stream",
     "text": [
      "*** Introductory Examples for the NLTK Book ***\n",
      "Loading text1, ..., text9 and sent1, ..., sent9\n",
      "Type the name of the text or sentence to view it.\n",
      "Type: 'texts()' or 'sents()' to list the materials.\n",
      "text1: Moby Dick by Herman Melville 1851\n",
      "text2: Sense and Sensibility by Jane Austen 1811\n",
      "text3: The Book of Genesis\n",
      "text4: Inaugural Address Corpus\n",
      "text5: Chat Corpus\n",
      "text6: Monty Python and the Holy Grail\n",
      "text7: Wall Street Journal\n",
      "text8: Personals Corpus\n",
      "text9: The Man Who Was Thursday by G . K . Chesterton 1908\n"
     ]
    }
   ],
   "source": [
    "from nltk.book import *"
   ]
  },
  {
   "cell_type": "code",
   "execution_count": 3,
   "id": "5cfd85f9-03af-4352-9468-700aee22f4cf",
   "metadata": {},
   "outputs": [
    {
     "data": {
      "text/plain": [
       "nltk.text.Text"
      ]
     },
     "execution_count": 3,
     "metadata": {},
     "output_type": "execute_result"
    }
   ],
   "source": [
    "type(text1)"
   ]
  },
  {
   "cell_type": "code",
   "execution_count": 4,
   "id": "fc09dc16-0eca-408d-89b4-a206c90e5bd4",
   "metadata": {},
   "outputs": [
    {
     "data": {
      "text/plain": [
       "['[',\n",
       " 'Moby',\n",
       " 'Dick',\n",
       " 'by',\n",
       " 'Herman',\n",
       " 'Melville',\n",
       " '1851',\n",
       " ']',\n",
       " 'ETYMOLOGY',\n",
       " '.',\n",
       " '(',\n",
       " 'Supplied',\n",
       " 'by',\n",
       " 'a',\n",
       " 'Late',\n",
       " 'Consumptive',\n",
       " 'Usher',\n",
       " 'to',\n",
       " 'a',\n",
       " 'Grammar']"
      ]
     },
     "execution_count": 4,
     "metadata": {},
     "output_type": "execute_result"
    }
   ],
   "source": [
    "text1[:20]"
   ]
  },
  {
   "cell_type": "markdown",
   "id": "0e1e9e84-5c35-4e82-bc4b-11ba146e32e5",
   "metadata": {},
   "source": [
    "## Basic nltk tools"
   ]
  },
  {
   "cell_type": "markdown",
   "id": "90662a83-3c48-47e5-8d0e-af6864841a6d",
   "metadata": {},
   "source": [
    "Concordance shows a number of works before and after the word pass in as an arguemnt."
   ]
  },
  {
   "cell_type": "code",
   "execution_count": 5,
   "id": "1cbeaa9f-dc8f-47ba-96e2-7d5d4ecea19e",
   "metadata": {},
   "outputs": [
    {
     "name": "stdout",
     "output_type": "stream",
     "text": [
      "Displaying 25 of 1226 matches:\n",
      "s , and to teach them by what name a whale - fish is to be called in our tongue\n",
      "t which is not true .\" -- HACKLUYT \" WHALE . ... Sw . and Dan . HVAL . This ani\n",
      "ulted .\" -- WEBSTER ' S DICTIONARY \" WHALE . ... It is more immediately from th\n",
      "ISH . WAL , DUTCH . HWAL , SWEDISH . WHALE , ICELANDIC . WHALE , ENGLISH . BALE\n",
      "HWAL , SWEDISH . WHALE , ICELANDIC . WHALE , ENGLISH . BALEINE , FRENCH . BALLE\n",
      "least , take the higgledy - piggledy whale statements , however authentic , in \n",
      " dreadful gulf of this monster ' s ( whale ' s ) mouth , are immediately lost a\n",
      " patient Job .\" -- RABELAIS . \" This whale ' s liver was two cartloads .\" -- ST\n",
      " Touching that monstrous bulk of the whale or ork we have received nothing cert\n",
      " of oil will be extracted out of one whale .\" -- IBID . \" HISTORY OF LIFE AND D\n",
      "ise .\" -- KING HENRY . \" Very like a whale .\" -- HAMLET . \" Which to secure , n\n",
      "restless paine , Like as the wounded whale to shore flies thro ' the maine .\" -\n",
      ". OF SPERMA CETI AND THE SPERMA CETI WHALE . VIDE HIS V . E . \" Like Spencer ' \n",
      "t had been a sprat in the mouth of a whale .\" -- PILGRIM ' S PROGRESS . \" That \n",
      "EN ' S ANNUS MIRABILIS . \" While the whale is floating at the stern of the ship\n",
      "e ship called The Jonas - in - the - Whale . ... Some say the whale can ' t ope\n",
      " in - the - Whale . ... Some say the whale can ' t open his mouth , but that is\n",
      " masts to see whether they can see a whale , for the first discoverer has a duc\n",
      " for his pains . ... I was told of a whale taken near Shetland , that had above\n",
      "oneers told me that he caught once a whale in Spitzbergen that was white all ov\n",
      "2 , one eighty feet in length of the whale - bone kind came in , which ( as I w\n",
      "n master and kill this Sperma - ceti whale , for I could never hear of any of t\n",
      " . 1729 . \"... and the breath of the whale is frequendy attended with such an i\n",
      "ed with hoops and armed with ribs of whale .\" -- RAPE OF THE LOCK . \" If we com\n",
      "contemptible in the comparison . The whale is doubtless the largest animal in c\n"
     ]
    }
   ],
   "source": [
    "text1.concordance('whale') "
   ]
  },
  {
   "cell_type": "code",
   "execution_count": 6,
   "id": "29952757-0eea-4d61-a343-31dd2aec3a7e",
   "metadata": {},
   "outputs": [
    {
     "name": "stdout",
     "output_type": "stream",
     "text": [
      "ship boat sea time captain world man deck pequod other whales air\n",
      "water head crew line thing side way body\n"
     ]
    }
   ],
   "source": [
    "text1.similar('whale')"
   ]
  },
  {
   "cell_type": "markdown",
   "id": "8e4b83e2-3d5d-4f91-9fd2-9b9fd310fe5f",
   "metadata": {},
   "source": [
    "Comparing books"
   ]
  },
  {
   "cell_type": "code",
   "execution_count": 7,
   "id": "1666f995-a8c8-4f86-b749-ba91520eb808",
   "metadata": {},
   "outputs": [
    {
     "name": "stdout",
     "output_type": "stream",
     "text": [
      "sea man it ship by him hand them whale view ships land me life death\n",
      "water way head nature fear\n"
     ]
    }
   ],
   "source": [
    "text1.similar('love')"
   ]
  },
  {
   "cell_type": "code",
   "execution_count": 8,
   "id": "f72784a4-a429-45c6-ad65-181c176f1586",
   "metadata": {},
   "outputs": [
    {
     "name": "stdout",
     "output_type": "stream",
     "text": [
      "affection sister heart mother time see town life it dear elinor\n",
      "marianne me word family her him do regard head\n"
     ]
    }
   ],
   "source": [
    "text2.similar('love')"
   ]
  },
  {
   "cell_type": "markdown",
   "id": "ede15d22-f6d0-4432-83c5-596a3a5d5edd",
   "metadata": {},
   "source": [
    "## Dispersion plot"
   ]
  },
  {
   "cell_type": "markdown",
   "id": "2eec4b67-6da2-43cf-9c2d-849b2190c8f5",
   "metadata": {},
   "source": [
    "This is not good practice, you should typically import at the beginning of the file."
   ]
  },
  {
   "cell_type": "code",
   "execution_count": 9,
   "id": "44ed0c0c-e611-442d-9025-576d24c12f25",
   "metadata": {},
   "outputs": [],
   "source": [
    "import matplotlib\n",
    "%matplotlib inline"
   ]
  },
  {
   "cell_type": "code",
   "execution_count": 10,
   "id": "d1225a40-6831-4fb6-b5c4-29fdd8ef5544",
   "metadata": {},
   "outputs": [
    {
     "name": "stderr",
     "output_type": "stream",
     "text": [
      "/Users/kaiprenger/venv/python_class_2022/lib/python3.9/site-packages/nltk/draw/__init__.py:15: UserWarning: nltk.draw package not loaded (please install Tkinter library).\n",
      "  warnings.warn(\"nltk.draw package not loaded (please install Tkinter library).\")\n"
     ]
    },
    {
     "data": {
      "image/png": "[encoded data removed]",
      "text/plain": [
       "<Figure size 432x288 with 1 Axes>"
      ]
     },
     "metadata": {
      "needs_background": "light"
     },
     "output_type": "display_data"
    }
   ],
   "source": [
    "text1.dispersion_plot(['whale', 'monster'])"
   ]
  },
  {
   "cell_type": "code",
   "execution_count": 11,
   "id": "2a42b5e2-42d5-454b-90c7-acfea24b0909",
   "metadata": {},
   "outputs": [
    {
     "name": "stdout",
     "output_type": "stream",
     "text": [
      "Displaying 25 of 406 matches:\n",
      " \" Touching that monstrous bulk of the whale or ork we have received nothing ce\n",
      "YDEN ' S ANNUS MIRABILIS . \" While the whale is floating at the stern of the sh\n",
      " - in - the - Whale . ... Some say the whale can ' t open his mouth , but that \n",
      "652 , one eighty feet in length of the whale - bone kind came in , which ( as I\n",
      " D . 1729 . \"... and the breath of the whale is frequendy attended with such an\n",
      "r contemptible in the comparison . The whale is doubtless the largest animal in\n",
      "eavor to conceal themselves behind the whale , in order to avoid being seen by \n",
      "velocity to the blood gushing from the whale ' s heart .\" -- PALEY ' S THEOLOGY\n",
      "heart .\" -- PALEY ' S THEOLOGY . \" The whale is a mammiferous animal without hi\n",
      " .\" -- CHARLES LAMB ' S TRIUMPH OF THE WHALE . \" In the year 1690 some persons \n",
      " --\" NARRATIVE OF THE SHIPWRECK OF THE WHALE SHIP ESSEX OF NANTUCKET , WHICH WA\n",
      "he phospher gleamed in the wake of the whale , As it floundered in the sea .\" -\n",
      "ix English miles . ... \" Sometimes the whale shakes its tremendous tail in the \n",
      "attack of all the known species of the whale tribe .\" -- FREDERICK DEBELL BENNE\n",
      "NGS OF A WHALING CRUIZE . 1846 . \" The Whale - ship Globe , on board of which v\n",
      "BREAKWATER AT NANTUCKET . 1828 . \" The whale fell directly over him , and proba\n",
      "ably killed him in a moment .\" --\" THE WHALE AND HIS CAPTORS , OR THE WHALEMAN \n",
      "OR THE WHALEMAN ' S ADVENTURES AND THE WHALE ' S BIOGRAPHY , GATHERED ON THE HO\n",
      "LIAM COMSTOCK . ANOTHER VERSION OF THE WHALE - SHIP GLOBE NARRATIVE . \" The voy\n",
      "object , laid - open the haunts of the whale .\" -- MCCULLOCH ' S COMMERCIAL DIC\n",
      "r now in laying open the haunts of the whale , the whalemen seem to have indire\n",
      "OUNT OF THE TAKING AND RETAKING OF THE WHALE - SHIP HOBOMACK . \" It is generall\n",
      "s the while .\" -- MIRIAM COFFIN OR THE WHALE FISHERMAN . \" The Whale is harpoon\n",
      " COFFIN OR THE WHALE FISHERMAN . \" The Whale is harpooned to be sure ; but beth\n",
      "ll , for your lives !'\" -- WHARTON THE WHALE KILLER . \" So be cheery , my lads \n"
     ]
    }
   ],
   "source": [
    "text1.concordance(['the', 'whale']) "
   ]
  },
  {
   "cell_type": "code",
   "execution_count": 12,
   "id": "35e48505-6840-4236-abad-51f6abcb889b",
   "metadata": {},
   "outputs": [
    {
     "data": {
      "text/plain": [
       "906"
      ]
     },
     "execution_count": 12,
     "metadata": {},
     "output_type": "execute_result"
    }
   ],
   "source": [
    "text1.count('whale')"
   ]
  },
  {
   "cell_type": "code",
   "execution_count": 13,
   "id": "c2fac734-6696-4e4e-aa80-130718b192be",
   "metadata": {},
   "outputs": [
    {
     "data": {
      "text/plain": [
       "282"
      ]
     },
     "execution_count": 13,
     "metadata": {},
     "output_type": "execute_result"
    }
   ],
   "source": [
    "text1.count('Whale')"
   ]
  },
  {
   "cell_type": "code",
   "execution_count": 14,
   "id": "c48fc475-524c-4966-b672-4c1004add3a4",
   "metadata": {},
   "outputs": [
    {
     "data": {
      "text/plain": [
       "38"
      ]
     },
     "execution_count": 14,
     "metadata": {},
     "output_type": "execute_result"
    }
   ],
   "source": [
    "text1.count('WHALE')"
   ]
  },
  {
   "cell_type": "code",
   "execution_count": 15,
   "id": "944ca9a9-cf68-4275-8aea-26bc256740e3",
   "metadata": {},
   "outputs": [
    {
     "data": {
      "text/plain": [
       "0"
      ]
     },
     "execution_count": 15,
     "metadata": {},
     "output_type": "execute_result"
    }
   ],
   "source": [
    "text1.count('whaLe')"
   ]
  },
  {
   "cell_type": "markdown",
   "id": "eeead6a1-3bdb-4226-8e55-caf4fd683dad",
   "metadata": {},
   "source": [
    "These counts are case sensitive. If we want to count the number of instances of whale is counted in an insensitive."
   ]
  },
  {
   "cell_type": "code",
   "execution_count": 16,
   "id": "123ef7e4-ef0b-4993-be8a-7ce5db602ba8",
   "metadata": {},
   "outputs": [],
   "source": [
    "text1_tokens = []\n",
    "for item in text1:\n",
    "    if item.isalpha():\n",
    "        text1_tokens.append(item.lower())"
   ]
  },
  {
   "cell_type": "code",
   "execution_count": 17,
   "id": "939958fb-2939-4963-b0c0-543453b7e9c5",
   "metadata": {
    "tags": []
   },
   "outputs": [
    {
     "data": {
      "text/plain": [
       "['moby',\n",
       " 'dick',\n",
       " 'by',\n",
       " 'herman',\n",
       " 'melville',\n",
       " 'etymology',\n",
       " 'supplied',\n",
       " 'by',\n",
       " 'a',\n",
       " 'late',\n",
       " 'consumptive',\n",
       " 'usher',\n",
       " 'to',\n",
       " 'a',\n",
       " 'grammar',\n",
       " 'school',\n",
       " 'the',\n",
       " 'pale',\n",
       " 'usher',\n",
       " 'threadbare',\n",
       " 'in',\n",
       " 'coat',\n",
       " 'heart',\n",
       " 'body',\n",
       " 'and',\n",
       " 'brain',\n",
       " 'i',\n",
       " 'see',\n",
       " 'him',\n",
       " 'now']"
      ]
     },
     "execution_count": 17,
     "metadata": {},
     "output_type": "execute_result"
    }
   ],
   "source": [
    "text1_tokens[:30]"
   ]
  },
  {
   "cell_type": "code",
   "execution_count": 18,
   "id": "5e038f7e-ea60-4e53-8acb-ea4870f9aff7",
   "metadata": {},
   "outputs": [
    {
     "data": {
      "text/plain": [
       "1226"
      ]
     },
     "execution_count": 18,
     "metadata": {},
     "output_type": "execute_result"
    }
   ],
   "source": [
    "text1_tokens.count('whale')"
   ]
  },
  {
   "cell_type": "code",
   "execution_count": 19,
   "id": "9d471863-0435-414a-9a5d-7f201b65e3e6",
   "metadata": {},
   "outputs": [
    {
     "data": {
      "text/plain": [
       "0"
      ]
     },
     "execution_count": 19,
     "metadata": {},
     "output_type": "execute_result"
    }
   ],
   "source": [
    "text1_tokens.count('Whale')"
   ]
  },
  {
   "cell_type": "markdown",
   "id": "d0d93fb6-d515-4bc9-9a9c-406454c8e3c2",
   "metadata": {
    "tags": []
   },
   "source": [
    "## Lexical density"
   ]
  },
  {
   "cell_type": "markdown",
   "id": "db2f5a5a-7f5a-4d34-93fc-b682e2d9990e",
   "metadata": {},
   "source": [
    "What is the proportion of unique words in the whole text. num unique works divided by total words."
   ]
  },
  {
   "cell_type": "code",
   "execution_count": 20,
   "id": "bf0b7661-b8dd-4ead-89f9-526272d1e346",
   "metadata": {
    "tags": []
   },
   "outputs": [
    {
     "data": {
      "text/plain": [
       "{'swaying',\n",
       " 'observable',\n",
       " 'raising',\n",
       " 'managed',\n",
       " 'wild',\n",
       " 'ways',\n",
       " 'governed',\n",
       " 'tunnel',\n",
       " 'eyeing',\n",
       " 'circumambulate',\n",
       " 'fatness',\n",
       " 'hemmed',\n",
       " 'paregoric',\n",
       " 'exertion',\n",
       " 'wrote',\n",
       " 'rolled',\n",
       " 'crazed',\n",
       " 'fearfully',\n",
       " 'clearer',\n",
       " 'swayed',\n",
       " 'toying',\n",
       " 'shady',\n",
       " 'protestant',\n",
       " 'heaped',\n",
       " 'fears',\n",
       " 'ween',\n",
       " 'cattle',\n",
       " 'crowing',\n",
       " 'furred',\n",
       " 'courting',\n",
       " 'deliberately',\n",
       " 'undetached',\n",
       " 'inventor',\n",
       " 'village',\n",
       " 'illness',\n",
       " 'australia',\n",
       " 'midships',\n",
       " 'encompassed',\n",
       " 'estimate',\n",
       " 'erskine',\n",
       " 'cake',\n",
       " 'augmented',\n",
       " 'whitened',\n",
       " 'straps',\n",
       " 'expectantly',\n",
       " 'tumults',\n",
       " 'beggars',\n",
       " 'slippering',\n",
       " 'leagues',\n",
       " 'gangway',\n",
       " 'pompey',\n",
       " 'swamps',\n",
       " 'astrological',\n",
       " 'river',\n",
       " 'scrimps',\n",
       " 'shored',\n",
       " 'lo',\n",
       " 'deliverance',\n",
       " 'feed',\n",
       " 'admit',\n",
       " 'yearly',\n",
       " 'choked',\n",
       " 'reigns',\n",
       " 'denominating',\n",
       " 'neglect',\n",
       " 'associates',\n",
       " 'inviting',\n",
       " 'ditchers',\n",
       " 'treading',\n",
       " 'despatched',\n",
       " 'enormousness',\n",
       " 'dollar',\n",
       " 'endearments',\n",
       " 'mutineer',\n",
       " 'manned',\n",
       " 'investigated',\n",
       " 'fuel',\n",
       " 'given',\n",
       " 'hoard',\n",
       " 'cymballing',\n",
       " 'nicholas',\n",
       " 'rockings',\n",
       " 'morass',\n",
       " 'characteristic',\n",
       " 'wring',\n",
       " 'absolute',\n",
       " 'endlessly',\n",
       " 'served',\n",
       " 'lobes',\n",
       " 'dripping',\n",
       " 'vividness',\n",
       " 'graveyards',\n",
       " 'require',\n",
       " 'shameful',\n",
       " 'folds',\n",
       " 'dress',\n",
       " 'ambiguous',\n",
       " 'intolerableness',\n",
       " 'hermit',\n",
       " 'furled',\n",
       " 'tost',\n",
       " 'sword',\n",
       " 'conveys',\n",
       " 'important',\n",
       " 'abode',\n",
       " 'methuselah',\n",
       " 'pistoles',\n",
       " 'fill',\n",
       " 'bland',\n",
       " 'snugly',\n",
       " 'hereditary',\n",
       " 'undigested',\n",
       " 'prick',\n",
       " 'natured',\n",
       " 'pulled',\n",
       " 'element',\n",
       " 'sandwich',\n",
       " 'stooped',\n",
       " 'compounded',\n",
       " 'purpose',\n",
       " 'gay',\n",
       " 'buy',\n",
       " 'talbot',\n",
       " 'protesting',\n",
       " 'habitual',\n",
       " 'overtakes',\n",
       " 'dauntless',\n",
       " 'empires',\n",
       " 'older',\n",
       " 'twinkling',\n",
       " 'standest',\n",
       " 'involutions',\n",
       " 'mat',\n",
       " 'tattoo',\n",
       " 'grunted',\n",
       " 'adroop',\n",
       " 'mastodon',\n",
       " 'longings',\n",
       " 'intertwistings',\n",
       " 'oblivious',\n",
       " 'stuff',\n",
       " 'bamboozingly',\n",
       " 'verse',\n",
       " 'vertu',\n",
       " 'jure',\n",
       " 'upbraiding',\n",
       " 'spain',\n",
       " 'tee',\n",
       " 'footmanism',\n",
       " 'living',\n",
       " 'boots',\n",
       " 'repelled',\n",
       " 'darting',\n",
       " 'divings',\n",
       " 'monumental',\n",
       " 'patience',\n",
       " 'scorches',\n",
       " 'suburban',\n",
       " 'parks',\n",
       " 'dismasting',\n",
       " 'sleepy',\n",
       " 'smoothe',\n",
       " 'abandonment',\n",
       " 'establishing',\n",
       " 'connection',\n",
       " 'caper',\n",
       " 'snapping',\n",
       " 'prying',\n",
       " 'unnaturally',\n",
       " 'museum',\n",
       " 'heinousness',\n",
       " 'occurrence',\n",
       " 'shift',\n",
       " 'bengal',\n",
       " 'fewer',\n",
       " 'crosswise',\n",
       " 'brats',\n",
       " 'durer',\n",
       " 'balls',\n",
       " 'villains',\n",
       " 'appropriated',\n",
       " 'clumsy',\n",
       " 'vide',\n",
       " 'architect',\n",
       " 'periodical',\n",
       " 'enlist',\n",
       " 'healthily',\n",
       " 'delineations',\n",
       " 'respectable',\n",
       " 'molesting',\n",
       " 'survey',\n",
       " 'hoveringly',\n",
       " 'natives',\n",
       " 'cattegat',\n",
       " 'fetched',\n",
       " 'recrossing',\n",
       " 'inexorable',\n",
       " 'dumpling',\n",
       " 'asunder',\n",
       " 'proclaimed',\n",
       " 'offers',\n",
       " 'obstructed',\n",
       " 'proprietor',\n",
       " 'flood',\n",
       " 'indignant',\n",
       " 'crotchets',\n",
       " 'quaked',\n",
       " 'impatient',\n",
       " 'bashfulness',\n",
       " 'sticks',\n",
       " 'nightly',\n",
       " 'remote',\n",
       " 'fares',\n",
       " 'sand',\n",
       " 'scraps',\n",
       " 'rehearsed',\n",
       " 'guides',\n",
       " 'binder',\n",
       " 'bull',\n",
       " 'unmethodically',\n",
       " 'delightfully',\n",
       " 'whittled',\n",
       " 'haunting',\n",
       " 'doubloon',\n",
       " 'formerly',\n",
       " 'devilishness',\n",
       " 'plains',\n",
       " 'ignoble',\n",
       " 'harmony',\n",
       " 'accounted',\n",
       " 'hotels',\n",
       " 'chilled',\n",
       " 'transition',\n",
       " 'quadrupeds',\n",
       " 'entangling',\n",
       " 'flights',\n",
       " 'pencil',\n",
       " 'vintages',\n",
       " 'um',\n",
       " 'ideas',\n",
       " 'pelisse',\n",
       " 'instincts',\n",
       " 'ventured',\n",
       " 'insolent',\n",
       " 'spouter',\n",
       " 'royal',\n",
       " 'nosed',\n",
       " 'sporty',\n",
       " 'dinner',\n",
       " 'returns',\n",
       " 'eighty',\n",
       " 'sufficiently',\n",
       " 'spades',\n",
       " 'routed',\n",
       " 'hurricane',\n",
       " 'direst',\n",
       " 'discretion',\n",
       " 'centaurs',\n",
       " 'indications',\n",
       " 'porthole',\n",
       " 'ringbolts',\n",
       " 'fittings',\n",
       " 'shears',\n",
       " 'barbarians',\n",
       " 'overlays',\n",
       " 'irresistible',\n",
       " 'panic',\n",
       " 'champagne',\n",
       " 'sahara',\n",
       " 'porch',\n",
       " 'experience',\n",
       " 'tindering',\n",
       " 'pennies',\n",
       " 'self',\n",
       " 'roar',\n",
       " 'kind',\n",
       " 'grasp',\n",
       " 'restless',\n",
       " 'competency',\n",
       " 'pekee',\n",
       " 'embodied',\n",
       " 'v',\n",
       " 'punchbowl',\n",
       " 'boil',\n",
       " 'inculcating',\n",
       " 'whale',\n",
       " 'vein',\n",
       " 'influential',\n",
       " 'smell',\n",
       " 'scheme',\n",
       " 'veracity',\n",
       " 'drives',\n",
       " 'thousand',\n",
       " 'consume',\n",
       " 'archaeological',\n",
       " 'prediction',\n",
       " 'belfry',\n",
       " 'physeter',\n",
       " 'rechristened',\n",
       " 'clouds',\n",
       " 'sulkies',\n",
       " 'rob',\n",
       " 'seemed',\n",
       " 'wigwams',\n",
       " 'insider',\n",
       " 'subtle',\n",
       " 'satiety',\n",
       " 'when',\n",
       " 'pursuits',\n",
       " 'desiring',\n",
       " 'impairing',\n",
       " 'mustering',\n",
       " 'rebut',\n",
       " 'superficial',\n",
       " 'stifle',\n",
       " 'bung',\n",
       " 'peddler',\n",
       " 'confronted',\n",
       " 'rushing',\n",
       " 'impiousness',\n",
       " 'bunks',\n",
       " 'gross',\n",
       " 'harlot',\n",
       " 'unwilling',\n",
       " 'properly',\n",
       " 'alleys',\n",
       " 'concussion',\n",
       " 'gaining',\n",
       " 'machines',\n",
       " 'sweeps',\n",
       " 'essay',\n",
       " 'celebration',\n",
       " 'lightens',\n",
       " 'whalin',\n",
       " 'miraculous',\n",
       " 'prestige',\n",
       " 'cabaco',\n",
       " 'exactitude',\n",
       " 'lonely',\n",
       " 'deserts',\n",
       " 'engaged',\n",
       " 'abiding',\n",
       " 'groupings',\n",
       " 'germain',\n",
       " 'him',\n",
       " 'flow',\n",
       " 'slightly',\n",
       " 'destitute',\n",
       " 'lunging',\n",
       " 'haunts',\n",
       " 'bowsman',\n",
       " 'circulation',\n",
       " 'wedding',\n",
       " 'appellation',\n",
       " 'spurred',\n",
       " 'longingly',\n",
       " 'nowise',\n",
       " 'loom',\n",
       " 'fleecy',\n",
       " 'file',\n",
       " 'greyhounds',\n",
       " 'entrance',\n",
       " 'unload',\n",
       " 'elegant',\n",
       " 'border',\n",
       " 'courage',\n",
       " 'wouldn',\n",
       " 'vest',\n",
       " 'tiled',\n",
       " 'decoration',\n",
       " 'sentimentally',\n",
       " 'gam',\n",
       " 'kelson',\n",
       " 'capering',\n",
       " 'spark',\n",
       " 'jones',\n",
       " 'read',\n",
       " 'hugeness',\n",
       " 'glare',\n",
       " 'philosophical',\n",
       " 'lieu',\n",
       " 'snatched',\n",
       " 'transformed',\n",
       " 'mangrove',\n",
       " 'shearing',\n",
       " 'specially',\n",
       " 'rank',\n",
       " 'work',\n",
       " 'flannel',\n",
       " 'eating',\n",
       " 'riddle',\n",
       " 'foamingly',\n",
       " 'sorts',\n",
       " 'appearance',\n",
       " 'effeminacy',\n",
       " 'journey',\n",
       " 'manage',\n",
       " 'deadening',\n",
       " 'terrier',\n",
       " 'superseded',\n",
       " 'preeminence',\n",
       " 'scuttle',\n",
       " 'upwards',\n",
       " 'comforted',\n",
       " 'rack',\n",
       " 'spectralness',\n",
       " 'position',\n",
       " 'richness',\n",
       " 'tiny',\n",
       " 'urbane',\n",
       " 'exclusion',\n",
       " 'glide',\n",
       " 'potentially',\n",
       " 'posies',\n",
       " 'fabled',\n",
       " 'skulled',\n",
       " 'gleaming',\n",
       " 'baton',\n",
       " 'strove',\n",
       " 'level',\n",
       " 'impresses',\n",
       " 'joiner',\n",
       " 'canes',\n",
       " 'next',\n",
       " 'victories',\n",
       " 'primeval',\n",
       " 'howling',\n",
       " 'dardanelles',\n",
       " 'spluttering',\n",
       " 'like',\n",
       " 'compasses',\n",
       " 'tomahawk',\n",
       " 'spite',\n",
       " 'agonizingly',\n",
       " 'outstretched',\n",
       " 'symmetrical',\n",
       " 'copies',\n",
       " 'creates',\n",
       " 'forswearing',\n",
       " 'stirs',\n",
       " 'spade',\n",
       " 'interchange',\n",
       " 'doctrine',\n",
       " 'henceforth',\n",
       " 'methods',\n",
       " 'replied',\n",
       " 'shed',\n",
       " 'experiences',\n",
       " 'quickly',\n",
       " 'whosoever',\n",
       " 'subaltern',\n",
       " 'nakedness',\n",
       " 'connecticut',\n",
       " 'harto',\n",
       " 'programme',\n",
       " 'appreciative',\n",
       " 'hoist',\n",
       " 'exposing',\n",
       " 'constant',\n",
       " 'thunders',\n",
       " 'crawling',\n",
       " 'regularity',\n",
       " 'readily',\n",
       " 'corporal',\n",
       " 'contending',\n",
       " 'resolved',\n",
       " 'plaudits',\n",
       " 'crags',\n",
       " 'accessible',\n",
       " 'integument',\n",
       " 'matsmai',\n",
       " 'actual',\n",
       " 'swiftness',\n",
       " 'refused',\n",
       " 'reverend',\n",
       " 'happens',\n",
       " 'tassels',\n",
       " 'cries',\n",
       " 'colt',\n",
       " 'pilgrims',\n",
       " 'ham',\n",
       " 'madman',\n",
       " 'crackled',\n",
       " 'satisfactorily',\n",
       " 'overspread',\n",
       " 'befall',\n",
       " 'err',\n",
       " 'breathed',\n",
       " 'slouched',\n",
       " 'exceeding',\n",
       " 'porcupine',\n",
       " 'smugglers',\n",
       " 'gleamings',\n",
       " 'apparently',\n",
       " 'etymology',\n",
       " 'forbidding',\n",
       " 'mouthful',\n",
       " 'balmed',\n",
       " 'tilting',\n",
       " 'desert',\n",
       " 'morrel',\n",
       " 'featured',\n",
       " 'sensibly',\n",
       " 'asylum',\n",
       " 'snowhowdahed',\n",
       " 'providentially',\n",
       " 'kitten',\n",
       " 'excessive',\n",
       " 'michael',\n",
       " 'assailable',\n",
       " 'tempted',\n",
       " 'ball',\n",
       " 'decided',\n",
       " 'porus',\n",
       " 'filling',\n",
       " 'personal',\n",
       " 'drab',\n",
       " 'unavoidable',\n",
       " 'minutes',\n",
       " 'zoned',\n",
       " 'alpacas',\n",
       " 'bound',\n",
       " 'related',\n",
       " 'rio',\n",
       " 'tendon',\n",
       " 'rigging',\n",
       " 'originated',\n",
       " 'quickest',\n",
       " 'fatalities',\n",
       " 'bud',\n",
       " 'flee',\n",
       " 'ungracious',\n",
       " 'tug',\n",
       " 'personally',\n",
       " 'honeymoon',\n",
       " 'unhinged',\n",
       " 'touchest',\n",
       " 'nose',\n",
       " 'guide',\n",
       " 'ebbs',\n",
       " 'deity',\n",
       " 'housed',\n",
       " 'quarrelsomely',\n",
       " 'enjoy',\n",
       " 'individualities',\n",
       " 'tallest',\n",
       " 'beheaded',\n",
       " 'wantonness',\n",
       " 'timor',\n",
       " 'surpass',\n",
       " 'threaten',\n",
       " 'calomel',\n",
       " 'inns',\n",
       " 'grandfather',\n",
       " 'background',\n",
       " 'brimmed',\n",
       " 'hauled',\n",
       " 'hated',\n",
       " 'scooped',\n",
       " 'tugged',\n",
       " 'slumber',\n",
       " 'behind',\n",
       " 'matters',\n",
       " 'steadfast',\n",
       " 'lingered',\n",
       " 'battery',\n",
       " 'towards',\n",
       " 'promptitude',\n",
       " 'frayed',\n",
       " 'ourselves',\n",
       " 'complacent',\n",
       " 'bowls',\n",
       " 'parsley',\n",
       " 'tigress',\n",
       " 'comprises',\n",
       " 'soonest',\n",
       " 'abundance',\n",
       " 'crane',\n",
       " 'slew',\n",
       " 'colossus',\n",
       " 'symbolized',\n",
       " 'prouder',\n",
       " 'cheery',\n",
       " 'reclines',\n",
       " 'temple',\n",
       " 'scuffling',\n",
       " 'thoroughfares',\n",
       " 'february',\n",
       " 'abed',\n",
       " 'crazy',\n",
       " 'apoplectic',\n",
       " 'park',\n",
       " 'coronations',\n",
       " 'tar',\n",
       " 'rifled',\n",
       " 'confine',\n",
       " 'streams',\n",
       " 'hows',\n",
       " 'refiningly',\n",
       " 'secrecy',\n",
       " 'brevity',\n",
       " 'ubiquitous',\n",
       " 'upper',\n",
       " 'weazel',\n",
       " 'dismantled',\n",
       " 'hissed',\n",
       " 'sheaths',\n",
       " 'cares',\n",
       " 'outriders',\n",
       " 'compilations',\n",
       " 'smeer',\n",
       " 'alien',\n",
       " 'everlasting',\n",
       " 'seats',\n",
       " 'idiot',\n",
       " 'carried',\n",
       " 'afternoons',\n",
       " 'swooping',\n",
       " 'bedwards',\n",
       " 'kingdom',\n",
       " 'non',\n",
       " 'sauntering',\n",
       " 'bamboo',\n",
       " 'sulky',\n",
       " 'meanwhile',\n",
       " 'digressively',\n",
       " 'pages',\n",
       " 'berth',\n",
       " 'century',\n",
       " 'blueness',\n",
       " 'chattering',\n",
       " 'serene',\n",
       " 'prisoner',\n",
       " 'wooing',\n",
       " 'eluded',\n",
       " 'cloud',\n",
       " 'prisoners',\n",
       " 'impurities',\n",
       " 'taffrail',\n",
       " 'corals',\n",
       " 'keystone',\n",
       " 'incarnated',\n",
       " 'latin',\n",
       " 'blank',\n",
       " 'sylphs',\n",
       " 'currents',\n",
       " 'mustered',\n",
       " 'snoozing',\n",
       " 'tainted',\n",
       " 'wondrously',\n",
       " 'stand',\n",
       " 'combined',\n",
       " 'dey',\n",
       " 'camphorated',\n",
       " 'charging',\n",
       " 'ordered',\n",
       " 'exotic',\n",
       " 'cordage',\n",
       " 'stunning',\n",
       " 'blossoms',\n",
       " 'vernacular',\n",
       " 'kiss',\n",
       " 'largest',\n",
       " 'scrawl',\n",
       " 'knobbed',\n",
       " 'sultanically',\n",
       " 'toasting',\n",
       " 'muffins',\n",
       " 'whistlingly',\n",
       " 'lends',\n",
       " 'standpoint',\n",
       " 'outset',\n",
       " 'horrify',\n",
       " 'oarsmen',\n",
       " 'meadows',\n",
       " 'keeping',\n",
       " 'fragmentary',\n",
       " 'fathom',\n",
       " 'chair',\n",
       " 'gin',\n",
       " 'swear',\n",
       " 'outs',\n",
       " 'contact',\n",
       " 'foremost',\n",
       " 'palsied',\n",
       " 'rocking',\n",
       " 'paints',\n",
       " 'unwearied',\n",
       " 'times',\n",
       " 'lurching',\n",
       " 'ingloriously',\n",
       " 'anticipative',\n",
       " 'sisterly',\n",
       " 'hamlets',\n",
       " 'hunger',\n",
       " 'chronicles',\n",
       " 'unquestionable',\n",
       " 'exhilarating',\n",
       " 'accommodation',\n",
       " 'twas',\n",
       " 'spanishly',\n",
       " 'recovers',\n",
       " 'heightens',\n",
       " 'public',\n",
       " 'bottled',\n",
       " 'ishmael',\n",
       " 'afraid',\n",
       " 'easterly',\n",
       " 'desmarest',\n",
       " 'cargo',\n",
       " 'shop',\n",
       " 'wrestling',\n",
       " 'matrimonial',\n",
       " 'braces',\n",
       " 'plied',\n",
       " 'pours',\n",
       " 'bejuggled',\n",
       " 'unshored',\n",
       " 'gradations',\n",
       " 'lege',\n",
       " 'embarks',\n",
       " 'greenlandmen',\n",
       " 'defaced',\n",
       " 'what',\n",
       " 'markest',\n",
       " 'animal',\n",
       " 'somehow',\n",
       " 'says',\n",
       " 'betty',\n",
       " 'indistinctly',\n",
       " 'mustard',\n",
       " 'contemporary',\n",
       " 'greatly',\n",
       " 'tea',\n",
       " 'restricting',\n",
       " 'ankers',\n",
       " 'spoons',\n",
       " 'movingly',\n",
       " 'insult',\n",
       " 'views',\n",
       " 'slaughtering',\n",
       " 'dashed',\n",
       " 'won',\n",
       " 'object',\n",
       " 'gripping',\n",
       " 'inference',\n",
       " 'trooped',\n",
       " 'nestle',\n",
       " 'smith',\n",
       " 'hatchways',\n",
       " 'naturalist',\n",
       " 'rogue',\n",
       " 'thirdly',\n",
       " 'grounded',\n",
       " 'senseless',\n",
       " 'striving',\n",
       " 'bulls',\n",
       " 'crows',\n",
       " 'citron',\n",
       " 'unmomentous',\n",
       " 'owing',\n",
       " 'remonstrance',\n",
       " 'hoot',\n",
       " 'ostentatious',\n",
       " 'hark',\n",
       " 'revivified',\n",
       " 'astonishment',\n",
       " 'unsubduable',\n",
       " 'engine',\n",
       " 'peopled',\n",
       " 'pudding',\n",
       " 'musky',\n",
       " 'invariably',\n",
       " 'consider',\n",
       " 'kindled',\n",
       " 'engraved',\n",
       " 'prophesies',\n",
       " 'ponderings',\n",
       " 'precincts',\n",
       " 'armed',\n",
       " 'braced',\n",
       " 'move',\n",
       " 'deliberating',\n",
       " 'oftentimes',\n",
       " 'interlude',\n",
       " 'robbed',\n",
       " 'strong',\n",
       " 'whipping',\n",
       " 'dug',\n",
       " 'betakes',\n",
       " 'ushered',\n",
       " 'exchanged',\n",
       " 'view',\n",
       " 'traces',\n",
       " 'cunningly',\n",
       " 'strongly',\n",
       " 'triumphant',\n",
       " 'unassured',\n",
       " 'preceded',\n",
       " 'ink',\n",
       " 'sheered',\n",
       " 'throttling',\n",
       " 'indulging',\n",
       " 'unbecomingness',\n",
       " 'tokens',\n",
       " 'dusting',\n",
       " 'swallow',\n",
       " 'tripod',\n",
       " 'sound',\n",
       " 'big',\n",
       " 'unwithdrawn',\n",
       " 'yon',\n",
       " 'allowed',\n",
       " 'abatement',\n",
       " 'blanketing',\n",
       " 'outyell',\n",
       " 'whispers',\n",
       " 'discourseth',\n",
       " 'saucers',\n",
       " 'allures',\n",
       " 'bridge',\n",
       " 'overflowed',\n",
       " 'disordered',\n",
       " 'thinned',\n",
       " 'unfulfilments',\n",
       " 'screams',\n",
       " 'lashes',\n",
       " 'tickle',\n",
       " 'bright',\n",
       " 'passenger',\n",
       " 'fragrance',\n",
       " 'geometry',\n",
       " 'selectest',\n",
       " 'showed',\n",
       " 'purposing',\n",
       " 'shuffling',\n",
       " 'sincerity',\n",
       " 'tattooing',\n",
       " 'apparent',\n",
       " 'daresn',\n",
       " 'staved',\n",
       " 'unfitness',\n",
       " 'tophet',\n",
       " 'shinbone',\n",
       " 'discolour',\n",
       " 'consequence',\n",
       " 'requiring',\n",
       " 'composing',\n",
       " 'fleece',\n",
       " 'lothario',\n",
       " 'subtleties',\n",
       " 'stolidly',\n",
       " 'is',\n",
       " 'attenuated',\n",
       " 'peradventure',\n",
       " 'prescribed',\n",
       " 'sociable',\n",
       " 'impelled',\n",
       " 'obtains',\n",
       " 'truthful',\n",
       " 'empty',\n",
       " 'fly',\n",
       " 'nailed',\n",
       " 'fluid',\n",
       " 'judea',\n",
       " 'lanyard',\n",
       " 'heaved',\n",
       " 'vicissitudes',\n",
       " 'separately',\n",
       " 'wooden',\n",
       " 'spiked',\n",
       " 'floods',\n",
       " 'doleful',\n",
       " 'isolato',\n",
       " 'deadliness',\n",
       " 'louisiana',\n",
       " 'spoiled',\n",
       " 'luggage',\n",
       " 'jot',\n",
       " 'unstreaked',\n",
       " 'bestow',\n",
       " 'destroyed',\n",
       " 'quoted',\n",
       " 'completed',\n",
       " 'loathsome',\n",
       " 'conjoined',\n",
       " 'sashless',\n",
       " 'scroll',\n",
       " 'delight',\n",
       " 'sorrowful',\n",
       " 'oak',\n",
       " 'dictionaries',\n",
       " 'ruffed',\n",
       " 'brushwood',\n",
       " 'tempest',\n",
       " 'opportunities',\n",
       " 'malignantly',\n",
       " 'ascend',\n",
       " 'twigs',\n",
       " 'ordinarily',\n",
       " 'unmanufactured',\n",
       " 'securing',\n",
       " 'entombment',\n",
       " 'infuriated',\n",
       " 'glance',\n",
       " 'dismally',\n",
       " 'leapest',\n",
       " 'staring',\n",
       " 'afore',\n",
       " 'moth',\n",
       " 'redolent',\n",
       " 'gas',\n",
       " 'jumping',\n",
       " 'white',\n",
       " 'ground',\n",
       " 'solitudes',\n",
       " 'forge',\n",
       " 'future',\n",
       " 'preserver',\n",
       " 'of',\n",
       " 'agency',\n",
       " 'desecrated',\n",
       " 'counteracting',\n",
       " 'annihilated',\n",
       " 'repent',\n",
       " 'tranquilly',\n",
       " 'dimensions',\n",
       " 'carrol',\n",
       " 'falsehood',\n",
       " 'characters',\n",
       " 'scud',\n",
       " 'japan',\n",
       " 'hampshire',\n",
       " 'sea',\n",
       " 'nibbling',\n",
       " 'disinfecting',\n",
       " 'southern',\n",
       " 'throb',\n",
       " 'concussions',\n",
       " 'twos',\n",
       " 'outstrip',\n",
       " 'aerated',\n",
       " 'allude',\n",
       " 'possibly',\n",
       " 'stubbs',\n",
       " 'symbols',\n",
       " 'jammed',\n",
       " 'rap',\n",
       " 'wharton',\n",
       " 'physical',\n",
       " 'forests',\n",
       " 'household',\n",
       " 'article',\n",
       " 'valiantly',\n",
       " 'lifelessly',\n",
       " 'princely',\n",
       " 'repose',\n",
       " 'balena',\n",
       " 'pedro',\n",
       " 'europe',\n",
       " 'journeyman',\n",
       " 'afforded',\n",
       " 'counsels',\n",
       " 'navel',\n",
       " 'slumbers',\n",
       " 'druggs',\n",
       " 'larders',\n",
       " 'deviations',\n",
       " 'singed',\n",
       " 'sect',\n",
       " 'explain',\n",
       " 'pronouncing',\n",
       " 'lungs',\n",
       " 'thrust',\n",
       " 'know',\n",
       " 'forgive',\n",
       " 'incognita',\n",
       " 'wedge',\n",
       " 'leper',\n",
       " 'treated',\n",
       " 'becket',\n",
       " 'wonderments',\n",
       " 'coming',\n",
       " 'regale',\n",
       " 'comparison',\n",
       " 'yesterday',\n",
       " 'shrines',\n",
       " 'marring',\n",
       " 'vagueness',\n",
       " 'raging',\n",
       " 'emptied',\n",
       " 'prophets',\n",
       " 'ignores',\n",
       " 'hamper',\n",
       " 'wallow',\n",
       " 'modified',\n",
       " 'unsmoothable',\n",
       " 'primal',\n",
       " 'grains',\n",
       " 'rarmai',\n",
       " ...}"
      ]
     },
     "execution_count": 20,
     "metadata": {},
     "output_type": "execute_result"
    }
   ],
   "source": [
    "set(text1_tokens) "
   ]
  },
  {
   "cell_type": "code",
   "execution_count": 21,
   "id": "d947c5fe-7c78-43ea-8a39-4f5ef44cfaa9",
   "metadata": {},
   "outputs": [
    {
     "data": {
      "text/plain": [
       "16948"
      ]
     },
     "execution_count": 21,
     "metadata": {},
     "output_type": "execute_result"
    }
   ],
   "source": [
    "len(set(text1_tokens))"
   ]
  },
  {
   "cell_type": "code",
   "execution_count": 22,
   "id": "7c0e0e70-631d-485f-bd2f-223bcfc1b45a",
   "metadata": {},
   "outputs": [
    {
     "data": {
      "text/plain": [
       "19317"
      ]
     },
     "execution_count": 22,
     "metadata": {},
     "output_type": "execute_result"
    }
   ],
   "source": [
    "len(set(text1))"
   ]
  },
  {
   "cell_type": "code",
   "execution_count": 23,
   "id": "d9d73d60-2166-4ae0-b406-fc86a159b14b",
   "metadata": {},
   "outputs": [
    {
     "data": {
      "text/plain": [
       "0.07761459234936642"
      ]
     },
     "execution_count": 23,
     "metadata": {},
     "output_type": "execute_result"
    }
   ],
   "source": [
    "len(set(text1_tokens)) / len(text1_tokens)    # Need compare to make sense of this"
   ]
  },
  {
   "cell_type": "markdown",
   "id": "78d5bce8-ad97-42bb-844b-e39fc3300cd6",
   "metadata": {},
   "source": [
    "Make a slice/sample"
   ]
  },
  {
   "cell_type": "code",
   "execution_count": 24,
   "id": "51f81af7-750c-4bbc-852a-d343270bfb30",
   "metadata": {},
   "outputs": [],
   "source": [
    "t1_slice = text1_tokens[:10000]"
   ]
  },
  {
   "cell_type": "code",
   "execution_count": 25,
   "id": "2b5e59ee-2d20-4221-bd80-51de0628752b",
   "metadata": {},
   "outputs": [
    {
     "data": {
      "text/plain": [
       "10000"
      ]
     },
     "execution_count": 25,
     "metadata": {},
     "output_type": "execute_result"
    }
   ],
   "source": [
    "len(t1_slice)"
   ]
  },
  {
   "cell_type": "code",
   "execution_count": 26,
   "id": "718b5c30-1104-4ad1-b396-41c5ee09bf25",
   "metadata": {},
   "outputs": [
    {
     "data": {
      "text/plain": [
       "0.2816"
      ]
     },
     "execution_count": 26,
     "metadata": {},
     "output_type": "execute_result"
    }
   ],
   "source": [
    "len(set(t1_slice)) / len(t1_slice)"
   ]
  },
  {
   "cell_type": "markdown",
   "id": "983f2330-f358-489b-950f-a9033f323df7",
   "metadata": {},
   "source": [
    "Homework:\n",
    "* Do the same thing with text2 as we did with text1\n",
    "* Only lowered words t2"
   ]
  },
  {
   "cell_type": "code",
   "execution_count": 27,
   "id": "e7da62e2-9993-417a-8110-c228a646974b",
   "metadata": {},
   "outputs": [],
   "source": [
    "t2 = [word.lower() for word in text2 if word.isalpha()]"
   ]
  },
  {
   "cell_type": "code",
   "execution_count": 28,
   "id": "ed5debe4-d6fd-45a6-918d-bdc5732df079",
   "metadata": {},
   "outputs": [],
   "source": [
    "t2_slice = t2[:10000]"
   ]
  },
  {
   "cell_type": "code",
   "execution_count": 29,
   "id": "3ba6cad2-9a90-4d1a-895b-54bec21b2765",
   "metadata": {},
   "outputs": [
    {
     "data": {
      "text/plain": [
       "0.1786"
      ]
     },
     "execution_count": 29,
     "metadata": {},
     "output_type": "execute_result"
    }
   ],
   "source": [
    "len(set(t2_slice)) / len(t2_slice)"
   ]
  },
  {
   "cell_type": "markdown",
   "id": "b092354e-fc94-48a8-8bf3-9ce900334a10",
   "metadata": {},
   "source": [
    "## Stopwords"
   ]
  },
  {
   "cell_type": "code",
   "execution_count": 31,
   "id": "684da313-a65d-4b89-b87c-3d733f076cf7",
   "metadata": {},
   "outputs": [],
   "source": [
    "my_freq = FreqDist(text1_tokens) # Counts how often every work happens in nltk.text.Text"
   ]
  },
  {
   "cell_type": "code",
   "execution_count": 32,
   "id": "ce0c9c2f-0a8b-4bd4-b9d5-9746ac221970",
   "metadata": {},
   "outputs": [
    {
     "data": {
      "text/plain": [
       "nltk.probability.FreqDist"
      ]
     },
     "execution_count": 32,
     "metadata": {},
     "output_type": "execute_result"
    }
   ],
   "source": [
    "type(my_freq)"
   ]
  },
  {
   "cell_type": "code",
   "execution_count": 33,
   "id": "b1c63dda-2260-4556-84d9-efade3e54e5c",
   "metadata": {},
   "outputs": [
    {
     "data": {
      "image/png": "[encoded data removed]",
      "text/plain": [
       "<Figure size 432x288 with 1 Axes>"
      ]
     },
     "metadata": {
      "needs_background": "light"
     },
     "output_type": "display_data"
    },
    {
     "data": {
      "text/plain": [
       "<AxesSubplot:xlabel='Samples', ylabel='Counts'>"
      ]
     },
     "execution_count": 33,
     "metadata": {},
     "output_type": "execute_result"
    }
   ],
   "source": [
    "my_freq.plot(20)"
   ]
  },
  {
   "cell_type": "code",
   "execution_count": 34,
   "id": "107ee44c-b8c5-4058-8b0b-f3318b4f10a4",
   "metadata": {},
   "outputs": [],
   "source": [
    "from nltk.corpus import stopwords"
   ]
  },
  {
   "cell_type": "code",
   "execution_count": 35,
   "id": "92278163-9871-401c-b4a0-46afdfd0686a",
   "metadata": {},
   "outputs": [],
   "source": [
    "stop_words = stopwords.words('english')"
   ]
  },
  {
   "cell_type": "code",
   "execution_count": 37,
   "id": "03a58ab1-7820-4650-9c97-b35db238858c",
   "metadata": {},
   "outputs": [],
   "source": [
    "text1_stops = [t for t in text1_tokens if t not in stop_words]"
   ]
  },
  {
   "cell_type": "code",
   "execution_count": null,
   "id": "68c4a223-3bc7-49be-b068-dd5da9922e6b",
   "metadata": {},
   "outputs": [],
   "source": []
  }
 ],
 "metadata": {
  "kernelspec": {
   "display_name": "Python 3 (ipykernel)",
   "language": "python",
   "name": "python3"
  },
  "language_info": {
   "codemirror_mode": {
    "name": "ipython",
    "version": 3
   },
   "file_extension": ".py",
   "mimetype": "text/x-python",
   "name": "python",
   "nbconvert_exporter": "python",
   "pygments_lexer": "ipython3",
   "version": "3.9.10"
  }
 },
 "nbformat": 4,
 "nbformat_minor": 5
}
