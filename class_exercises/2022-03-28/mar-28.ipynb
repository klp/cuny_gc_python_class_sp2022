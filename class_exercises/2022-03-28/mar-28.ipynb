{
 "cells": [
  {
   "cell_type": "markdown",
   "id": "f9df7781-0cfc-4780-ba2f-4bcde98f78db",
   "metadata": {},
   "source": [
    "# Intro to nltk"
   ]
  },
  {
   "cell_type": "markdown",
   "id": "76a4bcf1-e3bd-4f13-a89a-ca5e212fbf36",
   "metadata": {},
   "source": [
    "## Nltk.book"
   ]
  },
  {
   "cell_type": "markdown",
   "id": "8919237a-1335-41bd-87a3-932572deb9ea",
   "metadata": {},
   "source": [
    "Let downlaod (if you haven't done so) and import nltk.books "
   ]
  },
  {
   "cell_type": "code",
   "execution_count": 1,
   "id": "a15112f9-0fef-4015-b091-e6f47562b075",
   "metadata": {},
   "outputs": [],
   "source": [
    "import nltk\n",
    "# nltk.download()"
   ]
  },
  {
   "cell_type": "code",
   "execution_count": 2,
   "id": "139e9c1d-919c-4ed0-b323-01a71ca9e3fe",
   "metadata": {},
   "outputs": [
    {
     "name": "stdout",
     "output_type": "stream",
     "text": [
      "*** Introductory Examples for the NLTK Book ***\n",
      "Loading text1, ..., text9 and sent1, ..., sent9\n",
      "Type the name of the text or sentence to view it.\n",
      "Type: 'texts()' or 'sents()' to list the materials.\n",
      "text1: Moby Dick by Herman Melville 1851\n",
      "text2: Sense and Sensibility by Jane Austen 1811\n",
      "text3: The Book of Genesis\n",
      "text4: Inaugural Address Corpus\n",
      "text5: Chat Corpus\n",
      "text6: Monty Python and the Holy Grail\n",
      "text7: Wall Street Journal\n",
      "text8: Personals Corpus\n",
      "text9: The Man Who Was Thursday by G . K . Chesterton 1908\n"
     ]
    }
   ],
   "source": [
    "from nltk.book import *"
   ]
  },
  {
   "cell_type": "code",
   "execution_count": 3,
   "id": "5cfd85f9-03af-4352-9468-700aee22f4cf",
   "metadata": {},
   "outputs": [
    {
     "data": {
      "text/plain": [
       "nltk.text.Text"
      ]
     },
     "execution_count": 3,
     "metadata": {},
     "output_type": "execute_result"
    }
   ],
   "source": [
    "type(text1)"
   ]
  },
  {
   "cell_type": "code",
   "execution_count": 4,
   "id": "fc09dc16-0eca-408d-89b4-a206c90e5bd4",
   "metadata": {},
   "outputs": [
    {
     "data": {
      "text/plain": [
       "['[',\n",
       " 'Moby',\n",
       " 'Dick',\n",
       " 'by',\n",
       " 'Herman',\n",
       " 'Melville',\n",
       " '1851',\n",
       " ']',\n",
       " 'ETYMOLOGY',\n",
       " '.',\n",
       " '(',\n",
       " 'Supplied',\n",
       " 'by',\n",
       " 'a',\n",
       " 'Late',\n",
       " 'Consumptive',\n",
       " 'Usher',\n",
       " 'to',\n",
       " 'a',\n",
       " 'Grammar']"
      ]
     },
     "execution_count": 4,
     "metadata": {},
     "output_type": "execute_result"
    }
   ],
   "source": [
    "text1[:20]"
   ]
  },
  {
   "cell_type": "markdown",
   "id": "0e1e9e84-5c35-4e82-bc4b-11ba146e32e5",
   "metadata": {},
   "source": [
    "## Basic nltk tools"
   ]
  },
  {
   "cell_type": "markdown",
   "id": "90662a83-3c48-47e5-8d0e-af6864841a6d",
   "metadata": {},
   "source": [
    "Concordance shows a number of works before and after the word pass in as an arguemnt."
   ]
  },
  {
   "cell_type": "code",
   "execution_count": 5,
   "id": "1cbeaa9f-dc8f-47ba-96e2-7d5d4ecea19e",
   "metadata": {},
   "outputs": [
    {
     "name": "stdout",
     "output_type": "stream",
     "text": [
      "Displaying 25 of 1226 matches:\n",
      "s , and to teach them by what name a whale - fish is to be called in our tongue\n",
      "t which is not true .\" -- HACKLUYT \" WHALE . ... Sw . and Dan . HVAL . This ani\n",
      "ulted .\" -- WEBSTER ' S DICTIONARY \" WHALE . ... It is more immediately from th\n",
      "ISH . WAL , DUTCH . HWAL , SWEDISH . WHALE , ICELANDIC . WHALE , ENGLISH . BALE\n",
      "HWAL , SWEDISH . WHALE , ICELANDIC . WHALE , ENGLISH . BALEINE , FRENCH . BALLE\n",
      "least , take the higgledy - piggledy whale statements , however authentic , in \n",
      " dreadful gulf of this monster ' s ( whale ' s ) mouth , are immediately lost a\n",
      " patient Job .\" -- RABELAIS . \" This whale ' s liver was two cartloads .\" -- ST\n",
      " Touching that monstrous bulk of the whale or ork we have received nothing cert\n",
      " of oil will be extracted out of one whale .\" -- IBID . \" HISTORY OF LIFE AND D\n",
      "ise .\" -- KING HENRY . \" Very like a whale .\" -- HAMLET . \" Which to secure , n\n",
      "restless paine , Like as the wounded whale to shore flies thro ' the maine .\" -\n",
      ". OF SPERMA CETI AND THE SPERMA CETI WHALE . VIDE HIS V . E . \" Like Spencer ' \n",
      "t had been a sprat in the mouth of a whale .\" -- PILGRIM ' S PROGRESS . \" That \n",
      "EN ' S ANNUS MIRABILIS . \" While the whale is floating at the stern of the ship\n",
      "e ship called The Jonas - in - the - Whale . ... Some say the whale can ' t ope\n",
      " in - the - Whale . ... Some say the whale can ' t open his mouth , but that is\n",
      " masts to see whether they can see a whale , for the first discoverer has a duc\n",
      " for his pains . ... I was told of a whale taken near Shetland , that had above\n",
      "oneers told me that he caught once a whale in Spitzbergen that was white all ov\n",
      "2 , one eighty feet in length of the whale - bone kind came in , which ( as I w\n",
      "n master and kill this Sperma - ceti whale , for I could never hear of any of t\n",
      " . 1729 . \"... and the breath of the whale is frequendy attended with such an i\n",
      "ed with hoops and armed with ribs of whale .\" -- RAPE OF THE LOCK . \" If we com\n",
      "contemptible in the comparison . The whale is doubtless the largest animal in c\n"
     ]
    }
   ],
   "source": [
    "text1.concordance('whale') "
   ]
  },
  {
   "cell_type": "code",
   "execution_count": 6,
   "id": "29952757-0eea-4d61-a343-31dd2aec3a7e",
   "metadata": {},
   "outputs": [
    {
     "name": "stdout",
     "output_type": "stream",
     "text": [
      "ship boat sea time captain world man deck pequod other whales air\n",
      "water head crew line thing side way body\n"
     ]
    }
   ],
   "source": [
    "text1.similar('whale')"
   ]
  },
  {
   "cell_type": "markdown",
   "id": "8e4b83e2-3d5d-4f91-9fd2-9b9fd310fe5f",
   "metadata": {},
   "source": [
    "Comparing books"
   ]
  },
  {
   "cell_type": "code",
   "execution_count": 7,
   "id": "1666f995-a8c8-4f86-b749-ba91520eb808",
   "metadata": {},
   "outputs": [
    {
     "name": "stdout",
     "output_type": "stream",
     "text": [
      "sea man it ship by him hand them whale view ships land me life death\n",
      "water way head nature fear\n"
     ]
    }
   ],
   "source": [
    "text1.similar('love')"
   ]
  },
  {
   "cell_type": "code",
   "execution_count": 8,
   "id": "f72784a4-a429-45c6-ad65-181c176f1586",
   "metadata": {},
   "outputs": [
    {
     "name": "stdout",
     "output_type": "stream",
     "text": [
      "affection sister heart mother time see town life it dear elinor\n",
      "marianne me word family her him do regard head\n"
     ]
    }
   ],
   "source": [
    "text2.similar('love')"
   ]
  },
  {
   "cell_type": "markdown",
   "id": "ede15d22-f6d0-4432-83c5-596a3a5d5edd",
   "metadata": {},
   "source": [
    "## Dispersion plot"
   ]
  },
  {
   "cell_type": "markdown",
   "id": "2eec4b67-6da2-43cf-9c2d-849b2190c8f5",
   "metadata": {},
   "source": [
    "This is not good practice, you should typically import at the beginning of the file."
   ]
  },
  {
   "cell_type": "code",
   "execution_count": 9,
   "id": "44ed0c0c-e611-442d-9025-576d24c12f25",
   "metadata": {},
   "outputs": [],
   "source": [
    "import matplotlib as plt\n",
    "%matplotlib inline"
   ]
  },
  {
   "cell_type": "code",
   "execution_count": 10,
   "id": "d1225a40-6831-4fb6-b5c4-29fdd8ef5544",
   "metadata": {},
   "outputs": [
    {
     "name": "stderr",
     "output_type": "stream",
     "text": [
      "/Users/kaiprenger/venv/python_class_2022/lib/python3.9/site-packages/nltk/draw/__init__.py:15: UserWarning: nltk.draw package not loaded (please install Tkinter library).\n",
      "  warnings.warn(\"nltk.draw package not loaded (please install Tkinter library).\")\n"
     ]
    },
    {
     "data": {
      "image/png": "[encoded data removed]",
      "text/plain": [
       "<Figure size 432x288 with 1 Axes>"
      ]
     },
     "metadata": {
      "needs_background": "light"
     },
     "output_type": "display_data"
    }
   ],
   "source": [
    "text1.dispersion_plot(['whale', 'monster'])"
   ]
  },
  {
   "cell_type": "code",
   "execution_count": 11,
   "id": "2a42b5e2-42d5-454b-90c7-acfea24b0909",
   "metadata": {},
   "outputs": [
    {
     "name": "stdout",
     "output_type": "stream",
     "text": [
      "Displaying 25 of 406 matches:\n",
      " \" Touching that monstrous bulk of the whale or ork we have received nothing ce\n",
      "YDEN ' S ANNUS MIRABILIS . \" While the whale is floating at the stern of the sh\n",
      " - in - the - Whale . ... Some say the whale can ' t open his mouth , but that \n",
      "652 , one eighty feet in length of the whale - bone kind came in , which ( as I\n",
      " D . 1729 . \"... and the breath of the whale is frequendy attended with such an\n",
      "r contemptible in the comparison . The whale is doubtless the largest animal in\n",
      "eavor to conceal themselves behind the whale , in order to avoid being seen by \n",
      "velocity to the blood gushing from the whale ' s heart .\" -- PALEY ' S THEOLOGY\n",
      "heart .\" -- PALEY ' S THEOLOGY . \" The whale is a mammiferous animal without hi\n",
      " .\" -- CHARLES LAMB ' S TRIUMPH OF THE WHALE . \" In the year 1690 some persons \n",
      " --\" NARRATIVE OF THE SHIPWRECK OF THE WHALE SHIP ESSEX OF NANTUCKET , WHICH WA\n",
      "he phospher gleamed in the wake of the whale , As it floundered in the sea .\" -\n",
      "ix English miles . ... \" Sometimes the whale shakes its tremendous tail in the \n",
      "attack of all the known species of the whale tribe .\" -- FREDERICK DEBELL BENNE\n",
      "NGS OF A WHALING CRUIZE . 1846 . \" The Whale - ship Globe , on board of which v\n",
      "BREAKWATER AT NANTUCKET . 1828 . \" The whale fell directly over him , and proba\n",
      "ably killed him in a moment .\" --\" THE WHALE AND HIS CAPTORS , OR THE WHALEMAN \n",
      "OR THE WHALEMAN ' S ADVENTURES AND THE WHALE ' S BIOGRAPHY , GATHERED ON THE HO\n",
      "LIAM COMSTOCK . ANOTHER VERSION OF THE WHALE - SHIP GLOBE NARRATIVE . \" The voy\n",
      "object , laid - open the haunts of the whale .\" -- MCCULLOCH ' S COMMERCIAL DIC\n",
      "r now in laying open the haunts of the whale , the whalemen seem to have indire\n",
      "OUNT OF THE TAKING AND RETAKING OF THE WHALE - SHIP HOBOMACK . \" It is generall\n",
      "s the while .\" -- MIRIAM COFFIN OR THE WHALE FISHERMAN . \" The Whale is harpoon\n",
      " COFFIN OR THE WHALE FISHERMAN . \" The Whale is harpooned to be sure ; but beth\n",
      "ll , for your lives !'\" -- WHARTON THE WHALE KILLER . \" So be cheery , my lads \n"
     ]
    }
   ],
   "source": [
    "text1.concordance(['the', 'whale']) "
   ]
  },
  {
   "cell_type": "code",
   "execution_count": 12,
   "id": "35e48505-6840-4236-abad-51f6abcb889b",
   "metadata": {},
   "outputs": [
    {
     "data": {
      "text/plain": [
       "906"
      ]
     },
     "execution_count": 12,
     "metadata": {},
     "output_type": "execute_result"
    }
   ],
   "source": [
    "text1.count('whale')"
   ]
  },
  {
   "cell_type": "code",
   "execution_count": 13,
   "id": "c2fac734-6696-4e4e-aa80-130718b192be",
   "metadata": {},
   "outputs": [
    {
     "data": {
      "text/plain": [
       "282"
      ]
     },
     "execution_count": 13,
     "metadata": {},
     "output_type": "execute_result"
    }
   ],
   "source": [
    "text1.count('Whale')"
   ]
  },
  {
   "cell_type": "code",
   "execution_count": 14,
   "id": "c48fc475-524c-4966-b672-4c1004add3a4",
   "metadata": {},
   "outputs": [
    {
     "data": {
      "text/plain": [
       "38"
      ]
     },
     "execution_count": 14,
     "metadata": {},
     "output_type": "execute_result"
    }
   ],
   "source": [
    "text1.count('WHALE')"
   ]
  },
  {
   "cell_type": "code",
   "execution_count": 15,
   "id": "944ca9a9-cf68-4275-8aea-26bc256740e3",
   "metadata": {},
   "outputs": [
    {
     "data": {
      "text/plain": [
       "0"
      ]
     },
     "execution_count": 15,
     "metadata": {},
     "output_type": "execute_result"
    }
   ],
   "source": [
    "text1.count('whaLe')"
   ]
  },
  {
   "cell_type": "markdown",
   "id": "eeead6a1-3bdb-4226-8e55-caf4fd683dad",
   "metadata": {},
   "source": [
    "These counts are case sensitive. If we want to count the number of instances of whale is counted in an insensitive."
   ]
  },
  {
   "cell_type": "code",
   "execution_count": 16,
   "id": "123ef7e4-ef0b-4993-be8a-7ce5db602ba8",
   "metadata": {},
   "outputs": [],
   "source": [
    "text1_tokens = []\n",
    "for item in text1:\n",
    "    if item.isalpha():\n",
    "        text1_tokens.append(item.lower())"
   ]
  },
  {
   "cell_type": "code",
   "execution_count": 17,
   "id": "939958fb-2939-4963-b0c0-543453b7e9c5",
   "metadata": {
    "tags": []
   },
   "outputs": [
    {
     "data": {
      "text/plain": [
       "['moby',\n",
       " 'dick',\n",
       " 'by',\n",
       " 'herman',\n",
       " 'melville',\n",
       " 'etymology',\n",
       " 'supplied',\n",
       " 'by',\n",
       " 'a',\n",
       " 'late',\n",
       " 'consumptive',\n",
       " 'usher',\n",
       " 'to',\n",
       " 'a',\n",
       " 'grammar',\n",
       " 'school',\n",
       " 'the',\n",
       " 'pale',\n",
       " 'usher',\n",
       " 'threadbare',\n",
       " 'in',\n",
       " 'coat',\n",
       " 'heart',\n",
       " 'body',\n",
       " 'and',\n",
       " 'brain',\n",
       " 'i',\n",
       " 'see',\n",
       " 'him',\n",
       " 'now']"
      ]
     },
     "execution_count": 17,
     "metadata": {},
     "output_type": "execute_result"
    }
   ],
   "source": [
    "text1_tokens[:30]"
   ]
  },
  {
   "cell_type": "code",
   "execution_count": 18,
   "id": "5e038f7e-ea60-4e53-8acb-ea4870f9aff7",
   "metadata": {},
   "outputs": [
    {
     "data": {
      "text/plain": [
       "1226"
      ]
     },
     "execution_count": 18,
     "metadata": {},
     "output_type": "execute_result"
    }
   ],
   "source": [
    "text1_tokens.count('whale')"
   ]
  },
  {
   "cell_type": "code",
   "execution_count": 19,
   "id": "9d471863-0435-414a-9a5d-7f201b65e3e6",
   "metadata": {},
   "outputs": [
    {
     "data": {
      "text/plain": [
       "0"
      ]
     },
     "execution_count": 19,
     "metadata": {},
     "output_type": "execute_result"
    }
   ],
   "source": [
    "text1_tokens.count('Whale')"
   ]
  },
  {
   "cell_type": "markdown",
   "id": "d0d93fb6-d515-4bc9-9a9c-406454c8e3c2",
   "metadata": {
    "tags": []
   },
   "source": [
    "## Lexical density"
   ]
  },
  {
   "cell_type": "markdown",
   "id": "db2f5a5a-7f5a-4d34-93fc-b682e2d9990e",
   "metadata": {},
   "source": [
    "What is the proportion of unique words in the whole text. num unique works divided by total words."
   ]
  },
  {
   "cell_type": "code",
   "execution_count": 20,
   "id": "bf0b7661-b8dd-4ead-89f9-526272d1e346",
   "metadata": {
    "tags": []
   },
   "outputs": [
    {
     "data": {
      "text/plain": [
       "{'gilded',\n",
       " 'jiffy',\n",
       " 'vero',\n",
       " 'embracing',\n",
       " 'immense',\n",
       " 'verdes',\n",
       " 'predictions',\n",
       " 'created',\n",
       " 'forecastle',\n",
       " 'affrighted',\n",
       " 'technically',\n",
       " 'unoccupied',\n",
       " 'sleeves',\n",
       " 'scoria',\n",
       " 'jail',\n",
       " 'bedfellows',\n",
       " 'befell',\n",
       " 'unsweetly',\n",
       " 'exulting',\n",
       " 'sits',\n",
       " 'thimbleful',\n",
       " 'rub',\n",
       " 'terrorem',\n",
       " 'officiating',\n",
       " 'champions',\n",
       " 'stretch',\n",
       " 'peru',\n",
       " 'lustre',\n",
       " 'insatiate',\n",
       " 'manmaker',\n",
       " 'inquired',\n",
       " 'sashless',\n",
       " 'regal',\n",
       " 'honing',\n",
       " 'champagne',\n",
       " 'browed',\n",
       " 'vivifying',\n",
       " 'webbed',\n",
       " 'puzzling',\n",
       " 'strawberries',\n",
       " 'partnership',\n",
       " 'tit',\n",
       " 'geese',\n",
       " 'bracing',\n",
       " 'dispensed',\n",
       " 'coolly',\n",
       " 'animals',\n",
       " 'suspense',\n",
       " 'yorkshire',\n",
       " 'naked',\n",
       " 'weak',\n",
       " 'plied',\n",
       " 'uneasiness',\n",
       " 'sundering',\n",
       " 'unfold',\n",
       " 'mounted',\n",
       " 'fearlessly',\n",
       " 'summoned',\n",
       " 'confidently',\n",
       " 'eyest',\n",
       " 'shutters',\n",
       " 'unmerited',\n",
       " 'abaft',\n",
       " 'shuts',\n",
       " 'cadence',\n",
       " 'thrice',\n",
       " 'demanded',\n",
       " 'bluish',\n",
       " 'dejected',\n",
       " 'maltreated',\n",
       " 'untraceable',\n",
       " 'prices',\n",
       " 'acquaintances',\n",
       " 'necessitates',\n",
       " 'gibbering',\n",
       " 'spray',\n",
       " 'nurseries',\n",
       " 'cudgelling',\n",
       " 'judgmatically',\n",
       " 'luckless',\n",
       " 'dedicating',\n",
       " 'enticing',\n",
       " 'eh',\n",
       " 'cooper',\n",
       " 'pikes',\n",
       " 'ineffectually',\n",
       " 'slay',\n",
       " 'supplying',\n",
       " 'pill',\n",
       " 'hey',\n",
       " 'yesterday',\n",
       " 'philosophies',\n",
       " 'unconquering',\n",
       " 'ordinarily',\n",
       " 'regarding',\n",
       " 'waiter',\n",
       " 'bumping',\n",
       " 'grampus',\n",
       " 'join',\n",
       " 'conflict',\n",
       " 'pitted',\n",
       " 'autumnal',\n",
       " 'seating',\n",
       " 'quito',\n",
       " 'searching',\n",
       " 'alb',\n",
       " 'retaining',\n",
       " 'foreground',\n",
       " 'keenly',\n",
       " 'express',\n",
       " 'succor',\n",
       " 'joyous',\n",
       " 'danger',\n",
       " 'vanished',\n",
       " 'engrafted',\n",
       " 'clapt',\n",
       " 'trance',\n",
       " 'phosphorescence',\n",
       " 'indications',\n",
       " 'inventive',\n",
       " 'former',\n",
       " 'collar',\n",
       " 'spike',\n",
       " 'forming',\n",
       " 'jokes',\n",
       " 'malays',\n",
       " 'heart',\n",
       " 'delineations',\n",
       " 'punctually',\n",
       " 'mutter',\n",
       " 'prayer',\n",
       " 'tastes',\n",
       " 'maceys',\n",
       " 'watchman',\n",
       " 'worthy',\n",
       " 'offered',\n",
       " 'over',\n",
       " 'preceded',\n",
       " 'avatar',\n",
       " 'aladdin',\n",
       " 'twice',\n",
       " 'nescio',\n",
       " 'winding',\n",
       " 'chips',\n",
       " 'slippery',\n",
       " 'interlacings',\n",
       " 'often',\n",
       " 'breastband',\n",
       " 'button',\n",
       " 'nursing',\n",
       " 'glim',\n",
       " 'groaned',\n",
       " 'unaccompanied',\n",
       " 'omnipotent',\n",
       " 'scalping',\n",
       " 'stoic',\n",
       " 'protruded',\n",
       " 'tacit',\n",
       " 'accumulating',\n",
       " 'breaches',\n",
       " 'prevailing',\n",
       " 'despite',\n",
       " 'enclosed',\n",
       " 'filed',\n",
       " 'clearings',\n",
       " 'recrossed',\n",
       " 'gem',\n",
       " 'leaps',\n",
       " 'coats',\n",
       " 'household',\n",
       " 'fill',\n",
       " 'remonstrate',\n",
       " 'type',\n",
       " 'hydrophobia',\n",
       " 'skipper',\n",
       " 'iceberg',\n",
       " 'storms',\n",
       " 'column',\n",
       " 'cursorily',\n",
       " 'shade',\n",
       " 'beard',\n",
       " 'portable',\n",
       " 'ensuing',\n",
       " 'abridged',\n",
       " 'programme',\n",
       " 'mummeries',\n",
       " 'placards',\n",
       " 'sequel',\n",
       " 'disheartening',\n",
       " 'promise',\n",
       " 'peterson',\n",
       " 'orion',\n",
       " 'judge',\n",
       " 'counterpoise',\n",
       " 'nostrils',\n",
       " 'wolves',\n",
       " 'native',\n",
       " 'smell',\n",
       " 'title',\n",
       " 'outriders',\n",
       " 'intensest',\n",
       " 'rate',\n",
       " 'minded',\n",
       " 'quog',\n",
       " 'catched',\n",
       " 'leaky',\n",
       " 'lain',\n",
       " 'divinely',\n",
       " 'denizens',\n",
       " 'innuendoes',\n",
       " 'annihilating',\n",
       " 'vividly',\n",
       " 'circlings',\n",
       " 'patience',\n",
       " 'unabated',\n",
       " 'ah',\n",
       " 'beings',\n",
       " 'sculpture',\n",
       " 'mattrass',\n",
       " 'incarnate',\n",
       " 'claim',\n",
       " 'shallow',\n",
       " 'patient',\n",
       " 'waited',\n",
       " 'seldom',\n",
       " 'untidy',\n",
       " 'moose',\n",
       " 'shoeless',\n",
       " 'rap',\n",
       " 'boldly',\n",
       " 'morrel',\n",
       " 'thump',\n",
       " 'whitest',\n",
       " 'poetical',\n",
       " 'fictitious',\n",
       " 'anticipated',\n",
       " 'greener',\n",
       " 'encountered',\n",
       " 'cigar',\n",
       " 'palest',\n",
       " 'identified',\n",
       " 'verdigris',\n",
       " 'lancet',\n",
       " 'kneeling',\n",
       " 'n',\n",
       " 'dood',\n",
       " 'embarked',\n",
       " 'main',\n",
       " 'tusks',\n",
       " 'dolphins',\n",
       " 'heroic',\n",
       " 'genius',\n",
       " 'fragrance',\n",
       " 'conductor',\n",
       " 'dung',\n",
       " 'rolling',\n",
       " 'dread',\n",
       " 'put',\n",
       " 'pegu',\n",
       " 'beak',\n",
       " 'subtle',\n",
       " 'seams',\n",
       " 'diabolical',\n",
       " 'commended',\n",
       " 'seizing',\n",
       " 'iroquois',\n",
       " 'prostration',\n",
       " 'lids',\n",
       " 'eastern',\n",
       " 'distrust',\n",
       " 'questioned',\n",
       " 'goney',\n",
       " 'incompatible',\n",
       " 'warmer',\n",
       " 'visitation',\n",
       " 'began',\n",
       " 'clinched',\n",
       " 'cutting',\n",
       " 'procure',\n",
       " 'desolateness',\n",
       " 'burglaries',\n",
       " 'railways',\n",
       " 'bondsman',\n",
       " 'gradual',\n",
       " 'adventure',\n",
       " 'unintelligence',\n",
       " 'defence',\n",
       " 'if',\n",
       " 'heedfully',\n",
       " 'sunk',\n",
       " 'embraced',\n",
       " 'discreetly',\n",
       " 'nigh',\n",
       " 'testily',\n",
       " 'giver',\n",
       " 'accelerated',\n",
       " 'meanly',\n",
       " 'tahitian',\n",
       " 'scenes',\n",
       " 'grooves',\n",
       " 'whilst',\n",
       " 'watch',\n",
       " 'describe',\n",
       " 'teachings',\n",
       " 'unmanufactured',\n",
       " 'spot',\n",
       " 'visits',\n",
       " 'surely',\n",
       " 'listener',\n",
       " 'bantam',\n",
       " 'top',\n",
       " 'sentimentally',\n",
       " 'humanity',\n",
       " 'succourless',\n",
       " 'chronicles',\n",
       " 'guide',\n",
       " 'shelf',\n",
       " 'entitled',\n",
       " 'wilds',\n",
       " 'contributed',\n",
       " 'advance',\n",
       " 'cankerous',\n",
       " 'magazine',\n",
       " 'democrat',\n",
       " 'sweep',\n",
       " 'convenience',\n",
       " 'fallacious',\n",
       " 'files',\n",
       " 'along',\n",
       " 'elaborately',\n",
       " 'turning',\n",
       " 'spelling',\n",
       " 'reciprocal',\n",
       " 'soever',\n",
       " 'indirectly',\n",
       " 'hymns',\n",
       " 'tusk',\n",
       " 'twitched',\n",
       " 'longingly',\n",
       " 'glarings',\n",
       " 'stated',\n",
       " 'skysail',\n",
       " 'snodhead',\n",
       " 'excluded',\n",
       " 'jesty',\n",
       " 'overspread',\n",
       " 'dictator',\n",
       " 'thrusting',\n",
       " 'intensifying',\n",
       " 'size',\n",
       " 'binding',\n",
       " 'disconnected',\n",
       " 'or',\n",
       " 'stalk',\n",
       " 'pertinacious',\n",
       " 'falling',\n",
       " 'quoggy',\n",
       " 'directions',\n",
       " 'faded',\n",
       " 'destructive',\n",
       " 'cut',\n",
       " 'swift',\n",
       " 'heads',\n",
       " 'deadreckoning',\n",
       " 'grizzly',\n",
       " 'tattoo',\n",
       " 'likewise',\n",
       " 'shipyards',\n",
       " 'warn',\n",
       " 'superlative',\n",
       " 'tenderly',\n",
       " 'escaped',\n",
       " 'unwaning',\n",
       " 'want',\n",
       " 'conveying',\n",
       " 'wonder',\n",
       " 'honouring',\n",
       " 'enthrone',\n",
       " 'tortoise',\n",
       " 'wantonly',\n",
       " 'game',\n",
       " 'barbaric',\n",
       " 'waive',\n",
       " 'sheaths',\n",
       " 'reluctantly',\n",
       " 'revels',\n",
       " 'hollowing',\n",
       " 'icebergs',\n",
       " 'consideration',\n",
       " 'shad',\n",
       " 'pains',\n",
       " 'learnt',\n",
       " 'traitors',\n",
       " 'fail',\n",
       " 'gaunt',\n",
       " 'solo',\n",
       " 'outcries',\n",
       " 'pushing',\n",
       " 'tiles',\n",
       " 'sighted',\n",
       " 'car',\n",
       " 'rearward',\n",
       " 'plaster',\n",
       " 'versa',\n",
       " 'springs',\n",
       " 'limped',\n",
       " 'acridness',\n",
       " 'manner',\n",
       " 'caress',\n",
       " 'forecast',\n",
       " 'comfortable',\n",
       " 'branches',\n",
       " 'salts',\n",
       " 'incarcerated',\n",
       " 'sich',\n",
       " 'plumbs',\n",
       " 'beholder',\n",
       " 'hypos',\n",
       " 'inaccessible',\n",
       " 'battled',\n",
       " 'hoof',\n",
       " 'growth',\n",
       " 'growlands',\n",
       " 'muttered',\n",
       " 'terrapin',\n",
       " 'choked',\n",
       " 'inspire',\n",
       " 'yell',\n",
       " 'forth',\n",
       " 'fourths',\n",
       " 'leaf',\n",
       " 'islands',\n",
       " 'cognac',\n",
       " 'skies',\n",
       " 'donning',\n",
       " 'geographical',\n",
       " 'subtract',\n",
       " 'presides',\n",
       " 'parks',\n",
       " 'le',\n",
       " 'undecided',\n",
       " 'rinaldo',\n",
       " 'kissed',\n",
       " 'pausing',\n",
       " 'britain',\n",
       " 'include',\n",
       " 'recur',\n",
       " 'narrated',\n",
       " 'stunsails',\n",
       " 'presuming',\n",
       " 'other',\n",
       " 'giraffe',\n",
       " 'hugged',\n",
       " 'pony',\n",
       " 'tahitians',\n",
       " 'south',\n",
       " 'adult',\n",
       " 'emblem',\n",
       " 'perseus',\n",
       " 'incommodiously',\n",
       " 'uncanonical',\n",
       " 'leaded',\n",
       " 'chimney',\n",
       " 'leakage',\n",
       " 'beards',\n",
       " 'whitsuntide',\n",
       " 'lins',\n",
       " 'expect',\n",
       " 'eventuated',\n",
       " 'muscles',\n",
       " 'oarsman',\n",
       " 'lave',\n",
       " 'unstirring',\n",
       " 'caesar',\n",
       " 'slackened',\n",
       " 'certainty',\n",
       " 'text',\n",
       " 'lucifers',\n",
       " 'roundness',\n",
       " 'illness',\n",
       " 'ophites',\n",
       " 'disorderliness',\n",
       " 'proverbial',\n",
       " 'hearse',\n",
       " 'albatross',\n",
       " 'envoy',\n",
       " 'penalties',\n",
       " 'collared',\n",
       " 'plaudits',\n",
       " 'yale',\n",
       " 'shower',\n",
       " 'bulbs',\n",
       " 'prescient',\n",
       " 'indolently',\n",
       " 'deserts',\n",
       " 'ultimatum',\n",
       " 'decks',\n",
       " 'contains',\n",
       " 'disease',\n",
       " 'ranks',\n",
       " 'fanciful',\n",
       " 'parenthesize',\n",
       " 'noble',\n",
       " 'lasted',\n",
       " 'falsified',\n",
       " 'ungovernable',\n",
       " 'writing',\n",
       " 'symbolized',\n",
       " 'exhibited',\n",
       " 'pliny',\n",
       " 'introduction',\n",
       " 'intervene',\n",
       " 'alluding',\n",
       " 'keeled',\n",
       " 'cannikin',\n",
       " 'huge',\n",
       " 'mapple',\n",
       " 'appearing',\n",
       " 'northward',\n",
       " 'breezy',\n",
       " 'ague',\n",
       " 'stripping',\n",
       " 'parmacetti',\n",
       " 'pinny',\n",
       " 'shoemaker',\n",
       " 'nicely',\n",
       " 'listening',\n",
       " 'delusion',\n",
       " 'rebelled',\n",
       " 'height',\n",
       " 'unlighted',\n",
       " 'loan',\n",
       " 'exploit',\n",
       " 'thrust',\n",
       " 'maggots',\n",
       " 'different',\n",
       " 'ignorantly',\n",
       " 'bewitching',\n",
       " 'louisiana',\n",
       " 'skulks',\n",
       " 'topsails',\n",
       " 'perplexity',\n",
       " 'proportioned',\n",
       " 'gave',\n",
       " 'cloak',\n",
       " 'task',\n",
       " 'sabbath',\n",
       " 'thought',\n",
       " 'spaces',\n",
       " 'tradition',\n",
       " 'ear',\n",
       " 'aright',\n",
       " 'father',\n",
       " 'ubiquitous',\n",
       " 'heaviness',\n",
       " 'spiked',\n",
       " 'maury',\n",
       " 'practices',\n",
       " 'applicable',\n",
       " 'belubed',\n",
       " 'plowdon',\n",
       " 'exploded',\n",
       " 'calves',\n",
       " 'milk',\n",
       " 'instantaneous',\n",
       " 'heathenish',\n",
       " 'texel',\n",
       " 'cruel',\n",
       " 'pelvis',\n",
       " 'reward',\n",
       " 'greenish',\n",
       " 'explain',\n",
       " 'supposition',\n",
       " 'quite',\n",
       " 'wisdom',\n",
       " 'phaedon',\n",
       " 'blacks',\n",
       " 'expansiveness',\n",
       " 'straightway',\n",
       " 'many',\n",
       " 'king',\n",
       " 'solus',\n",
       " 'discerns',\n",
       " 'jar',\n",
       " 'struck',\n",
       " 'breezeless',\n",
       " 'whither',\n",
       " 'chilly',\n",
       " 'shrouded',\n",
       " 'grandmother',\n",
       " 'sheet',\n",
       " 'meads',\n",
       " 'sorrowful',\n",
       " 'simeon',\n",
       " 'uninjurable',\n",
       " 'misanthrope',\n",
       " 'waterspout',\n",
       " 'rascally',\n",
       " 'handicrafts',\n",
       " 'unobservant',\n",
       " 'breakfast',\n",
       " 'banteringly',\n",
       " 'walk',\n",
       " 'purchas',\n",
       " 'neighbors',\n",
       " 'inviting',\n",
       " 'suburban',\n",
       " 'shem',\n",
       " 'brags',\n",
       " 'gamesomeness',\n",
       " 'happens',\n",
       " 'tragedy',\n",
       " 'imprimis',\n",
       " 'stoics',\n",
       " 'engendered',\n",
       " 'paul',\n",
       " 'tugged',\n",
       " 'laugh',\n",
       " 'dividends',\n",
       " 'accompany',\n",
       " 'innocence',\n",
       " 'alleghanies',\n",
       " 'thar',\n",
       " 'responses',\n",
       " 'trances',\n",
       " 'integument',\n",
       " 'solicitously',\n",
       " 'ignoble',\n",
       " 'chamois',\n",
       " 'strained',\n",
       " 'dead',\n",
       " 'jordan',\n",
       " 'unprincipled',\n",
       " 'waterproof',\n",
       " 'constituting',\n",
       " 'advantages',\n",
       " 'ninetieth',\n",
       " 'dreaded',\n",
       " 'humble',\n",
       " 'fluttering',\n",
       " 'knotty',\n",
       " 'uncharted',\n",
       " 'wasting',\n",
       " 'doctor',\n",
       " 'hearted',\n",
       " 'nose',\n",
       " 'engineering',\n",
       " 'flatly',\n",
       " 'annihilation',\n",
       " 'dart',\n",
       " 'conclude',\n",
       " 'clothes',\n",
       " 'splice',\n",
       " 'tow',\n",
       " 'understand',\n",
       " 'volunteered',\n",
       " 'low',\n",
       " 'composing',\n",
       " 'noise',\n",
       " 'cove',\n",
       " 'argue',\n",
       " 'psalms',\n",
       " 'ambergris',\n",
       " 'unequal',\n",
       " 'irregularly',\n",
       " 'chancing',\n",
       " 'twisting',\n",
       " 'tombstones',\n",
       " 'canadian',\n",
       " 'rise',\n",
       " 'kink',\n",
       " 'greece',\n",
       " 'unstreaked',\n",
       " 'shipwreck',\n",
       " 'providentially',\n",
       " 'jobs',\n",
       " 'untold',\n",
       " 'tidings',\n",
       " 'skeleton',\n",
       " 'missed',\n",
       " 'precision',\n",
       " 'nominally',\n",
       " 'finer',\n",
       " 'ladder',\n",
       " 'woodcock',\n",
       " 'bend',\n",
       " 'ordinaire',\n",
       " 'ladies',\n",
       " 'shivering',\n",
       " 'darker',\n",
       " 'aside',\n",
       " 'idler',\n",
       " 'analogous',\n",
       " 'hilariously',\n",
       " 'fruit',\n",
       " 'unrivalled',\n",
       " 'westward',\n",
       " 'ireland',\n",
       " 'shells',\n",
       " 'inculcating',\n",
       " 'tinkers',\n",
       " 'blindfold',\n",
       " 'visible',\n",
       " 'blocksburg',\n",
       " 'tray',\n",
       " 'childe',\n",
       " 'lake',\n",
       " 'deified',\n",
       " 'transactions',\n",
       " 'spouters',\n",
       " 'whereon',\n",
       " 'into',\n",
       " 'soothingly',\n",
       " 'lead',\n",
       " 'fling',\n",
       " 'bestirring',\n",
       " 'highwaymen',\n",
       " 'balmed',\n",
       " 'pants',\n",
       " 'destination',\n",
       " 'disobeying',\n",
       " 'subtleness',\n",
       " 'burgher',\n",
       " 'tape',\n",
       " 'admeasurements',\n",
       " 'consider',\n",
       " 'landlord',\n",
       " 'apparel',\n",
       " 'spiralling',\n",
       " 'whiffs',\n",
       " 'accompanied',\n",
       " 'darmonodes',\n",
       " 'another',\n",
       " 'compared',\n",
       " 'topmaul',\n",
       " 'transition',\n",
       " 'ork',\n",
       " 'spouting',\n",
       " 'sustained',\n",
       " 'disobedience',\n",
       " 'rending',\n",
       " 'excel',\n",
       " 'hilarious',\n",
       " 'milliner',\n",
       " 'sprout',\n",
       " 'needful',\n",
       " 'nat',\n",
       " 'revivified',\n",
       " 'echoed',\n",
       " 'him',\n",
       " 'inner',\n",
       " 'deplored',\n",
       " 'systematization',\n",
       " 'vestige',\n",
       " 'songs',\n",
       " 'insinuated',\n",
       " 'unbegotten',\n",
       " 'favour',\n",
       " 'statements',\n",
       " 'erromanggoans',\n",
       " 'boot',\n",
       " 'fancying',\n",
       " 'clue',\n",
       " 'gazette',\n",
       " 'pulpit',\n",
       " 'animating',\n",
       " 'devoted',\n",
       " 'tackle',\n",
       " 'premeditated',\n",
       " 'mallet',\n",
       " 'harris',\n",
       " 'whereat',\n",
       " 'appeals',\n",
       " 'sneak',\n",
       " 'foamingly',\n",
       " 'impatient',\n",
       " 'cripple',\n",
       " 'drank',\n",
       " 'sunbeam',\n",
       " 'grasps',\n",
       " 'oughts',\n",
       " 'dromedary',\n",
       " 'tearingly',\n",
       " 'imperial',\n",
       " 'condemning',\n",
       " 'stubborn',\n",
       " 'styled',\n",
       " 'silken',\n",
       " 'sublime',\n",
       " 'strips',\n",
       " 'guard',\n",
       " 'shovel',\n",
       " 'mumbled',\n",
       " 'exactly',\n",
       " 'pieces',\n",
       " 'horizon',\n",
       " 'lure',\n",
       " 'sensitive',\n",
       " 'supplication',\n",
       " 'valise',\n",
       " 'partitioned',\n",
       " 'sentimentalist',\n",
       " 'spectrally',\n",
       " 'produced',\n",
       " 'bundle',\n",
       " 'norwegian',\n",
       " 'drought',\n",
       " 'shamble',\n",
       " 'bespattering',\n",
       " 'uplifted',\n",
       " 'clutched',\n",
       " 'lucian',\n",
       " 'robbers',\n",
       " 'tranquillize',\n",
       " 'goberned',\n",
       " 'ranges',\n",
       " 'county',\n",
       " 'mermaids',\n",
       " 'hav',\n",
       " 'foster',\n",
       " 'weasel',\n",
       " 'officered',\n",
       " 'fared',\n",
       " 'hallowed',\n",
       " 'truest',\n",
       " 'apparatus',\n",
       " 'conflicts',\n",
       " 'fronting',\n",
       " 'synod',\n",
       " 'poly',\n",
       " 'ships',\n",
       " 'interrupted',\n",
       " 'breadfruit',\n",
       " 'technicals',\n",
       " 'hags',\n",
       " 'wrench',\n",
       " 'moidores',\n",
       " 'remarkable',\n",
       " 'panther',\n",
       " 'lawless',\n",
       " 'resolves',\n",
       " 'marchant',\n",
       " 'torrent',\n",
       " 'warrant',\n",
       " 'rogues',\n",
       " 'husks',\n",
       " 'disorders',\n",
       " 'baron',\n",
       " 'cleanse',\n",
       " 'sharpen',\n",
       " 'views',\n",
       " 'plums',\n",
       " 'panellings',\n",
       " 'pan',\n",
       " 'backs',\n",
       " 'lets',\n",
       " 'ails',\n",
       " 'leader',\n",
       " 'cartload',\n",
       " 'rogue',\n",
       " 'insurance',\n",
       " 'eber',\n",
       " 'wharf',\n",
       " 'yourself',\n",
       " 'dodging',\n",
       " 'working',\n",
       " 'memoirs',\n",
       " 'drained',\n",
       " 'temporarily',\n",
       " 'perquisites',\n",
       " 'paracelsan',\n",
       " 'confounded',\n",
       " 'swiftest',\n",
       " 'wanings',\n",
       " 'junk',\n",
       " 'sartin',\n",
       " 'entreated',\n",
       " 'usually',\n",
       " 'intensity',\n",
       " 'remind',\n",
       " 'subordinately',\n",
       " 'uniformity',\n",
       " 'canaan',\n",
       " 'ungarnished',\n",
       " 'ere',\n",
       " 'mosses',\n",
       " 'waistband',\n",
       " 'reinforcement',\n",
       " 'stem',\n",
       " 'exceptionable',\n",
       " 'ravished',\n",
       " 'fangs',\n",
       " 'coated',\n",
       " 'delirium',\n",
       " 'albert',\n",
       " 'fancied',\n",
       " 'procuring',\n",
       " 'diluted',\n",
       " 'jew',\n",
       " 'vowing',\n",
       " 'meeting',\n",
       " 'brawniness',\n",
       " 'shave',\n",
       " 'lungs',\n",
       " 'figured',\n",
       " 'jungfrau',\n",
       " 'sprinklings',\n",
       " 'smut',\n",
       " 'lascar',\n",
       " 'quohog',\n",
       " 'compress',\n",
       " 'prediction',\n",
       " 'elucidate',\n",
       " 'meshach',\n",
       " 'worshipping',\n",
       " 'circus',\n",
       " 'merciful',\n",
       " 'petticoat',\n",
       " 'lovely',\n",
       " 'tribes',\n",
       " 'brew',\n",
       " 'cetacea',\n",
       " 'hobbling',\n",
       " 'joints',\n",
       " 'lancers',\n",
       " 'citron',\n",
       " 'christmas',\n",
       " 'furnace',\n",
       " 'mustard',\n",
       " 'departure',\n",
       " 'bearing',\n",
       " 'affright',\n",
       " 'burly',\n",
       " 'short',\n",
       " 'future',\n",
       " 'bays',\n",
       " 'profits',\n",
       " 'cannot',\n",
       " 'informed',\n",
       " 'breakwater',\n",
       " 'rudeness',\n",
       " 'obscurity',\n",
       " 'gable',\n",
       " 'festival',\n",
       " 'lothario',\n",
       " 'demoniac',\n",
       " 'designates',\n",
       " 'onsets',\n",
       " 'rafted',\n",
       " 'float',\n",
       " 'bunger',\n",
       " 'krusensterns',\n",
       " 'poker',\n",
       " 'frugal',\n",
       " 'capsize',\n",
       " 'asa',\n",
       " 'rare',\n",
       " 'tosses',\n",
       " 'elevating',\n",
       " 'soars',\n",
       " 'potatoes',\n",
       " 'ottomans',\n",
       " 'tribe',\n",
       " 'basis',\n",
       " 'urging',\n",
       " 'unwillingness',\n",
       " 'discolour',\n",
       " 'desperadoes',\n",
       " 'archipelagoes',\n",
       " 'transfigured',\n",
       " 'thinking',\n",
       " 'scraggy',\n",
       " 'unnamable',\n",
       " 'pippin',\n",
       " 'antlered',\n",
       " 'returns',\n",
       " 'bones',\n",
       " 'askance',\n",
       " 'muffling',\n",
       " 'erromangoan',\n",
       " 'pythagoras',\n",
       " 'nathan',\n",
       " 'varieties',\n",
       " 'hoo',\n",
       " 'coarse',\n",
       " 'defiance',\n",
       " 'belongs',\n",
       " 'equally',\n",
       " 'receptacle',\n",
       " 'noticed',\n",
       " 'pooh',\n",
       " 'yellow',\n",
       " 'bent',\n",
       " 'gothic',\n",
       " 'signifies',\n",
       " 'scorn',\n",
       " 'knocked',\n",
       " 'arises',\n",
       " 'youngest',\n",
       " 'ledge',\n",
       " ...}"
      ]
     },
     "execution_count": 20,
     "metadata": {},
     "output_type": "execute_result"
    }
   ],
   "source": [
    "set(text1_tokens) "
   ]
  },
  {
   "cell_type": "code",
   "execution_count": 21,
   "id": "d947c5fe-7c78-43ea-8a39-4f5ef44cfaa9",
   "metadata": {},
   "outputs": [
    {
     "data": {
      "text/plain": [
       "16948"
      ]
     },
     "execution_count": 21,
     "metadata": {},
     "output_type": "execute_result"
    }
   ],
   "source": [
    "len(set(text1_tokens))"
   ]
  },
  {
   "cell_type": "code",
   "execution_count": 22,
   "id": "7c0e0e70-631d-485f-bd2f-223bcfc1b45a",
   "metadata": {},
   "outputs": [
    {
     "data": {
      "text/plain": [
       "19317"
      ]
     },
     "execution_count": 22,
     "metadata": {},
     "output_type": "execute_result"
    }
   ],
   "source": [
    "len(set(text1))"
   ]
  },
  {
   "cell_type": "code",
   "execution_count": 23,
   "id": "d9d73d60-2166-4ae0-b406-fc86a159b14b",
   "metadata": {},
   "outputs": [
    {
     "data": {
      "text/plain": [
       "0.07761459234936642"
      ]
     },
     "execution_count": 23,
     "metadata": {},
     "output_type": "execute_result"
    }
   ],
   "source": [
    "len(set(text1_tokens)) / len(text1_tokens)    # Need compare to make sense of this"
   ]
  },
  {
   "cell_type": "markdown",
   "id": "78d5bce8-ad97-42bb-844b-e39fc3300cd6",
   "metadata": {},
   "source": [
    "Make a slice/sample"
   ]
  },
  {
   "cell_type": "code",
   "execution_count": 24,
   "id": "51f81af7-750c-4bbc-852a-d343270bfb30",
   "metadata": {},
   "outputs": [],
   "source": [
    "t1_slice = text1_tokens[:10000]"
   ]
  },
  {
   "cell_type": "code",
   "execution_count": 25,
   "id": "2b5e59ee-2d20-4221-bd80-51de0628752b",
   "metadata": {},
   "outputs": [
    {
     "data": {
      "text/plain": [
       "10000"
      ]
     },
     "execution_count": 25,
     "metadata": {},
     "output_type": "execute_result"
    }
   ],
   "source": [
    "len(t1_slice)"
   ]
  },
  {
   "cell_type": "code",
   "execution_count": 26,
   "id": "718b5c30-1104-4ad1-b396-41c5ee09bf25",
   "metadata": {},
   "outputs": [
    {
     "data": {
      "text/plain": [
       "0.2816"
      ]
     },
     "execution_count": 26,
     "metadata": {},
     "output_type": "execute_result"
    }
   ],
   "source": [
    "len(set(t1_slice)) / len(t1_slice)"
   ]
  },
  {
   "cell_type": "markdown",
   "id": "983f2330-f358-489b-950f-a9033f323df7",
   "metadata": {},
   "source": [
    "Homework:\n",
    "* Do the same thing with text2 as we did with text1\n",
    "* Only lowered words t2"
   ]
  },
  {
   "cell_type": "code",
   "execution_count": 27,
   "id": "e7da62e2-9993-417a-8110-c228a646974b",
   "metadata": {},
   "outputs": [],
   "source": [
    "t2 = [word.lower() for word in text2 if word.isalpha()]"
   ]
  },
  {
   "cell_type": "code",
   "execution_count": 28,
   "id": "ed5debe4-d6fd-45a6-918d-bdc5732df079",
   "metadata": {},
   "outputs": [],
   "source": [
    "t2_slice = t2[:10000]"
   ]
  },
  {
   "cell_type": "code",
   "execution_count": 29,
   "id": "3ba6cad2-9a90-4d1a-895b-54bec21b2765",
   "metadata": {},
   "outputs": [
    {
     "data": {
      "text/plain": [
       "0.1786"
      ]
     },
     "execution_count": 29,
     "metadata": {},
     "output_type": "execute_result"
    }
   ],
   "source": [
    "len(set(t2_slice)) / len(t2_slice)"
   ]
  },
  {
   "cell_type": "markdown",
   "id": "b092354e-fc94-48a8-8bf3-9ce900334a10",
   "metadata": {},
   "source": [
    "## Stopwords"
   ]
  },
  {
   "cell_type": "code",
   "execution_count": 30,
   "id": "684da313-a65d-4b89-b87c-3d733f076cf7",
   "metadata": {},
   "outputs": [],
   "source": [
    "my_freq = FreqDist(text1_tokens) # Counts how often every work happens in nltk.text.Text"
   ]
  },
  {
   "cell_type": "code",
   "execution_count": 31,
   "id": "ce0c9c2f-0a8b-4bd4-b9d5-9746ac221970",
   "metadata": {},
   "outputs": [
    {
     "data": {
      "text/plain": [
       "nltk.probability.FreqDist"
      ]
     },
     "execution_count": 31,
     "metadata": {},
     "output_type": "execute_result"
    }
   ],
   "source": [
    "type(my_freq)"
   ]
  },
  {
   "cell_type": "code",
   "execution_count": 32,
   "id": "b1c63dda-2260-4556-84d9-efade3e54e5c",
   "metadata": {},
   "outputs": [
    {
     "data": {
      "image/png": "[encoded data removed]",
      "text/plain": [
       "<Figure size 432x288 with 1 Axes>"
      ]
     },
     "metadata": {
      "needs_background": "light"
     },
     "output_type": "display_data"
    },
    {
     "data": {
      "text/plain": [
       "<AxesSubplot:xlabel='Samples', ylabel='Counts'>"
      ]
     },
     "execution_count": 32,
     "metadata": {},
     "output_type": "execute_result"
    }
   ],
   "source": [
    "my_freq.plot(20)"
   ]
  },
  {
   "cell_type": "code",
   "execution_count": 33,
   "id": "107ee44c-b8c5-4058-8b0b-f3318b4f10a4",
   "metadata": {},
   "outputs": [],
   "source": [
    "from nltk.corpus import stopwords"
   ]
  },
  {
   "cell_type": "code",
   "execution_count": 34,
   "id": "92278163-9871-401c-b4a0-46afdfd0686a",
   "metadata": {},
   "outputs": [],
   "source": [
    "stop_words = stopwords.words('english')"
   ]
  },
  {
   "cell_type": "code",
   "execution_count": 35,
   "id": "03a58ab1-7820-4650-9c97-b35db238858c",
   "metadata": {},
   "outputs": [],
   "source": [
    "text1_stops = [t for t in text1_tokens if t not in stop_words]"
   ]
  },
  {
   "cell_type": "code",
   "execution_count": 36,
   "id": "68c4a223-3bc7-49be-b068-dd5da9922e6b",
   "metadata": {},
   "outputs": [
    {
     "data": {
      "image/png": "[encoded data removed]",
      "text/plain": [
       "<Figure size 432x288 with 1 Axes>"
      ]
     },
     "metadata": {
      "needs_background": "light"
     },
     "output_type": "display_data"
    }
   ],
   "source": [
    "no_stops_freq = FreqDist(text1_stops).plot(20)"
   ]
  },
  {
   "cell_type": "code",
   "execution_count": 40,
   "id": "ec99c380-6e39-434c-8103-668f673297b5",
   "metadata": {},
   "outputs": [],
   "source": [
    "# Still some words that don't carry much semantic value\n",
    "text1_stops = [w for w in text1_stops if w not in ['one', 'like']]\n",
    "# Don't do this, very lazy, add the words to your stop list\n",
    "# You should extend the stop_words instead"
   ]
  },
  {
   "cell_type": "code",
   "execution_count": 39,
   "id": "1e94357b-4075-4e5a-801a-784256dbbd0e",
   "metadata": {},
   "outputs": [
    {
     "data": {
      "image/png": "[encoded data removed]",
      "text/plain": [
       "<Figure size 432x288 with 1 Axes>"
      ]
     },
     "metadata": {
      "needs_background": "light"
     },
     "output_type": "display_data"
    }
   ],
   "source": [
    "no_stops_freq = FreqDist(text1_stops).plot(20)"
   ]
  },
  {
   "cell_type": "markdown",
   "id": "f7596cf3-2c84-4e03-acb0-e658b469954f",
   "metadata": {},
   "source": [
    "## Lemmatizers"
   ]
  },
  {
   "cell_type": "code",
   "execution_count": 41,
   "id": "90d89da1-7e22-44e3-be5f-092d351fec5b",
   "metadata": {},
   "outputs": [],
   "source": [
    "from nltk.stem import WordNetLemmatizer"
   ]
  },
  {
   "cell_type": "code",
   "execution_count": 42,
   "id": "2d80ec1d-cfe9-472e-8a61-6cedd54f0199",
   "metadata": {},
   "outputs": [],
   "source": [
    "wordnet_lemmatizer = WordNetLemmatizer()"
   ]
  },
  {
   "cell_type": "code",
   "execution_count": 44,
   "id": "9736275f-a2e5-40d3-a8d6-e7085e223da2",
   "metadata": {},
   "outputs": [
    {
     "data": {
      "text/plain": [
       "'child'"
      ]
     },
     "execution_count": 44,
     "metadata": {},
     "output_type": "execute_result"
    }
   ],
   "source": [
    "wordnet_lemmatizer.lemmatize('children')"
   ]
  },
  {
   "cell_type": "code",
   "execution_count": 47,
   "id": "adfb537c-5af1-43de-b4d9-cfd974f1e045",
   "metadata": {},
   "outputs": [
    {
     "data": {
      "text/plain": [
       "'better'"
      ]
     },
     "execution_count": 47,
     "metadata": {},
     "output_type": "execute_result"
    }
   ],
   "source": [
    "# It quickly gets complicated\n",
    "wordnet_lemmatizer.lemmatize('better')"
   ]
  },
  {
   "cell_type": "code",
   "execution_count": 48,
   "id": "605741c4-1323-4630-8579-c74fcc328b70",
   "metadata": {},
   "outputs": [
    {
     "data": {
      "text/plain": [
       "'good'"
      ]
     },
     "execution_count": 48,
     "metadata": {},
     "output_type": "execute_result"
    }
   ],
   "source": [
    "wordnet_lemmatizer.lemmatize('better', pos='a')"
   ]
  },
  {
   "cell_type": "markdown",
   "id": "9e0ef027-39a9-427a-8760-5d3bec492215",
   "metadata": {},
   "source": [
    "## Stemmers"
   ]
  },
  {
   "cell_type": "code",
   "execution_count": 49,
   "id": "38ffb4fc-1b3a-4e6c-b1ac-bcf8e5364969",
   "metadata": {},
   "outputs": [],
   "source": [
    "from nltk.stem import PorterStemmer\n",
    "porter_stemmer = PorterStemmer()"
   ]
  },
  {
   "cell_type": "code",
   "execution_count": 55,
   "id": "0f539aba-0644-4188-8f63-27f4b3c1a573",
   "metadata": {},
   "outputs": [
    {
     "name": "stdout",
     "output_type": "stream",
     "text": [
      "berri\n",
      "berri\n",
      "berry\n",
      "berry\n"
     ]
    }
   ],
   "source": [
    "print(porter_stemmer.stem('berry'))\n",
    "print(porter_stemmer.stem('berries'))\n",
    "print(wordnet_lemmatizer.lemmatize('berry'))\n",
    "print(wordnet_lemmatizer.lemmatize('berries'))"
   ]
  },
  {
   "cell_type": "code",
   "execution_count": 57,
   "id": "65fdc9cc-6323-4de9-a513-6e2a5da81f12",
   "metadata": {},
   "outputs": [
    {
     "name": "stdout",
     "output_type": "stream",
     "text": [
      "abandon\n",
      "abandon\n",
      "abandonli\n",
      "abandon\n",
      "abandon\n",
      "abandoned\n"
     ]
    }
   ],
   "source": [
    "print(porter_stemmer.stem('abandon'))\n",
    "print(porter_stemmer.stem('abandoned'))\n",
    "print(porter_stemmer.stem('abandonly'))\n",
    "print(porter_stemmer.stem('abandonment'))\n",
    "print(wordnet_lemmatizer.lemmatize('abandon'))\n",
    "print(wordnet_lemmatizer.lemmatize('abandoned'))"
   ]
  },
  {
   "cell_type": "code",
   "execution_count": 62,
   "id": "53053828-3d1e-4d5d-b339-4ddf9db3cd6a",
   "metadata": {},
   "outputs": [],
   "source": [
    "t1_lemmatized = [wordnet_lemmatizer.lemmatize(t) for t in text1_stops]"
   ]
  },
  {
   "cell_type": "code",
   "execution_count": 64,
   "id": "879c10a7-6d3e-4b40-a799-95f8beafe9af",
   "metadata": {},
   "outputs": [],
   "source": [
    "t1_porter = [porter_stemmer.stem(t) for t in text1_stops]"
   ]
  },
  {
   "cell_type": "code",
   "execution_count": 65,
   "id": "19b6b616-a01b-4acf-96dd-c46b8558b031",
   "metadata": {},
   "outputs": [],
   "source": [
    "# final assignment bring in something that we didn't look at in class\n",
    "# Bring one or two tools that we haven't talked in class"
   ]
  },
  {
   "cell_type": "code",
   "execution_count": null,
   "id": "08d2fba5-4edf-4839-8a90-ca453991c88c",
   "metadata": {},
   "outputs": [],
   "source": []
  }
 ],
 "metadata": {
  "kernelspec": {
   "display_name": "Python 3 (ipykernel)",
   "language": "python",
   "name": "python3"
  },
  "language_info": {
   "codemirror_mode": {
    "name": "ipython",
    "version": 3
   },
   "file_extension": ".py",
   "mimetype": "text/x-python",
   "name": "python",
   "nbconvert_exporter": "python",
   "pygments_lexer": "ipython3",
   "version": "3.9.10"
  }
 },
 "nbformat": 4,
 "nbformat_minor": 5
}
