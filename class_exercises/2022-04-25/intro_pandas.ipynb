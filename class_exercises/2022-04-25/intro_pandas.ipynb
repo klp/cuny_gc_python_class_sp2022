{
 "cells": [
  {
   "cell_type": "markdown",
   "id": "fa5ad18f-f601-47a0-a2d6-61bae0146efc",
   "metadata": {},
   "source": [
    "# Class"
   ]
  },
  {
   "cell_type": "markdown",
   "id": "69b16653-59e6-442e-a1db-da57d97c0c5e",
   "metadata": {},
   "source": [
    "## Intro \n",
    "Why doing mathematically operations aren't intuitive in python without a library."
   ]
  },
  {
   "cell_type": "code",
   "execution_count": 10,
   "id": "d8cf6ef1-7860-4097-873d-5300e3188d09",
   "metadata": {},
   "outputs": [],
   "source": [
    "my_list = [1, 4, 5]"
   ]
  },
  {
   "cell_type": "code",
   "execution_count": 11,
   "id": "c223ff1e-c3dc-42ea-acd7-453cbe9cba78",
   "metadata": {},
   "outputs": [
    {
     "data": {
      "text/plain": [
       "[1, 4, 5, 1, 4, 5, 1, 4, 5]"
      ]
     },
     "execution_count": 11,
     "metadata": {},
     "output_type": "execute_result"
    }
   ],
   "source": [
    "my_list * 3"
   ]
  },
  {
   "cell_type": "code",
   "execution_count": 12,
   "id": "6722ed9d-c70f-456c-8bf5-229eb3460198",
   "metadata": {},
   "outputs": [],
   "source": [
    "# my_list + 3    # produces error to illustrate the point"
   ]
  },
  {
   "cell_type": "code",
   "execution_count": 13,
   "id": "de15f5f9-6e4d-4122-b617-e8fb72ec126d",
   "metadata": {},
   "outputs": [
    {
     "data": {
      "text/plain": [
       "[3, 12, 15]"
      ]
     },
     "execution_count": 13,
     "metadata": {},
     "output_type": "execute_result"
    }
   ],
   "source": [
    "# Instead, you'll typically use a for loop or list comprehension to accomplish mathmatical operations\n",
    "[n * 3 for n in my_list]"
   ]
  },
  {
   "cell_type": "markdown",
   "id": "9ad94a4c-d3e9-4ecb-aaf7-4fa48f22ccb8",
   "metadata": {},
   "source": [
    "Doing this a lot is annoying, and we would do this a lot in data analysis."
   ]
  },
  {
   "cell_type": "markdown",
   "id": "9684c06c-7d30-409d-b3a8-8b64013e4c43",
   "metadata": {},
   "source": [
    "## Pandas\n",
    "Pandas was created to handle mathematical operations and data analysis. Note that this library is not very pythonic, and does things its own way."
   ]
  },
  {
   "cell_type": "code",
   "execution_count": 14,
   "id": "00d36137-e8d0-4aa5-88ac-2da48176c93f",
   "metadata": {},
   "outputs": [],
   "source": [
    "# import libraries\n",
    "import pandas as pd    # pd is a shortcut to call python methods\n",
    "import random          # To import random numbers that are random for our purposes, but are reproducable\n",
    "random.seed(10)        # Using this specific seed to reproduce results when notebook is reru"
   ]
  },
  {
   "cell_type": "markdown",
   "id": "dabe4834-40cf-4fde-a53c-0feb0b1ef83a",
   "metadata": {},
   "source": [
    "### Pandas Series"
   ]
  },
  {
   "cell_type": "code",
   "execution_count": 15,
   "id": "8e2e8faa-bd54-47a2-ba94-bb94c9a3ecdf",
   "metadata": {},
   "outputs": [],
   "source": [
    "temp_cs = [random.randint(-20, 40) for i in range(20)]    # Created 20 random values between -20 and 40 "
   ]
  },
  {
   "cell_type": "code",
   "execution_count": 16,
   "id": "868772cd-afe0-4036-9f03-d3bdf7d9dee6",
   "metadata": {},
   "outputs": [
    {
     "name": "stdout",
     "output_type": "stream",
     "text": [
      "[16, -18, 7, 10, 16, -20, -7, 9, 32, 11, 32, -3, 21, 31, -10, -18, 13, 11, 0, -16]\n"
     ]
    }
   ],
   "source": [
    "print(temp_cs)    # If you only run the random.seed once, you should have the same list as everyone else in the class"
   ]
  },
  {
   "cell_type": "markdown",
   "id": "951dceb7-9ca3-45be-8c72-736af5b4bd99",
   "metadata": {},
   "source": [
    "We want to convert the temps_cs from celcius to fahrenheit. The formula is `F = (C * 9/5) + 32`."
   ]
  },
  {
   "cell_type": "code",
   "execution_count": 17,
   "id": "c78deb3e-551e-4825-bb4c-f8ee1d0a286b",
   "metadata": {},
   "outputs": [],
   "source": [
    "# You will get an error becauase of the issues listed at the top of this notebook.\n",
    "# temp_fahr = (temp_cs * 9/5) + 32"
   ]
  },
  {
   "cell_type": "markdown",
   "id": "9a19dd71-318a-4b10-b01f-c2b6bebd9b8b",
   "metadata": {},
   "source": [
    "We should use `pandas.Series` to operate on `one dimensional` data."
   ]
  },
  {
   "cell_type": "code",
   "execution_count": 18,
   "id": "3140ef54-0b21-4173-b7f3-46b429780447",
   "metadata": {},
   "outputs": [],
   "source": [
    "temp_cs_series = pd.Series(temp_cs)    # convert temp_cs list to a pandas Series in order to use pandas"
   ]
  },
  {
   "cell_type": "code",
   "execution_count": 19,
   "id": "f8386452-e666-4d55-b4e9-21ff326ea185",
   "metadata": {},
   "outputs": [],
   "source": [
    "temps_fahrenheit = (temp_cs_series * 9/5) + 32"
   ]
  },
  {
   "cell_type": "code",
   "execution_count": 20,
   "id": "c0534c27-a02f-4ea7-9e74-5b6d55a40598",
   "metadata": {},
   "outputs": [
    {
     "data": {
      "text/plain": [
       "array([60.8, -0.4, 44.6, 50. , 60.8, -4. , 19.4, 48.2, 89.6, 51.8, 89.6,\n",
       "       26.6, 69.8, 87.8, 14. , -0.4, 55.4, 51.8, 32. ,  3.2])"
      ]
     },
     "execution_count": 20,
     "metadata": {},
     "output_type": "execute_result"
    }
   ],
   "source": [
    "temps_fahrenheit.values"
   ]
  },
  {
   "cell_type": "code",
   "execution_count": 21,
   "id": "3d1b3ffb-7fad-48f6-8c1f-dba93e93b648",
   "metadata": {},
   "outputs": [
    {
     "data": {
      "text/plain": [
       "0     60.8\n",
       "1     -0.4\n",
       "2     44.6\n",
       "3     50.0\n",
       "4     60.8\n",
       "5     -4.0\n",
       "6     19.4\n",
       "7     48.2\n",
       "8     89.6\n",
       "9     51.8\n",
       "10    89.6\n",
       "11    26.6\n",
       "12    69.8\n",
       "13    87.8\n",
       "14    14.0\n",
       "15    -0.4\n",
       "16    55.4\n",
       "17    51.8\n",
       "18    32.0\n",
       "19     3.2\n",
       "dtype: float64"
      ]
     },
     "execution_count": 21,
     "metadata": {},
     "output_type": "execute_result"
    }
   ],
   "source": [
    "temps_fahrenheit    # Series with indices on the left, and values on the right"
   ]
  },
  {
   "cell_type": "markdown",
   "id": "47d613cd-7492-422e-a22a-61606e528717",
   "metadata": {},
   "source": [
    "## Another example"
   ]
  },
  {
   "cell_type": "code",
   "execution_count": 22,
   "id": "99d6e4ac-b9dd-40d6-88d9-798f1c4f92a4",
   "metadata": {},
   "outputs": [],
   "source": [
    "grades = [random.randint(4, 10) for i in range(40)]"
   ]
  },
  {
   "cell_type": "code",
   "execution_count": 23,
   "id": "d7bbc917-fe47-49f0-a0a6-ac9f708814dd",
   "metadata": {},
   "outputs": [
    {
     "name": "stdout",
     "output_type": "stream",
     "text": [
      "[5, 9, 6, 4, 7, 10, 5, 8, 6, 7, 7, 6, 10, 9, 6, 7, 5, 9, 6, 9, 6, 5, 7, 10, 10, 5, 7, 8, 7, 4, 8, 4, 5, 5, 5, 6, 8, 6, 10, 5]\n"
     ]
    }
   ],
   "source": [
    "print(grades)"
   ]
  },
  {
   "cell_type": "code",
   "execution_count": 24,
   "id": "cc9cbb08-6f1e-4200-8ef2-8e66dc043e5d",
   "metadata": {},
   "outputs": [
    {
     "name": "stdout",
     "output_type": "stream",
     "text": [
      "<class 'pandas.core.series.Series'>\n"
     ]
    }
   ],
   "source": [
    "# Let's turn that into a series\n",
    "grades_series = pd.Series(grades)\n",
    "print(type(grades_series))"
   ]
  },
  {
   "cell_type": "code",
   "execution_count": 25,
   "id": "8450feb8-bbeb-44a3-9176-ada159d458e0",
   "metadata": {},
   "outputs": [
    {
     "name": "stdout",
     "output_type": "stream",
     "text": [
      "0      5\n",
      "1      9\n",
      "2      6\n",
      "3      4\n",
      "4      7\n",
      "5     10\n",
      "6      5\n",
      "7      8\n",
      "8      6\n",
      "9      7\n",
      "10     7\n",
      "11     6\n",
      "12    10\n",
      "13     9\n",
      "14     6\n",
      "15     7\n",
      "16     5\n",
      "17     9\n",
      "18     6\n",
      "19     9\n",
      "20     6\n",
      "21     5\n",
      "22     7\n",
      "23    10\n",
      "24    10\n",
      "25     5\n",
      "26     7\n",
      "27     8\n",
      "28     7\n",
      "29     4\n",
      "30     8\n",
      "31     4\n",
      "32     5\n",
      "33     5\n",
      "34     5\n",
      "35     6\n",
      "36     8\n",
      "37     6\n",
      "38    10\n",
      "39     5\n",
      "dtype: int64\n"
     ]
    }
   ],
   "source": [
    "print(grades_series)    # indices on the left, values on the right (again)"
   ]
  },
  {
   "cell_type": "code",
   "execution_count": 26,
   "id": "c22a70b7-cc31-424f-b888-a28bdb5c6ed3",
   "metadata": {},
   "outputs": [
    {
     "data": {
      "text/plain": [
       "array([ 5,  9,  6,  4,  7, 10,  5,  8,  6,  7,  7,  6, 10,  9,  6,  7,  5,\n",
       "        9,  6,  9,  6,  5,  7, 10, 10,  5,  7,  8,  7,  4,  8,  4,  5,  5,\n",
       "        5,  6,  8,  6, 10,  5])"
      ]
     },
     "execution_count": 26,
     "metadata": {},
     "output_type": "execute_result"
    }
   ],
   "source": [
    "# Just see the values, rather than the indices\n",
    "grades_series.values"
   ]
  },
  {
   "cell_type": "code",
   "execution_count": 27,
   "id": "e0d98139-b2f8-432c-b96c-815ea2197b1e",
   "metadata": {},
   "outputs": [
    {
     "data": {
      "text/plain": [
       "RangeIndex(start=0, stop=40, step=1)"
      ]
     },
     "execution_count": 27,
     "metadata": {},
     "output_type": "execute_result"
    }
   ],
   "source": [
    "# Just see the index\n",
    "grades_series.index"
   ]
  },
  {
   "cell_type": "markdown",
   "id": "cbb29ee0-843a-41bf-848e-c3fbe21de532",
   "metadata": {},
   "source": [
    "Let's sort the values with the `sort_value` method. The index doesn't really help us that much in this context."
   ]
  },
  {
   "cell_type": "code",
   "execution_count": 28,
   "id": "4cd94d20-c32f-438b-b8a1-109d2aab88f6",
   "metadata": {},
   "outputs": [
    {
     "data": {
      "text/plain": [
       "38    10\n",
       "5     10\n",
       "24    10\n",
       "23    10\n",
       "12    10\n",
       "1      9\n",
       "13     9\n",
       "19     9\n",
       "17     9\n",
       "30     8\n",
       "36     8\n",
       "27     8\n",
       "7      8\n",
       "28     7\n",
       "26     7\n",
       "22     7\n",
       "15     7\n",
       "10     7\n",
       "9      7\n",
       "4      7\n",
       "18     6\n",
       "14     6\n",
       "11     6\n",
       "35     6\n",
       "8      6\n",
       "37     6\n",
       "2      6\n",
       "20     6\n",
       "32     5\n",
       "34     5\n",
       "33     5\n",
       "0      5\n",
       "25     5\n",
       "21     5\n",
       "16     5\n",
       "6      5\n",
       "39     5\n",
       "31     4\n",
       "29     4\n",
       "3      4\n",
       "dtype: int64"
      ]
     },
     "execution_count": 28,
     "metadata": {},
     "output_type": "execute_result"
    }
   ],
   "source": [
    "grades_series.sort_values(ascending=False)"
   ]
  },
  {
   "cell_type": "markdown",
   "id": "6f18d686-662d-40d1-8cb0-c8d8febb4d8c",
   "metadata": {},
   "source": [
    "In class, we grabbed random names from https://www.randomlists.com/. For example, I grabbed from here https://www.randomlists.com/random-names?qty=20. You can copy and paste into Jupyter notebook after manipulating these names a bit (see below)."
   ]
  },
  {
   "cell_type": "markdown",
   "id": "851cb95e-48d5-46f4-8e90-0e95f5be6f1c",
   "metadata": {},
   "source": [
    "It is worth looking at how to create a list in your text editor (TODO)... multi-cursor, and join lines to and formatting to 80 lines. "
   ]
  },
  {
   "cell_type": "code",
   "execution_count": 29,
   "id": "4b9faff7-0782-4613-ba54-69e246d9f194",
   "metadata": {},
   "outputs": [],
   "source": [
    "students =[\"Giovanna Fuller\", \"Pierre Baxter\", \"Maxim Walker\", \"Dale Fuller\", \n",
    "\"Keshawn Campbell\", \"Chaya Mills\", \"Alyson Grant\", \"Lindsay Glover\", \n",
    "\"Carson Mcbride\", \"Zechariah Pitts\", \"Davon Trujillo\", \"Annabel Villegas\", \n",
    "\"Johnathon Dickerson\", \"Alexa Mullins\", \"Lucas Ray\", \"Bailey Todd\", \n",
    "\"Brooks Ewing\", \"Malaki Campos\", \"Annabel Campbell\", \"Desmond Davis\", \n",
    "\"Max Blackburn\", \"Alivia Key\", \"Alvin Massey\", \"Marc Riddle\", \n",
    "\"Zachariah Bender\", \"Lea Velez\", \"Desmond Hines\", \"Amir Villegas\", \"Asia Floyd\", \n",
    "\"Ahmad Barajas\", \"Paige Vang\", \"Taylor Logan\", \"Ahmed Duran\", \"Brielle Manning\", \n",
    "\"Elianna Shepard\", \"Leon Murillo\", \"Camryn Bradley\", \"Henry Kemp\", \n",
    "\"Hazel Hancock\", \"Vivian Gallegos\"]"
   ]
  },
  {
   "cell_type": "code",
   "execution_count": 30,
   "id": "871ba9db-401d-4e52-b212-12839c98ed13",
   "metadata": {},
   "outputs": [
    {
     "data": {
      "text/plain": [
       "Giovanna Fuller         5\n",
       "Pierre Baxter           9\n",
       "Maxim Walker            6\n",
       "Dale Fuller             4\n",
       "Keshawn Campbell        7\n",
       "Chaya Mills            10\n",
       "Alyson Grant            5\n",
       "Lindsay Glover          8\n",
       "Carson Mcbride          6\n",
       "Zechariah Pitts         7\n",
       "Davon Trujillo          7\n",
       "Annabel Villegas        6\n",
       "Johnathon Dickerson    10\n",
       "Alexa Mullins           9\n",
       "Lucas Ray               6\n",
       "Bailey Todd             7\n",
       "Brooks Ewing            5\n",
       "Malaki Campos           9\n",
       "Annabel Campbell        6\n",
       "Desmond Davis           9\n",
       "Max Blackburn           6\n",
       "Alivia Key              5\n",
       "Alvin Massey            7\n",
       "Marc Riddle            10\n",
       "Zachariah Bender       10\n",
       "Lea Velez               5\n",
       "Desmond Hines           7\n",
       "Amir Villegas           8\n",
       "Asia Floyd              7\n",
       "Ahmad Barajas           4\n",
       "Paige Vang              8\n",
       "Taylor Logan            4\n",
       "Ahmed Duran             5\n",
       "Brielle Manning         5\n",
       "Elianna Shepard         5\n",
       "Leon Murillo            6\n",
       "Camryn Bradley          8\n",
       "Henry Kemp              6\n",
       "Hazel Hancock          10\n",
       "Vivian Gallegos         5\n",
       "dtype: int64"
      ]
     },
     "execution_count": 30,
     "metadata": {},
     "output_type": "execute_result"
    }
   ],
   "source": [
    "grades_series.index = students\n",
    "grades_series"
   ]
  },
  {
   "cell_type": "markdown",
   "id": "99813d7f-0128-46fe-9a3b-205e3fdc3666",
   "metadata": {},
   "source": [
    "## Filtering data"
   ]
  },
  {
   "cell_type": "code",
   "execution_count": 31,
   "id": "bafa8ded-30c6-4283-853a-4128e8a4728a",
   "metadata": {},
   "outputs": [
    {
     "data": {
      "text/plain": [
       "Giovanna Fuller        False\n",
       "Pierre Baxter           True\n",
       "Maxim Walker           False\n",
       "Dale Fuller            False\n",
       "Keshawn Campbell       False\n",
       "Chaya Mills             True\n",
       "Alyson Grant           False\n",
       "Lindsay Glover          True\n",
       "Carson Mcbride         False\n",
       "Zechariah Pitts        False\n",
       "Davon Trujillo         False\n",
       "Annabel Villegas       False\n",
       "Johnathon Dickerson     True\n",
       "Alexa Mullins           True\n",
       "Lucas Ray              False\n",
       "Bailey Todd            False\n",
       "Brooks Ewing           False\n",
       "Malaki Campos           True\n",
       "Annabel Campbell       False\n",
       "Desmond Davis           True\n",
       "Max Blackburn          False\n",
       "Alivia Key             False\n",
       "Alvin Massey           False\n",
       "Marc Riddle             True\n",
       "Zachariah Bender        True\n",
       "Lea Velez              False\n",
       "Desmond Hines          False\n",
       "Amir Villegas           True\n",
       "Asia Floyd             False\n",
       "Ahmad Barajas          False\n",
       "Paige Vang              True\n",
       "Taylor Logan           False\n",
       "Ahmed Duran            False\n",
       "Brielle Manning        False\n",
       "Elianna Shepard        False\n",
       "Leon Murillo           False\n",
       "Camryn Bradley          True\n",
       "Henry Kemp             False\n",
       "Hazel Hancock           True\n",
       "Vivian Gallegos        False\n",
       "dtype: bool"
      ]
     },
     "execution_count": 31,
     "metadata": {},
     "output_type": "execute_result"
    }
   ],
   "source": [
    "grades_series > 7     # returns booleaning values for the filter\n",
    "# grades[grades >7]    # give grades when greater than 7"
   ]
  },
  {
   "cell_type": "code",
   "execution_count": 32,
   "id": "6ad46877-43da-4333-80aa-2b88659f780f",
   "metadata": {},
   "outputs": [
    {
     "data": {
      "text/plain": [
       "Pierre Baxter       9\n",
       "Keshawn Campbell    7\n",
       "Lindsay Glover      8\n",
       "Zechariah Pitts     7\n",
       "Davon Trujillo      7\n",
       "Alexa Mullins       9\n",
       "Bailey Todd         7\n",
       "Malaki Campos       9\n",
       "Desmond Davis       9\n",
       "Alvin Massey        7\n",
       "Desmond Hines       7\n",
       "Amir Villegas       8\n",
       "Asia Floyd          7\n",
       "Paige Vang          8\n",
       "Camryn Bradley      8\n",
       "dtype: int64"
      ]
     },
     "execution_count": 32,
     "metadata": {},
     "output_type": "execute_result"
    }
   ],
   "source": [
    "condition = (grades_series > 6) & (grades_series < 10)\n",
    "grades_series[condition]"
   ]
  },
  {
   "cell_type": "code",
   "execution_count": 34,
   "id": "dbff821e-c6db-412a-8e2b-3c97b6b08ff2",
   "metadata": {},
   "outputs": [
    {
     "data": {
      "text/plain": [
       "Giovanna Fuller    5\n",
       "Pierre Baxter      9\n",
       "Dale Fuller        4\n",
       "Alyson Grant       5\n",
       "Alexa Mullins      9\n",
       "Brooks Ewing       5\n",
       "Malaki Campos      9\n",
       "Desmond Davis      9\n",
       "Alivia Key         5\n",
       "Lea Velez          5\n",
       "Ahmad Barajas      4\n",
       "Taylor Logan       4\n",
       "Ahmed Duran        5\n",
       "Brielle Manning    5\n",
       "Elianna Shepard    5\n",
       "Vivian Gallegos    5\n",
       "dtype: int64"
      ]
     },
     "execution_count": 34,
     "metadata": {},
     "output_type": "execute_result"
    }
   ],
   "source": [
    "condition3 = (grades_series < 6) | (grades_series > 8) & (grades_series != 10)\n",
    "grades_series[condition3]"
   ]
  },
  {
   "cell_type": "code",
   "execution_count": 36,
   "id": "75e35f6f-c368-4a74-b476-d41b3f7cb990",
   "metadata": {},
   "outputs": [
    {
     "data": {
      "text/plain": [
       "Giovanna Fuller    5\n",
       "Pierre Baxter      9\n",
       "Dale Fuller        4\n",
       "Alyson Grant       5\n",
       "Alexa Mullins      9\n",
       "Brooks Ewing       5\n",
       "Malaki Campos      9\n",
       "Desmond Davis      9\n",
       "Alivia Key         5\n",
       "Lea Velez          5\n",
       "Ahmad Barajas      4\n",
       "Taylor Logan       4\n",
       "Ahmed Duran        5\n",
       "Brielle Manning    5\n",
       "Elianna Shepard    5\n",
       "Vivian Gallegos    5\n",
       "dtype: int64"
      ]
     },
     "execution_count": 36,
     "metadata": {},
     "output_type": "execute_result"
    }
   ],
   "source": [
    "condition_5 = grades_series.isin([4, 5, 9])\n",
    "grades_series[condition_5]"
   ]
  },
  {
   "cell_type": "code",
   "execution_count": 37,
   "id": "d10240f4-1cd2-4642-b988-b5de6632fc7f",
   "metadata": {},
   "outputs": [
    {
     "data": {
      "text/plain": [
       "Hazel Hancock          10\n",
       "Chaya Mills            10\n",
       "Zachariah Bender       10\n",
       "Marc Riddle            10\n",
       "Johnathon Dickerson    10\n",
       "Pierre Baxter           9\n",
       "Alexa Mullins           9\n",
       "Desmond Davis           9\n",
       "Malaki Campos           9\n",
       "Paige Vang              8\n",
       "Camryn Bradley          8\n",
       "Amir Villegas           8\n",
       "Lindsay Glover          8\n",
       "Asia Floyd              7\n",
       "Desmond Hines           7\n",
       "Alvin Massey            7\n",
       "Bailey Todd             7\n",
       "Davon Trujillo          7\n",
       "Zechariah Pitts         7\n",
       "Keshawn Campbell        7\n",
       "Annabel Campbell        6\n",
       "Lucas Ray               6\n",
       "Annabel Villegas        6\n",
       "Leon Murillo            6\n",
       "Carson Mcbride          6\n",
       "Henry Kemp              6\n",
       "Maxim Walker            6\n",
       "Max Blackburn           6\n",
       "Ahmed Duran             5\n",
       "Elianna Shepard         5\n",
       "Brielle Manning         5\n",
       "Giovanna Fuller         5\n",
       "Lea Velez               5\n",
       "Alivia Key              5\n",
       "Brooks Ewing            5\n",
       "Alyson Grant            5\n",
       "Vivian Gallegos         5\n",
       "Taylor Logan            4\n",
       "Ahmad Barajas           4\n",
       "Dale Fuller             4\n",
       "dtype: int64"
      ]
     },
     "execution_count": 37,
     "metadata": {},
     "output_type": "execute_result"
    }
   ],
   "source": [
    "grades_series_sort = grades_series.sort_values(ascending=False)\n",
    "grades_series_sort"
   ]
  },
  {
   "cell_type": "markdown",
   "id": "0d259146-27ca-4158-814f-69afcffdb1c4",
   "metadata": {},
   "source": [
    "This is where we landed last time on 2022-04-11"
   ]
  },
  {
   "cell_type": "markdown",
   "id": "c876b535-b03c-41b2-a437-fb91bb137c15",
   "metadata": {},
   "source": [
    "## Dropping and adding data"
   ]
  },
  {
   "cell_type": "code",
   "execution_count": 53,
   "id": "ceb71ac8-3657-46fd-a7f0-4aacc96116a0",
   "metadata": {},
   "outputs": [],
   "source": [
    "grades_series = grades_series.drop(['Dale Fuller', 'Amir Villegas', 'Paige Vang'])"
   ]
  },
  {
   "cell_type": "code",
   "execution_count": 54,
   "id": "c0376ac3-3cfc-4574-a774-ee53d3dd611a",
   "metadata": {},
   "outputs": [],
   "source": [
    "# adding a value\n",
    "grades_series['Franco Guy'] = 9"
   ]
  },
  {
   "cell_type": "code",
   "execution_count": 55,
   "id": "f3525f7f-4cd5-468b-ad1f-27d449e90c41",
   "metadata": {},
   "outputs": [
    {
     "data": {
      "text/plain": [
       "Giovanna Fuller         5\n",
       "Pierre Baxter           9\n",
       "Maxim Walker            6\n",
       "Keshawn Campbell        7\n",
       "Chaya Mills            10\n",
       "Alyson Grant            5\n",
       "Lindsay Glover          8\n",
       "Carson Mcbride          6\n",
       "Zechariah Pitts         7\n",
       "Davon Trujillo          7\n",
       "Annabel Villegas        6\n",
       "Johnathon Dickerson    10\n",
       "Alexa Mullins           9\n",
       "Lucas Ray               6\n",
       "Bailey Todd             7\n",
       "Brooks Ewing            5\n",
       "Malaki Campos           9\n",
       "Annabel Campbell        6\n",
       "Desmond Davis           9\n",
       "Max Blackburn           6\n",
       "Alivia Key              5\n",
       "Alvin Massey            7\n",
       "Marc Riddle            10\n",
       "Zachariah Bender       10\n",
       "Lea Velez               5\n",
       "Desmond Hines           7\n",
       "Asia Floyd              7\n",
       "Ahmad Barajas           4\n",
       "Taylor Logan            4\n",
       "Ahmed Duran             5\n",
       "Brielle Manning         5\n",
       "Elianna Shepard         5\n",
       "Leon Murillo            6\n",
       "Camryn Bradley          8\n",
       "Henry Kemp              6\n",
       "Hazel Hancock          10\n",
       "Vivian Gallegos         5\n",
       "Franco Guy              9\n",
       "dtype: int64"
      ]
     },
     "execution_count": 55,
     "metadata": {},
     "output_type": "execute_result"
    }
   ],
   "source": [
    "grades_series"
   ]
  },
  {
   "cell_type": "code",
   "execution_count": 56,
   "id": "ec16a737-1f6c-4cf6-bdbe-25243802aff0",
   "metadata": {},
   "outputs": [
    {
     "name": "stderr",
     "output_type": "stream",
     "text": [
      "/var/folders/mt/_tmbg5sj039gf4rlsp9gr4pc0000gn/T/ipykernel_86057/2274953083.py:2: FutureWarning: In a future version of pandas all arguments of concat except for the argument 'objs' will be keyword-only.\n",
      "  pd.concat(grades_series, to_append)\n"
     ]
    },
    {
     "ename": "TypeError",
     "evalue": "first argument must be an iterable of pandas objects, you passed an object of type \"Series\"",
     "output_type": "error",
     "traceback": [
      "\u001b[0;31m---------------------------------------------------------------------------\u001b[0m",
      "\u001b[0;31mTypeError\u001b[0m                                 Traceback (most recent call last)",
      "Input \u001b[0;32mIn [56]\u001b[0m, in \u001b[0;36m<cell line: 2>\u001b[0;34m()\u001b[0m\n\u001b[1;32m      1\u001b[0m to_append \u001b[38;5;241m=\u001b[39m pd\u001b[38;5;241m.\u001b[39mSeries([\u001b[38;5;241m6\u001b[39m, \u001b[38;5;241m8\u001b[39m], index \u001b[38;5;241m=\u001b[39m [\u001b[38;5;124m'\u001b[39m\u001b[38;5;124mVincent Friendly\u001b[39m\u001b[38;5;124m'\u001b[39m, \u001b[38;5;124m'\u001b[39m\u001b[38;5;124mPorter Junior\u001b[39m\u001b[38;5;124m'\u001b[39m])\n\u001b[0;32m----> 2\u001b[0m \u001b[43mpd\u001b[49m\u001b[38;5;241;43m.\u001b[39;49m\u001b[43mconcat\u001b[49m\u001b[43m(\u001b[49m\u001b[43mgrades_series\u001b[49m\u001b[43m,\u001b[49m\u001b[43m \u001b[49m\u001b[43mto_append\u001b[49m\u001b[43m)\u001b[49m\n",
      "File \u001b[0;32m~/venvs/python_class/lib/python3.9/site-packages/pandas/util/_decorators.py:311\u001b[0m, in \u001b[0;36mdeprecate_nonkeyword_arguments.<locals>.decorate.<locals>.wrapper\u001b[0;34m(*args, **kwargs)\u001b[0m\n\u001b[1;32m    305\u001b[0m \u001b[38;5;28;01mif\u001b[39;00m \u001b[38;5;28mlen\u001b[39m(args) \u001b[38;5;241m>\u001b[39m num_allow_args:\n\u001b[1;32m    306\u001b[0m     warnings\u001b[38;5;241m.\u001b[39mwarn(\n\u001b[1;32m    307\u001b[0m         msg\u001b[38;5;241m.\u001b[39mformat(arguments\u001b[38;5;241m=\u001b[39marguments),\n\u001b[1;32m    308\u001b[0m         \u001b[38;5;167;01mFutureWarning\u001b[39;00m,\n\u001b[1;32m    309\u001b[0m         stacklevel\u001b[38;5;241m=\u001b[39mstacklevel,\n\u001b[1;32m    310\u001b[0m     )\n\u001b[0;32m--> 311\u001b[0m \u001b[38;5;28;01mreturn\u001b[39;00m \u001b[43mfunc\u001b[49m\u001b[43m(\u001b[49m\u001b[38;5;241;43m*\u001b[39;49m\u001b[43margs\u001b[49m\u001b[43m,\u001b[49m\u001b[43m \u001b[49m\u001b[38;5;241;43m*\u001b[39;49m\u001b[38;5;241;43m*\u001b[39;49m\u001b[43mkwargs\u001b[49m\u001b[43m)\u001b[49m\n",
      "File \u001b[0;32m~/venvs/python_class/lib/python3.9/site-packages/pandas/core/reshape/concat.py:347\u001b[0m, in \u001b[0;36mconcat\u001b[0;34m(objs, axis, join, ignore_index, keys, levels, names, verify_integrity, sort, copy)\u001b[0m\n\u001b[1;32m    143\u001b[0m \u001b[38;5;129m@deprecate_nonkeyword_arguments\u001b[39m(version\u001b[38;5;241m=\u001b[39m\u001b[38;5;28;01mNone\u001b[39;00m, allowed_args\u001b[38;5;241m=\u001b[39m[\u001b[38;5;124m\"\u001b[39m\u001b[38;5;124mobjs\u001b[39m\u001b[38;5;124m\"\u001b[39m])\n\u001b[1;32m    144\u001b[0m \u001b[38;5;28;01mdef\u001b[39;00m \u001b[38;5;21mconcat\u001b[39m(\n\u001b[1;32m    145\u001b[0m     objs: Iterable[NDFrame] \u001b[38;5;241m|\u001b[39m Mapping[Hashable, NDFrame],\n\u001b[0;32m   (...)\u001b[0m\n\u001b[1;32m    154\u001b[0m     copy: \u001b[38;5;28mbool\u001b[39m \u001b[38;5;241m=\u001b[39m \u001b[38;5;28;01mTrue\u001b[39;00m,\n\u001b[1;32m    155\u001b[0m ) \u001b[38;5;241m-\u001b[39m\u001b[38;5;241m>\u001b[39m DataFrame \u001b[38;5;241m|\u001b[39m Series:\n\u001b[1;32m    156\u001b[0m     \u001b[38;5;124;03m\"\"\"\u001b[39;00m\n\u001b[1;32m    157\u001b[0m \u001b[38;5;124;03m    Concatenate pandas objects along a particular axis with optional set logic\u001b[39;00m\n\u001b[1;32m    158\u001b[0m \u001b[38;5;124;03m    along the other axes.\u001b[39;00m\n\u001b[0;32m   (...)\u001b[0m\n\u001b[1;32m    345\u001b[0m \u001b[38;5;124;03m    ValueError: Indexes have overlapping values: ['a']\u001b[39;00m\n\u001b[1;32m    346\u001b[0m \u001b[38;5;124;03m    \"\"\"\u001b[39;00m\n\u001b[0;32m--> 347\u001b[0m     op \u001b[38;5;241m=\u001b[39m \u001b[43m_Concatenator\u001b[49m\u001b[43m(\u001b[49m\n\u001b[1;32m    348\u001b[0m \u001b[43m        \u001b[49m\u001b[43mobjs\u001b[49m\u001b[43m,\u001b[49m\n\u001b[1;32m    349\u001b[0m \u001b[43m        \u001b[49m\u001b[43maxis\u001b[49m\u001b[38;5;241;43m=\u001b[39;49m\u001b[43maxis\u001b[49m\u001b[43m,\u001b[49m\n\u001b[1;32m    350\u001b[0m \u001b[43m        \u001b[49m\u001b[43mignore_index\u001b[49m\u001b[38;5;241;43m=\u001b[39;49m\u001b[43mignore_index\u001b[49m\u001b[43m,\u001b[49m\n\u001b[1;32m    351\u001b[0m \u001b[43m        \u001b[49m\u001b[43mjoin\u001b[49m\u001b[38;5;241;43m=\u001b[39;49m\u001b[43mjoin\u001b[49m\u001b[43m,\u001b[49m\n\u001b[1;32m    352\u001b[0m \u001b[43m        \u001b[49m\u001b[43mkeys\u001b[49m\u001b[38;5;241;43m=\u001b[39;49m\u001b[43mkeys\u001b[49m\u001b[43m,\u001b[49m\n\u001b[1;32m    353\u001b[0m \u001b[43m        \u001b[49m\u001b[43mlevels\u001b[49m\u001b[38;5;241;43m=\u001b[39;49m\u001b[43mlevels\u001b[49m\u001b[43m,\u001b[49m\n\u001b[1;32m    354\u001b[0m \u001b[43m        \u001b[49m\u001b[43mnames\u001b[49m\u001b[38;5;241;43m=\u001b[39;49m\u001b[43mnames\u001b[49m\u001b[43m,\u001b[49m\n\u001b[1;32m    355\u001b[0m \u001b[43m        \u001b[49m\u001b[43mverify_integrity\u001b[49m\u001b[38;5;241;43m=\u001b[39;49m\u001b[43mverify_integrity\u001b[49m\u001b[43m,\u001b[49m\n\u001b[1;32m    356\u001b[0m \u001b[43m        \u001b[49m\u001b[43mcopy\u001b[49m\u001b[38;5;241;43m=\u001b[39;49m\u001b[43mcopy\u001b[49m\u001b[43m,\u001b[49m\n\u001b[1;32m    357\u001b[0m \u001b[43m        \u001b[49m\u001b[43msort\u001b[49m\u001b[38;5;241;43m=\u001b[39;49m\u001b[43msort\u001b[49m\u001b[43m,\u001b[49m\n\u001b[1;32m    358\u001b[0m \u001b[43m    \u001b[49m\u001b[43m)\u001b[49m\n\u001b[1;32m    360\u001b[0m     \u001b[38;5;28;01mreturn\u001b[39;00m op\u001b[38;5;241m.\u001b[39mget_result()\n",
      "File \u001b[0;32m~/venvs/python_class/lib/python3.9/site-packages/pandas/core/reshape/concat.py:382\u001b[0m, in \u001b[0;36m_Concatenator.__init__\u001b[0;34m(self, objs, axis, join, keys, levels, names, ignore_index, verify_integrity, copy, sort)\u001b[0m\n\u001b[1;32m    368\u001b[0m \u001b[38;5;28;01mdef\u001b[39;00m \u001b[38;5;21m__init__\u001b[39m(\n\u001b[1;32m    369\u001b[0m     \u001b[38;5;28mself\u001b[39m,\n\u001b[1;32m    370\u001b[0m     objs: Iterable[NDFrame] \u001b[38;5;241m|\u001b[39m Mapping[Hashable, NDFrame],\n\u001b[0;32m   (...)\u001b[0m\n\u001b[1;32m    379\u001b[0m     sort\u001b[38;5;241m=\u001b[39m\u001b[38;5;28;01mFalse\u001b[39;00m,\n\u001b[1;32m    380\u001b[0m ):\n\u001b[1;32m    381\u001b[0m     \u001b[38;5;28;01mif\u001b[39;00m \u001b[38;5;28misinstance\u001b[39m(objs, (ABCSeries, ABCDataFrame, \u001b[38;5;28mstr\u001b[39m)):\n\u001b[0;32m--> 382\u001b[0m         \u001b[38;5;28;01mraise\u001b[39;00m \u001b[38;5;167;01mTypeError\u001b[39;00m(\n\u001b[1;32m    383\u001b[0m             \u001b[38;5;124m\"\u001b[39m\u001b[38;5;124mfirst argument must be an iterable of pandas \u001b[39m\u001b[38;5;124m\"\u001b[39m\n\u001b[1;32m    384\u001b[0m             \u001b[38;5;124mf\u001b[39m\u001b[38;5;124m'\u001b[39m\u001b[38;5;124mobjects, you passed an object of type \u001b[39m\u001b[38;5;124m\"\u001b[39m\u001b[38;5;132;01m{\u001b[39;00m\u001b[38;5;28mtype\u001b[39m(objs)\u001b[38;5;241m.\u001b[39m\u001b[38;5;18m__name__\u001b[39m\u001b[38;5;132;01m}\u001b[39;00m\u001b[38;5;124m\"\u001b[39m\u001b[38;5;124m'\u001b[39m\n\u001b[1;32m    385\u001b[0m         )\n\u001b[1;32m    387\u001b[0m     \u001b[38;5;28;01mif\u001b[39;00m join \u001b[38;5;241m==\u001b[39m \u001b[38;5;124m\"\u001b[39m\u001b[38;5;124mouter\u001b[39m\u001b[38;5;124m\"\u001b[39m:\n\u001b[1;32m    388\u001b[0m         \u001b[38;5;28mself\u001b[39m\u001b[38;5;241m.\u001b[39mintersect \u001b[38;5;241m=\u001b[39m \u001b[38;5;28;01mFalse\u001b[39;00m\n",
      "\u001b[0;31mTypeError\u001b[0m: first argument must be an iterable of pandas objects, you passed an object of type \"Series\""
     ]
    }
   ],
   "source": [
    "to_append = pd.Series([6, 8], index = ['Vincent Friendly', 'Porter Junior'])\n",
    "pd.concat(grades_series, to_append)"
   ]
  },
  {
   "cell_type": "markdown",
   "id": "e8abc817-c2f4-4ee4-aa93-e4c18a7f9cf2",
   "metadata": {},
   "source": [
    "## Fancier Tools"
   ]
  },
  {
   "cell_type": "code",
   "execution_count": 60,
   "id": "762d284a-3b76-4b0f-8925-5a1ca81cb8e2",
   "metadata": {},
   "outputs": [
    {
     "name": "stdout",
     "output_type": "stream",
     "text": [
      "6.868421052631579\n",
      "10\n",
      "4\n",
      "1.8624461193959183\n"
     ]
    }
   ],
   "source": [
    "print(grades_series.mean())\n",
    "print(grades_series.max())\n",
    "print(grades_series.min())\n",
    "print(grades_series.std())"
   ]
  },
  {
   "cell_type": "code",
   "execution_count": 61,
   "id": "293217cc-4b30-4319-a7bf-d5c90b12d2ac",
   "metadata": {},
   "outputs": [
    {
     "data": {
      "text/plain": [
       "0.25    5.00\n",
       "0.50    6.50\n",
       "0.75    8.75\n",
       "dtype: float64"
      ]
     },
     "execution_count": 61,
     "metadata": {},
     "output_type": "execute_result"
    }
   ],
   "source": [
    "grades_series.quantile([.25, .5, .75])"
   ]
  },
  {
   "cell_type": "code",
   "execution_count": 62,
   "id": "29bccdfa-b675-403a-a6f5-6f3a8d40e1d6",
   "metadata": {},
   "outputs": [
    {
     "data": {
      "text/plain": [
       "count    38.000000\n",
       "mean      6.868421\n",
       "std       1.862446\n",
       "min       4.000000\n",
       "25%       5.000000\n",
       "50%       6.500000\n",
       "75%       8.750000\n",
       "max      10.000000\n",
       "dtype: float64"
      ]
     },
     "execution_count": 62,
     "metadata": {},
     "output_type": "execute_result"
    }
   ],
   "source": [
    "grades_series.describe()"
   ]
  },
  {
   "cell_type": "code",
   "execution_count": 63,
   "id": "1d61699d-f694-4691-b2e3-c2209e344eb1",
   "metadata": {},
   "outputs": [
    {
     "data": {
      "text/plain": [
       "<AxesSubplot:>"
      ]
     },
     "execution_count": 63,
     "metadata": {},
     "output_type": "execute_result"
    },
    {
     "data": {
      "image/png": "[encoded data removed]",
      "text/plain": [
       "<Figure size 432x288 with 1 Axes>"
      ]
     },
     "metadata": {
      "needs_background": "light"
     },
     "output_type": "display_data"
    }
   ],
   "source": [
    "grades_series.plot()"
   ]
  },
  {
   "cell_type": "code",
   "execution_count": 66,
   "id": "307f3864-fbc4-471a-9c09-0b6acd6e528b",
   "metadata": {},
   "outputs": [
    {
     "data": {
      "text/plain": [
       "<AxesSubplot:>"
      ]
     },
     "execution_count": 66,
     "metadata": {},
     "output_type": "execute_result"
    },
    {
     "data": {
      "image/png": "[encoded data removed]",
      "text/plain": [
       "<Figure size 432x288 with 1 Axes>"
      ]
     },
     "metadata": {
      "needs_background": "light"
     },
     "output_type": "display_data"
    }
   ],
   "source": [
    "grades_series.plot.bar()"
   ]
  },
  {
   "cell_type": "code",
   "execution_count": 67,
   "id": "dacad542-283a-4e19-b31c-5daf7dc74dd8",
   "metadata": {},
   "outputs": [
    {
     "data": {
      "text/plain": [
       "<AxesSubplot:>"
      ]
     },
     "execution_count": 67,
     "metadata": {},
     "output_type": "execute_result"
    },
    {
     "data": {
      "image/png": "[encoded data removed]",
      "text/plain": [
       "<Figure size 432x288 with 1 Axes>"
      ]
     },
     "metadata": {
      "needs_background": "light"
     },
     "output_type": "display_data"
    }
   ],
   "source": [
    "grades_series_sort.plot.bar()"
   ]
  },
  {
   "cell_type": "code",
   "execution_count": 68,
   "id": "0380dad6-0418-4637-b735-b82f1279792f",
   "metadata": {},
   "outputs": [
    {
     "data": {
      "text/plain": [
       "<AxesSubplot:>"
      ]
     },
     "execution_count": 68,
     "metadata": {},
     "output_type": "execute_result"
    },
    {
     "data": {
      "image/png": "[encoded data removed]",
      "text/plain": [
       "<Figure size 432x288 with 1 Axes>"
      ]
     },
     "metadata": {
      "needs_background": "light"
     },
     "output_type": "display_data"
    }
   ],
   "source": [
    "grades_series.plot.box()"
   ]
  },
  {
   "cell_type": "code",
   "execution_count": 70,
   "id": "8bb43cfd-3285-4dce-9a1d-754286bb8dcb",
   "metadata": {},
   "outputs": [
    {
     "data": {
      "text/plain": [
       "<AxesSubplot:ylabel='Frequency'>"
      ]
     },
     "execution_count": 70,
     "metadata": {},
     "output_type": "execute_result"
    },
    {
     "data": {
      "image/png": "[encoded data removed]",
      "text/plain": [
       "<Figure size 432x288 with 1 Axes>"
      ]
     },
     "metadata": {
      "needs_background": "light"
     },
     "output_type": "display_data"
    }
   ],
   "source": [
    "grades_series.plot.hist(bins=7)"
   ]
  },
  {
   "cell_type": "code",
   "execution_count": null,
   "id": "a5c82724-76f4-4f7e-83e8-1147d8b6007c",
   "metadata": {},
   "outputs": [],
   "source": []
  }
 ],
 "metadata": {
  "kernelspec": {
   "display_name": "Python 3 (ipykernel)",
   "language": "python",
   "name": "python3"
  },
  "language_info": {
   "codemirror_mode": {
    "name": "ipython",
    "version": 3
   },
   "file_extension": ".py",
   "mimetype": "text/x-python",
   "name": "python",
   "nbconvert_exporter": "python",
   "pygments_lexer": "ipython3",
   "version": "3.9.12"
  }
 },
 "nbformat": 4,
 "nbformat_minor": 5
}
