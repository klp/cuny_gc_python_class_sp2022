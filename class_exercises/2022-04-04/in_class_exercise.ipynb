{
 "cells": [
  {
   "cell_type": "markdown",
   "id": "02055552-0388-4338-bc81-b58e7a70ca13",
   "metadata": {},
   "source": [
    "# In-class Exercises\n",
    "\n",
    "## Make your own corpus\n",
    "\n",
    "Our first stop will be to Project Gutenburg, and selecting Don Quixote: https://www.gutenberg.org/ebooks/996 and downloading the text version: https://www.gutenberg.org/cache/epub/996/pg996.txt"
   ]
  },
  {
   "cell_type": "markdown",
   "id": "ec85d845-2eaf-4ff4-bb41-f02855c3225b",
   "metadata": {},
   "source": [
    "### Requesting the text of Don Quixote from the Internet"
   ]
  },
  {
   "cell_type": "code",
   "execution_count": 1,
   "id": "e7a70423-fbdf-4263-9c2b-e331128c0286",
   "metadata": {},
   "outputs": [],
   "source": [
    "# Here's how we request the text\n",
    "from urllib.request import urlopen"
   ]
  },
  {
   "cell_type": "code",
   "execution_count": 2,
   "id": "88da1adb-fa4d-41c7-bdb6-81ce3ef1e7a0",
   "metadata": {},
   "outputs": [],
   "source": [
    "my_url = 'https://www.gutenberg.org/cache/epub/996/pg996.txt'"
   ]
  },
  {
   "cell_type": "code",
   "execution_count": 3,
   "id": "3752ec3b-cb49-4544-8fd0-436ef84be53b",
   "metadata": {},
   "outputs": [],
   "source": [
    "file = urlopen(my_url)"
   ]
  },
  {
   "cell_type": "code",
   "execution_count": 4,
   "id": "7d498ddd-ca11-423f-8b5d-bce1276901d3",
   "metadata": {},
   "outputs": [
    {
     "data": {
      "text/plain": [
       "http.client.HTTPResponse"
      ]
     },
     "execution_count": 4,
     "metadata": {},
     "output_type": "execute_result"
    }
   ],
   "source": [
    "type(file)    # not ready for us to use based on type"
   ]
  },
  {
   "cell_type": "code",
   "execution_count": 5,
   "id": "2c03276e-5724-41e0-ac61-d1212b1840eb",
   "metadata": {},
   "outputs": [],
   "source": [
    "# Need python to read this \n",
    "raw = file.read()    # Now it's bytes! Yikes!"
   ]
  },
  {
   "cell_type": "code",
   "execution_count": 6,
   "id": "0e63089a-5b21-471f-bcb9-a5d35dd32583",
   "metadata": {},
   "outputs": [
    {
     "data": {
      "text/plain": [
       "bytes"
      ]
     },
     "execution_count": 6,
     "metadata": {},
     "output_type": "execute_result"
    }
   ],
   "source": [
    "type(raw)"
   ]
  },
  {
   "cell_type": "code",
   "execution_count": 7,
   "id": "d9195308-e892-4708-9875-52c0a2158f08",
   "metadata": {},
   "outputs": [],
   "source": [
    "# We want the text to be in characters, so we need to decode/encoding\n",
    "don_quixote = raw.decode()   # because it's in UTC-8, we don't need to pass an argument to decode"
   ]
  },
  {
   "cell_type": "code",
   "execution_count": 9,
   "id": "eb162683-4dda-4560-8e2a-5e1cd5f2ce23",
   "metadata": {},
   "outputs": [
    {
     "data": {
      "text/plain": [
       "str"
      ]
     },
     "execution_count": 9,
     "metadata": {},
     "output_type": "execute_result"
    }
   ],
   "source": [
    "type(don_quixote)     # Now it's a string, yes!"
   ]
  },
  {
   "cell_type": "code",
   "execution_count": 19,
   "id": "844975c5-8f87-44bd-9510-0ac3f7189d93",
   "metadata": {},
   "outputs": [
    {
     "data": {
      "text/plain": [
       "'\\ufeffThe Project Gutenberg eBook of The History of Don Quixote, by Miguel de Cervantes\\r\\n\\r\\nThis eBook is for the use of anyone anywhere in the United States and\\r\\nmost other parts of the world at no cost and with almost no restrictions\\r\\nwhatsoever. You may copy it, give it away or re-use it under the terms\\r\\nof the Project Gutenberg License included with this eBook or online at\\r\\nwww.gutenberg.org. If you are not located in the United States, you\\r\\nwill have to check the laws of the country where you are'"
      ]
     },
     "execution_count": 19,
     "metadata": {},
     "output_type": "execute_result"
    }
   ],
   "source": [
    "don_quixote[:500]     # first 100 characters"
   ]
  },
  {
   "cell_type": "markdown",
   "id": "a094d5c9-e014-4f5b-b28b-0fa5617e3942",
   "metadata": {},
   "source": [
    "Notice that we don't have paragraphs, and instead have escapes like new lines '\\n', returns '\\r' and '\\u' . Space is a character itself, which is why we see them."
   ]
  },
  {
   "cell_type": "markdown",
   "id": "341bb950-a69f-471e-a6f5-04da85b721c2",
   "metadata": {},
   "source": [
    "### Preparing out document for NLTK\n",
    "\n",
    "We want to have the text available as a list."
   ]
  },
  {
   "cell_type": "code",
   "execution_count": 20,
   "id": "41b20c86-2839-4d84-b174-317e41c30fb0",
   "metadata": {},
   "outputs": [],
   "source": [
    "import nltk"
   ]
  },
  {
   "cell_type": "code",
   "execution_count": 21,
   "id": "7d770ba6-f0fa-46ce-91b4-402a5229cdce",
   "metadata": {},
   "outputs": [],
   "source": [
    "don_tokens = nltk.word_tokenize(don_quixote)"
   ]
  },
  {
   "cell_type": "code",
   "execution_count": 22,
   "id": "dfe0ced8-7bc4-4c1d-a47e-e6126602204b",
   "metadata": {},
   "outputs": [
    {
     "data": {
      "text/plain": [
       "list"
      ]
     },
     "execution_count": 22,
     "metadata": {},
     "output_type": "execute_result"
    }
   ],
   "source": [
    "type(don_tokens)    # Nice, it's a list now, which gets us somewhere"
   ]
  },
  {
   "cell_type": "code",
   "execution_count": 23,
   "id": "58bfbf53-a995-4c9f-9e69-663cd833057c",
   "metadata": {},
   "outputs": [
    {
     "data": {
      "text/plain": [
       "498734"
      ]
     },
     "execution_count": 23,
     "metadata": {},
     "output_type": "execute_result"
    }
   ],
   "source": [
    "len(don_tokens)"
   ]
  },
  {
   "cell_type": "code",
   "execution_count": 25,
   "id": "8ad2bf6c-de05-47f1-b74f-22d35e74051d",
   "metadata": {},
   "outputs": [
    {
     "data": {
      "text/plain": [
       "['\\ufeffThe',\n",
       " 'Project',\n",
       " 'Gutenberg',\n",
       " 'eBook',\n",
       " 'of',\n",
       " 'The',\n",
       " 'History',\n",
       " 'of',\n",
       " 'Don',\n",
       " 'Quixote']"
      ]
     },
     "execution_count": 25,
     "metadata": {},
     "output_type": "execute_result"
    }
   ],
   "source": [
    "don_tokens[:10]"
   ]
  },
  {
   "cell_type": "markdown",
   "id": "4b760a00-3827-40ad-86b7-98a9b4999608",
   "metadata": {},
   "source": [
    "In order to use NLTK, we may want to make it the right type. We also want to get rid of front matter etc."
   ]
  },
  {
   "cell_type": "code",
   "execution_count": 26,
   "id": "8f88338c-132c-489e-8b75-d1ba3f871b87",
   "metadata": {},
   "outputs": [
    {
     "data": {
      "text/plain": [
       "273"
      ]
     },
     "execution_count": 26,
     "metadata": {},
     "output_type": "execute_result"
    }
   ],
   "source": [
    "# This is one way to get the index for the first word, the KP way. Error prone\n",
    "don_tokens.index('It')    # this is the first word "
   ]
  },
  {
   "cell_type": "code",
   "execution_count": 27,
   "id": "bb43b90e-41e0-4f7d-9003-6e0ecaa238fd",
   "metadata": {},
   "outputs": [],
   "source": [
    "# In class\n",
    "dq_text = don_tokens[382:]    # we decided this is fine to cut out front matter"
   ]
  },
  {
   "cell_type": "code",
   "execution_count": 29,
   "id": "0822c2a7-92f4-4b97-8d38-feef23082d5f",
   "metadata": {},
   "outputs": [],
   "source": [
    "dq_nltk_text = nltk.Text(dq_text)   # make it the right type for nltk"
   ]
  },
  {
   "cell_type": "code",
   "execution_count": 30,
   "id": "02eba77e-54b7-4b99-9140-995f3e1a2b40",
   "metadata": {},
   "outputs": [
    {
     "data": {
      "text/plain": [
       "nltk.text.Text"
      ]
     },
     "execution_count": 30,
     "metadata": {},
     "output_type": "execute_result"
    }
   ],
   "source": [
    "type(dq_nltk_text)"
   ]
  },
  {
   "cell_type": "code",
   "execution_count": 32,
   "id": "8d2754c3-a028-489d-987d-2f13cc3710dd",
   "metadata": {},
   "outputs": [],
   "source": [
    "from nltk.probability import FreqDist"
   ]
  },
  {
   "cell_type": "code",
   "execution_count": 33,
   "id": "a4d6aa03-f7a4-46c7-8c72-5ba466fa0d7b",
   "metadata": {},
   "outputs": [],
   "source": [
    "my_dist = FreqDist(dq_nltk_text)"
   ]
  },
  {
   "cell_type": "code",
   "execution_count": 34,
   "id": "22d19c37-1d68-47f5-896b-229da6ca43f0",
   "metadata": {},
   "outputs": [
    {
     "data": {
      "image/png": "[encoded data removed]",
      "text/plain": [
       "<Figure size 432x288 with 1 Axes>"
      ]
     },
     "metadata": {
      "needs_background": "light"
     },
     "output_type": "display_data"
    },
    {
     "data": {
      "text/plain": [
       "<AxesSubplot:xlabel='Samples', ylabel='Counts'>"
      ]
     },
     "execution_count": 34,
     "metadata": {},
     "output_type": "execute_result"
    }
   ],
   "source": [
    "my_dist.plot(20)"
   ]
  },
  {
   "cell_type": "code",
   "execution_count": 35,
   "id": "ac93dbeb-afd0-4163-a88c-db8dcc062b81",
   "metadata": {},
   "outputs": [
    {
     "name": "stdout",
     "output_type": "stream",
     "text": [
      "sancho won the that it can governor a curate him them if all i is\n",
      "barber his world one this\n"
     ]
    }
   ],
   "source": [
    "dq_nltk_text.similar('Don')"
   ]
  },
  {
   "cell_type": "markdown",
   "id": "1d7a0d8e-9753-4c1d-a594-a3d54014b8ca",
   "metadata": {},
   "source": [
    "Of course, we haven't removed any stop words, but we're able to use NLTK functions and methods. We may need to remove stopwords if we want to look at lexical density. If we wanted to look at parts of speech, we probably don't want to remove those stopwords."
   ]
  }
 ],
 "metadata": {
  "kernelspec": {
   "display_name": "Python 3 (ipykernel)",
   "language": "python",
   "name": "python3"
  },
  "language_info": {
   "codemirror_mode": {
    "name": "ipython",
    "version": 3
   },
   "file_extension": ".py",
   "mimetype": "text/x-python",
   "name": "python",
   "nbconvert_exporter": "python",
   "pygments_lexer": "ipython3",
   "version": "3.9.10"
  }
 },
 "nbformat": 4,
 "nbformat_minor": 5
}
