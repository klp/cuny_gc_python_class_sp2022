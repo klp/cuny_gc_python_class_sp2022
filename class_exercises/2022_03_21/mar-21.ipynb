{
 "cells": [
  {
   "cell_type": "markdown",
   "id": "f9df7781-0cfc-4780-ba2f-4bcde98f78db",
   "metadata": {},
   "source": [
    "# Intro to nltk"
   ]
  },
  {
   "cell_type": "markdown",
   "id": "76a4bcf1-e3bd-4f13-a89a-ca5e212fbf36",
   "metadata": {},
   "source": [
    "## Nltk.book"
   ]
  },
  {
   "cell_type": "markdown",
   "id": "8919237a-1335-41bd-87a3-932572deb9ea",
   "metadata": {},
   "source": [
    "Let downlaod (if you haven't done so) and import nltk.books "
   ]
  },
  {
   "cell_type": "code",
   "execution_count": 1,
   "id": "a15112f9-0fef-4015-b091-e6f47562b075",
   "metadata": {},
   "outputs": [],
   "source": [
    "import nltk\n",
    "# nltk.download()"
   ]
  },
  {
   "cell_type": "code",
   "execution_count": 2,
   "id": "139e9c1d-919c-4ed0-b323-01a71ca9e3fe",
   "metadata": {},
   "outputs": [
    {
     "name": "stdout",
     "output_type": "stream",
     "text": [
      "*** Introductory Examples for the NLTK Book ***\n",
      "Loading text1, ..., text9 and sent1, ..., sent9\n",
      "Type the name of the text or sentence to view it.\n",
      "Type: 'texts()' or 'sents()' to list the materials.\n",
      "text1: Moby Dick by Herman Melville 1851\n",
      "text2: Sense and Sensibility by Jane Austen 1811\n",
      "text3: The Book of Genesis\n",
      "text4: Inaugural Address Corpus\n",
      "text5: Chat Corpus\n",
      "text6: Monty Python and the Holy Grail\n",
      "text7: Wall Street Journal\n",
      "text8: Personals Corpus\n",
      "text9: The Man Who Was Thursday by G . K . Chesterton 1908\n"
     ]
    }
   ],
   "source": [
    "from nltk.book import *"
   ]
  },
  {
   "cell_type": "code",
   "execution_count": 3,
   "id": "5cfd85f9-03af-4352-9468-700aee22f4cf",
   "metadata": {},
   "outputs": [
    {
     "data": {
      "text/plain": [
       "nltk.text.Text"
      ]
     },
     "execution_count": 3,
     "metadata": {},
     "output_type": "execute_result"
    }
   ],
   "source": [
    "type(text1)"
   ]
  },
  {
   "cell_type": "code",
   "execution_count": 4,
   "id": "fc09dc16-0eca-408d-89b4-a206c90e5bd4",
   "metadata": {},
   "outputs": [
    {
     "data": {
      "text/plain": [
       "['[',\n",
       " 'Moby',\n",
       " 'Dick',\n",
       " 'by',\n",
       " 'Herman',\n",
       " 'Melville',\n",
       " '1851',\n",
       " ']',\n",
       " 'ETYMOLOGY',\n",
       " '.',\n",
       " '(',\n",
       " 'Supplied',\n",
       " 'by',\n",
       " 'a',\n",
       " 'Late',\n",
       " 'Consumptive',\n",
       " 'Usher',\n",
       " 'to',\n",
       " 'a',\n",
       " 'Grammar']"
      ]
     },
     "execution_count": 4,
     "metadata": {},
     "output_type": "execute_result"
    }
   ],
   "source": [
    "text1[:20]"
   ]
  },
  {
   "cell_type": "markdown",
   "id": "0e1e9e84-5c35-4e82-bc4b-11ba146e32e5",
   "metadata": {},
   "source": [
    "## Basic nltk tools"
   ]
  },
  {
   "cell_type": "markdown",
   "id": "90662a83-3c48-47e5-8d0e-af6864841a6d",
   "metadata": {},
   "source": [
    "Concordance shows a number of works before and after the word pass in as an arguemnt."
   ]
  },
  {
   "cell_type": "code",
   "execution_count": 5,
   "id": "1cbeaa9f-dc8f-47ba-96e2-7d5d4ecea19e",
   "metadata": {},
   "outputs": [
    {
     "name": "stdout",
     "output_type": "stream",
     "text": [
      "Displaying 25 of 1226 matches:\n",
      "s , and to teach them by what name a whale - fish is to be called in our tongue\n",
      "t which is not true .\" -- HACKLUYT \" WHALE . ... Sw . and Dan . HVAL . This ani\n",
      "ulted .\" -- WEBSTER ' S DICTIONARY \" WHALE . ... It is more immediately from th\n",
      "ISH . WAL , DUTCH . HWAL , SWEDISH . WHALE , ICELANDIC . WHALE , ENGLISH . BALE\n",
      "HWAL , SWEDISH . WHALE , ICELANDIC . WHALE , ENGLISH . BALEINE , FRENCH . BALLE\n",
      "least , take the higgledy - piggledy whale statements , however authentic , in \n",
      " dreadful gulf of this monster ' s ( whale ' s ) mouth , are immediately lost a\n",
      " patient Job .\" -- RABELAIS . \" This whale ' s liver was two cartloads .\" -- ST\n",
      " Touching that monstrous bulk of the whale or ork we have received nothing cert\n",
      " of oil will be extracted out of one whale .\" -- IBID . \" HISTORY OF LIFE AND D\n",
      "ise .\" -- KING HENRY . \" Very like a whale .\" -- HAMLET . \" Which to secure , n\n",
      "restless paine , Like as the wounded whale to shore flies thro ' the maine .\" -\n",
      ". OF SPERMA CETI AND THE SPERMA CETI WHALE . VIDE HIS V . E . \" Like Spencer ' \n",
      "t had been a sprat in the mouth of a whale .\" -- PILGRIM ' S PROGRESS . \" That \n",
      "EN ' S ANNUS MIRABILIS . \" While the whale is floating at the stern of the ship\n",
      "e ship called The Jonas - in - the - Whale . ... Some say the whale can ' t ope\n",
      " in - the - Whale . ... Some say the whale can ' t open his mouth , but that is\n",
      " masts to see whether they can see a whale , for the first discoverer has a duc\n",
      " for his pains . ... I was told of a whale taken near Shetland , that had above\n",
      "oneers told me that he caught once a whale in Spitzbergen that was white all ov\n",
      "2 , one eighty feet in length of the whale - bone kind came in , which ( as I w\n",
      "n master and kill this Sperma - ceti whale , for I could never hear of any of t\n",
      " . 1729 . \"... and the breath of the whale is frequendy attended with such an i\n",
      "ed with hoops and armed with ribs of whale .\" -- RAPE OF THE LOCK . \" If we com\n",
      "contemptible in the comparison . The whale is doubtless the largest animal in c\n"
     ]
    }
   ],
   "source": [
    "text1.concordance('whale') "
   ]
  },
  {
   "cell_type": "code",
   "execution_count": 6,
   "id": "29952757-0eea-4d61-a343-31dd2aec3a7e",
   "metadata": {},
   "outputs": [
    {
     "name": "stdout",
     "output_type": "stream",
     "text": [
      "ship boat sea time captain world man deck pequod other whales air\n",
      "water head crew line thing side way body\n"
     ]
    }
   ],
   "source": [
    "text1.similar('whale')"
   ]
  },
  {
   "cell_type": "markdown",
   "id": "8e4b83e2-3d5d-4f91-9fd2-9b9fd310fe5f",
   "metadata": {},
   "source": [
    "Comparing books"
   ]
  },
  {
   "cell_type": "code",
   "execution_count": 7,
   "id": "1666f995-a8c8-4f86-b749-ba91520eb808",
   "metadata": {},
   "outputs": [
    {
     "name": "stdout",
     "output_type": "stream",
     "text": [
      "sea man it ship by him hand them whale view ships land me life death\n",
      "water way head nature fear\n"
     ]
    }
   ],
   "source": [
    "text1.similar('love')"
   ]
  },
  {
   "cell_type": "code",
   "execution_count": 8,
   "id": "f72784a4-a429-45c6-ad65-181c176f1586",
   "metadata": {},
   "outputs": [
    {
     "name": "stdout",
     "output_type": "stream",
     "text": [
      "affection sister heart mother time see town life it dear elinor\n",
      "marianne me word family her him do regard head\n"
     ]
    }
   ],
   "source": [
    "text2.similar('love')"
   ]
  },
  {
   "cell_type": "markdown",
   "id": "ede15d22-f6d0-4432-83c5-596a3a5d5edd",
   "metadata": {},
   "source": [
    "## Dispersion plot"
   ]
  },
  {
   "cell_type": "markdown",
   "id": "2eec4b67-6da2-43cf-9c2d-849b2190c8f5",
   "metadata": {},
   "source": [
    "This is not good practice, you should typically import at the beginning of the file."
   ]
  },
  {
   "cell_type": "code",
   "execution_count": 9,
   "id": "44ed0c0c-e611-442d-9025-576d24c12f25",
   "metadata": {},
   "outputs": [],
   "source": [
    "import matplotlib\n",
    "%matplotlib inline"
   ]
  },
  {
   "cell_type": "code",
   "execution_count": 10,
   "id": "d1225a40-6831-4fb6-b5c4-29fdd8ef5544",
   "metadata": {},
   "outputs": [
    {
     "name": "stderr",
     "output_type": "stream",
     "text": [
      "/Users/kaiprenger/venv/python_class_2022/lib/python3.9/site-packages/nltk/draw/__init__.py:15: UserWarning: nltk.draw package not loaded (please install Tkinter library).\n",
      "  warnings.warn(\"nltk.draw package not loaded (please install Tkinter library).\")\n"
     ]
    },
    {
     "data": {
      "image/png": "[encoded data removed]",
      "text/plain": [
       "<Figure size 432x288 with 1 Axes>"
      ]
     },
     "metadata": {
      "needs_background": "light"
     },
     "output_type": "display_data"
    }
   ],
   "source": [
    "text1.dispersion_plot(['whale', 'monster'])"
   ]
  },
  {
   "cell_type": "code",
   "execution_count": 11,
   "id": "2a42b5e2-42d5-454b-90c7-acfea24b0909",
   "metadata": {},
   "outputs": [
    {
     "name": "stdout",
     "output_type": "stream",
     "text": [
      "Displaying 25 of 406 matches:\n",
      " \" Touching that monstrous bulk of the whale or ork we have received nothing ce\n",
      "YDEN ' S ANNUS MIRABILIS . \" While the whale is floating at the stern of the sh\n",
      " - in - the - Whale . ... Some say the whale can ' t open his mouth , but that \n",
      "652 , one eighty feet in length of the whale - bone kind came in , which ( as I\n",
      " D . 1729 . \"... and the breath of the whale is frequendy attended with such an\n",
      "r contemptible in the comparison . The whale is doubtless the largest animal in\n",
      "eavor to conceal themselves behind the whale , in order to avoid being seen by \n",
      "velocity to the blood gushing from the whale ' s heart .\" -- PALEY ' S THEOLOGY\n",
      "heart .\" -- PALEY ' S THEOLOGY . \" The whale is a mammiferous animal without hi\n",
      " .\" -- CHARLES LAMB ' S TRIUMPH OF THE WHALE . \" In the year 1690 some persons \n",
      " --\" NARRATIVE OF THE SHIPWRECK OF THE WHALE SHIP ESSEX OF NANTUCKET , WHICH WA\n",
      "he phospher gleamed in the wake of the whale , As it floundered in the sea .\" -\n",
      "ix English miles . ... \" Sometimes the whale shakes its tremendous tail in the \n",
      "attack of all the known species of the whale tribe .\" -- FREDERICK DEBELL BENNE\n",
      "NGS OF A WHALING CRUIZE . 1846 . \" The Whale - ship Globe , on board of which v\n",
      "BREAKWATER AT NANTUCKET . 1828 . \" The whale fell directly over him , and proba\n",
      "ably killed him in a moment .\" --\" THE WHALE AND HIS CAPTORS , OR THE WHALEMAN \n",
      "OR THE WHALEMAN ' S ADVENTURES AND THE WHALE ' S BIOGRAPHY , GATHERED ON THE HO\n",
      "LIAM COMSTOCK . ANOTHER VERSION OF THE WHALE - SHIP GLOBE NARRATIVE . \" The voy\n",
      "object , laid - open the haunts of the whale .\" -- MCCULLOCH ' S COMMERCIAL DIC\n",
      "r now in laying open the haunts of the whale , the whalemen seem to have indire\n",
      "OUNT OF THE TAKING AND RETAKING OF THE WHALE - SHIP HOBOMACK . \" It is generall\n",
      "s the while .\" -- MIRIAM COFFIN OR THE WHALE FISHERMAN . \" The Whale is harpoon\n",
      " COFFIN OR THE WHALE FISHERMAN . \" The Whale is harpooned to be sure ; but beth\n",
      "ll , for your lives !'\" -- WHARTON THE WHALE KILLER . \" So be cheery , my lads \n"
     ]
    }
   ],
   "source": [
    "text1.concordance(['the', 'whale']) "
   ]
  },
  {
   "cell_type": "code",
   "execution_count": 12,
   "id": "35e48505-6840-4236-abad-51f6abcb889b",
   "metadata": {},
   "outputs": [
    {
     "data": {
      "text/plain": [
       "906"
      ]
     },
     "execution_count": 12,
     "metadata": {},
     "output_type": "execute_result"
    }
   ],
   "source": [
    "text1.count('whale')"
   ]
  },
  {
   "cell_type": "code",
   "execution_count": 13,
   "id": "c2fac734-6696-4e4e-aa80-130718b192be",
   "metadata": {},
   "outputs": [
    {
     "data": {
      "text/plain": [
       "282"
      ]
     },
     "execution_count": 13,
     "metadata": {},
     "output_type": "execute_result"
    }
   ],
   "source": [
    "text1.count('Whale')"
   ]
  },
  {
   "cell_type": "code",
   "execution_count": 14,
   "id": "c48fc475-524c-4966-b672-4c1004add3a4",
   "metadata": {},
   "outputs": [
    {
     "data": {
      "text/plain": [
       "38"
      ]
     },
     "execution_count": 14,
     "metadata": {},
     "output_type": "execute_result"
    }
   ],
   "source": [
    "text1.count('WHALE')"
   ]
  },
  {
   "cell_type": "code",
   "execution_count": 15,
   "id": "944ca9a9-cf68-4275-8aea-26bc256740e3",
   "metadata": {},
   "outputs": [
    {
     "data": {
      "text/plain": [
       "0"
      ]
     },
     "execution_count": 15,
     "metadata": {},
     "output_type": "execute_result"
    }
   ],
   "source": [
    "text1.count('whaLe')"
   ]
  },
  {
   "cell_type": "markdown",
   "id": "eeead6a1-3bdb-4226-8e55-caf4fd683dad",
   "metadata": {},
   "source": [
    "These counts are case sensitive. If we want to count the number of instances of whale is counted in an insensitive."
   ]
  },
  {
   "cell_type": "code",
   "execution_count": 17,
   "id": "123ef7e4-ef0b-4993-be8a-7ce5db602ba8",
   "metadata": {},
   "outputs": [],
   "source": [
    "text1_tokens = []\n",
    "for item in text1:\n",
    "    if item.isalpha():\n",
    "        text1_tokens.append(item.lower())"
   ]
  },
  {
   "cell_type": "code",
   "execution_count": 20,
   "id": "939958fb-2939-4963-b0c0-543453b7e9c5",
   "metadata": {
    "tags": []
   },
   "outputs": [
    {
     "data": {
      "text/plain": [
       "['moby',\n",
       " 'dick',\n",
       " 'by',\n",
       " 'herman',\n",
       " 'melville',\n",
       " 'etymology',\n",
       " 'supplied',\n",
       " 'by',\n",
       " 'a',\n",
       " 'late',\n",
       " 'consumptive',\n",
       " 'usher',\n",
       " 'to',\n",
       " 'a',\n",
       " 'grammar',\n",
       " 'school',\n",
       " 'the',\n",
       " 'pale',\n",
       " 'usher',\n",
       " 'threadbare',\n",
       " 'in',\n",
       " 'coat',\n",
       " 'heart',\n",
       " 'body',\n",
       " 'and',\n",
       " 'brain',\n",
       " 'i',\n",
       " 'see',\n",
       " 'him',\n",
       " 'now']"
      ]
     },
     "execution_count": 20,
     "metadata": {},
     "output_type": "execute_result"
    }
   ],
   "source": [
    "text1_tokens[:30]"
   ]
  },
  {
   "cell_type": "code",
   "execution_count": 21,
   "id": "5e038f7e-ea60-4e53-8acb-ea4870f9aff7",
   "metadata": {},
   "outputs": [
    {
     "data": {
      "text/plain": [
       "1226"
      ]
     },
     "execution_count": 21,
     "metadata": {},
     "output_type": "execute_result"
    }
   ],
   "source": [
    "text1_tokens.count('whale')"
   ]
  },
  {
   "cell_type": "code",
   "execution_count": 22,
   "id": "9d471863-0435-414a-9a5d-7f201b65e3e6",
   "metadata": {},
   "outputs": [
    {
     "data": {
      "text/plain": [
       "0"
      ]
     },
     "execution_count": 22,
     "metadata": {},
     "output_type": "execute_result"
    }
   ],
   "source": [
    "text1_tokens.count('Whale')"
   ]
  },
  {
   "cell_type": "markdown",
   "id": "d0d93fb6-d515-4bc9-9a9c-406454c8e3c2",
   "metadata": {
    "tags": []
   },
   "source": [
    "## Lexical density"
   ]
  },
  {
   "cell_type": "markdown",
   "id": "db2f5a5a-7f5a-4d34-93fc-b682e2d9990e",
   "metadata": {},
   "source": [
    "What is the proportion of unique words in the whole text. num unique works divided by total words."
   ]
  },
  {
   "cell_type": "code",
   "execution_count": 23,
   "id": "bf0b7661-b8dd-4ead-89f9-526272d1e346",
   "metadata": {
    "collapsed": true,
    "jupyter": {
     "outputs_hidden": true
    },
    "tags": []
   },
   "outputs": [
    {
     "data": {
      "text/plain": [
       "{'geniuses',\n",
       " 'satirizing',\n",
       " 'breaking',\n",
       " 'immediately',\n",
       " 'timeliest',\n",
       " 'molifier',\n",
       " 'appellations',\n",
       " 'incorporated',\n",
       " 'gape',\n",
       " 'impressed',\n",
       " 'spill',\n",
       " 'sculptures',\n",
       " 'jerkingly',\n",
       " 'sinners',\n",
       " 'wax',\n",
       " 'forecast',\n",
       " 'are',\n",
       " 'reckon',\n",
       " 'deferential',\n",
       " 'reeled',\n",
       " 'coil',\n",
       " 'sinks',\n",
       " 'wings',\n",
       " 'persians',\n",
       " 'indies',\n",
       " 'fireboard',\n",
       " 'smoking',\n",
       " 'arethusa',\n",
       " 'gash',\n",
       " 'befooled',\n",
       " 'pistol',\n",
       " 'mouths',\n",
       " 'replace',\n",
       " 'opera',\n",
       " 'opening',\n",
       " 'arguments',\n",
       " 'cooled',\n",
       " 'host',\n",
       " 'hunters',\n",
       " 'carpenter',\n",
       " 'futures',\n",
       " 'shallow',\n",
       " 'inculcating',\n",
       " 'stones',\n",
       " 'snakes',\n",
       " 'sweating',\n",
       " 'inanimate',\n",
       " 'slouched',\n",
       " 'chimneys',\n",
       " 'baliene',\n",
       " 'up',\n",
       " 'vigor',\n",
       " 'codfish',\n",
       " 'request',\n",
       " 'passports',\n",
       " 'condensation',\n",
       " 'reclines',\n",
       " 'duke',\n",
       " 'lumps',\n",
       " 'obscures',\n",
       " 'tilt',\n",
       " 'netherlands',\n",
       " 'delirious',\n",
       " 'fatally',\n",
       " 'attention',\n",
       " 'historical',\n",
       " 'flinging',\n",
       " 'pause',\n",
       " 'heightens',\n",
       " 'men',\n",
       " 'unprofessional',\n",
       " 'coupled',\n",
       " 'multitude',\n",
       " 'methodical',\n",
       " 'flog',\n",
       " 'complimentary',\n",
       " 'nick',\n",
       " 'crucified',\n",
       " 'spouter',\n",
       " 'emblazoning',\n",
       " 'mcculloch',\n",
       " 'pours',\n",
       " 'tackle',\n",
       " 'hollowly',\n",
       " 'conjoined',\n",
       " 'discreditably',\n",
       " 'versa',\n",
       " 'backwardly',\n",
       " 'expanded',\n",
       " 'technical',\n",
       " 'attains',\n",
       " 'madest',\n",
       " 'unstricken',\n",
       " 'belted',\n",
       " 'befogged',\n",
       " 'bright',\n",
       " 'crocodile',\n",
       " 'adjust',\n",
       " 'hats',\n",
       " 'tents',\n",
       " 'bluntly',\n",
       " 'languishing',\n",
       " 'writing',\n",
       " 'muzzle',\n",
       " 'manage',\n",
       " 'republica',\n",
       " 'rockets',\n",
       " 'bolts',\n",
       " 'shunning',\n",
       " 'appendage',\n",
       " 'agonies',\n",
       " 'wonst',\n",
       " 'passionately',\n",
       " 'pump',\n",
       " 'analyse',\n",
       " 'idleness',\n",
       " 'piggledy',\n",
       " 'bathing',\n",
       " 'grievous',\n",
       " 'brooks',\n",
       " 'yourselbs',\n",
       " 'george',\n",
       " 'enemies',\n",
       " 'crosswise',\n",
       " 'swerve',\n",
       " 'wear',\n",
       " 'yarn',\n",
       " 'rivet',\n",
       " 'restlessness',\n",
       " 'disasters',\n",
       " 'loud',\n",
       " 'watchman',\n",
       " 'stream',\n",
       " 'likened',\n",
       " 'interflow',\n",
       " 'histories',\n",
       " 'infesting',\n",
       " 'standers',\n",
       " 'stained',\n",
       " 'oxygenated',\n",
       " 'exciting',\n",
       " 'unexaggerating',\n",
       " 'due',\n",
       " 'gasp',\n",
       " 'obsequious',\n",
       " 'actest',\n",
       " 'instinctively',\n",
       " 'patronise',\n",
       " 'applicable',\n",
       " 'regions',\n",
       " 'skirted',\n",
       " 'oh',\n",
       " 'height',\n",
       " 'standest',\n",
       " 'bench',\n",
       " 'cheering',\n",
       " 'dreaminess',\n",
       " 'emerged',\n",
       " 'boobies',\n",
       " 'weepons',\n",
       " 'jure',\n",
       " 'kraken',\n",
       " 'averted',\n",
       " 'crackest',\n",
       " 'belongs',\n",
       " 'occasions',\n",
       " 'hawthorne',\n",
       " 'drivers',\n",
       " 'wallet',\n",
       " 'referred',\n",
       " 'gothic',\n",
       " 'admitting',\n",
       " 'legend',\n",
       " 'liberation',\n",
       " 'topmaul',\n",
       " 'encamped',\n",
       " 'physiognomically',\n",
       " 'spilling',\n",
       " 'supposing',\n",
       " 'swathed',\n",
       " 'societies',\n",
       " 'undiscoverable',\n",
       " 'thighs',\n",
       " 'poles',\n",
       " 'smoothed',\n",
       " 'knows',\n",
       " 'fanciful',\n",
       " 'thinking',\n",
       " 'doctors',\n",
       " 'loon',\n",
       " 'seventeenth',\n",
       " 'embracing',\n",
       " 'interval',\n",
       " 'companionway',\n",
       " 'didn',\n",
       " 'blistered',\n",
       " 'horrors',\n",
       " 'meat',\n",
       " 'mayhap',\n",
       " 'faculties',\n",
       " 'docks',\n",
       " 'collaring',\n",
       " 'obligations',\n",
       " 'tuns',\n",
       " 'occupies',\n",
       " 'sheepishly',\n",
       " 'alter',\n",
       " 'sinker',\n",
       " 'inclosed',\n",
       " 'friend',\n",
       " 'nose',\n",
       " 'expandingly',\n",
       " 'deplorably',\n",
       " 'proverb',\n",
       " 'er',\n",
       " 'bearers',\n",
       " 'afforded',\n",
       " 'comb',\n",
       " 'plumes',\n",
       " 'jerking',\n",
       " 'bridges',\n",
       " 'hitching',\n",
       " 'ripening',\n",
       " 'ah',\n",
       " 'dam',\n",
       " 'superficial',\n",
       " 'support',\n",
       " 'surgeon',\n",
       " 'honing',\n",
       " 'holder',\n",
       " 'auspices',\n",
       " 'considerable',\n",
       " 'applying',\n",
       " 'passage',\n",
       " 'finical',\n",
       " 'scorch',\n",
       " 'splintered',\n",
       " 'giant',\n",
       " 'talons',\n",
       " 'continuing',\n",
       " 'paregoric',\n",
       " 'desecrated',\n",
       " 'strives',\n",
       " 'regulations',\n",
       " 'slowly',\n",
       " 'recklessly',\n",
       " 'vein',\n",
       " 'unextinguished',\n",
       " 'stillness',\n",
       " 'drench',\n",
       " 'tonic',\n",
       " 'refuse',\n",
       " 'marred',\n",
       " 'waifed',\n",
       " 'availing',\n",
       " 'held',\n",
       " 'shaster',\n",
       " 'hermetically',\n",
       " 'hemp',\n",
       " 'repugnance',\n",
       " 'hangs',\n",
       " 'continuously',\n",
       " 'zogranda',\n",
       " 'confidential',\n",
       " 'freer',\n",
       " 'involve',\n",
       " 'chief',\n",
       " 'livers',\n",
       " 'bewitched',\n",
       " 'abeam',\n",
       " 'filial',\n",
       " 'eggs',\n",
       " 'sweatings',\n",
       " 'clasped',\n",
       " 'via',\n",
       " 'capture',\n",
       " 'comfortably',\n",
       " 'girdling',\n",
       " 'grandmother',\n",
       " 'bit',\n",
       " 'colonies',\n",
       " 'portly',\n",
       " 'glimmering',\n",
       " 'whelped',\n",
       " 'indistinctness',\n",
       " 'interchangeably',\n",
       " 'strays',\n",
       " 'replaced',\n",
       " 'perpetuated',\n",
       " 'pull',\n",
       " 'bunger',\n",
       " 'waked',\n",
       " 'danger',\n",
       " 'inkstand',\n",
       " 'upstairs',\n",
       " 'pattern',\n",
       " 'yellowish',\n",
       " 'crookedness',\n",
       " 'observers',\n",
       " 'faction',\n",
       " 'honourableness',\n",
       " 'precipitating',\n",
       " 'survivors',\n",
       " 'aorta',\n",
       " 'cheers',\n",
       " 'leavings',\n",
       " 'planet',\n",
       " 'somerset',\n",
       " 'wrest',\n",
       " 'rejoice',\n",
       " 'jealousy',\n",
       " 'symbolizings',\n",
       " 'ratifying',\n",
       " 'sagged',\n",
       " 'stig',\n",
       " 'maine',\n",
       " 'watery',\n",
       " 'deceiving',\n",
       " 'tethered',\n",
       " 'examining',\n",
       " 'aspect',\n",
       " 'eddy',\n",
       " 'hammer',\n",
       " 'numbers',\n",
       " 'appoint',\n",
       " 'top',\n",
       " 'hostile',\n",
       " 'attacks',\n",
       " 'prodromus',\n",
       " 'sufficient',\n",
       " 'magnified',\n",
       " 'defy',\n",
       " 'meant',\n",
       " 'sufferings',\n",
       " 'ringleader',\n",
       " 'outspreadingly',\n",
       " 'marbleized',\n",
       " 'cracked',\n",
       " 'willingly',\n",
       " 'chronicled',\n",
       " 'admonitory',\n",
       " 'preventer',\n",
       " 'polished',\n",
       " 'holy',\n",
       " 'surrenderest',\n",
       " 'porter',\n",
       " 'reasoning',\n",
       " 'blemish',\n",
       " 'dinning',\n",
       " 'mustard',\n",
       " 'reeling',\n",
       " 'really',\n",
       " 'requirest',\n",
       " 'approaching',\n",
       " 'cogent',\n",
       " 'omit',\n",
       " 'rueful',\n",
       " 'step',\n",
       " 'unwelcome',\n",
       " 'assembly',\n",
       " 'troil',\n",
       " 'wards',\n",
       " 'profanely',\n",
       " 'event',\n",
       " 'choked',\n",
       " 'twain',\n",
       " 'enfeebled',\n",
       " 'martyr',\n",
       " 'colours',\n",
       " 'necessitated',\n",
       " 'namely',\n",
       " 'striding',\n",
       " 'worthy',\n",
       " 'counterbalance',\n",
       " 'particularly',\n",
       " 'perfumery',\n",
       " 'conquering',\n",
       " 'propulsion',\n",
       " 'odorous',\n",
       " 'housekeeping',\n",
       " 'decks',\n",
       " 'wrought',\n",
       " 'springs',\n",
       " 'awakened',\n",
       " 'hardihood',\n",
       " 'vain',\n",
       " 'harry',\n",
       " 'forward',\n",
       " 'seamless',\n",
       " 'hails',\n",
       " 'eber',\n",
       " 'marking',\n",
       " 'allured',\n",
       " 'intending',\n",
       " 'clotting',\n",
       " 'whaleboat',\n",
       " 'judgments',\n",
       " 'counting',\n",
       " 'snatching',\n",
       " 'conceits',\n",
       " 'pampas',\n",
       " 'rio',\n",
       " 'adorning',\n",
       " 'rollings',\n",
       " 'affect',\n",
       " 'interested',\n",
       " 'clouds',\n",
       " 'mrs',\n",
       " 'shadiest',\n",
       " 'radney',\n",
       " 'complicated',\n",
       " 'outs',\n",
       " 'stalwart',\n",
       " 'sane',\n",
       " 'agreed',\n",
       " 'realize',\n",
       " 'questioning',\n",
       " 'retaken',\n",
       " 'stowe',\n",
       " 'anew',\n",
       " 'absorbingly',\n",
       " 'by',\n",
       " 'begun',\n",
       " 'uninjured',\n",
       " 'deaths',\n",
       " 'palm',\n",
       " 'electricity',\n",
       " 'cocks',\n",
       " 'unfurnished',\n",
       " 'imagines',\n",
       " 'ordinarily',\n",
       " 'overruling',\n",
       " 'turbaned',\n",
       " 'muster',\n",
       " 'darting',\n",
       " 'apportioned',\n",
       " 'precedents',\n",
       " 'symbolically',\n",
       " 'gleam',\n",
       " 'veins',\n",
       " 'justified',\n",
       " 'huron',\n",
       " 'vivacity',\n",
       " 'properly',\n",
       " 'willoughby',\n",
       " 'maidens',\n",
       " 'oldest',\n",
       " 'critically',\n",
       " 'leicester',\n",
       " 'canal',\n",
       " 'yaw',\n",
       " 'employment',\n",
       " 'panellings',\n",
       " 'buoyancy',\n",
       " 'charging',\n",
       " 'parmacetty',\n",
       " 'designation',\n",
       " 'demon',\n",
       " 'glazed',\n",
       " 'sellin',\n",
       " 'lay',\n",
       " 'sleepy',\n",
       " 'separated',\n",
       " 'suggestively',\n",
       " 'griefs',\n",
       " 'popayan',\n",
       " 'muddled',\n",
       " 'spirits',\n",
       " 'regale',\n",
       " 'markest',\n",
       " 'pensive',\n",
       " 'arion',\n",
       " 'citations',\n",
       " 'cretan',\n",
       " 'cougar',\n",
       " 'bats',\n",
       " 'pointest',\n",
       " 'operator',\n",
       " 'athletic',\n",
       " 'clue',\n",
       " 'entrance',\n",
       " 'unearthed',\n",
       " 'herman',\n",
       " 'sarmon',\n",
       " 'reality',\n",
       " 'greedy',\n",
       " 'decapitating',\n",
       " 'hoard',\n",
       " 'attic',\n",
       " 'divinest',\n",
       " 'stitch',\n",
       " 'yells',\n",
       " 'hissing',\n",
       " 'officers',\n",
       " 'entrenched',\n",
       " 'tithe',\n",
       " 'seethe',\n",
       " 'copying',\n",
       " 'senate',\n",
       " 'bent',\n",
       " 'incapable',\n",
       " 'regarding',\n",
       " 'somewhere',\n",
       " 'recondite',\n",
       " 'avast',\n",
       " 'undue',\n",
       " 'limb',\n",
       " 'electric',\n",
       " 'abating',\n",
       " 'hunch',\n",
       " 'visitants',\n",
       " 'subordinate',\n",
       " 'tennessee',\n",
       " 'celebrated',\n",
       " 'considerations',\n",
       " 'imperfectly',\n",
       " 'extremely',\n",
       " 'spos',\n",
       " 'unrecking',\n",
       " 'trumpa',\n",
       " 'truth',\n",
       " 'intensely',\n",
       " 'wires',\n",
       " 'strandings',\n",
       " 'every',\n",
       " 'whitewashed',\n",
       " 'horrified',\n",
       " 'possessing',\n",
       " 'blocksburg',\n",
       " 'columns',\n",
       " 'panting',\n",
       " 'pressing',\n",
       " 'those',\n",
       " 'napkins',\n",
       " 'entreaty',\n",
       " 'whoever',\n",
       " 'whirled',\n",
       " 'bitterness',\n",
       " 'unblinkingly',\n",
       " 'quivered',\n",
       " 'older',\n",
       " 'flat',\n",
       " 'headlands',\n",
       " 'constrain',\n",
       " 'meads',\n",
       " 'craft',\n",
       " 'venice',\n",
       " 'diving',\n",
       " 'speaking',\n",
       " 'marines',\n",
       " 'east',\n",
       " 'geographical',\n",
       " 'revellers',\n",
       " 'nervously',\n",
       " 'ride',\n",
       " 'marine',\n",
       " 'bitts',\n",
       " 'felicity',\n",
       " 'flaw',\n",
       " 'threes',\n",
       " 'pell',\n",
       " 'sportively',\n",
       " 'disgust',\n",
       " 'wasting',\n",
       " 'handkerchief',\n",
       " 'sheathed',\n",
       " 'eloquently',\n",
       " 'kind',\n",
       " 'experiments',\n",
       " 'savannas',\n",
       " 'swarming',\n",
       " 'retreating',\n",
       " 'watching',\n",
       " 'retentive',\n",
       " 'pyramid',\n",
       " 'cabaco',\n",
       " 'spake',\n",
       " 'meadows',\n",
       " 'kissed',\n",
       " 'heated',\n",
       " 'insertion',\n",
       " 'swayed',\n",
       " 'giraffe',\n",
       " 'owning',\n",
       " 'whimsiness',\n",
       " 'frightful',\n",
       " 'hearts',\n",
       " 'classify',\n",
       " 'juices',\n",
       " 'affinities',\n",
       " 'liquor',\n",
       " 'pippin',\n",
       " 'underneath',\n",
       " 'home',\n",
       " 'thoughted',\n",
       " 'librarian',\n",
       " 'awls',\n",
       " 'whitenesses',\n",
       " 'learned',\n",
       " 'stript',\n",
       " 'root',\n",
       " 'gangway',\n",
       " 'xxxix',\n",
       " 'toughness',\n",
       " 'therein',\n",
       " 'undraped',\n",
       " 'bags',\n",
       " 'antony',\n",
       " 'interfering',\n",
       " 'waxed',\n",
       " 'hey',\n",
       " 'particles',\n",
       " 'sultan',\n",
       " 'encore',\n",
       " 'missed',\n",
       " 'underwriter',\n",
       " 'fishiest',\n",
       " 'infernal',\n",
       " 'dividends',\n",
       " 'texture',\n",
       " 'wakes',\n",
       " 'whereto',\n",
       " 'petticoat',\n",
       " 'brotherly',\n",
       " 'untattooed',\n",
       " 'plums',\n",
       " 'districts',\n",
       " 'furnaces',\n",
       " 'moment',\n",
       " 'wavings',\n",
       " 'grained',\n",
       " 'best',\n",
       " 'feegees',\n",
       " 'punctual',\n",
       " 'elbowed',\n",
       " 'graduates',\n",
       " 'sister',\n",
       " 'pine',\n",
       " 'inmates',\n",
       " 'sang',\n",
       " 'butler',\n",
       " 'aught',\n",
       " 'hit',\n",
       " 'exasperate',\n",
       " 'fixedly',\n",
       " 'paddling',\n",
       " 'picturesque',\n",
       " 'lunatic',\n",
       " 'comprise',\n",
       " 'renouncing',\n",
       " 'boom',\n",
       " 'hooks',\n",
       " 'entangle',\n",
       " 'exegetists',\n",
       " 'slewed',\n",
       " 'conceive',\n",
       " 'afire',\n",
       " 'noah',\n",
       " 'muscle',\n",
       " 'slopes',\n",
       " 'gaff',\n",
       " 'jollies',\n",
       " 'unhinted',\n",
       " 'infecting',\n",
       " 'shingled',\n",
       " 'angelo',\n",
       " 'leewardings',\n",
       " 'published',\n",
       " 'darkly',\n",
       " 'suspend',\n",
       " 'bake',\n",
       " 'properties',\n",
       " 'esau',\n",
       " 'draughtsmen',\n",
       " 'cable',\n",
       " 'unbroken',\n",
       " 'swaine',\n",
       " 'brimstone',\n",
       " 'manoeuvres',\n",
       " 'maid',\n",
       " 'feelingly',\n",
       " 'overscorning',\n",
       " 'hobbling',\n",
       " 'beefsteaks',\n",
       " 'densely',\n",
       " 'ceaseless',\n",
       " 'entertaining',\n",
       " 'arrangement',\n",
       " 'parlor',\n",
       " 'obedience',\n",
       " 'rhubarb',\n",
       " 'wanderings',\n",
       " 'blended',\n",
       " 'turfed',\n",
       " 'cylinders',\n",
       " 'accomplished',\n",
       " 'arbours',\n",
       " 'snows',\n",
       " 'patriot',\n",
       " 'baden',\n",
       " 'intuitions',\n",
       " 'dim',\n",
       " 'heathenish',\n",
       " 'ire',\n",
       " 'human',\n",
       " 'agrarian',\n",
       " 'blacks',\n",
       " 'thoughtlessness',\n",
       " 'assailed',\n",
       " 'mixes',\n",
       " 'reliance',\n",
       " 'scimetars',\n",
       " 'distinctive',\n",
       " 'realities',\n",
       " 'awoke',\n",
       " 'agitated',\n",
       " 'entering',\n",
       " 'adequate',\n",
       " 'circles',\n",
       " 'disdain',\n",
       " 'cheerily',\n",
       " 'billows',\n",
       " 'fuller',\n",
       " 'helmsman',\n",
       " 'apoplectic',\n",
       " 'jaws',\n",
       " 'cindered',\n",
       " 'importance',\n",
       " 'vicariously',\n",
       " 'cordially',\n",
       " 'aesthetics',\n",
       " 'sauntering',\n",
       " 'ingeniously',\n",
       " 'tauntingly',\n",
       " 'career',\n",
       " 'powerfully',\n",
       " 'my',\n",
       " 'reversed',\n",
       " 'guernsey',\n",
       " 'charges',\n",
       " 'vermicelli',\n",
       " 'minded',\n",
       " 'forthwith',\n",
       " 'feminam',\n",
       " 'placid',\n",
       " 'communing',\n",
       " 'fraternity',\n",
       " 'away',\n",
       " 'chivalrous',\n",
       " 'developing',\n",
       " 'erecting',\n",
       " 'rights',\n",
       " 'squire',\n",
       " 'sheer',\n",
       " 'civility',\n",
       " 'aboriginalness',\n",
       " 'profundity',\n",
       " 'prevents',\n",
       " 'evangelical',\n",
       " 'rascals',\n",
       " 'purposed',\n",
       " 'however',\n",
       " 'linen',\n",
       " 'roses',\n",
       " 'loins',\n",
       " 'spoken',\n",
       " 'scrutinized',\n",
       " 'immaterial',\n",
       " 'crowding',\n",
       " 'jars',\n",
       " 'utilitarian',\n",
       " 'stamped',\n",
       " 'distributed',\n",
       " 'swordsman',\n",
       " 'overlap',\n",
       " 'soladoes',\n",
       " 'distinguished',\n",
       " 'forfeitures',\n",
       " 'honeymoon',\n",
       " 'snap',\n",
       " 'plutarch',\n",
       " 'hunter',\n",
       " 'upright',\n",
       " 'irresistibly',\n",
       " 'whizzings',\n",
       " 'credit',\n",
       " 'tars',\n",
       " 'firmer',\n",
       " 'coincidings',\n",
       " 'boasts',\n",
       " 'congregated',\n",
       " 'stereotype',\n",
       " 'crozetts',\n",
       " 'resolved',\n",
       " 'owen',\n",
       " 'tracery',\n",
       " 'turkeys',\n",
       " 'reverence',\n",
       " 'ghastliness',\n",
       " 'shining',\n",
       " 'booting',\n",
       " 'feebler',\n",
       " 'erie',\n",
       " 'scalding',\n",
       " 'proceeded',\n",
       " 'besieged',\n",
       " 'cancer',\n",
       " 'malefactors',\n",
       " 'musty',\n",
       " 'unlikely',\n",
       " 'faster',\n",
       " 'destroyed',\n",
       " 'canonized',\n",
       " 'roused',\n",
       " 'miscreants',\n",
       " 'adrift',\n",
       " 'sheathing',\n",
       " 'harris',\n",
       " 'dismissed',\n",
       " 'narrative',\n",
       " 'indignations',\n",
       " 'irrespective',\n",
       " 'unloading',\n",
       " 'basin',\n",
       " 'hastily',\n",
       " 'shroud',\n",
       " 'central',\n",
       " 'squaw',\n",
       " 'expansive',\n",
       " 'caved',\n",
       " 'sheaths',\n",
       " 'moonlit',\n",
       " 'elated',\n",
       " 'ironical',\n",
       " 'grand',\n",
       " 'moral',\n",
       " 'breeze',\n",
       " 'attaching',\n",
       " 'forger',\n",
       " 'shooting',\n",
       " 'bookbinder',\n",
       " 'roll',\n",
       " 'swain',\n",
       " 'trap',\n",
       " 'knocked',\n",
       " 'cape',\n",
       " 'grounds',\n",
       " 'boldly',\n",
       " 'sheeted',\n",
       " 'italy',\n",
       " 'everywhere',\n",
       " 'socket',\n",
       " 'glades',\n",
       " 'lecherous',\n",
       " 'proportionate',\n",
       " 'ostensible',\n",
       " 'sallied',\n",
       " 'proclaimed',\n",
       " 'danish',\n",
       " 'injury',\n",
       " 'masonry',\n",
       " 'created',\n",
       " 'hawsers',\n",
       " 'mightily',\n",
       " 'always',\n",
       " 'tide',\n",
       " 'exacted',\n",
       " 'natured',\n",
       " 'poising',\n",
       " 'ballast',\n",
       " 'cadiz',\n",
       " 'crouch',\n",
       " 'perusal',\n",
       " 'mottled',\n",
       " 'gesticulated',\n",
       " 'open',\n",
       " 'strip',\n",
       " 'presbyterians',\n",
       " 'scorning',\n",
       " 'setting',\n",
       " 'farrago',\n",
       " 'twill',\n",
       " 'pinny',\n",
       " 'appeared',\n",
       " 'concocts',\n",
       " 'instances',\n",
       " 'gave',\n",
       " 'fated',\n",
       " 'amours',\n",
       " 'palate',\n",
       " 'spire',\n",
       " 'each',\n",
       " 'dedicating',\n",
       " 'kinsmen',\n",
       " 'inexpressible',\n",
       " 'add',\n",
       " 'helmet',\n",
       " 'second',\n",
       " 'farthing',\n",
       " 'pantheists',\n",
       " 'manifesto',\n",
       " 'satisfactorily',\n",
       " 'bankers',\n",
       " 'pleasing',\n",
       " 'gently',\n",
       " 'til',\n",
       " 'candle',\n",
       " 'smooth',\n",
       " 'squatting',\n",
       " 'blindest',\n",
       " 'leviathan',\n",
       " 'inserting',\n",
       " 'studded',\n",
       " 'tusk',\n",
       " 'magazine',\n",
       " 'conscience',\n",
       " 'northwards',\n",
       " 'pirate',\n",
       " 'assistance',\n",
       " 'longing',\n",
       " 'cinque',\n",
       " 'escaped',\n",
       " 'source',\n",
       " 'nelson',\n",
       " 'manner',\n",
       " 'befriended',\n",
       " 'new',\n",
       " 'warranted',\n",
       " 'mistrust',\n",
       " 'claim',\n",
       " 'parvo',\n",
       " 'establish',\n",
       " 'devious',\n",
       " 'rivals',\n",
       " 'millionth',\n",
       " 'unwarrantably',\n",
       " 'rage',\n",
       " 'whence',\n",
       " 'attend',\n",
       " 'embellishments',\n",
       " 'statistics',\n",
       " 'slung',\n",
       " 'bottom',\n",
       " 'corridors',\n",
       " 'dark',\n",
       " 'journey',\n",
       " 'surveyor',\n",
       " 'agency',\n",
       " 'clinging',\n",
       " 'magnification',\n",
       " 'chested',\n",
       " 'friesland',\n",
       " 'resembles',\n",
       " 'merrily',\n",
       " 'brief',\n",
       " 'flashing',\n",
       " 'soap',\n",
       " 'logged',\n",
       " 'humane',\n",
       " 'assuredly',\n",
       " 'ghastly',\n",
       " 'mockingly',\n",
       " 'intention',\n",
       " 'headlong',\n",
       " 'spoons',\n",
       " 'disreputable',\n",
       " 'shirts',\n",
       " 'uncontaminated',\n",
       " 'draft',\n",
       " 'economic',\n",
       " 'furthest',\n",
       " 'cart',\n",
       " 'discoloured',\n",
       " 'toilings',\n",
       " 'instrument',\n",
       " 'capsizings',\n",
       " 'craters',\n",
       " 'counteracting',\n",
       " 'blanket',\n",
       " 'spiritually',\n",
       " 'pointing',\n",
       " 'wanderer',\n",
       " 'stride',\n",
       " 'stopping',\n",
       " 'bestirred',\n",
       " 'suspect',\n",
       " 'fully',\n",
       " 'voluntary',\n",
       " 'carcase',\n",
       " 'ungainly',\n",
       " 'bottomless',\n",
       " 'supreme',\n",
       " 'phrensies',\n",
       " 'entire',\n",
       " 'melodious',\n",
       " 'capstans',\n",
       " 'using',\n",
       " 'usurper',\n",
       " 'sprinkled',\n",
       " 'overgrowth',\n",
       " ...}"
      ]
     },
     "execution_count": 23,
     "metadata": {},
     "output_type": "execute_result"
    }
   ],
   "source": [
    "set(text1_tokens) "
   ]
  },
  {
   "cell_type": "code",
   "execution_count": 26,
   "id": "d947c5fe-7c78-43ea-8a39-4f5ef44cfaa9",
   "metadata": {},
   "outputs": [
    {
     "data": {
      "text/plain": [
       "16948"
      ]
     },
     "execution_count": 26,
     "metadata": {},
     "output_type": "execute_result"
    }
   ],
   "source": [
    "len(set(text1_tokens))"
   ]
  },
  {
   "cell_type": "code",
   "execution_count": 24,
   "id": "7c0e0e70-631d-485f-bd2f-223bcfc1b45a",
   "metadata": {},
   "outputs": [
    {
     "data": {
      "text/plain": [
       "19317"
      ]
     },
     "execution_count": 24,
     "metadata": {},
     "output_type": "execute_result"
    }
   ],
   "source": [
    "len(set(text1))"
   ]
  },
  {
   "cell_type": "code",
   "execution_count": 28,
   "id": "d9d73d60-2166-4ae0-b406-fc86a159b14b",
   "metadata": {},
   "outputs": [
    {
     "data": {
      "text/plain": [
       "0.07761459234936642"
      ]
     },
     "execution_count": 28,
     "metadata": {},
     "output_type": "execute_result"
    }
   ],
   "source": [
    "len(set(text1_tokens)) / len(text1_tokens)    # Need compare to make sense of this"
   ]
  },
  {
   "cell_type": "markdown",
   "id": "78d5bce8-ad97-42bb-844b-e39fc3300cd6",
   "metadata": {},
   "source": [
    "Make a slice/sample"
   ]
  },
  {
   "cell_type": "code",
   "execution_count": 29,
   "id": "51f81af7-750c-4bbc-852a-d343270bfb30",
   "metadata": {},
   "outputs": [],
   "source": [
    "t1_slice = text1_tokens[:10000]"
   ]
  },
  {
   "cell_type": "code",
   "execution_count": 30,
   "id": "2b5e59ee-2d20-4221-bd80-51de0628752b",
   "metadata": {},
   "outputs": [
    {
     "data": {
      "text/plain": [
       "10000"
      ]
     },
     "execution_count": 30,
     "metadata": {},
     "output_type": "execute_result"
    }
   ],
   "source": [
    "len(t1_slice)"
   ]
  },
  {
   "cell_type": "code",
   "execution_count": 32,
   "id": "718b5c30-1104-4ad1-b396-41c5ee09bf25",
   "metadata": {},
   "outputs": [
    {
     "data": {
      "text/plain": [
       "0.2816"
      ]
     },
     "execution_count": 32,
     "metadata": {},
     "output_type": "execute_result"
    }
   ],
   "source": [
    "len(set(t1_slice)) / len(t1_slice)"
   ]
  },
  {
   "cell_type": "markdown",
   "id": "983f2330-f358-489b-950f-a9033f323df7",
   "metadata": {},
   "source": [
    "Homework:\n",
    "* Do the same thing with text2 as we did with text1\n",
    "* Only lowered words t2"
   ]
  },
  {
   "cell_type": "code",
   "execution_count": 33,
   "id": "e7da62e2-9993-417a-8110-c228a646974b",
   "metadata": {},
   "outputs": [],
   "source": [
    "t2 = [word.lower() for word in text2 if word.isalpha()]"
   ]
  },
  {
   "cell_type": "code",
   "execution_count": 34,
   "id": "ed5debe4-d6fd-45a6-918d-bdc5732df079",
   "metadata": {},
   "outputs": [],
   "source": [
    "t2_slice = t2[:10000]"
   ]
  },
  {
   "cell_type": "code",
   "execution_count": 35,
   "id": "3ba6cad2-9a90-4d1a-895b-54bec21b2765",
   "metadata": {},
   "outputs": [
    {
     "data": {
      "text/plain": [
       "0.1786"
      ]
     },
     "execution_count": 35,
     "metadata": {},
     "output_type": "execute_result"
    }
   ],
   "source": [
    "len(set(t2_slice)) / len(t2_slice)"
   ]
  },
  {
   "cell_type": "code",
   "execution_count": null,
   "id": "cc2fc814-a968-42e7-b330-5aa310d55215",
   "metadata": {},
   "outputs": [],
   "source": []
  }
 ],
 "metadata": {
  "kernelspec": {
   "display_name": "Python 3 (ipykernel)",
   "language": "python",
   "name": "python3"
  },
  "language_info": {
   "codemirror_mode": {
    "name": "ipython",
    "version": 3
   },
   "file_extension": ".py",
   "mimetype": "text/x-python",
   "name": "python",
   "nbconvert_exporter": "python",
   "pygments_lexer": "ipython3",
   "version": "3.9.10"
  }
 },
 "nbformat": 4,
 "nbformat_minor": 5
}
