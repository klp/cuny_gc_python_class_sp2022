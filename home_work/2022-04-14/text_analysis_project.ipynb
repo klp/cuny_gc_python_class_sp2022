{
 "cells": [
  {
   "cell_type": "markdown",
   "id": "a50c60b7-53d9-4f00-8c2d-a044d4232d71",
   "metadata": {},
   "source": [
    "# Text Analysis Assignment\n",
    "\n",
    "## Assignment Details\n",
    "\n",
    "The text below is a summary from [this document](https://docs.google.com/document/d/1FNRmAS_vc-2eQESHH6uZMcuDVr720rsx-aDWGH3oz_Y/edit?usp=sharing).\n",
    "\n",
    "The main goal of the assignment is to have you practice the tools we have been using in class.\n",
    "\n",
    "The requirements are:\n",
    "\n",
    "- Choose one or more texts to work with.\n",
    "- Either save the text files in your working directory, or have python get them from a web address.\n",
    "- If needed: convert your text from bytes to a string\n",
    "- Tokenize your text\n",
    "- Make it an NLTK text object so you can use nltk tools on it\n",
    "- Clean the text in a way that is appropriate for the kind of analysis you want to do.\n",
    "- Run some analysis\n",
    "- Report findings\n",
    "\n",
    "Important notes:\n",
    "\n",
    "- If you plan to use functions have your functions as a separate python file, and import it in your main file.\n",
    "\n",
    "- Please, over-comment your script. Make sure to comment every step of the way. Make sure to not only explain what you are doing in terms of code, but also your analytical goal too. For instance, both \"I am running a for loop to remove the common words\" and \"I am trying to see how these two authors compare in terms of the ratio of unusual words to total words\" are kind of comments I want to see.\n"
   ]
  },
  {
   "cell_type": "markdown",
   "id": "54381b50-b167-446f-a52f-a9dbcef7138f",
   "metadata": {},
   "source": [
    "## Assignment Submission\n",
    "\n",
    "### Itinerary\n",
    "\n",
    "I want to compare usage of modal verbs in British men and women authors in the 18th and 19th century. To do my proposed analysis, I will\n",
    "\n",
    "- Download a sample of raw texts from [Project Gutenberg](https://www.gutenberg.org/) using `urllib`\n",
    "- Convert the texts from bytes to a string\n",
    "- Tokenize the texts\n",
    "- Make it an NLTK text object\n",
    "- Clean the texts, including removing front matter and other empherma from Project Gutenberg texts\n",
    "- Create a list of modal verbs, filter for these works in each text\n",
    "- Perhaps create a conditional frequency distribution on all texts (?) to see if we can establish a pattern"
   ]
  },
  {
   "cell_type": "markdown",
   "id": "7df213cb-fb26-43f8-b3da-ef723c5f41d1",
   "metadata": {},
   "source": [
    "### Imports\n",
    "\n",
    "In the cell below, I'm importing the libraries/modules:"
   ]
  },
  {
   "cell_type": "code",
   "execution_count": 3,
   "id": "24b94b9c-492b-44ab-96f0-9307bda69443",
   "metadata": {},
   "outputs": [],
   "source": [
    "from urllib.request import urlopen\n",
    "from nltk.probability import FreqDist\n",
    "from nltk.probability import ConditionalFreqDist"
   ]
  },
  {
   "cell_type": "code",
   "execution_count": null,
   "id": "a247b1e2-9b5f-4bfb-82e0-c3bbd634aabb",
   "metadata": {},
   "outputs": [],
   "source": []
  }
 ],
 "metadata": {
  "kernelspec": {
   "display_name": "Python 3 (ipykernel)",
   "language": "python",
   "name": "python3"
  },
  "language_info": {
   "codemirror_mode": {
    "name": "ipython",
    "version": 3
   },
   "file_extension": ".py",
   "mimetype": "text/x-python",
   "name": "python",
   "nbconvert_exporter": "python",
   "pygments_lexer": "ipython3",
   "version": "3.9.12"
  }
 },
 "nbformat": 4,
 "nbformat_minor": 5
}
