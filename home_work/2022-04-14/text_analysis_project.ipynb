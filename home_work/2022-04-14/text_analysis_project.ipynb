{
 "cells": [
  {
   "cell_type": "markdown",
   "id": "a50c60b7-53d9-4f00-8c2d-a044d4232d71",
   "metadata": {},
   "source": [
    "# Text Analysis Assignment\n",
    "\n",
    "## Assignment Details\n",
    "\n",
    "The text below is a summary from [this document](https://docs.google.com/document/d/1FNRmAS_vc-2eQESHH6uZMcuDVr720rsx-aDWGH3oz_Y/edit?usp=sharing).\n",
    "\n",
    "The main goal of the assignment is to have you practice the tools we have been using in class.\n",
    "\n",
    "The requirements are:\n",
    "\n",
    "- Choose one or more texts to work with.\n",
    "- Either save the text files in your working directory, or have python get them from a web address.\n",
    "- If needed: convert your text from bytes to a string\n",
    "- Tokenize your text\n",
    "- Make it an NLTK text object so you can use nltk tools on it\n",
    "- Clean the text in a way that is appropriate for the kind of analysis you want to do.\n",
    "- Run some analysis\n",
    "- Report findings\n",
    "\n",
    "Important notes:\n",
    "\n",
    "- If you plan to use functions, have your functions as a separate python file and import it in your main file.\n",
    "\n",
    "- Please, over-comment your script. Make sure to comment every step of the way. Make sure to not only explain what you are doing in terms of code, but also your analytical goal too. For instance, both \"I am running a for loop to remove the common words\" and \"I am trying to see how these two authors compare in terms of the ratio of unusual words to total words\" are kind of comments I want to see.\n"
   ]
  },
  {
   "cell_type": "markdown",
   "id": "54381b50-b167-446f-a52f-a9dbcef7138f",
   "metadata": {},
   "source": [
    "## Assignment Submission\n",
    "\n",
    "### Itinerary\n",
    "\n",
    "I want to compare usage of modal verbs in American/English men and women authors from 19th century literature. I wonder if there is any difference based on nationality or gender. To do my proposed analysis, I will:\n",
    "\n",
    "- Download a sample of raw texts from [Project Gutenberg](https://www.gutenberg.org/) using `urllib`\n",
    "- Convert the texts from bytes to a string\n",
    "- Tokenize the texts\n",
    "- Make it an NLTK text object\n",
    "- Clean the texts, including removing front matter and other empherma from Project Gutenberg texts\n",
    "- Create a list of modal verbs, filter for these works in each text\n",
    "- Perhaps create a conditional frequency distribution on all texts (?) to see if we can establish a pattern"
   ]
  },
  {
   "cell_type": "markdown",
   "id": "7df213cb-fb26-43f8-b3da-ef723c5f41d1",
   "metadata": {},
   "source": [
    "### Imports\n",
    "\n",
    "In the cell below, I'm importing the libraries/modules:"
   ]
  },
  {
   "cell_type": "code",
   "execution_count": 1,
   "id": "24b94b9c-492b-44ab-96f0-9307bda69443",
   "metadata": {},
   "outputs": [],
   "source": [
    "from urllib.request import urlopen\n",
    "from nltk import word_tokenize\n",
    "from nltk import Text\n",
    "from nltk.probability import FreqDist\n",
    "from nltk.probability import ConditionalFreqDist"
   ]
  },
  {
   "cell_type": "markdown",
   "id": "0558354b-d20c-4a56-9dbc-4cd32264467b",
   "metadata": {},
   "source": [
    "### Collecting the texts from Project Gutenberg\n",
    "\n",
    "The first step is to get the raw texts from Project Gutenburg. This work is demonstrated in the cells below:"
   ]
  },
  {
   "cell_type": "code",
   "execution_count": 2,
   "id": "33e51d09-8732-42a4-9ff9-420a40db8867",
   "metadata": {},
   "outputs": [],
   "source": [
    "# Create variables for each plain text file on PG\n",
    "custom_of_country_url = 'https://www.gutenberg.org/cache/epub/11052/pg11052.txt'\n",
    "little_dorrit_url = 'https://www.gutenberg.org/files/963/963-0.txt'\n",
    "persuasion_url = 'https://www.gutenberg.org/cache/epub/105/pg105.txt'\n",
    "the_awkward_age_url = 'https://www.gutenberg.org/files/7433/7433-0.txt'\n"
   ]
  },
  {
   "cell_type": "code",
   "execution_count": 3,
   "id": "b31a5174-2a2b-4d4e-b901-46fcac4db4af",
   "metadata": {},
   "outputs": [],
   "source": [
    "# Open URLs\n",
    "custom_country_file = urlopen(custom_of_country_url)\n",
    "little_dorrit_file = urlopen(little_dorrit_url)\n",
    "persuasion_file = urlopen(persuasion_url)\n",
    "the_awkward_age_file = urlopen(the_awkward_age_url)"
   ]
  },
  {
   "cell_type": "code",
   "execution_count": 4,
   "id": "1d820d95-ea9d-4b0b-8c05-c395213ac821",
   "metadata": {},
   "outputs": [],
   "source": [
    "# Read in the texts and assign them to a variables\n",
    "custom_country_raw = custom_country_file.read()\n",
    "little_dorrit_raw = little_dorrit_file.read()\n",
    "persuasion_raw = persuasion_file.read()\n",
    "the_awkward_age_raw = the_awkward_age_file.read()"
   ]
  },
  {
   "cell_type": "markdown",
   "id": "edf98c4f-5bf2-41d0-9925-a2451bb94d0b",
   "metadata": {},
   "source": [
    "### Converting the raw text to strings and lists\n",
    "\n",
    "Below, I demonstrate that while we have the texts available, they're in a format that isn't conducive to text analysis. We will convert these UTF-8 bytes to strings, and finally, to lists."
   ]
  },
  {
   "cell_type": "code",
   "execution_count": 6,
   "id": "6b1f56ba-5b8c-4ff9-af31-9cd3b478f2c1",
   "metadata": {},
   "outputs": [
    {
     "data": {
      "text/plain": [
       "bytes"
      ]
     },
     "execution_count": 6,
     "metadata": {},
     "output_type": "execute_result"
    }
   ],
   "source": [
    "# Check type for a given text\n",
    "type(little_dorrit_raw)"
   ]
  },
  {
   "cell_type": "markdown",
   "id": "d5f4d531-797b-478f-9806-c70439093266",
   "metadata": {},
   "source": [
    "If you were run `little_dorrit_raw` you'll notice when the text is in bytes, you'll get unicode embedded into the text (e.g. `b'\\xef\\xbb\\xbf\\r\\n`). Next, we will decode the raw files into a string to make it more usable for text analysis."
   ]
  },
  {
   "cell_type": "code",
   "execution_count": 8,
   "id": "2a8ae2d4-1561-4c34-9feb-e364d9b544e7",
   "metadata": {},
   "outputs": [],
   "source": [
    "custom_of_country = custom_country_raw.decode()\n",
    "little_dorrit = little_dorrit_raw.decode()\n",
    "persuason = persuasion_raw.decode()\n",
    "awkward_age = the_awkward_age_raw.decode()"
   ]
  },
  {
   "cell_type": "code",
   "execution_count": 9,
   "id": "d3674c4f-ae15-4580-a28a-da2d5425216e",
   "metadata": {},
   "outputs": [
    {
     "data": {
      "text/plain": [
       "str"
      ]
     },
     "execution_count": 9,
     "metadata": {},
     "output_type": "execute_result"
    }
   ],
   "source": [
    "# check the type for a given text\n",
    "type(awkward_age)"
   ]
  },
  {
   "cell_type": "markdown",
   "id": "4b637f11-f361-44b2-b26c-d18820715713",
   "metadata": {},
   "source": [
    "If you were to run `awkward_age` you would continue to see unicode like `'\\ufeff`. "
   ]
  },
  {
   "cell_type": "code",
   "execution_count": null,
   "id": "b58597af-4f00-48ed-bd04-05eaf0d46433",
   "metadata": {},
   "outputs": [],
   "source": []
  }
 ],
 "metadata": {
  "kernelspec": {
   "display_name": "Python 3 (ipykernel)",
   "language": "python",
   "name": "python3"
  },
  "language_info": {
   "codemirror_mode": {
    "name": "ipython",
    "version": 3
   },
   "file_extension": ".py",
   "mimetype": "text/x-python",
   "name": "python",
   "nbconvert_exporter": "python",
   "pygments_lexer": "ipython3",
   "version": "3.9.12"
  }
 },
 "nbformat": 4,
 "nbformat_minor": 5
}
