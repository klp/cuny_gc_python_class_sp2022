{
 "cells": [
  {
   "cell_type": "code",
   "execution_count": 1,
   "id": "e1bc549a-3def-48b5-99c2-6ec38b118661",
   "metadata": {},
   "outputs": [],
   "source": [
    "import nltk\n",
    "import matplotlib as plt\n",
    "%matplotlib inline"
   ]
  },
  {
   "cell_type": "code",
   "execution_count": 2,
   "id": "5281bc3d-f318-4bc5-a0a0-b42a87f7a1c5",
   "metadata": {},
   "outputs": [
    {
     "name": "stdout",
     "output_type": "stream",
     "text": [
      "*** Introductory Examples for the NLTK Book ***\n",
      "Loading text1, ..., text9 and sent1, ..., sent9\n",
      "Type the name of the text or sentence to view it.\n",
      "Type: 'texts()' or 'sents()' to list the materials.\n",
      "text1: Moby Dick by Herman Melville 1851\n",
      "text2: Sense and Sensibility by Jane Austen 1811\n",
      "text3: The Book of Genesis\n",
      "text4: Inaugural Address Corpus\n",
      "text5: Chat Corpus\n",
      "text6: Monty Python and the Holy Grail\n",
      "text7: Wall Street Journal\n",
      "text8: Personals Corpus\n",
      "text9: The Man Who Was Thursday by G . K . Chesterton 1908\n"
     ]
    }
   ],
   "source": [
    "from nltk.book import *"
   ]
  },
  {
   "cell_type": "code",
   "execution_count": 3,
   "id": "840b2f62-3de0-4d38-a699-2c6e33666e12",
   "metadata": {},
   "outputs": [
    {
     "name": "stdout",
     "output_type": "stream",
     "text": [
      "Displaying 25 of 1226 matches:\n",
      "s , and to teach them by what name a whale - fish is to be called in our tongue\n",
      "t which is not true .\" -- HACKLUYT \" WHALE . ... Sw . and Dan . HVAL . This ani\n",
      "ulted .\" -- WEBSTER ' S DICTIONARY \" WHALE . ... It is more immediately from th\n",
      "ISH . WAL , DUTCH . HWAL , SWEDISH . WHALE , ICELANDIC . WHALE , ENGLISH . BALE\n",
      "HWAL , SWEDISH . WHALE , ICELANDIC . WHALE , ENGLISH . BALEINE , FRENCH . BALLE\n",
      "least , take the higgledy - piggledy whale statements , however authentic , in \n",
      " dreadful gulf of this monster ' s ( whale ' s ) mouth , are immediately lost a\n",
      " patient Job .\" -- RABELAIS . \" This whale ' s liver was two cartloads .\" -- ST\n",
      " Touching that monstrous bulk of the whale or ork we have received nothing cert\n",
      " of oil will be extracted out of one whale .\" -- IBID . \" HISTORY OF LIFE AND D\n",
      "ise .\" -- KING HENRY . \" Very like a whale .\" -- HAMLET . \" Which to secure , n\n",
      "restless paine , Like as the wounded whale to shore flies thro ' the maine .\" -\n",
      ". OF SPERMA CETI AND THE SPERMA CETI WHALE . VIDE HIS V . E . \" Like Spencer ' \n",
      "t had been a sprat in the mouth of a whale .\" -- PILGRIM ' S PROGRESS . \" That \n",
      "EN ' S ANNUS MIRABILIS . \" While the whale is floating at the stern of the ship\n",
      "e ship called The Jonas - in - the - Whale . ... Some say the whale can ' t ope\n",
      " in - the - Whale . ... Some say the whale can ' t open his mouth , but that is\n",
      " masts to see whether they can see a whale , for the first discoverer has a duc\n",
      " for his pains . ... I was told of a whale taken near Shetland , that had above\n",
      "oneers told me that he caught once a whale in Spitzbergen that was white all ov\n",
      "2 , one eighty feet in length of the whale - bone kind came in , which ( as I w\n",
      "n master and kill this Sperma - ceti whale , for I could never hear of any of t\n",
      " . 1729 . \"... and the breath of the whale is frequendy attended with such an i\n",
      "ed with hoops and armed with ribs of whale .\" -- RAPE OF THE LOCK . \" If we com\n",
      "contemptible in the comparison . The whale is doubtless the largest animal in c\n"
     ]
    }
   ],
   "source": [
    "text1.concordance('whale')"
   ]
  },
  {
   "cell_type": "code",
   "execution_count": 4,
   "id": "eb7c2476-f29e-4f32-9506-fb86b3a51384",
   "metadata": {},
   "outputs": [
    {
     "name": "stdout",
     "output_type": "stream",
     "text": [
      "sea man it ship by him hand them whale view ships land me life death\n",
      "water way head nature fear\n"
     ]
    }
   ],
   "source": [
    "text1.similar('love')"
   ]
  },
  {
   "cell_type": "code",
   "execution_count": 5,
   "id": "0ecc1a18-0fd4-4020-a531-557739fe2898",
   "metadata": {},
   "outputs": [
    {
     "name": "stdout",
     "output_type": "stream",
     "text": [
      "affection sister heart mother time see town life it dear elinor\n",
      "marianne me word family her him do regard head\n"
     ]
    }
   ],
   "source": [
    "text2.similar('love')"
   ]
  },
  {
   "cell_type": "code",
   "execution_count": 6,
   "id": "dcd1f4c8-d4d1-4e3e-9b9f-33612c2a67a0",
   "metadata": {},
   "outputs": [
    {
     "name": "stdout",
     "output_type": "stream",
     "text": [
      "join part hi hey and wb well ty lmao yeah hiya ok oh hello you what\n",
      "yes haha no all\n"
     ]
    }
   ],
   "source": [
    "text5.similar('lol')"
   ]
  },
  {
   "cell_type": "code",
   "execution_count": 7,
   "id": "21cc9367-c0cf-4965-85b6-41afa77e474c",
   "metadata": {},
   "outputs": [
    {
     "name": "stderr",
     "output_type": "stream",
     "text": [
      "/Users/kaiprenger/venv/python_class_2022/lib/python3.9/site-packages/nltk/draw/__init__.py:15: UserWarning: nltk.draw package not loaded (please install Tkinter library).\n",
      "  warnings.warn(\"nltk.draw package not loaded (please install Tkinter library).\")\n"
     ]
    },
    {
     "data": {
      "image/png": "[encoded data removed]",
      "text/plain": [
       "<Figure size 432x288 with 1 Axes>"
      ]
     },
     "metadata": {
      "needs_background": "light"
     },
     "output_type": "display_data"
    }
   ],
   "source": [
    "text1.dispersion_plot(['whale', 'monster'])"
   ]
  },
  {
   "cell_type": "code",
   "execution_count": 8,
   "id": "b2f472ce-efc7-408f-b3f7-12b01bec95b4",
   "metadata": {},
   "outputs": [
    {
     "data": {
      "image/png": "[encoded data removed]",
      "text/plain": [
       "<Figure size 432x288 with 1 Axes>"
      ]
     },
     "metadata": {
      "needs_background": "light"
     },
     "output_type": "display_data"
    }
   ],
   "source": [
    "text2.dispersion_plot(['marriage', 'love', 'husband', 'sister'])"
   ]
  },
  {
   "cell_type": "code",
   "execution_count": 9,
   "id": "472b9ba2-1b3c-4379-baf7-78d81fbbe28c",
   "metadata": {},
   "outputs": [
    {
     "data": {
      "text/plain": [
       "906"
      ]
     },
     "execution_count": 9,
     "metadata": {},
     "output_type": "execute_result"
    }
   ],
   "source": [
    "text1.count('whale')"
   ]
  },
  {
   "cell_type": "code",
   "execution_count": 10,
   "id": "974bdd7e-54e2-4e57-aa72-3bc9bcca3eb3",
   "metadata": {},
   "outputs": [
    {
     "data": {
      "text/plain": [
       "282"
      ]
     },
     "execution_count": 10,
     "metadata": {},
     "output_type": "execute_result"
    }
   ],
   "source": [
    "text1.count('Whale')"
   ]
  },
  {
   "cell_type": "code",
   "execution_count": 11,
   "id": "948a8598-7127-4814-a61a-a70da729431b",
   "metadata": {},
   "outputs": [
    {
     "data": {
      "text/plain": [
       "38"
      ]
     },
     "execution_count": 11,
     "metadata": {},
     "output_type": "execute_result"
    }
   ],
   "source": [
    "text1.count('WHALE')"
   ]
  },
  {
   "cell_type": "code",
   "execution_count": 12,
   "id": "ff44de1c-3c4a-45b8-a2f3-5ec84f573338",
   "metadata": {},
   "outputs": [],
   "source": [
    "text1_tokens = []\n",
    "for t in text1:\n",
    "    if t.isalpha():\n",
    "        t = t.lower()\n",
    "        text1_tokens.append(t)"
   ]
  },
  {
   "cell_type": "code",
   "execution_count": 13,
   "id": "24480653-8072-4c7a-b9dd-7060456efe8a",
   "metadata": {},
   "outputs": [],
   "source": [
    "text1_tokens_comp = [t.lower() for t in text1 if t.isalpha()]"
   ]
  },
  {
   "cell_type": "code",
   "execution_count": 14,
   "id": "41847abc-1da7-4e09-be07-0a31f86a5413",
   "metadata": {},
   "outputs": [
    {
     "data": {
      "text/plain": [
       "1226"
      ]
     },
     "execution_count": 14,
     "metadata": {},
     "output_type": "execute_result"
    }
   ],
   "source": [
    "text1_tokens_comp.count('whale')"
   ]
  },
  {
   "cell_type": "code",
   "execution_count": 15,
   "id": "f4e921ae-ccd6-4880-b814-762a2f65b620",
   "metadata": {},
   "outputs": [
    {
     "data": {
      "text/plain": [
       "0"
      ]
     },
     "execution_count": 15,
     "metadata": {},
     "output_type": "execute_result"
    }
   ],
   "source": [
    "# Double check tokens worked\n",
    "text1_tokens.count('WHALE')"
   ]
  },
  {
   "cell_type": "code",
   "execution_count": 16,
   "id": "2c774b2d-f42f-4631-adb0-3f7e7282f40c",
   "metadata": {},
   "outputs": [
    {
     "data": {
      "text/plain": [
       "218361"
      ]
     },
     "execution_count": 16,
     "metadata": {},
     "output_type": "execute_result"
    }
   ],
   "source": [
    "len(text1_tokens)"
   ]
  },
  {
   "cell_type": "code",
   "execution_count": 17,
   "id": "e6d6d2ed-fe53-463d-a9e5-ba99bbd364a8",
   "metadata": {},
   "outputs": [
    {
     "data": {
      "text/plain": [
       "260819"
      ]
     },
     "execution_count": 17,
     "metadata": {},
     "output_type": "execute_result"
    }
   ],
   "source": [
    "len(text1)"
   ]
  },
  {
   "cell_type": "code",
   "execution_count": 18,
   "id": "5bb36f57-6647-420a-8bd1-aaae5b85d624",
   "metadata": {},
   "outputs": [
    {
     "data": {
      "text/plain": [
       "16948"
      ]
     },
     "execution_count": 18,
     "metadata": {},
     "output_type": "execute_result"
    }
   ],
   "source": [
    "# Number of unique works in text1\n",
    "len(set(text1_tokens))"
   ]
  },
  {
   "cell_type": "code",
   "execution_count": 19,
   "id": "b2d954f0-32b8-4500-a845-7e81c4f01ef1",
   "metadata": {},
   "outputs": [
    {
     "data": {
      "text/plain": [
       "0.07761459234936642"
      ]
     },
     "execution_count": 19,
     "metadata": {},
     "output_type": "execute_result"
    }
   ],
   "source": [
    "# Calculating lexical density as an approxiation of range of vocabulary (statiscally a good metric)\n",
    "len(set(text1_tokens)) / len(text1_tokens)"
   ]
  },
  {
   "cell_type": "markdown",
   "id": "1ffc874c-8341-4644-b5ca-5577ad760ff1",
   "metadata": {},
   "source": [
    "## Side note\n",
    "\n",
    "Lexical density is helpful when comparing one work to another. However, because written texts are finite  vary in length, and some works are repetitive, you would run into trouble comparing a 1000 word text to 10,000 word text. It's important to limit samples by slicing."
   ]
  },
  {
   "cell_type": "code",
   "execution_count": 20,
   "id": "f279c8ce-fa37-4542-8e44-89f0a1e27f95",
   "metadata": {},
   "outputs": [],
   "source": [
    "text1_slice = text1_tokens[0:10000]"
   ]
  },
  {
   "cell_type": "code",
   "execution_count": 21,
   "id": "66f999bb-29a0-431d-9af1-ea492ced0c17",
   "metadata": {},
   "outputs": [
    {
     "data": {
      "text/plain": [
       "0.2816"
      ]
     },
     "execution_count": 21,
     "metadata": {},
     "output_type": "execute_result"
    }
   ],
   "source": [
    "len(set(text1_slice)) / len(text1_slice)"
   ]
  },
  {
   "cell_type": "markdown",
   "id": "f22b3cc7-324d-4255-9c7d-ad0a4b35e9a2",
   "metadata": {},
   "source": [
    "## Assignment: Challenge\n",
    "\n",
    "Let’s compare the lexical density of Moby Dick with Sense and Sensibility. Make sure to:\n",
    "\n",
    "1. Make all the words lowercase and remove punctuation.\n",
    "2. Make a slice of the first 10,000 words.\n",
    "3. Calculate lexical density by dividing the length of the set of the slice by the length of the slice."
   ]
  },
  {
   "cell_type": "code",
   "execution_count": 22,
   "id": "52fb6f4f-e7de-4782-991c-839cc70b25e1",
   "metadata": {},
   "outputs": [],
   "source": [
    "# first, tokenize text2\n",
    "text2_tokens = [t.lower for t in text2 if t.isalpha()]"
   ]
  },
  {
   "cell_type": "code",
   "execution_count": 23,
   "id": "089255d5-f79e-4949-b5eb-35bf7c3ae604",
   "metadata": {},
   "outputs": [],
   "source": [
    "# next, take a slice that matches the text1 slice\n",
    "text2_slice = text2_tokens[:10000]"
   ]
  },
  {
   "cell_type": "code",
   "execution_count": 24,
   "id": "9b744723-9bd4-4372-8b16-63d2a649568c",
   "metadata": {},
   "outputs": [
    {
     "data": {
      "text/plain": [
       "0.9661"
      ]
     },
     "execution_count": 24,
     "metadata": {},
     "output_type": "execute_result"
    }
   ],
   "source": [
    "# finally, calculate lexical density\n",
    "len(set(text2_slice)) / len(text2_slice)"
   ]
  },
  {
   "cell_type": "markdown",
   "id": "515e3778-ba49-4e8e-a847-b3206f3a2505",
   "metadata": {},
   "source": [
    "## Removing Stops Words\n",
    "\n",
    "Our work thus far as included stop words and grammatical features in our analysis. Often, we want to remove those, because they don't add semantic content in our models, using the following steps.\n",
    "\n",
    "1. Remove capitalization and punctuation (we’ve already done this).\n",
    "2. Remove stop words.\n",
    "3. Lemmatize (or stem) our words, i.e. “jumping” and “jumps” become “jump.” We already completed step one, and are now working with our text1_tokens. Remember, this variable, text1_tokens, contains a list of strings that we will work with. We want to remove the stop words from that list. The NLTK library comes with fairly comprehensive lists of stop words for many languages. Stop words are function words that contribute very little semantic meaning and most often have grammatical functions. Usually, these are function words such as determiners, prepositions, auxiliaries, and others. To use NLTK’s stop words, we need to import the list of words from the corpus. (We could have done this at the beginning of our program, and in more fully developed code, we would put it up there, but this works, too.) In the next cell, type:"
   ]
  },
  {
   "cell_type": "code",
   "execution_count": 26,
   "id": "2024db9d-0d17-41d8-9637-5d1285e6961c",
   "metadata": {},
   "outputs": [],
   "source": [
    "# Here, nltk can help us\n",
    "from nltk.corpus import stopwords"
   ]
  },
  {
   "cell_type": "code",
   "execution_count": 28,
   "id": "913ac4a9-0ab5-4cf3-8b31-602364d3787a",
   "metadata": {},
   "outputs": [
    {
     "name": "stdout",
     "output_type": "stream",
     "text": [
      "['i', 'me', 'my', 'myself', 'we', 'our', 'ours', 'ourselves', 'you', \"you're\", \"you've\", \"you'll\", \"you'd\", 'your', 'yours', 'yourself', 'yourselves', 'he', 'him', 'his', 'himself', 'she', \"she's\", 'her', 'hers', 'herself', 'it', \"it's\", 'its', 'itself', 'they', 'them', 'their', 'theirs', 'themselves', 'what', 'which', 'who', 'whom', 'this', 'that', \"that'll\", 'these', 'those', 'am', 'is', 'are', 'was', 'were', 'be', 'been', 'being', 'have', 'has', 'had', 'having', 'do', 'does', 'did', 'doing', 'a', 'an', 'the', 'and', 'but', 'if', 'or', 'because', 'as', 'until', 'while', 'of', 'at', 'by', 'for', 'with', 'about', 'against', 'between', 'into', 'through', 'during', 'before', 'after', 'above', 'below', 'to', 'from', 'up', 'down', 'in', 'out', 'on', 'off', 'over', 'under', 'again', 'further', 'then', 'once', 'here', 'there', 'when', 'where', 'why', 'how', 'all', 'any', 'both', 'each', 'few', 'more', 'most', 'other', 'some', 'such', 'no', 'nor', 'not', 'only', 'own', 'same', 'so', 'than', 'too', 'very', 's', 't', 'can', 'will', 'just', 'don', \"don't\", 'should', \"should've\", 'now', 'd', 'll', 'm', 'o', 're', 've', 'y', 'ain', 'aren', \"aren't\", 'couldn', \"couldn't\", 'didn', \"didn't\", 'doesn', \"doesn't\", 'hadn', \"hadn't\", 'hasn', \"hasn't\", 'haven', \"haven't\", 'isn', \"isn't\", 'ma', 'mightn', \"mightn't\", 'mustn', \"mustn't\", 'needn', \"needn't\", 'shan', \"shan't\", 'shouldn', \"shouldn't\", 'wasn', \"wasn't\", 'weren', \"weren't\", 'won', \"won't\", 'wouldn', \"wouldn't\"]\n"
     ]
    }
   ],
   "source": [
    "# Specify English stop words \n",
    "stop_words = stopwords.words('english')\n",
    "print(stop_words)"
   ]
  },
  {
   "cell_type": "code",
   "execution_count": 29,
   "id": "0590e9da-d954-46a3-8dc4-8e5696606b5e",
   "metadata": {},
   "outputs": [
    {
     "data": {
      "text/plain": [
       "179"
      ]
     },
     "execution_count": 29,
     "metadata": {},
     "output_type": "execute_result"
    }
   ],
   "source": [
    "# Curious how many stop words are available\n",
    "len(stop_words)"
   ]
  },
  {
   "cell_type": "code",
   "execution_count": 30,
   "id": "84ac7aef-50c5-49c2-9ee9-000d2c5b4d1b",
   "metadata": {},
   "outputs": [],
   "source": [
    "# Now, let's create a list of text1_tokens excluding stop words\n",
    "text1_wo_stops = [t for t in text1_tokens if t not in stop_words]"
   ]
  },
  {
   "cell_type": "code",
   "execution_count": 31,
   "id": "5377e9fb-b62c-4b21-83de-b8edadc071ad",
   "metadata": {},
   "outputs": [
    {
     "name": "stdout",
     "output_type": "stream",
     "text": [
      "['moby', 'dick', 'by', 'herman', 'melville', 'etymology', 'supplied', 'by', 'a', 'late', 'consumptive', 'usher', 'to', 'a', 'grammar', 'school', 'the', 'pale', 'usher', 'threadbare', 'in', 'coat', 'heart', 'body', 'and', 'brain', 'i', 'see', 'him', 'now']\n"
     ]
    }
   ],
   "source": [
    "# Check the difference with the stop words removed in a small sample\n",
    "print(text1_tokens[:30])"
   ]
  },
  {
   "cell_type": "code",
   "execution_count": 32,
   "id": "f98c0878-27f9-4def-9466-8df0cbf62af9",
   "metadata": {},
   "outputs": [
    {
     "name": "stdout",
     "output_type": "stream",
     "text": [
      "['moby', 'dick', 'herman', 'melville', 'etymology', 'supplied', 'late', 'consumptive', 'usher', 'grammar', 'school', 'pale', 'usher', 'threadbare', 'coat', 'heart', 'body', 'brain', 'see', 'ever', 'dusting', 'old', 'lexicons', 'grammars', 'queer', 'handkerchief', 'mockingly', 'embellished', 'gay', 'flags']\n"
     ]
    }
   ],
   "source": [
    "print(text1_wo_stops[:30])"
   ]
  },
  {
   "cell_type": "code",
   "execution_count": 33,
   "id": "9708b35e-6fdf-497d-a239-615b47403ceb",
   "metadata": {},
   "outputs": [
    {
     "data": {
      "text/plain": [
       "110459"
      ]
     },
     "execution_count": 33,
     "metadata": {},
     "output_type": "execute_result"
    }
   ],
   "source": [
    "len(text1_wo_stops)"
   ]
  },
  {
   "cell_type": "code",
   "execution_count": 34,
   "id": "2c6bde68-91a0-41d0-a06d-a5792810af6a",
   "metadata": {},
   "outputs": [
    {
     "data": {
      "text/plain": [
       "16802"
      ]
     },
     "execution_count": 34,
     "metadata": {},
     "output_type": "execute_result"
    }
   ],
   "source": [
    "len(set(text1_wo_stops))"
   ]
  },
  {
   "cell_type": "markdown",
   "id": "5c94a45e-7f17-4366-8e39-2172b572f5a4",
   "metadata": {},
   "source": [
    "## Lemmatizing Words\n",
    "\n",
    "Lemmatizing attempts to deal with gramatical variation in words by searching for the \"root\" of works. For instance, transforming plurals \"cats\" as \"cat\", \"women\" as \"woman\" or reducing tense variation like \"sang\" as \"sing\"."
   ]
  },
  {
   "cell_type": "code",
   "execution_count": 35,
   "id": "136ad6c6-4394-4f23-b06a-73d7c9ed6ed1",
   "metadata": {},
   "outputs": [],
   "source": [
    "from nltk.stem import WordNetLemmatizer"
   ]
  },
  {
   "cell_type": "code",
   "execution_count": 39,
   "id": "52548ee2-311d-4bce-8769-f7124b5cb779",
   "metadata": {},
   "outputs": [],
   "source": [
    "# WorkNetLemmatizer is a class, so need to call a new instance of it\n",
    "wordnet_lemmatizer = WordNetLemmatizer()"
   ]
  },
  {
   "cell_type": "code",
   "execution_count": 41,
   "id": "ee46826c-766b-48a4-9505-ab5b810dbf4c",
   "metadata": {},
   "outputs": [
    {
     "data": {
      "text/plain": [
       "'child'"
      ]
     },
     "execution_count": 41,
     "metadata": {},
     "output_type": "execute_result"
    }
   ],
   "source": [
    "# Let's check out examples of how this works\n",
    "wordnet_lemmatizer.lemmatize('children')"
   ]
  },
  {
   "cell_type": "code",
   "execution_count": 42,
   "id": "f252f953-371d-49a3-ab1d-b5ce58f4ebe7",
   "metadata": {},
   "outputs": [
    {
     "data": {
      "text/plain": [
       "'better'"
      ]
     },
     "execution_count": 42,
     "metadata": {},
     "output_type": "execute_result"
    }
   ],
   "source": [
    "wordnet_lemmatizer.lemmatize('better')"
   ]
  },
  {
   "cell_type": "code",
   "execution_count": 43,
   "id": "23bcb3e3-bf50-470e-99ed-308dfc8c2f13",
   "metadata": {},
   "outputs": [
    {
     "data": {
      "text/plain": [
       "'good'"
      ]
     },
     "execution_count": 43,
     "metadata": {},
     "output_type": "execute_result"
    }
   ],
   "source": [
    "# See above, it didn't seem to work\n",
    "# We can pass in a part of speech (pos)\n",
    "wordnet_lemmatizer.lemmatize('better', pos='a')    # a stands for adjective"
   ]
  },
  {
   "cell_type": "code",
   "execution_count": 44,
   "id": "2b1d33a0-4425-4bf9-9a75-528cbb1dfd62",
   "metadata": {},
   "outputs": [],
   "source": [
    "text1_lemmatized = [wordnet_lemmatizer.lemmatize(t) for t in text1_wo_stops]"
   ]
  },
  {
   "cell_type": "code",
   "execution_count": 46,
   "id": "bab2aede-3b5d-4ab1-804b-c0d8582ddcd5",
   "metadata": {},
   "outputs": [
    {
     "name": "stdout",
     "output_type": "stream",
     "text": [
      "110459\n",
      "14750\n"
     ]
    }
   ],
   "source": [
    "print(len(text1_lemmatized))        # same as before\n",
    "print(len(set(text1_lemmatized)))   # different due to consolidation with set of lemmantized list"
   ]
  },
  {
   "cell_type": "code",
   "execution_count": 47,
   "id": "ce09bc21-9ed2-4398-be21-48fa74f9e72f",
   "metadata": {},
   "outputs": [
    {
     "data": {
      "text/plain": [
       "['aback',\n",
       " 'abaft',\n",
       " 'abandon',\n",
       " 'abandoned',\n",
       " 'abandonedly',\n",
       " 'abandonment',\n",
       " 'abased',\n",
       " 'abasement',\n",
       " 'abashed',\n",
       " 'abate',\n",
       " 'abated',\n",
       " 'abatement',\n",
       " 'abating',\n",
       " 'abbreviate',\n",
       " 'abbreviation',\n",
       " 'abeam',\n",
       " 'abed',\n",
       " 'abednego',\n",
       " 'abel',\n",
       " 'abhorred',\n",
       " 'abhorrence',\n",
       " 'abhorrent',\n",
       " 'abhorring',\n",
       " 'abide',\n",
       " 'abided',\n",
       " 'abiding',\n",
       " 'ability',\n",
       " 'abjectly',\n",
       " 'abjectus',\n",
       " 'able']"
      ]
     },
     "execution_count": 47,
     "metadata": {},
     "output_type": "execute_result"
    }
   ],
   "source": [
    "# Now, inspect a short list sample of text1, aka Moby Dick\n",
    "sorted(set(text1_lemmatized))[:30]"
   ]
  },
  {
   "cell_type": "markdown",
   "id": "a82cdea6-e8a6-4706-ab21-142b786e2f27",
   "metadata": {},
   "source": [
    "#### Observation\n",
    "\n",
    "Noticed items like `abandon`, `abandoned`, `abandonedly` and `abandonment` haven't been consolidated by lemmantizing. Stemming might be another process we can run on our cleaned up types list next."
   ]
  },
  {
   "cell_type": "markdown",
   "id": "85d6c90e-5a71-44db-8632-9ebef9eed0f4",
   "metadata": {},
   "source": [
    "## Stemming Words\n",
    "Stemming the words will help somewhat in continuing to consolidate non-semantic variation."
   ]
  },
  {
   "cell_type": "code",
   "execution_count": 48,
   "id": "5d12ec84-685b-4c45-97a8-93c7fa5586e2",
   "metadata": {},
   "outputs": [],
   "source": [
    "from nltk.stem import PorterStemmer\n",
    "porter_stemmer = PorterStemmer()"
   ]
  },
  {
   "cell_type": "code",
   "execution_count": 49,
   "id": "909326b1-7b3c-4521-a876-511853daa7a9",
   "metadata": {},
   "outputs": [
    {
     "name": "stdout",
     "output_type": "stream",
     "text": [
      "berri\n",
      "berri\n",
      "berry\n",
      "berry\n"
     ]
    }
   ],
   "source": [
    "# Let's see how well Porter Stemmer works.\n",
    "print(porter_stemmer.stem('berry'))\n",
    "print(porter_stemmer.stem('berries'))\n",
    "print(wordnet_lemmatizer.lemmatize('berry'))\n",
    "print(wordnet_lemmatizer.lemmatize('berries'))"
   ]
  },
  {
   "cell_type": "code",
   "execution_count": 50,
   "id": "c0a5df33-61ec-4db9-bafc-084fa914ae38",
   "metadata": {},
   "outputs": [],
   "source": [
    "# For academic purposes, stemming might not be that helpful, and often times lemmatizing is a better fit"
   ]
  },
  {
   "cell_type": "code",
   "execution_count": 51,
   "id": "d3a9ab33-2f72-45f1-a297-c828a86cd4ad",
   "metadata": {},
   "outputs": [],
   "source": [
    "t1_porter = [porter_stemmer.stem(t) for t in text1_lemmatized]"
   ]
  },
  {
   "cell_type": "code",
   "execution_count": 52,
   "id": "f1be12dd-b072-4abc-b11c-a421ec807360",
   "metadata": {},
   "outputs": [
    {
     "name": "stdout",
     "output_type": "stream",
     "text": [
      "10501\n"
     ]
    }
   ],
   "source": [
    "print(len(set(t1_porter))) # vs. 110459 for lemmatizing"
   ]
  },
  {
   "cell_type": "code",
   "execution_count": 54,
   "id": "21ac497e-aa96-4d8d-b9ed-2905bebd35cf",
   "metadata": {},
   "outputs": [
    {
     "name": "stdout",
     "output_type": "stream",
     "text": [
      "['aback', 'abaft', 'abandon', 'abandonedli', 'abas', 'abash', 'abat', 'abbrevi', 'abe', 'abeam', 'abednego', 'abel', 'abhor', 'abhorr', 'abid', 'abil', 'abjectli', 'abjectu', 'abl', 'ablut', 'aboard', 'abod', 'abomin', 'aborigin', 'abort', 'abound', 'aboundingli', 'abraham', 'abreast', 'abridg']\n"
     ]
    }
   ],
   "source": [
    "print(sorted(set(t1_porter))[:30])"
   ]
  },
  {
   "cell_type": "code",
   "execution_count": 55,
   "id": "bca2e5e6-4320-40d8-9c8a-31b3c6ca78c1",
   "metadata": {},
   "outputs": [],
   "source": [
    "# Yeah, some of the roots are hard to identify as English words"
   ]
  },
  {
   "cell_type": "markdown",
   "id": "163bd28e-58cf-4648-9c32-bc7d1b0cba36",
   "metadata": {},
   "source": [
    "## Results\n",
    "\n",
    "Let's try to understand some of our final results about text 1."
   ]
  },
  {
   "cell_type": "code",
   "execution_count": 56,
   "id": "0480142f-0971-45ec-bacc-20dc8ecb498a",
   "metadata": {},
   "outputs": [],
   "source": [
    "my_dist = FreqDist(text1_lemmatized)"
   ]
  },
  {
   "cell_type": "code",
   "execution_count": 57,
   "id": "06945b7d-fbb0-47a4-adb8-59864ca08563",
   "metadata": {},
   "outputs": [
    {
     "data": {
      "text/plain": [
       "nltk.probability.FreqDist"
      ]
     },
     "execution_count": 57,
     "metadata": {},
     "output_type": "execute_result"
    }
   ],
   "source": [
    "type(my_dist)"
   ]
  },
  {
   "cell_type": "code",
   "execution_count": 59,
   "id": "4cc053a3-7191-42ac-b81f-6ef6f68d3d49",
   "metadata": {},
   "outputs": [
    {
     "data": {
      "image/png": "[encoded data removed]",
      "text/plain": [
       "<Figure size 432x288 with 1 Axes>"
      ]
     },
     "metadata": {
      "needs_background": "light"
     },
     "output_type": "display_data"
    },
    {
     "data": {
      "text/plain": [
       "<AxesSubplot:xlabel='Samples', ylabel='Counts'>"
      ]
     },
     "execution_count": 59,
     "metadata": {},
     "output_type": "execute_result"
    }
   ],
   "source": [
    "my_dist.plot(20)"
   ]
  },
  {
   "cell_type": "code",
   "execution_count": 60,
   "id": "ccb1565f-1354-4e27-8920-9e3eac598da8",
   "metadata": {},
   "outputs": [
    {
     "data": {
      "text/plain": [
       "[('whale', 1494),\n",
       " ('one', 940),\n",
       " ('like', 650),\n",
       " ('ship', 605),\n",
       " ('upon', 566),\n",
       " ('sea', 542),\n",
       " ('man', 527),\n",
       " ('ahab', 512),\n",
       " ('boat', 483),\n",
       " ('ye', 472),\n",
       " ('old', 450),\n",
       " ('time', 446),\n",
       " ('would', 432),\n",
       " ('head', 431),\n",
       " ('though', 384),\n",
       " ('captain', 353),\n",
       " ('yet', 345),\n",
       " ('hand', 344),\n",
       " ('long', 333),\n",
       " ('thing', 320)]"
      ]
     },
     "execution_count": 60,
     "metadata": {},
     "output_type": "execute_result"
    }
   ],
   "source": [
    "# Look at 20 most common words with method\n",
    "my_dist.most_common(20)"
   ]
  },
  {
   "cell_type": "code",
   "execution_count": 64,
   "id": "9acb3f86-10f3-461f-a204-1b9f41a686b5",
   "metadata": {},
   "outputs": [],
   "source": [
    "# What if we were interested in biblical references\n",
    "# create a list of keywords, then loop through our lemmantized list and append matches to a new list\n",
    "b_words = ['god', 'apostle', 'angel']\n",
    "my_list = []\n",
    "for word in b_words:\n",
    "    if word in text1_lemmatized:\n",
    "        my_list.append(word)\n",
    "my_list2 = [word for word in b_words if word in text1_lemmatized]"
   ]
  },
  {
   "cell_type": "code",
   "execution_count": 66,
   "id": "0bab8443-c1a7-4991-95dd-03d731526e5f",
   "metadata": {},
   "outputs": [
    {
     "data": {
      "text/plain": [
       "True"
      ]
     },
     "execution_count": 66,
     "metadata": {},
     "output_type": "execute_result"
    }
   ],
   "source": [
    "my_list == my_list2"
   ]
  },
  {
   "cell_type": "markdown",
   "id": "d8222f63-3046-4a63-98ba-467a3e43e2d7",
   "metadata": {},
   "source": [
    "## Make your own corpus\n",
    "\n",
    "We will use the request library to pull in Don Quixote."
   ]
  },
  {
   "cell_type": "code",
   "execution_count": 67,
   "id": "eb2f6974-0215-440e-9e7a-07d357ceef02",
   "metadata": {},
   "outputs": [],
   "source": [
    "from urllib.request import urlopen"
   ]
  },
  {
   "cell_type": "code",
   "execution_count": 68,
   "id": "24223b49-bbe3-4ab8-8670-bb858d4503b3",
   "metadata": {},
   "outputs": [],
   "source": [
    "my_url = \"http://www.gutenberg.org/files/996/996-0.txt\""
   ]
  },
  {
   "cell_type": "code",
   "execution_count": 70,
   "id": "9cf1711e-7980-4c98-b9c2-4f151076b6c6",
   "metadata": {},
   "outputs": [],
   "source": [
    "file = urlopen(my_url)\n",
    "raw = file.read()\n",
    "don_quixote = raw.decode()"
   ]
  },
  {
   "cell_type": "code",
   "execution_count": 71,
   "id": "5e81c7ec-7c03-464f-bc83-8453964a6b9c",
   "metadata": {},
   "outputs": [
    {
     "data": {
      "text/plain": [
       "str"
      ]
     },
     "execution_count": 71,
     "metadata": {},
     "output_type": "execute_result"
    }
   ],
   "source": [
    "type(don_quixote)"
   ]
  },
  {
   "cell_type": "code",
   "execution_count": 72,
   "id": "a8d81a15-94a8-4233-83d6-026cb9a3de33",
   "metadata": {},
   "outputs": [
    {
     "name": "stdout",
     "output_type": "stream",
     "text": [
      "﻿The Project Gutenberg eBook o\n"
     ]
    }
   ],
   "source": [
    "print(don_quixote[:30])"
   ]
  },
  {
   "cell_type": "code",
   "execution_count": 73,
   "id": "9d65b17c-0634-4901-b129-4d8e0e010629",
   "metadata": {},
   "outputs": [
    {
     "name": "stdout",
     "output_type": "stream",
     "text": [
      "2361839\n"
     ]
    }
   ],
   "source": [
    "print(len(don_quixote))"
   ]
  },
  {
   "cell_type": "code",
   "execution_count": 74,
   "id": "c2c715cb-cd97-4f31-899c-6cb9cf7c5143",
   "metadata": {},
   "outputs": [],
   "source": [
    "# the text is a large string. Let's tokenize it\n",
    "don_quixote_tokens = nltk.word_tokenize(don_quixote)"
   ]
  },
  {
   "cell_type": "code",
   "execution_count": 76,
   "id": "6566414e-4345-4f13-9c8a-3bc5a7baa784",
   "metadata": {},
   "outputs": [
    {
     "data": {
      "text/plain": [
       "list"
      ]
     },
     "execution_count": 76,
     "metadata": {},
     "output_type": "execute_result"
    }
   ],
   "source": [
    "type(don_quixote_tokens)"
   ]
  },
  {
   "cell_type": "code",
   "execution_count": 77,
   "id": "bd4d8e2b-04f8-4b5d-8f61-2693ddccb8b8",
   "metadata": {},
   "outputs": [
    {
     "data": {
      "text/plain": [
       "498739"
      ]
     },
     "execution_count": 77,
     "metadata": {},
     "output_type": "execute_result"
    }
   ],
   "source": [
    "len(don_quixote_tokens)"
   ]
  },
  {
   "cell_type": "code",
   "execution_count": 78,
   "id": "4d02b299-c784-4a05-91f2-7dab37db6aa3",
   "metadata": {},
   "outputs": [
    {
     "data": {
      "text/plain": [
       "['\\ufeffThe',\n",
       " 'Project',\n",
       " 'Gutenberg',\n",
       " 'eBook',\n",
       " 'of',\n",
       " 'The',\n",
       " 'History',\n",
       " 'of',\n",
       " 'Don',\n",
       " 'Quixote',\n",
       " ',',\n",
       " 'by',\n",
       " 'Miguel',\n",
       " 'de',\n",
       " 'Cervantes',\n",
       " 'This',\n",
       " 'eBook',\n",
       " 'is',\n",
       " 'for',\n",
       " 'the',\n",
       " 'use',\n",
       " 'of',\n",
       " 'anyone',\n",
       " 'anywhere',\n",
       " 'in',\n",
       " 'the',\n",
       " 'United',\n",
       " 'States',\n",
       " 'and',\n",
       " 'most']"
      ]
     },
     "execution_count": 78,
     "metadata": {},
     "output_type": "execute_result"
    }
   ],
   "source": [
    "don_quixote_tokens[:30]"
   ]
  },
  {
   "cell_type": "code",
   "execution_count": 83,
   "id": "0e7b6c81-f9c9-45e4-bb9a-1888d0e3195f",
   "metadata": {},
   "outputs": [
    {
     "name": "stdout",
     "output_type": "stream",
     "text": [
      "['the', '“', 'Full', 'Size', '”', 'button', 'to', 'expand', 'them', 'to', 'their', 'original', 'dimensions', '.', 'Ormsby', 'in', 'his', 'Preface', 'has', 'criticized', 'the', 'fanciful', 'nature', 'of', 'Doré', '’', 's', 'illustrations', ';', 'others']\n"
     ]
    }
   ],
   "source": [
    "# We can see that there's metadata at the beginning. Looks like the text begins on 320 index\n",
    "dq_text = don_quixote_tokens[320:]\n",
    "print(dq_text[:30])"
   ]
  },
  {
   "cell_type": "code",
   "execution_count": 85,
   "id": "8a4d1b23-1473-446b-aa93-832213bead84",
   "metadata": {},
   "outputs": [
    {
     "data": {
      "text/plain": [
       "nltk.text.Text"
      ]
     },
     "execution_count": 85,
     "metadata": {},
     "output_type": "execute_result"
    }
   ],
   "source": [
    "# If we want to use nltk functions, we'll need to convert this list to a text\n",
    "dq_nltk_text = nltk.Text(dq_text)\n",
    "type(dq_nltk_text)"
   ]
  },
  {
   "cell_type": "markdown",
   "id": "35df4ccb-0ffa-4328-8e25-1177cb3b0bdf",
   "metadata": {},
   "source": [
    "## Assignment: Challenge\n",
    "\n",
    "Using the dq_text variable:\n",
    "\n",
    "* Remove the stop words\n",
    "* Remove punctuation\n",
    "* Remove capitalization\n",
    "* Lemmatize the words"
   ]
  },
  {
   "cell_type": "code",
   "execution_count": 88,
   "id": "1763385e-f6c1-4e0e-9a01-9440b13e942b",
   "metadata": {},
   "outputs": [],
   "source": [
    "# First, let's do all the core Python methods\n",
    "# Loop over dq_text removing stop words, punctuation, and capitalization\n",
    "dq_cleaning = [word.lower() for word in dq_text if word.isalpha() if word.lower() not in stop_words]"
   ]
  },
  {
   "cell_type": "code",
   "execution_count": 89,
   "id": "4762b0ce-1edd-44d4-8565-82ba58f71c19",
   "metadata": {},
   "outputs": [
    {
     "name": "stdout",
     "output_type": "stream",
     "text": [
      "['full', 'size', 'button', 'expand', 'original', 'dimensions', 'ormsby', 'preface', 'criticized', 'fanciful', 'nature', 'doré', 'illustrations', 'others', 'feel', 'woodcuts', 'steel', 'engravings', 'well', 'match', 'quixote', 'dreams', 'full', 'size', 'contents', 'volume', 'introduction', 'prefaratory', 'cervantes', 'quixote']\n"
     ]
    }
   ],
   "source": [
    "print(dq_cleaning[:30])"
   ]
  },
  {
   "cell_type": "code",
   "execution_count": 92,
   "id": "e54a3199-6c09-440a-9135-a6930244b7f5",
   "metadata": {},
   "outputs": [
    {
     "name": "stdout",
     "output_type": "stream",
     "text": [
      "['full', 'size', 'button', 'expand', 'original', 'dimension', 'ormsby', 'preface', 'criticized', 'fanciful', 'nature', 'doré', 'illustration', 'others', 'feel', 'woodcut', 'steel', 'engraving', 'well', 'match', 'quixote', 'dream', 'full', 'size', 'content', 'volume', 'introduction', 'prefaratory', 'cervantes', 'quixote']\n"
     ]
    }
   ],
   "source": [
    "dq_lemmantized = [wordnet_lemmatizer.lemmatize(i) for i in dq_cleaning]\n",
    "print(dq_lemmantized[:30])"
   ]
  },
  {
   "cell_type": "markdown",
   "id": "c0a1c58d-bd69-43f7-8dda-32c6c6c8a542",
   "metadata": {},
   "source": [
    "## Part-of-Speech Tagging\n",
    "\n",
    "Part-of-Speech tagging requires stop words, so we'll be using `dq_text` rathre than `dq_cleaning`."
   ]
  },
  {
   "cell_type": "code",
   "execution_count": 93,
   "id": "134a91fc-b0bd-49db-bade-417acb305af1",
   "metadata": {},
   "outputs": [],
   "source": [
    "dq_tagged = nltk.pos_tag(dq_text)"
   ]
  },
  {
   "cell_type": "code",
   "execution_count": 94,
   "id": "5abb2290-e580-4bd2-989c-33daa05c16bf",
   "metadata": {},
   "outputs": [
    {
     "name": "stdout",
     "output_type": "stream",
     "text": [
      "[('the', 'DT'), ('“', 'NNP'), ('Full', 'NNP'), ('Size', 'NNP'), ('”', 'NNP'), ('button', 'NN'), ('to', 'TO'), ('expand', 'VB'), ('them', 'PRP'), ('to', 'TO')]\n"
     ]
    }
   ],
   "source": [
    "print(dq_tagged[:10])"
   ]
  },
  {
   "cell_type": "code",
   "execution_count": 102,
   "id": "34fd0d56-9958-4130-bb78-3832079c0124",
   "metadata": {},
   "outputs": [],
   "source": [
    "tag_dict = {}\n",
    "for (word, tag) in dq_tagged:\n",
    "    if tag in tag_dict:\n",
    "        tag_dict[tag]+=1\n",
    "    else:\n",
    "        tag_dict[tag] = 1"
   ]
  },
  {
   "cell_type": "code",
   "execution_count": 103,
   "id": "a13d7ce1-1e64-4d58-a2ec-4209a25954a4",
   "metadata": {},
   "outputs": [
    {
     "data": {
      "text/plain": [
       "{'DT': 40784,\n",
       " 'NNP': 31820,\n",
       " 'NN': 62291,\n",
       " 'TO': 13805,\n",
       " 'VB': 21209,\n",
       " 'PRP': 36105,\n",
       " 'PRP$': 12231,\n",
       " 'JJ': 24435,\n",
       " 'NNS': 15272,\n",
       " '.': 7122,\n",
       " 'IN': 57955,\n",
       " 'VBZ': 8311,\n",
       " 'VBN': 10091,\n",
       " ':': 6428,\n",
       " 'VBP': 9660,\n",
       " 'CC': 22991,\n",
       " 'RB': 20233,\n",
       " '(': 572,\n",
       " 'CD': 3104,\n",
       " ')': 572,\n",
       " 'VBD': 23503,\n",
       " ',': 36911,\n",
       " 'MD': 7255,\n",
       " 'RP': 1916,\n",
       " 'WP': 4157,\n",
       " 'WDT': 3546,\n",
       " 'EX': 1073,\n",
       " 'VBG': 7730,\n",
       " 'RBS': 253,\n",
       " 'JJS': 955,\n",
       " 'PDT': 1118,\n",
       " 'RBR': 655,\n",
       " 'JJR': 1294,\n",
       " 'FW': 379,\n",
       " 'WP$': 137,\n",
       " 'WRB': 2148,\n",
       " 'POS': 18,\n",
       " 'NNPS': 158,\n",
       " 'UH': 85,\n",
       " \"''\": 123,\n",
       " '$': 3,\n",
       " '``': 11}"
      ]
     },
     "execution_count": 103,
     "metadata": {},
     "output_type": "execute_result"
    }
   ],
   "source": [
    "tag_dict"
   ]
  },
  {
   "cell_type": "code",
   "execution_count": 105,
   "id": "61b07e70-99cb-440d-856f-7a5febf1428a",
   "metadata": {},
   "outputs": [],
   "source": [
    "# Helpful to sort the dictionary, as they are unordered atm\n",
    "tag_dict_sorted = sorted(tag_dict.items(), reverse=True, key=lambda kv: kv[1])"
   ]
  },
  {
   "cell_type": "code",
   "execution_count": 106,
   "id": "9b19ea5e-42bd-4e5e-8adb-7f0e8882ce12",
   "metadata": {},
   "outputs": [
    {
     "name": "stdout",
     "output_type": "stream",
     "text": [
      "[('NN', 62291), ('IN', 57955), ('DT', 40784), (',', 36911), ('PRP', 36105), ('NNP', 31820), ('JJ', 24435), ('VBD', 23503), ('CC', 22991), ('VB', 21209), ('RB', 20233), ('NNS', 15272), ('TO', 13805), ('PRP$', 12231), ('VBN', 10091), ('VBP', 9660), ('VBZ', 8311), ('VBG', 7730), ('MD', 7255), ('.', 7122), (':', 6428), ('WP', 4157), ('WDT', 3546), ('CD', 3104), ('WRB', 2148), ('RP', 1916), ('JJR', 1294), ('PDT', 1118), ('EX', 1073), ('JJS', 955), ('RBR', 655), ('(', 572), (')', 572), ('FW', 379), ('RBS', 253), ('NNPS', 158), ('WP$', 137), (\"''\", 123), ('UH', 85), ('POS', 18), ('``', 11), ('$', 3)]\n"
     ]
    }
   ],
   "source": [
    "print(tag_dict_sorted)"
   ]
  },
  {
   "cell_type": "code",
   "execution_count": null,
   "id": "7f2ff728-4453-4670-bce5-20be425aadff",
   "metadata": {},
   "outputs": [],
   "source": []
  }
 ],
 "metadata": {
  "kernelspec": {
   "display_name": "Python 3 (ipykernel)",
   "language": "python",
   "name": "python3"
  },
  "language_info": {
   "codemirror_mode": {
    "name": "ipython",
    "version": 3
   },
   "file_extension": ".py",
   "mimetype": "text/x-python",
   "name": "python",
   "nbconvert_exporter": "python",
   "pygments_lexer": "ipython3",
   "version": "3.9.10"
  }
 },
 "nbformat": 4,
 "nbformat_minor": 5
}
