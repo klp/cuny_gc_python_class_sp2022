{
 "cells": [
  {
   "cell_type": "code",
   "execution_count": 1,
   "id": "e1bc549a-3def-48b5-99c2-6ec38b118661",
   "metadata": {},
   "outputs": [],
   "source": [
    "import nltk\n",
    "import matplotlib as plt\n",
    "%matplotlib inline"
   ]
  },
  {
   "cell_type": "code",
   "execution_count": 2,
   "id": "5281bc3d-f318-4bc5-a0a0-b42a87f7a1c5",
   "metadata": {},
   "outputs": [
    {
     "name": "stdout",
     "output_type": "stream",
     "text": [
      "*** Introductory Examples for the NLTK Book ***\n",
      "Loading text1, ..., text9 and sent1, ..., sent9\n",
      "Type the name of the text or sentence to view it.\n",
      "Type: 'texts()' or 'sents()' to list the materials.\n",
      "text1: Moby Dick by Herman Melville 1851\n",
      "text2: Sense and Sensibility by Jane Austen 1811\n",
      "text3: The Book of Genesis\n",
      "text4: Inaugural Address Corpus\n",
      "text5: Chat Corpus\n",
      "text6: Monty Python and the Holy Grail\n",
      "text7: Wall Street Journal\n",
      "text8: Personals Corpus\n",
      "text9: The Man Who Was Thursday by G . K . Chesterton 1908\n"
     ]
    }
   ],
   "source": [
    "from nltk.book import *"
   ]
  },
  {
   "cell_type": "code",
   "execution_count": 3,
   "id": "840b2f62-3de0-4d38-a699-2c6e33666e12",
   "metadata": {},
   "outputs": [
    {
     "name": "stdout",
     "output_type": "stream",
     "text": [
      "Displaying 25 of 1226 matches:\n",
      "s , and to teach them by what name a whale - fish is to be called in our tongue\n",
      "t which is not true .\" -- HACKLUYT \" WHALE . ... Sw . and Dan . HVAL . This ani\n",
      "ulted .\" -- WEBSTER ' S DICTIONARY \" WHALE . ... It is more immediately from th\n",
      "ISH . WAL , DUTCH . HWAL , SWEDISH . WHALE , ICELANDIC . WHALE , ENGLISH . BALE\n",
      "HWAL , SWEDISH . WHALE , ICELANDIC . WHALE , ENGLISH . BALEINE , FRENCH . BALLE\n",
      "least , take the higgledy - piggledy whale statements , however authentic , in \n",
      " dreadful gulf of this monster ' s ( whale ' s ) mouth , are immediately lost a\n",
      " patient Job .\" -- RABELAIS . \" This whale ' s liver was two cartloads .\" -- ST\n",
      " Touching that monstrous bulk of the whale or ork we have received nothing cert\n",
      " of oil will be extracted out of one whale .\" -- IBID . \" HISTORY OF LIFE AND D\n",
      "ise .\" -- KING HENRY . \" Very like a whale .\" -- HAMLET . \" Which to secure , n\n",
      "restless paine , Like as the wounded whale to shore flies thro ' the maine .\" -\n",
      ". OF SPERMA CETI AND THE SPERMA CETI WHALE . VIDE HIS V . E . \" Like Spencer ' \n",
      "t had been a sprat in the mouth of a whale .\" -- PILGRIM ' S PROGRESS . \" That \n",
      "EN ' S ANNUS MIRABILIS . \" While the whale is floating at the stern of the ship\n",
      "e ship called The Jonas - in - the - Whale . ... Some say the whale can ' t ope\n",
      " in - the - Whale . ... Some say the whale can ' t open his mouth , but that is\n",
      " masts to see whether they can see a whale , for the first discoverer has a duc\n",
      " for his pains . ... I was told of a whale taken near Shetland , that had above\n",
      "oneers told me that he caught once a whale in Spitzbergen that was white all ov\n",
      "2 , one eighty feet in length of the whale - bone kind came in , which ( as I w\n",
      "n master and kill this Sperma - ceti whale , for I could never hear of any of t\n",
      " . 1729 . \"... and the breath of the whale is frequendy attended with such an i\n",
      "ed with hoops and armed with ribs of whale .\" -- RAPE OF THE LOCK . \" If we com\n",
      "contemptible in the comparison . The whale is doubtless the largest animal in c\n"
     ]
    }
   ],
   "source": [
    "text1.concordance('whale')"
   ]
  },
  {
   "cell_type": "code",
   "execution_count": 4,
   "id": "eb7c2476-f29e-4f32-9506-fb86b3a51384",
   "metadata": {},
   "outputs": [
    {
     "name": "stdout",
     "output_type": "stream",
     "text": [
      "sea man it ship by him hand them whale view ships land me life death\n",
      "water way head nature fear\n"
     ]
    }
   ],
   "source": [
    "text1.similar('love')"
   ]
  },
  {
   "cell_type": "code",
   "execution_count": 5,
   "id": "0ecc1a18-0fd4-4020-a531-557739fe2898",
   "metadata": {},
   "outputs": [
    {
     "name": "stdout",
     "output_type": "stream",
     "text": [
      "affection sister heart mother time see town life it dear elinor\n",
      "marianne me word family her him do regard head\n"
     ]
    }
   ],
   "source": [
    "text2.similar('love')"
   ]
  },
  {
   "cell_type": "code",
   "execution_count": 6,
   "id": "dcd1f4c8-d4d1-4e3e-9b9f-33612c2a67a0",
   "metadata": {},
   "outputs": [
    {
     "name": "stdout",
     "output_type": "stream",
     "text": [
      "join part hi hey and wb well ty lmao yeah hiya ok oh hello you what\n",
      "yes haha no all\n"
     ]
    }
   ],
   "source": [
    "text5.similar('lol')"
   ]
  },
  {
   "cell_type": "code",
   "execution_count": 7,
   "id": "21cc9367-c0cf-4965-85b6-41afa77e474c",
   "metadata": {},
   "outputs": [
    {
     "name": "stderr",
     "output_type": "stream",
     "text": [
      "/Users/kaiprenger/venv/python_class_2022/lib/python3.9/site-packages/nltk/draw/__init__.py:15: UserWarning: nltk.draw package not loaded (please install Tkinter library).\n",
      "  warnings.warn(\"nltk.draw package not loaded (please install Tkinter library).\")\n"
     ]
    },
    {
     "data": {
      "image/png": "[encoded data removed]",
      "text/plain": [
       "<Figure size 432x288 with 1 Axes>"
      ]
     },
     "metadata": {
      "needs_background": "light"
     },
     "output_type": "display_data"
    }
   ],
   "source": [
    "text1.dispersion_plot(['whale', 'monster'])"
   ]
  },
  {
   "cell_type": "code",
   "execution_count": 8,
   "id": "b2f472ce-efc7-408f-b3f7-12b01bec95b4",
   "metadata": {},
   "outputs": [
    {
     "data": {
      "image/png": "[encoded data removed]",
      "text/plain": [
       "<Figure size 432x288 with 1 Axes>"
      ]
     },
     "metadata": {
      "needs_background": "light"
     },
     "output_type": "display_data"
    }
   ],
   "source": [
    "text2.dispersion_plot(['marriage', 'love', 'husband', 'sister'])"
   ]
  },
  {
   "cell_type": "code",
   "execution_count": 9,
   "id": "472b9ba2-1b3c-4379-baf7-78d81fbbe28c",
   "metadata": {},
   "outputs": [
    {
     "data": {
      "text/plain": [
       "906"
      ]
     },
     "execution_count": 9,
     "metadata": {},
     "output_type": "execute_result"
    }
   ],
   "source": [
    "text1.count('whale')"
   ]
  },
  {
   "cell_type": "code",
   "execution_count": 10,
   "id": "974bdd7e-54e2-4e57-aa72-3bc9bcca3eb3",
   "metadata": {},
   "outputs": [
    {
     "data": {
      "text/plain": [
       "282"
      ]
     },
     "execution_count": 10,
     "metadata": {},
     "output_type": "execute_result"
    }
   ],
   "source": [
    "text1.count('Whale')"
   ]
  },
  {
   "cell_type": "code",
   "execution_count": 11,
   "id": "948a8598-7127-4814-a61a-a70da729431b",
   "metadata": {},
   "outputs": [
    {
     "data": {
      "text/plain": [
       "38"
      ]
     },
     "execution_count": 11,
     "metadata": {},
     "output_type": "execute_result"
    }
   ],
   "source": [
    "text1.count('WHALE')"
   ]
  },
  {
   "cell_type": "code",
   "execution_count": 12,
   "id": "ff44de1c-3c4a-45b8-a2f3-5ec84f573338",
   "metadata": {},
   "outputs": [],
   "source": [
    "text1_tokens = []\n",
    "for t in text1:\n",
    "    if t.isalpha():\n",
    "        t = t.lower()\n",
    "        text1_tokens.append(t)"
   ]
  },
  {
   "cell_type": "code",
   "execution_count": 13,
   "id": "24480653-8072-4c7a-b9dd-7060456efe8a",
   "metadata": {},
   "outputs": [],
   "source": [
    "text1_tokens_comp = [t.lower() for t in text1 if t.isalpha()]"
   ]
  },
  {
   "cell_type": "code",
   "execution_count": 14,
   "id": "41847abc-1da7-4e09-be07-0a31f86a5413",
   "metadata": {},
   "outputs": [
    {
     "data": {
      "text/plain": [
       "1226"
      ]
     },
     "execution_count": 14,
     "metadata": {},
     "output_type": "execute_result"
    }
   ],
   "source": [
    "text1_tokens_comp.count('whale')"
   ]
  },
  {
   "cell_type": "code",
   "execution_count": 15,
   "id": "f4e921ae-ccd6-4880-b814-762a2f65b620",
   "metadata": {},
   "outputs": [
    {
     "data": {
      "text/plain": [
       "0"
      ]
     },
     "execution_count": 15,
     "metadata": {},
     "output_type": "execute_result"
    }
   ],
   "source": [
    "# Double check tokens worked\n",
    "text1_tokens.count('WHALE')"
   ]
  },
  {
   "cell_type": "code",
   "execution_count": 16,
   "id": "2c774b2d-f42f-4631-adb0-3f7e7282f40c",
   "metadata": {},
   "outputs": [
    {
     "data": {
      "text/plain": [
       "218361"
      ]
     },
     "execution_count": 16,
     "metadata": {},
     "output_type": "execute_result"
    }
   ],
   "source": [
    "len(text1_tokens)"
   ]
  },
  {
   "cell_type": "code",
   "execution_count": 17,
   "id": "e6d6d2ed-fe53-463d-a9e5-ba99bbd364a8",
   "metadata": {},
   "outputs": [
    {
     "data": {
      "text/plain": [
       "260819"
      ]
     },
     "execution_count": 17,
     "metadata": {},
     "output_type": "execute_result"
    }
   ],
   "source": [
    "len(text1)"
   ]
  },
  {
   "cell_type": "code",
   "execution_count": 18,
   "id": "5bb36f57-6647-420a-8bd1-aaae5b85d624",
   "metadata": {},
   "outputs": [
    {
     "data": {
      "text/plain": [
       "16948"
      ]
     },
     "execution_count": 18,
     "metadata": {},
     "output_type": "execute_result"
    }
   ],
   "source": [
    "# Number of unique works in text1\n",
    "len(set(text1_tokens))"
   ]
  },
  {
   "cell_type": "code",
   "execution_count": 19,
   "id": "b2d954f0-32b8-4500-a845-7e81c4f01ef1",
   "metadata": {},
   "outputs": [
    {
     "data": {
      "text/plain": [
       "0.07761459234936642"
      ]
     },
     "execution_count": 19,
     "metadata": {},
     "output_type": "execute_result"
    }
   ],
   "source": [
    "# Calculating lexical density as an approxiation of range of vocabulary (statiscally a good metric)\n",
    "len(set(text1_tokens)) / len(text1_tokens)"
   ]
  },
  {
   "cell_type": "markdown",
   "id": "1ffc874c-8341-4644-b5ca-5577ad760ff1",
   "metadata": {},
   "source": [
    "## Side note\n",
    "\n",
    "Lexical density is helpful when comparing one work to another. However, because written texts are finite  vary in length, and some works are repetitive, you would run into trouble comparing a 1000 word text to 10,000 word text. It's important to limit samples by slicing."
   ]
  },
  {
   "cell_type": "code",
   "execution_count": 20,
   "id": "f279c8ce-fa37-4542-8e44-89f0a1e27f95",
   "metadata": {},
   "outputs": [],
   "source": [
    "text1_slice = text1_tokens[0:10000]"
   ]
  },
  {
   "cell_type": "code",
   "execution_count": 21,
   "id": "66f999bb-29a0-431d-9af1-ea492ced0c17",
   "metadata": {},
   "outputs": [
    {
     "data": {
      "text/plain": [
       "0.2816"
      ]
     },
     "execution_count": 21,
     "metadata": {},
     "output_type": "execute_result"
    }
   ],
   "source": [
    "len(set(text1_slice)) / len(text1_slice)"
   ]
  },
  {
   "cell_type": "markdown",
   "id": "f22b3cc7-324d-4255-9c7d-ad0a4b35e9a2",
   "metadata": {},
   "source": [
    "## Assignment: Challenge\n",
    "\n",
    "Let’s compare the lexical density of Moby Dick with Sense and Sensibility. Make sure to:\n",
    "\n",
    "1. Make all the words lowercase and remove punctuation.\n",
    "2. Make a slice of the first 10,000 words.\n",
    "3. Calculate lexical density by dividing the length of the set of the slice by the length of the slice."
   ]
  },
  {
   "cell_type": "code",
   "execution_count": 22,
   "id": "52fb6f4f-e7de-4782-991c-839cc70b25e1",
   "metadata": {},
   "outputs": [],
   "source": [
    "# first, tokenize text2\n",
    "text2_tokens = [t.lower for t in text2 if t.isalpha()]"
   ]
  },
  {
   "cell_type": "code",
   "execution_count": 23,
   "id": "089255d5-f79e-4949-b5eb-35bf7c3ae604",
   "metadata": {},
   "outputs": [],
   "source": [
    "# next, take a slice that matches the text1 slice\n",
    "text2_slice = text2_tokens[:10000]"
   ]
  },
  {
   "cell_type": "code",
   "execution_count": 24,
   "id": "9b744723-9bd4-4372-8b16-63d2a649568c",
   "metadata": {},
   "outputs": [
    {
     "data": {
      "text/plain": [
       "0.9661"
      ]
     },
     "execution_count": 24,
     "metadata": {},
     "output_type": "execute_result"
    }
   ],
   "source": [
    "# finally, calculate lexical density\n",
    "len(set(text2_slice)) / len(text2_slice)"
   ]
  },
  {
   "cell_type": "code",
   "execution_count": null,
   "id": "9225c708-a216-4feb-abc5-3f3898c738bb",
   "metadata": {},
   "outputs": [],
   "source": []
  }
 ],
 "metadata": {
  "kernelspec": {
   "display_name": "Python 3 (ipykernel)",
   "language": "python",
   "name": "python3"
  },
  "language_info": {
   "codemirror_mode": {
    "name": "ipython",
    "version": 3
   },
   "file_extension": ".py",
   "mimetype": "text/x-python",
   "name": "python",
   "nbconvert_exporter": "python",
   "pygments_lexer": "ipython3",
   "version": "3.9.10"
  }
 },
 "nbformat": 4,
 "nbformat_minor": 5
}
