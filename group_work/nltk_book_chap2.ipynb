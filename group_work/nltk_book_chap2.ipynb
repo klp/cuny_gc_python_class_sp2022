{
 "cells": [
  {
   "cell_type": "markdown",
   "id": "e2a07560-41a2-4ee2-8596-af2cf4c31214",
   "metadata": {},
   "source": [
    "# 2. Accessing Text Corpora and Lexical Resources\n",
    "\n",
    "## Goals\n",
    "\n",
    "1. What are some useful text corpora and lexical resources, and how can we access them with Python?\n",
    "2. Which Python constructs are most helpful for this work?\n",
    "3. How do we avoid repeating ourselves when writing Python code?"
   ]
  },
  {
   "cell_type": "markdown",
   "id": "e9703fbc-df05-4276-9712-afff75d00fa0",
   "metadata": {},
   "source": [
    "### 1. Accessing text corpora\n",
    "\n",
    "Aren't we lucky? NLTK provides a small sample of Project Gutenberg texts."
   ]
  },
  {
   "cell_type": "code",
   "execution_count": 1,
   "id": "3667e481-bfac-4a2b-af7c-cf2b6d608297",
   "metadata": {},
   "outputs": [],
   "source": [
    "# Let's import like an expert\n",
    "from nltk.corpus import gutenberg\n"
   ]
  },
  {
   "cell_type": "code",
   "execution_count": 2,
   "id": "768857d7-7c93-4c33-909c-20205a43f943",
   "metadata": {},
   "outputs": [],
   "source": [
    "# import nltk"
   ]
  },
  {
   "cell_type": "code",
   "execution_count": 3,
   "id": "0b0a9004-1f64-40be-8920-6377d3e5860b",
   "metadata": {},
   "outputs": [],
   "source": [
    "# Get the file ids so we can reference a book in the corpus\n",
    "# nltk.corpus.gutenberg.fileids()"
   ]
  },
  {
   "cell_type": "markdown",
   "id": "0d0eef21-c21b-416a-b773-6ad9ce2e0998",
   "metadata": {},
   "source": [
    "gutenberg.fileids()"
   ]
  },
  {
   "cell_type": "markdown",
   "id": "e836dddb-a67b-430f-8962-ad1202d9625a",
   "metadata": {},
   "source": [
    "For my tastes, Persuasion is the best Austen novel, so we'll pick it instead of Emma, as in the NLTK book example."
   ]
  },
  {
   "cell_type": "code",
   "execution_count": 6,
   "id": "97d043f2-f3e2-4481-9542-f29c93d51cf7",
   "metadata": {},
   "outputs": [
    {
     "data": {
      "text/plain": [
       "98171"
      ]
     },
     "execution_count": 6,
     "metadata": {},
     "output_type": "execute_result"
    }
   ],
   "source": [
    "# Count how many words in the fileid 'austen-persuasion.txt'\n",
    "persuasion_words = gutenberg.words('austen-persuasion.txt')\n",
    "len(persuasion_words)"
   ]
  },
  {
   "cell_type": "markdown",
   "id": "cf79b91c-ad72-4a37-b8a5-20c77ecf8066",
   "metadata": {},
   "source": [
    "Next, we'll write a small program looping over each of the `gutenberg.fileids()`, and capturing the characters per word, the words per sentence, and then finally, the number of words per unique word. "
   ]
  },
  {
   "cell_type": "code",
   "execution_count": 7,
   "id": "0e68b7db-ecac-47b2-9330-082b538a9c8c",
   "metadata": {},
   "outputs": [
    {
     "name": "stdout",
     "output_type": "stream",
     "text": [
      "5 25 26 austen-emma.txt\n",
      "5 26 17 austen-persuasion.txt\n",
      "5 28 22 austen-sense.txt\n",
      "4 34 79 bible-kjv.txt\n",
      "5 19 5 blake-poems.txt\n",
      "4 19 14 bryant-stories.txt\n",
      "4 18 12 burgess-busterbrown.txt\n",
      "4 20 13 carroll-alice.txt\n",
      "5 20 12 chesterton-ball.txt\n",
      "5 23 11 chesterton-brown.txt\n",
      "5 19 11 chesterton-thursday.txt\n",
      "4 21 25 edgeworth-parents.txt\n",
      "5 26 15 melville-moby_dick.txt\n",
      "5 52 11 milton-paradise.txt\n",
      "4 12 9 shakespeare-caesar.txt\n",
      "4 12 8 shakespeare-hamlet.txt\n",
      "4 12 7 shakespeare-macbeth.txt\n",
      "5 36 12 whitman-leaves.txt\n"
     ]
    }
   ],
   "source": [
    "for fileid in gutenberg.fileids():\n",
    "    num_chars = len(gutenberg.raw(fileid))\n",
    "    num_words = len(gutenberg.words(fileid))\n",
    "    num_sents = len(gutenberg.sents(fileid))\n",
    "    num_vocab = len(set(w.lower() for w in gutenberg.words(fileid)))\n",
    "    print(round(num_chars/num_words), round(num_words/num_sents), round(num_words/num_vocab), fileid)"
   ]
  },
  {
   "cell_type": "code",
   "execution_count": null,
   "id": "3753d86d-e406-4e4b-80a0-e81e1870e827",
   "metadata": {},
   "outputs": [],
   "source": []
  }
 ],
 "metadata": {
  "kernelspec": {
   "display_name": "Python 3 (ipykernel)",
   "language": "python",
   "name": "python3"
  },
  "language_info": {
   "codemirror_mode": {
    "name": "ipython",
    "version": 3
   },
   "file_extension": ".py",
   "mimetype": "text/x-python",
   "name": "python",
   "nbconvert_exporter": "python",
   "pygments_lexer": "ipython3",
   "version": "3.9.10"
  }
 },
 "nbformat": 4,
 "nbformat_minor": 5
}
