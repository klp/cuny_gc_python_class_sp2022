{
 "cells": [
  {
   "cell_type": "markdown",
   "id": "e2a07560-41a2-4ee2-8596-af2cf4c31214",
   "metadata": {},
   "source": [
    "# 2. Accessing Text Corpora and Lexical Resources\n",
    "\n",
    "## Goals\n",
    "\n",
    "1. What are some useful text corpora and lexical resources, and how can we access them with Python?\n",
    "2. Which Python constructs are most helpful for this work?\n",
    "3. How do we avoid repeating ourselves when writing Python code?"
   ]
  },
  {
   "cell_type": "markdown",
   "id": "e9703fbc-df05-4276-9712-afff75d00fa0",
   "metadata": {},
   "source": [
    "### 1. Accessing text corpora\n",
    "\n",
    "Aren't we lucky? NLTK provides a small sample of Project Gutenberg texts."
   ]
  },
  {
   "cell_type": "code",
   "execution_count": 1,
   "id": "3667e481-bfac-4a2b-af7c-cf2b6d608297",
   "metadata": {},
   "outputs": [],
   "source": [
    "# Let's import like an expert\n",
    "from nltk.corpus import gutenberg\n"
   ]
  },
  {
   "cell_type": "code",
   "execution_count": 2,
   "id": "768857d7-7c93-4c33-909c-20205a43f943",
   "metadata": {},
   "outputs": [],
   "source": [
    "# import nltk"
   ]
  },
  {
   "cell_type": "code",
   "execution_count": 3,
   "id": "0b0a9004-1f64-40be-8920-6377d3e5860b",
   "metadata": {},
   "outputs": [],
   "source": [
    "# Get the file ids so we can reference a book in the corpus\n",
    "# nltk.corpus.gutenberg.fileids()"
   ]
  },
  {
   "cell_type": "markdown",
   "id": "0d0eef21-c21b-416a-b773-6ad9ce2e0998",
   "metadata": {},
   "source": [
    "gutenberg.fileids()"
   ]
  },
  {
   "cell_type": "markdown",
   "id": "e836dddb-a67b-430f-8962-ad1202d9625a",
   "metadata": {},
   "source": [
    "For my tastes, Persuasion is the best Austen novel, so we'll pick it instead of Emma, as in the NLTK book example."
   ]
  },
  {
   "cell_type": "code",
   "execution_count": 4,
   "id": "97d043f2-f3e2-4481-9542-f29c93d51cf7",
   "metadata": {},
   "outputs": [
    {
     "data": {
      "text/plain": [
       "98171"
      ]
     },
     "execution_count": 4,
     "metadata": {},
     "output_type": "execute_result"
    }
   ],
   "source": [
    "# Count how many words in the fileid 'austen-persuasion.txt'\n",
    "persuasion_words = gutenberg.words('austen-persuasion.txt')\n",
    "len(persuasion_words)"
   ]
  },
  {
   "cell_type": "markdown",
   "id": "cf79b91c-ad72-4a37-b8a5-20c77ecf8066",
   "metadata": {},
   "source": [
    "Next, we'll write a small program looping over each of the `gutenberg.fileids()`, and capturing the characters per word, the words per sentence, and then finally, the number of words per unique word. "
   ]
  },
  {
   "cell_type": "code",
   "execution_count": 5,
   "id": "0e68b7db-ecac-47b2-9330-082b538a9c8c",
   "metadata": {},
   "outputs": [
    {
     "name": "stdout",
     "output_type": "stream",
     "text": [
      "5 25 26 austen-emma.txt\n",
      "5 26 17 austen-persuasion.txt\n",
      "5 28 22 austen-sense.txt\n",
      "4 34 79 bible-kjv.txt\n",
      "5 19 5 blake-poems.txt\n",
      "4 19 14 bryant-stories.txt\n",
      "4 18 12 burgess-busterbrown.txt\n",
      "4 20 13 carroll-alice.txt\n",
      "5 20 12 chesterton-ball.txt\n",
      "5 23 11 chesterton-brown.txt\n",
      "5 19 11 chesterton-thursday.txt\n",
      "4 21 25 edgeworth-parents.txt\n",
      "5 26 15 melville-moby_dick.txt\n",
      "5 52 11 milton-paradise.txt\n",
      "4 12 9 shakespeare-caesar.txt\n",
      "4 12 8 shakespeare-hamlet.txt\n",
      "4 12 7 shakespeare-macbeth.txt\n",
      "5 36 12 whitman-leaves.txt\n"
     ]
    }
   ],
   "source": [
    "for fileid in gutenberg.fileids():\n",
    "    num_chars = len(gutenberg.raw(fileid))\n",
    "    num_words = len(gutenberg.words(fileid))\n",
    "    num_sents = len(gutenberg.sents(fileid))\n",
    "    num_vocab = len(set(w.lower() for w in gutenberg.words(fileid)))\n",
    "    print(round(num_chars/num_words), round(num_words/num_sents), round(num_words/num_vocab), fileid)"
   ]
  },
  {
   "cell_type": "markdown",
   "id": "13116ffc-2658-4e56-a054-e3282040649f",
   "metadata": {},
   "source": [
    "Observe that average word length appears to be a general property of English, since it has a recurrent value of 4. (In fact, the average word length is really 3 not 4, since the num_chars variable counts space characters.) By contrast average sentence length and lexical diversity appear to be characteristics of particular authors."
   ]
  },
  {
   "cell_type": "markdown",
   "id": "b4dc0330-47aa-40c8-b728-3c2b000c48d8",
   "metadata": {},
   "source": [
    "Notice that `gutenberg.raw()` gives you the number of characters, including spaces.\n",
    "\n",
    "But let's take a look at `gutenberg.sents()`."
   ]
  },
  {
   "cell_type": "code",
   "execution_count": 16,
   "id": "c6e750e9-c896-44e5-8b70-1b322e03ec59",
   "metadata": {},
   "outputs": [
    {
     "data": {
      "text/plain": [
       "['\"',\n",
       " 'Heir',\n",
       " 'presumptive',\n",
       " ',',\n",
       " 'William',\n",
       " 'Walter',\n",
       " 'Elliot',\n",
       " ',',\n",
       " 'Esq',\n",
       " '.,',\n",
       " 'great',\n",
       " 'grandson',\n",
       " 'of',\n",
       " 'the',\n",
       " 'second',\n",
       " 'Sir',\n",
       " 'Walter',\n",
       " '.\"']"
      ]
     },
     "execution_count": 16,
     "metadata": {},
     "output_type": "execute_result"
    }
   ],
   "source": [
    "persuasion_sentences = gutenberg.sents('austen-persuasion.txt')\n",
    "persuasion_sentences[10]"
   ]
  },
  {
   "cell_type": "code",
   "execution_count": 18,
   "id": "9d84e383-6ac6-4407-be78-aa2b68d85517",
   "metadata": {},
   "outputs": [],
   "source": [
    "longest_len = max(len(s) for s in persuasion_sentences)"
   ]
  },
  {
   "cell_type": "code",
   "execution_count": 21,
   "id": "bc170c5c-3bfc-489b-afd9-8b2c110cd862",
   "metadata": {},
   "outputs": [],
   "source": [
    "longest_sentence = [s for s in persuasion_sentences if len(s) == longest_len]"
   ]
  },
  {
   "cell_type": "code",
   "execution_count": 22,
   "id": "fa85a4ed-2f4c-4ba7-b50b-c1999004641a",
   "metadata": {},
   "outputs": [
    {
     "data": {
      "text/plain": [
       "[['For',\n",
       "  ',',\n",
       "  'though',\n",
       "  'shy',\n",
       "  ',',\n",
       "  'he',\n",
       "  'did',\n",
       "  'not',\n",
       "  'seem',\n",
       "  'reserved',\n",
       "  ';',\n",
       "  'it',\n",
       "  'had',\n",
       "  'rather',\n",
       "  'the',\n",
       "  'appearance',\n",
       "  'of',\n",
       "  'feelings',\n",
       "  'glad',\n",
       "  'to',\n",
       "  'burst',\n",
       "  'their',\n",
       "  'usual',\n",
       "  'restraints',\n",
       "  ';',\n",
       "  'and',\n",
       "  'having',\n",
       "  'talked',\n",
       "  'of',\n",
       "  'poetry',\n",
       "  ',',\n",
       "  'the',\n",
       "  'richness',\n",
       "  'of',\n",
       "  'the',\n",
       "  'present',\n",
       "  'age',\n",
       "  ',',\n",
       "  'and',\n",
       "  'gone',\n",
       "  'through',\n",
       "  'a',\n",
       "  'brief',\n",
       "  'comparison',\n",
       "  'of',\n",
       "  'opinion',\n",
       "  'as',\n",
       "  'to',\n",
       "  'the',\n",
       "  'first',\n",
       "  '-',\n",
       "  'rate',\n",
       "  'poets',\n",
       "  ',',\n",
       "  'trying',\n",
       "  'to',\n",
       "  'ascertain',\n",
       "  'whether',\n",
       "  'Marmion',\n",
       "  'or',\n",
       "  'The',\n",
       "  'Lady',\n",
       "  'of',\n",
       "  'the',\n",
       "  'Lake',\n",
       "  'were',\n",
       "  'to',\n",
       "  'be',\n",
       "  'preferred',\n",
       "  ',',\n",
       "  'and',\n",
       "  'how',\n",
       "  'ranked',\n",
       "  'the',\n",
       "  'Giaour',\n",
       "  'and',\n",
       "  'The',\n",
       "  'Bride',\n",
       "  'of',\n",
       "  'Abydos',\n",
       "  ';',\n",
       "  'and',\n",
       "  'moreover',\n",
       "  ',',\n",
       "  'how',\n",
       "  'the',\n",
       "  'Giaour',\n",
       "  'was',\n",
       "  'to',\n",
       "  'be',\n",
       "  'pronounced',\n",
       "  ',',\n",
       "  'he',\n",
       "  'showed',\n",
       "  'himself',\n",
       "  'so',\n",
       "  'intimately',\n",
       "  'acquainted',\n",
       "  'with',\n",
       "  'all',\n",
       "  'the',\n",
       "  'tenderest',\n",
       "  'songs',\n",
       "  'of',\n",
       "  'the',\n",
       "  'one',\n",
       "  'poet',\n",
       "  ',',\n",
       "  'and',\n",
       "  'all',\n",
       "  'the',\n",
       "  'impassioned',\n",
       "  'descriptions',\n",
       "  'of',\n",
       "  'hopeless',\n",
       "  'agony',\n",
       "  'of',\n",
       "  'the',\n",
       "  'other',\n",
       "  ';',\n",
       "  'he',\n",
       "  'repeated',\n",
       "  ',',\n",
       "  'with',\n",
       "  'such',\n",
       "  'tremulous',\n",
       "  'feeling',\n",
       "  ',',\n",
       "  'the',\n",
       "  'various',\n",
       "  'lines',\n",
       "  'which',\n",
       "  'imaged',\n",
       "  'a',\n",
       "  'broken',\n",
       "  'heart',\n",
       "  ',',\n",
       "  'or',\n",
       "  'a',\n",
       "  'mind',\n",
       "  'destroyed',\n",
       "  'by',\n",
       "  'wretchedness',\n",
       "  ',',\n",
       "  'and',\n",
       "  'looked',\n",
       "  'so',\n",
       "  'entirely',\n",
       "  'as',\n",
       "  'if',\n",
       "  'he',\n",
       "  'meant',\n",
       "  'to',\n",
       "  'be',\n",
       "  'understood',\n",
       "  ',',\n",
       "  'that',\n",
       "  'she',\n",
       "  'ventured',\n",
       "  'to',\n",
       "  'hope',\n",
       "  'he',\n",
       "  'did',\n",
       "  'not',\n",
       "  'always',\n",
       "  'read',\n",
       "  'only',\n",
       "  'poetry',\n",
       "  ',',\n",
       "  'and',\n",
       "  'to',\n",
       "  'say',\n",
       "  ',',\n",
       "  'that',\n",
       "  'she',\n",
       "  'thought',\n",
       "  'it',\n",
       "  'was',\n",
       "  'the',\n",
       "  'misfortune',\n",
       "  'of',\n",
       "  'poetry',\n",
       "  'to',\n",
       "  'be',\n",
       "  'seldom',\n",
       "  'safely',\n",
       "  'enjoyed',\n",
       "  'by',\n",
       "  'those',\n",
       "  'who',\n",
       "  'enjoyed',\n",
       "  'it',\n",
       "  'completely',\n",
       "  ';',\n",
       "  'and',\n",
       "  'that',\n",
       "  'the',\n",
       "  'strong',\n",
       "  'feelings',\n",
       "  'which',\n",
       "  'alone',\n",
       "  'could',\n",
       "  'estimate',\n",
       "  'it',\n",
       "  'truly',\n",
       "  'were',\n",
       "  'the',\n",
       "  'very',\n",
       "  'feelings',\n",
       "  'which',\n",
       "  'ought',\n",
       "  'to',\n",
       "  'taste',\n",
       "  'it',\n",
       "  'but',\n",
       "  'sparingly',\n",
       "  '.']]"
      ]
     },
     "execution_count": 22,
     "metadata": {},
     "output_type": "execute_result"
    }
   ],
   "source": [
    "longest_sentence"
   ]
  }
 ],
 "metadata": {
  "kernelspec": {
   "display_name": "Python 3 (ipykernel)",
   "language": "python",
   "name": "python3"
  },
  "language_info": {
   "codemirror_mode": {
    "name": "ipython",
    "version": 3
   },
   "file_extension": ".py",
   "mimetype": "text/x-python",
   "name": "python",
   "nbconvert_exporter": "python",
   "pygments_lexer": "ipython3",
   "version": "3.9.10"
  }
 },
 "nbformat": 4,
 "nbformat_minor": 5
}
