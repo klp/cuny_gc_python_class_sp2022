{
 "cells": [
  {
   "cell_type": "markdown",
   "id": "e2a07560-41a2-4ee2-8596-af2cf4c31214",
   "metadata": {},
   "source": [
    "# 2. Accessing Text Corpora and Lexical Resources\n",
    "\n",
    "## Goals\n",
    "\n",
    "1. What are some useful text corpora and lexical resources, and how can we access them with Python?\n",
    "2. Which Python constructs are most helpful for this work?\n",
    "3. How do we avoid repeating ourselves when writing Python code?"
   ]
  },
  {
   "cell_type": "markdown",
   "id": "e9703fbc-df05-4276-9712-afff75d00fa0",
   "metadata": {},
   "source": [
    "### 1. Accessing text corpora\n",
    "\n",
    "Aren't we lucky? NLTK provides a small sample of Project Gutenberg texts."
   ]
  },
  {
   "cell_type": "code",
   "execution_count": 1,
   "id": "3667e481-bfac-4a2b-af7c-cf2b6d608297",
   "metadata": {},
   "outputs": [],
   "source": [
    "# Let's import like an expert\n",
    "from nltk.corpus import gutenberg\n"
   ]
  },
  {
   "cell_type": "code",
   "execution_count": 25,
   "id": "768857d7-7c93-4c33-909c-20205a43f943",
   "metadata": {},
   "outputs": [],
   "source": [
    "# import nltk"
   ]
  },
  {
   "cell_type": "code",
   "execution_count": 3,
   "id": "0b0a9004-1f64-40be-8920-6377d3e5860b",
   "metadata": {},
   "outputs": [],
   "source": [
    "# Get the file ids so we can reference a book in the corpus\n",
    "# nltk.corpus.gutenberg.fileids()"
   ]
  },
  {
   "cell_type": "markdown",
   "id": "0d0eef21-c21b-416a-b773-6ad9ce2e0998",
   "metadata": {},
   "source": [
    "gutenberg.fileids()"
   ]
  },
  {
   "cell_type": "markdown",
   "id": "e836dddb-a67b-430f-8962-ad1202d9625a",
   "metadata": {},
   "source": [
    "For my tastes, Persuasion is the best Austen novel, so we'll pick it instead of Emma, as in the NLTK book example."
   ]
  },
  {
   "cell_type": "code",
   "execution_count": 4,
   "id": "97d043f2-f3e2-4481-9542-f29c93d51cf7",
   "metadata": {},
   "outputs": [
    {
     "data": {
      "text/plain": [
       "98171"
      ]
     },
     "execution_count": 4,
     "metadata": {},
     "output_type": "execute_result"
    }
   ],
   "source": [
    "# Count how many words in the fileid 'austen-persuasion.txt'\n",
    "persuasion_words = gutenberg.words('austen-persuasion.txt')\n",
    "len(persuasion_words)"
   ]
  },
  {
   "cell_type": "markdown",
   "id": "cf79b91c-ad72-4a37-b8a5-20c77ecf8066",
   "metadata": {},
   "source": [
    "Next, we'll write a small program looping over each of the `gutenberg.fileids()`, and capturing the characters per word, the words per sentence, and then finally, the number of words per unique word. "
   ]
  },
  {
   "cell_type": "code",
   "execution_count": 5,
   "id": "0e68b7db-ecac-47b2-9330-082b538a9c8c",
   "metadata": {},
   "outputs": [
    {
     "name": "stdout",
     "output_type": "stream",
     "text": [
      "5 25 26 austen-emma.txt\n",
      "5 26 17 austen-persuasion.txt\n",
      "5 28 22 austen-sense.txt\n",
      "4 34 79 bible-kjv.txt\n",
      "5 19 5 blake-poems.txt\n",
      "4 19 14 bryant-stories.txt\n",
      "4 18 12 burgess-busterbrown.txt\n",
      "4 20 13 carroll-alice.txt\n",
      "5 20 12 chesterton-ball.txt\n",
      "5 23 11 chesterton-brown.txt\n",
      "5 19 11 chesterton-thursday.txt\n",
      "4 21 25 edgeworth-parents.txt\n",
      "5 26 15 melville-moby_dick.txt\n",
      "5 52 11 milton-paradise.txt\n",
      "4 12 9 shakespeare-caesar.txt\n",
      "4 12 8 shakespeare-hamlet.txt\n",
      "4 12 7 shakespeare-macbeth.txt\n",
      "5 36 12 whitman-leaves.txt\n"
     ]
    }
   ],
   "source": [
    "for fileid in gutenberg.fileids():\n",
    "    num_chars = len(gutenberg.raw(fileid))\n",
    "    num_words = len(gutenberg.words(fileid))\n",
    "    num_sents = len(gutenberg.sents(fileid))\n",
    "    num_vocab = len(set(w.lower() for w in gutenberg.words(fileid)))\n",
    "    print(round(num_chars/num_words), round(num_words/num_sents), round(num_words/num_vocab), fileid)"
   ]
  },
  {
   "cell_type": "markdown",
   "id": "13116ffc-2658-4e56-a054-e3282040649f",
   "metadata": {},
   "source": [
    "Observe that average word length appears to be a general property of English, since it has a recurrent value of 4. (In fact, the average word length is really 3 not 4, since the num_chars variable counts space characters.) By contrast average sentence length and lexical diversity appear to be characteristics of particular authors."
   ]
  },
  {
   "cell_type": "markdown",
   "id": "b4dc0330-47aa-40c8-b728-3c2b000c48d8",
   "metadata": {},
   "source": [
    "Notice that `gutenberg.raw()` gives you the number of characters, including spaces.\n",
    "\n",
    "But let's take a look at `gutenberg.sents()`."
   ]
  },
  {
   "cell_type": "code",
   "execution_count": 6,
   "id": "c6e750e9-c896-44e5-8b70-1b322e03ec59",
   "metadata": {},
   "outputs": [
    {
     "data": {
      "text/plain": [
       "['\"',\n",
       " 'Heir',\n",
       " 'presumptive',\n",
       " ',',\n",
       " 'William',\n",
       " 'Walter',\n",
       " 'Elliot',\n",
       " ',',\n",
       " 'Esq',\n",
       " '.,',\n",
       " 'great',\n",
       " 'grandson',\n",
       " 'of',\n",
       " 'the',\n",
       " 'second',\n",
       " 'Sir',\n",
       " 'Walter',\n",
       " '.\"']"
      ]
     },
     "execution_count": 6,
     "metadata": {},
     "output_type": "execute_result"
    }
   ],
   "source": [
    "persuasion_sentences = gutenberg.sents('austen-persuasion.txt')\n",
    "persuasion_sentences[10]"
   ]
  },
  {
   "cell_type": "code",
   "execution_count": 7,
   "id": "9d84e383-6ac6-4407-be78-aa2b68d85517",
   "metadata": {},
   "outputs": [],
   "source": [
    "longest_len = max(len(s) for s in persuasion_sentences)"
   ]
  },
  {
   "cell_type": "code",
   "execution_count": 8,
   "id": "bc170c5c-3bfc-489b-afd9-8b2c110cd862",
   "metadata": {},
   "outputs": [],
   "source": [
    "longest_sentence = [s for s in persuasion_sentences if len(s) == longest_len]"
   ]
  },
  {
   "cell_type": "code",
   "execution_count": 9,
   "id": "fa85a4ed-2f4c-4ba7-b50b-c1999004641a",
   "metadata": {},
   "outputs": [
    {
     "data": {
      "text/plain": [
       "[['For',\n",
       "  ',',\n",
       "  'though',\n",
       "  'shy',\n",
       "  ',',\n",
       "  'he',\n",
       "  'did',\n",
       "  'not',\n",
       "  'seem',\n",
       "  'reserved',\n",
       "  ';',\n",
       "  'it',\n",
       "  'had',\n",
       "  'rather',\n",
       "  'the',\n",
       "  'appearance',\n",
       "  'of',\n",
       "  'feelings',\n",
       "  'glad',\n",
       "  'to',\n",
       "  'burst',\n",
       "  'their',\n",
       "  'usual',\n",
       "  'restraints',\n",
       "  ';',\n",
       "  'and',\n",
       "  'having',\n",
       "  'talked',\n",
       "  'of',\n",
       "  'poetry',\n",
       "  ',',\n",
       "  'the',\n",
       "  'richness',\n",
       "  'of',\n",
       "  'the',\n",
       "  'present',\n",
       "  'age',\n",
       "  ',',\n",
       "  'and',\n",
       "  'gone',\n",
       "  'through',\n",
       "  'a',\n",
       "  'brief',\n",
       "  'comparison',\n",
       "  'of',\n",
       "  'opinion',\n",
       "  'as',\n",
       "  'to',\n",
       "  'the',\n",
       "  'first',\n",
       "  '-',\n",
       "  'rate',\n",
       "  'poets',\n",
       "  ',',\n",
       "  'trying',\n",
       "  'to',\n",
       "  'ascertain',\n",
       "  'whether',\n",
       "  'Marmion',\n",
       "  'or',\n",
       "  'The',\n",
       "  'Lady',\n",
       "  'of',\n",
       "  'the',\n",
       "  'Lake',\n",
       "  'were',\n",
       "  'to',\n",
       "  'be',\n",
       "  'preferred',\n",
       "  ',',\n",
       "  'and',\n",
       "  'how',\n",
       "  'ranked',\n",
       "  'the',\n",
       "  'Giaour',\n",
       "  'and',\n",
       "  'The',\n",
       "  'Bride',\n",
       "  'of',\n",
       "  'Abydos',\n",
       "  ';',\n",
       "  'and',\n",
       "  'moreover',\n",
       "  ',',\n",
       "  'how',\n",
       "  'the',\n",
       "  'Giaour',\n",
       "  'was',\n",
       "  'to',\n",
       "  'be',\n",
       "  'pronounced',\n",
       "  ',',\n",
       "  'he',\n",
       "  'showed',\n",
       "  'himself',\n",
       "  'so',\n",
       "  'intimately',\n",
       "  'acquainted',\n",
       "  'with',\n",
       "  'all',\n",
       "  'the',\n",
       "  'tenderest',\n",
       "  'songs',\n",
       "  'of',\n",
       "  'the',\n",
       "  'one',\n",
       "  'poet',\n",
       "  ',',\n",
       "  'and',\n",
       "  'all',\n",
       "  'the',\n",
       "  'impassioned',\n",
       "  'descriptions',\n",
       "  'of',\n",
       "  'hopeless',\n",
       "  'agony',\n",
       "  'of',\n",
       "  'the',\n",
       "  'other',\n",
       "  ';',\n",
       "  'he',\n",
       "  'repeated',\n",
       "  ',',\n",
       "  'with',\n",
       "  'such',\n",
       "  'tremulous',\n",
       "  'feeling',\n",
       "  ',',\n",
       "  'the',\n",
       "  'various',\n",
       "  'lines',\n",
       "  'which',\n",
       "  'imaged',\n",
       "  'a',\n",
       "  'broken',\n",
       "  'heart',\n",
       "  ',',\n",
       "  'or',\n",
       "  'a',\n",
       "  'mind',\n",
       "  'destroyed',\n",
       "  'by',\n",
       "  'wretchedness',\n",
       "  ',',\n",
       "  'and',\n",
       "  'looked',\n",
       "  'so',\n",
       "  'entirely',\n",
       "  'as',\n",
       "  'if',\n",
       "  'he',\n",
       "  'meant',\n",
       "  'to',\n",
       "  'be',\n",
       "  'understood',\n",
       "  ',',\n",
       "  'that',\n",
       "  'she',\n",
       "  'ventured',\n",
       "  'to',\n",
       "  'hope',\n",
       "  'he',\n",
       "  'did',\n",
       "  'not',\n",
       "  'always',\n",
       "  'read',\n",
       "  'only',\n",
       "  'poetry',\n",
       "  ',',\n",
       "  'and',\n",
       "  'to',\n",
       "  'say',\n",
       "  ',',\n",
       "  'that',\n",
       "  'she',\n",
       "  'thought',\n",
       "  'it',\n",
       "  'was',\n",
       "  'the',\n",
       "  'misfortune',\n",
       "  'of',\n",
       "  'poetry',\n",
       "  'to',\n",
       "  'be',\n",
       "  'seldom',\n",
       "  'safely',\n",
       "  'enjoyed',\n",
       "  'by',\n",
       "  'those',\n",
       "  'who',\n",
       "  'enjoyed',\n",
       "  'it',\n",
       "  'completely',\n",
       "  ';',\n",
       "  'and',\n",
       "  'that',\n",
       "  'the',\n",
       "  'strong',\n",
       "  'feelings',\n",
       "  'which',\n",
       "  'alone',\n",
       "  'could',\n",
       "  'estimate',\n",
       "  'it',\n",
       "  'truly',\n",
       "  'were',\n",
       "  'the',\n",
       "  'very',\n",
       "  'feelings',\n",
       "  'which',\n",
       "  'ought',\n",
       "  'to',\n",
       "  'taste',\n",
       "  'it',\n",
       "  'but',\n",
       "  'sparingly',\n",
       "  '.']]"
      ]
     },
     "execution_count": 9,
     "metadata": {},
     "output_type": "execute_result"
    }
   ],
   "source": [
    "longest_sentence"
   ]
  },
  {
   "cell_type": "markdown",
   "id": "475dfb9f-6baf-46b6-9463-9eb5409851d2",
   "metadata": {},
   "source": [
    "## 1.2 Web and Chat Text\n",
    "\n",
    "Text from a Firefox discussion forum, conversations overheard in New York, the movie script of Pirates of the Carribean, personal advertisements, and wine reviews:"
   ]
  },
  {
   "cell_type": "code",
   "execution_count": 10,
   "id": "cc24e498-7ed3-4b84-aa68-e82b31449761",
   "metadata": {},
   "outputs": [],
   "source": [
    "from nltk.corpus import webtext"
   ]
  },
  {
   "cell_type": "code",
   "execution_count": 11,
   "id": "5651584b-8df9-4e40-822f-ab1d9c8b5b22",
   "metadata": {},
   "outputs": [],
   "source": [
    "first_chat = [(fileid, webtext.raw(fileid)[:65], '...') for fileid in webtext.fileids()]"
   ]
  },
  {
   "cell_type": "code",
   "execution_count": 12,
   "id": "2d75fe3a-4b58-43ab-9b9e-6cda08182302",
   "metadata": {},
   "outputs": [
    {
     "data": {
      "text/plain": [
       "[('firefox.txt',\n",
       "  'Cookie Manager: \"Don\\'t allow sites that set removed cookies to se',\n",
       "  '...'),\n",
       " ('grail.txt',\n",
       "  'SCENE 1: [wind] [clop clop clop] \\nKING ARTHUR: Whoa there!  [clop',\n",
       "  '...'),\n",
       " ('overheard.txt',\n",
       "  'White guy: So, do you have any plans for this evening?\\nAsian girl',\n",
       "  '...'),\n",
       " ('pirates.txt',\n",
       "  \"PIRATES OF THE CARRIBEAN: DEAD MAN'S CHEST, by Ted Elliott & Terr\",\n",
       "  '...'),\n",
       " ('singles.txt',\n",
       "  '25 SEXY MALE, seeks attrac older single lady, for discreet encoun',\n",
       "  '...'),\n",
       " ('wine.txt',\n",
       "  'Lovely delicate, fragrant Rhone wine. Polished leather and strawb',\n",
       "  '...')]"
      ]
     },
     "execution_count": 12,
     "metadata": {},
     "output_type": "execute_result"
    }
   ],
   "source": [
    "first_chat"
   ]
  },
  {
   "cell_type": "code",
   "execution_count": 13,
   "id": "bc1e20ce-37e1-4c15-ae40-eec53a5ae241",
   "metadata": {},
   "outputs": [],
   "source": [
    "from nltk.corpus import nps_chat"
   ]
  },
  {
   "cell_type": "code",
   "execution_count": 14,
   "id": "12a812a8-5e0f-4a19-b4f8-54a442b54421",
   "metadata": {},
   "outputs": [],
   "source": [
    "chatroom = nps_chat.posts('10-19-20s_706posts.xml')"
   ]
  },
  {
   "cell_type": "code",
   "execution_count": 15,
   "id": "faa6d001-a247-4f5d-a6c3-17474ddd5edb",
   "metadata": {},
   "outputs": [
    {
     "data": {
      "text/plain": [
       "['i',\n",
       " 'do',\n",
       " \"n't\",\n",
       " 'want',\n",
       " 'hot',\n",
       " 'pics',\n",
       " 'of',\n",
       " 'a',\n",
       " 'female',\n",
       " ',',\n",
       " 'I',\n",
       " 'can',\n",
       " 'look',\n",
       " 'in',\n",
       " 'a',\n",
       " 'mirror',\n",
       " '.']"
      ]
     },
     "execution_count": 15,
     "metadata": {},
     "output_type": "execute_result"
    }
   ],
   "source": [
    "chatroom[123]"
   ]
  },
  {
   "cell_type": "markdown",
   "id": "c6099511-8b35-43cc-a77e-56e9fefd8958",
   "metadata": {},
   "source": [
    "## 1.3 Brown Corpus\n",
    "\n",
    "The Brown Corpus was the first million-word electronic corpus of English, created in 1961 at Brown University. This corpus contains text from 500 sources, and the sources have been categorized by genre, such as news, editorial, and so on. 1.1 gives an example of each genre (for a complete list, see http://icame.uib.no/brown/bcm-los.html).\n",
    "\n",
    "We can access the corpus as a list of words, or a list of sentences (where each sentence is itself just a list of words). We can optionally specify particular categories or files to read:"
   ]
  },
  {
   "cell_type": "code",
   "execution_count": 16,
   "id": "3f77220b-2374-4977-9099-2771e6038cf0",
   "metadata": {},
   "outputs": [],
   "source": [
    "from nltk.corpus import brown"
   ]
  },
  {
   "cell_type": "code",
   "execution_count": 17,
   "id": "45c7693e-071a-41bb-9405-aa02a0d60922",
   "metadata": {},
   "outputs": [
    {
     "data": {
      "text/plain": [
       "['adventure',\n",
       " 'belles_lettres',\n",
       " 'editorial',\n",
       " 'fiction',\n",
       " 'government',\n",
       " 'hobbies',\n",
       " 'humor',\n",
       " 'learned',\n",
       " 'lore',\n",
       " 'mystery',\n",
       " 'news',\n",
       " 'religion',\n",
       " 'reviews',\n",
       " 'romance',\n",
       " 'science_fiction']"
      ]
     },
     "execution_count": 17,
     "metadata": {},
     "output_type": "execute_result"
    }
   ],
   "source": [
    "brown.categories()"
   ]
  },
  {
   "cell_type": "code",
   "execution_count": 18,
   "id": "1a03d8f5-b70c-405a-a954-36e08818aeb7",
   "metadata": {},
   "outputs": [
    {
     "data": {
      "text/plain": [
       "['Now', 'that', 'he', 'knew', 'himself', 'to', 'be', ...]"
      ]
     },
     "execution_count": 18,
     "metadata": {},
     "output_type": "execute_result"
    }
   ],
   "source": [
    "brown.words(categories='science_fiction')"
   ]
  },
  {
   "cell_type": "code",
   "execution_count": 19,
   "id": "25ed6003-d1cd-4895-bb0f-715ca994469d",
   "metadata": {},
   "outputs": [
    {
     "data": {
      "text/plain": [
       "['During', 'the', 'last', 'years', 'of', 'Woodrow', ...]"
      ]
     },
     "execution_count": 19,
     "metadata": {},
     "output_type": "execute_result"
    }
   ],
   "source": [
    "brown.words(fileids=['cg23'])"
   ]
  },
  {
   "cell_type": "code",
   "execution_count": 20,
   "id": "deb56fde-2418-4e61-87c9-f7d46119a081",
   "metadata": {},
   "outputs": [
    {
     "data": {
      "text/plain": [
       "[['In', 'American', 'romance', ',', 'almost', 'nothing', 'rates', 'higher', 'than', 'what', 'the', 'movie', 'men', 'have', 'called', '``', 'meeting', 'cute', \"''\", '--', 'that', 'is', ',', 'boy-meets-girl', 'seems', 'more', 'adorable', 'if', 'it', \"doesn't\", 'take', 'place', 'in', 'an', 'atmosphere', 'of', 'correct', 'and', 'acute', 'boredom', '.'], ['Just', 'about', 'the', 'most', 'enthralling', 'real-life', 'example', 'of', 'meeting', 'cute', 'is', 'the', 'Charles', 'MacArthur-Helen', 'Hayes', 'saga', ':', 'reputedly', 'all', 'he', 'did', 'was', 'give', 'her', 'a', 'handful', 'of', 'peanuts', ',', 'but', 'he', 'said', 'simultaneously', ',', '``', 'I', 'wish', 'they', 'were', 'emeralds', \"''\", '.'], ...]"
      ]
     },
     "execution_count": 20,
     "metadata": {},
     "output_type": "execute_result"
    }
   ],
   "source": [
    "brown.sents(categories=['lore','science_fiction'])"
   ]
  },
  {
   "cell_type": "markdown",
   "id": "52bbd67b-19bf-45fe-a87d-8c28a41f2ffd",
   "metadata": {},
   "source": [
    "The Brown Corpus is a convenient resource for studying systematic differences between genres, a kind of linguistic inquiry known as stylistics. Let's compare genres in their usage of modal verbs. The first step is to produce the counts for a particular genre. Remember to import nltk before doing the following:"
   ]
  },
  {
   "cell_type": "code",
   "execution_count": 21,
   "id": "386e8309-dd60-45d9-be2d-3cdfe9239a10",
   "metadata": {},
   "outputs": [],
   "source": [
    "sci_fi_text = brown.words(categories='science_fiction')"
   ]
  },
  {
   "cell_type": "code",
   "execution_count": 28,
   "id": "90999211-f99e-4e82-ad54-69b477071388",
   "metadata": {},
   "outputs": [],
   "source": [
    "from nltk import FreqDist\n",
    "fdist = nltk.FreqDist(w.lower() for w in sci_fi_text)"
   ]
  },
  {
   "cell_type": "code",
   "execution_count": 29,
   "id": "fd4ae156-241a-42bb-b202-378c55958e76",
   "metadata": {},
   "outputs": [],
   "source": [
    "modal_words = ['can', 'could', 'may', 'might', 'must', 'will']"
   ]
  },
  {
   "cell_type": "code",
   "execution_count": 32,
   "id": "d357137e-2272-4739-b626-8be572892c7c",
   "metadata": {},
   "outputs": [
    {
     "name": "stdout",
     "output_type": "stream",
     "text": [
      "can: 16 could: 49 may: 4 might: 12 must: 8 will: 17 "
     ]
    },
    {
     "data": {
      "text/plain": [
       "[None, None, None, None, None, None]"
      ]
     },
     "execution_count": 32,
     "metadata": {},
     "output_type": "execute_result"
    }
   ],
   "source": [
    "[print(m + ':', fdist[m], end=' ') for m in modal_words]"
   ]
  },
  {
   "cell_type": "code",
   "execution_count": 34,
   "id": "eb7395cc-4b0c-4785-a1a1-f2c94d024d5d",
   "metadata": {},
   "outputs": [],
   "source": [
    "lore_text = brown.words(categories='lore')\n",
    "lore_fdist = FreqDist(w.lower() for w in lore_text)"
   ]
  },
  {
   "cell_type": "code",
   "execution_count": 36,
   "id": "4f6403bd-d153-4a33-ab97-53fb9a514023",
   "metadata": {},
   "outputs": [
    {
     "name": "stdout",
     "output_type": "stream",
     "text": [
      "can: 170 could: 142 may: 170 might: 50 must: 96 will: 178 "
     ]
    },
    {
     "data": {
      "text/plain": [
       "[None, None, None, None, None, None]"
      ]
     },
     "execution_count": 36,
     "metadata": {},
     "output_type": "execute_result"
    }
   ],
   "source": [
    "[print(m + ':', lore_fdist[m], end=' ') for m in modal_words]"
   ]
  },
  {
   "cell_type": "markdown",
   "id": "c6168f04-a1d8-4540-8965-f542da175cfa",
   "metadata": {},
   "source": [
    "Now let's compare the frequency of modals across multiple categories."
   ]
  },
  {
   "cell_type": "code",
   "execution_count": 40,
   "id": "e52803c9-c47e-4fc5-83d1-9292ae78bca2",
   "metadata": {},
   "outputs": [],
   "source": [
    "from nltk import ConditionalFreqDist\n",
    "con_fdist = ConditionalFreqDist(\n",
    "           (genre, word)\n",
    "           for genre in brown.categories()\n",
    "           for word in brown.words(categories=genre))"
   ]
  },
  {
   "cell_type": "code",
   "execution_count": 41,
   "id": "2b3ac6d4-426e-4606-a874-8623b629a072",
   "metadata": {},
   "outputs": [],
   "source": [
    "genres = ['hobbies', 'lore', 'science_fiction', 'fiction', 'editorial', 'government']"
   ]
  },
  {
   "cell_type": "code",
   "execution_count": 44,
   "id": "9310b7b3-4322-4522-8cb0-84ff81ad12f8",
   "metadata": {},
   "outputs": [
    {
     "name": "stdout",
     "output_type": "stream",
     "text": [
      "                  can could   may might  must  will \n",
      "        hobbies   268    58   131    22    83   264 \n",
      "           lore   170   141   165    49    96   175 \n",
      "science_fiction    16    49     4    12     8    16 \n",
      "        fiction    37   166     8    44    55    52 \n",
      "      editorial   121    56    74    39    53   233 \n",
      "     government   117    38   153    13   102   244 \n"
     ]
    }
   ],
   "source": [
    "con_fdist.tabulate(conditions=genres, samples=modal_words)"
   ]
  },
  {
   "cell_type": "markdown",
   "id": "63727cdf-11e3-44a7-a14f-4f7138d6be93",
   "metadata": {},
   "source": [
    "As might be expected, the government category has the most `musts`, and lore has the most `mays`."
   ]
  },
  {
   "cell_type": "markdown",
   "id": "cad315e8-4c56-4d55-aef4-58cbb388d32f",
   "metadata": {},
   "source": [
    "## 1.4 Reuters Corpus\n",
    "\n",
    "The Reuters Corpus contains 10,788 news documents totaling 1.3 million words. The documents have been classified into 90 topics, and grouped into two sets, called \"training\" and \"test\"; thus, the text with fileid 'test/14826' is a document drawn from the test set. This split is for training and testing algorithms that automatically detect the topic of a document, as we will see in chap-data-intensive."
   ]
  },
  {
   "cell_type": "code",
   "execution_count": 45,
   "id": "f669d93e-1c0c-43a6-9c2c-90a1ae8b5d3f",
   "metadata": {},
   "outputs": [],
   "source": [
    "from nltk.corpus import reuters"
   ]
  },
  {
   "cell_type": "code",
   "execution_count": 50,
   "id": "b73503ef-303b-4fd5-80a2-9750815dc4c5",
   "metadata": {},
   "outputs": [
    {
     "data": {
      "text/plain": [
       "['acq',\n",
       " 'alum',\n",
       " 'barley',\n",
       " 'bop',\n",
       " 'carcass',\n",
       " 'castor-oil',\n",
       " 'cocoa',\n",
       " 'coconut',\n",
       " 'coconut-oil',\n",
       " 'coffee',\n",
       " 'copper',\n",
       " 'copra-cake',\n",
       " 'corn',\n",
       " 'cotton',\n",
       " 'cotton-oil',\n",
       " 'cpi',\n",
       " 'cpu',\n",
       " 'crude',\n",
       " 'dfl',\n",
       " 'dlr',\n",
       " 'dmk',\n",
       " 'earn',\n",
       " 'fuel',\n",
       " 'gas',\n",
       " 'gnp',\n",
       " 'gold',\n",
       " 'grain',\n",
       " 'groundnut',\n",
       " 'groundnut-oil',\n",
       " 'heat',\n",
       " 'hog',\n",
       " 'housing',\n",
       " 'income',\n",
       " 'instal-debt',\n",
       " 'interest',\n",
       " 'ipi',\n",
       " 'iron-steel',\n",
       " 'jet',\n",
       " 'jobs',\n",
       " 'l-cattle',\n",
       " 'lead',\n",
       " 'lei',\n",
       " 'lin-oil',\n",
       " 'livestock',\n",
       " 'lumber',\n",
       " 'meal-feed',\n",
       " 'money-fx',\n",
       " 'money-supply',\n",
       " 'naphtha',\n",
       " 'nat-gas',\n",
       " 'nickel',\n",
       " 'nkr',\n",
       " 'nzdlr',\n",
       " 'oat',\n",
       " 'oilseed',\n",
       " 'orange',\n",
       " 'palladium',\n",
       " 'palm-oil',\n",
       " 'palmkernel',\n",
       " 'pet-chem',\n",
       " 'platinum',\n",
       " 'potato',\n",
       " 'propane',\n",
       " 'rand',\n",
       " 'rape-oil',\n",
       " 'rapeseed',\n",
       " 'reserves',\n",
       " 'retail',\n",
       " 'rice',\n",
       " 'rubber',\n",
       " 'rye',\n",
       " 'ship',\n",
       " 'silver',\n",
       " 'sorghum',\n",
       " 'soy-meal',\n",
       " 'soy-oil',\n",
       " 'soybean',\n",
       " 'strategic-metal',\n",
       " 'sugar',\n",
       " 'sun-meal',\n",
       " 'sun-oil',\n",
       " 'sunseed',\n",
       " 'tea',\n",
       " 'tin',\n",
       " 'trade',\n",
       " 'veg-oil',\n",
       " 'wheat',\n",
       " 'wpi',\n",
       " 'yen',\n",
       " 'zinc']"
      ]
     },
     "execution_count": 50,
     "metadata": {},
     "output_type": "execute_result"
    }
   ],
   "source": [
    "# reuters.fileids()\n",
    "reuters.categories()"
   ]
  },
  {
   "cell_type": "markdown",
   "id": "c00c2a59-7a65-48bf-bcda-4ac5bc5320d5",
   "metadata": {},
   "source": [
    "Unlike the Brown Corpus, categories in the Reuters corpus overlap with each other, simply because a news story often covers multiple topics. We can ask for the topics covered by one or more documents, or for the documents included in one or more categories. For convenience, the corpus methods accept a single fileid or a list of fileids.\n"
   ]
  },
  {
   "cell_type": "code",
   "execution_count": 53,
   "id": "3d179a3e-6517-49cf-81f1-66e9f9910097",
   "metadata": {},
   "outputs": [
    {
     "data": {
      "text/plain": [
       "['barley', 'corn', 'grain', 'wheat']"
      ]
     },
     "execution_count": 53,
     "metadata": {},
     "output_type": "execute_result"
    }
   ],
   "source": [
    "reuters.categories('training/9865')"
   ]
  },
  {
   "cell_type": "code",
   "execution_count": 55,
   "id": "ceeec4b4-2602-4b4a-906b-6e6b5928fc25",
   "metadata": {},
   "outputs": [
    {
     "data": {
      "text/plain": [
       "['test/14832',\n",
       " 'test/14844',\n",
       " 'test/14852',\n",
       " 'test/14877',\n",
       " 'test/14882',\n",
       " 'test/15112',\n",
       " 'test/15219',\n",
       " 'test/15264',\n",
       " 'test/15624',\n",
       " 'test/15817',\n",
       " 'test/15831',\n",
       " 'test/15932',\n",
       " 'test/15988',\n",
       " 'test/16110',\n",
       " 'test/16123',\n",
       " 'test/16194',\n",
       " 'test/17480',\n",
       " 'test/17486',\n",
       " 'test/17509',\n",
       " 'test/17714',\n",
       " 'test/17731',\n",
       " 'test/17783',\n",
       " 'test/17805',\n",
       " 'test/18225',\n",
       " 'test/18280',\n",
       " 'test/18317',\n",
       " 'test/18337',\n",
       " 'test/18339',\n",
       " 'test/18849',\n",
       " 'test/18924',\n",
       " 'test/18943',\n",
       " 'test/18945',\n",
       " 'test/18952',\n",
       " 'test/19065',\n",
       " 'test/19367',\n",
       " 'test/19431',\n",
       " 'test/19477',\n",
       " 'test/19692',\n",
       " 'test/19764',\n",
       " 'test/19781',\n",
       " 'test/19786',\n",
       " 'test/20096',\n",
       " 'test/20458',\n",
       " 'training/10332',\n",
       " 'training/10485',\n",
       " 'training/1077',\n",
       " 'training/11190',\n",
       " 'training/11224',\n",
       " 'training/1148',\n",
       " 'training/11801',\n",
       " 'training/1184',\n",
       " 'training/11945',\n",
       " 'training/12024',\n",
       " 'training/12215',\n",
       " 'training/12223',\n",
       " 'training/12484',\n",
       " 'training/12489',\n",
       " 'training/12857',\n",
       " 'training/12861',\n",
       " 'training/12910',\n",
       " 'training/12980',\n",
       " 'training/12992',\n",
       " 'training/13003',\n",
       " 'training/13185',\n",
       " 'training/13694',\n",
       " 'training/13877',\n",
       " 'training/14297',\n",
       " 'training/14476',\n",
       " 'training/14499',\n",
       " 'training/14572',\n",
       " 'training/14805',\n",
       " 'training/1607',\n",
       " 'training/1929',\n",
       " 'training/2006',\n",
       " 'training/2074',\n",
       " 'training/2186',\n",
       " 'training/22',\n",
       " 'training/2764',\n",
       " 'training/2782',\n",
       " 'training/2880',\n",
       " 'training/3104',\n",
       " 'training/311',\n",
       " 'training/3163',\n",
       " 'training/3183',\n",
       " 'training/3207',\n",
       " 'training/3454',\n",
       " 'training/3613',\n",
       " 'training/3862',\n",
       " 'training/4122',\n",
       " 'training/4291',\n",
       " 'training/4431',\n",
       " 'training/5153',\n",
       " 'training/5435',\n",
       " 'training/5788',\n",
       " 'training/5827',\n",
       " 'training/5888',\n",
       " 'training/6025',\n",
       " 'training/6451',\n",
       " 'training/6846',\n",
       " 'training/688',\n",
       " 'training/6927',\n",
       " 'training/6934',\n",
       " 'training/6995',\n",
       " 'training/7533',\n",
       " 'training/7552',\n",
       " 'training/7592',\n",
       " 'training/7775',\n",
       " 'training/7842',\n",
       " 'training/7877',\n",
       " 'training/793',\n",
       " 'training/800',\n",
       " 'training/8055',\n",
       " 'training/816',\n",
       " 'training/8308',\n",
       " 'training/8415',\n",
       " 'training/8416',\n",
       " 'training/8427',\n",
       " 'training/8854',\n",
       " 'training/8877',\n",
       " 'training/8933',\n",
       " 'training/908',\n",
       " 'training/9195']"
      ]
     },
     "execution_count": 55,
     "metadata": {},
     "output_type": "execute_result"
    }
   ],
   "source": [
    "reuters.fileids(['tin', 'zinc', 'nickle', 'copper'])"
   ]
  },
  {
   "cell_type": "code",
   "execution_count": 56,
   "id": "ee29b820-50bf-4523-975e-4080c735f6d1",
   "metadata": {},
   "outputs": [
    {
     "data": {
      "text/plain": [
       "['test/14852',\n",
       " 'test/15264',\n",
       " 'test/15831',\n",
       " 'test/15932',\n",
       " 'test/15988',\n",
       " 'test/16110',\n",
       " 'test/16123',\n",
       " 'test/17509',\n",
       " 'test/17714',\n",
       " 'test/18225',\n",
       " 'test/18280',\n",
       " 'test/18317',\n",
       " 'test/18339',\n",
       " 'test/18849',\n",
       " 'test/18952',\n",
       " 'test/19781',\n",
       " 'test/19786',\n",
       " 'test/20096',\n",
       " 'training/1148',\n",
       " 'training/1184',\n",
       " 'training/11945',\n",
       " 'training/12024',\n",
       " 'training/12215',\n",
       " 'training/12223',\n",
       " 'training/12484',\n",
       " 'training/12489',\n",
       " 'training/12857',\n",
       " 'training/12861',\n",
       " 'training/12910',\n",
       " 'training/12980',\n",
       " 'training/12992',\n",
       " 'training/13003',\n",
       " 'training/13694',\n",
       " 'training/13877',\n",
       " 'training/14297',\n",
       " 'training/14476',\n",
       " 'training/14499',\n",
       " 'training/14572',\n",
       " 'training/14805',\n",
       " 'training/1607',\n",
       " 'training/2006',\n",
       " 'training/2074',\n",
       " 'training/2186',\n",
       " 'training/22',\n",
       " 'training/2764',\n",
       " 'training/2782',\n",
       " 'training/2880',\n",
       " 'training/3454',\n",
       " 'training/3613',\n",
       " 'training/3862',\n",
       " 'training/4291',\n",
       " 'training/4431',\n",
       " 'training/5435',\n",
       " 'training/5788',\n",
       " 'training/5827',\n",
       " 'training/5888',\n",
       " 'training/6025',\n",
       " 'training/6846',\n",
       " 'training/6927',\n",
       " 'training/7552',\n",
       " 'training/7775',\n",
       " 'training/793',\n",
       " 'training/800',\n",
       " 'training/816',\n",
       " 'training/9195']"
      ]
     },
     "execution_count": 56,
     "metadata": {},
     "output_type": "execute_result"
    }
   ],
   "source": [
    "reuters.fileids('copper')"
   ]
  },
  {
   "cell_type": "markdown",
   "id": "c4081411-006c-45b3-9238-d08f5f1d2675",
   "metadata": {},
   "source": [
    "Similarly, we can specify the words or sentences we want in terms of files or categories. The first handful of words in each of these texts are the titles, which by convention are stored as upper case."
   ]
  },
  {
   "cell_type": "code",
   "execution_count": 62,
   "id": "3aa608ec-a180-46e5-8040-fa91d5e9eef6",
   "metadata": {},
   "outputs": [
    {
     "data": {
      "text/plain": [
       "['U',\n",
       " '.',\n",
       " 'S',\n",
       " '.',\n",
       " 'BRASS',\n",
       " 'MILL',\n",
       " 'COPPER',\n",
       " 'STOCKS',\n",
       " 'LOWER',\n",
       " 'IN',\n",
       " 'JANUARY',\n",
       " 'U',\n",
       " '.',\n",
       " 'S']"
      ]
     },
     "execution_count": 62,
     "metadata": {},
     "output_type": "execute_result"
    }
   ],
   "source": [
    "reuters.words('training/816')[:14]"
   ]
  },
  {
   "cell_type": "code",
   "execution_count": 63,
   "id": "8c205e6f-3705-41d6-9d86-132286e133f7",
   "metadata": {},
   "outputs": [
    {
     "data": {
      "text/plain": [
       "['U', '.', 'S', '.', 'BRASS', 'MILL', 'COPPER', ...]"
      ]
     },
     "execution_count": 63,
     "metadata": {},
     "output_type": "execute_result"
    }
   ],
   "source": [
    "reuters.words(['training/816', 'training/9195'])"
   ]
  },
  {
   "cell_type": "code",
   "execution_count": 66,
   "id": "5a4e872e-8039-40d3-90a0-099212305be8",
   "metadata": {},
   "outputs": [
    {
     "data": {
      "text/plain": [
       "['THAI', 'TRADE', 'DEFICIT', 'WIDENS', 'IN', 'FIRST', 'QUARTER']"
      ]
     },
     "execution_count": 66,
     "metadata": {},
     "output_type": "execute_result"
    }
   ],
   "source": [
    "reuters.words(categories='tin')[:7]"
   ]
  },
  {
   "cell_type": "markdown",
   "id": "7a164a2e-4310-4eb1-bd7b-7a5db9b6a63f",
   "metadata": {},
   "source": [
    "## 1.5 Inaugurla Address Corpus \n",
    "\n",
    "In 1, we looked at the Inaugural Address Corpus, but treated it as a single text. The graph in fig-inaugural used \"word offset\" as one of the axes; this is the numerical index of the word in the corpus, counting from the first word of the first address. However, the corpus is actually a collection of 55 texts, one for each presidential address. An interesting property of this collection is its time dimension:"
   ]
  },
  {
   "cell_type": "code",
   "execution_count": 67,
   "id": "3828fefd-7cfd-42fd-a53a-da3706d26e31",
   "metadata": {},
   "outputs": [],
   "source": [
    "from nltk.corpus import inaugural"
   ]
  },
  {
   "cell_type": "code",
   "execution_count": 68,
   "id": "003785f2-1d17-4062-8c8f-7b8607e287f0",
   "metadata": {},
   "outputs": [
    {
     "data": {
      "text/plain": [
       "['1789-Washington.txt',\n",
       " '1793-Washington.txt',\n",
       " '1797-Adams.txt',\n",
       " '1801-Jefferson.txt',\n",
       " '1805-Jefferson.txt',\n",
       " '1809-Madison.txt',\n",
       " '1813-Madison.txt',\n",
       " '1817-Monroe.txt',\n",
       " '1821-Monroe.txt',\n",
       " '1825-Adams.txt',\n",
       " '1829-Jackson.txt',\n",
       " '1833-Jackson.txt',\n",
       " '1837-VanBuren.txt',\n",
       " '1841-Harrison.txt',\n",
       " '1845-Polk.txt',\n",
       " '1849-Taylor.txt',\n",
       " '1853-Pierce.txt',\n",
       " '1857-Buchanan.txt',\n",
       " '1861-Lincoln.txt',\n",
       " '1865-Lincoln.txt',\n",
       " '1869-Grant.txt',\n",
       " '1873-Grant.txt',\n",
       " '1877-Hayes.txt',\n",
       " '1881-Garfield.txt',\n",
       " '1885-Cleveland.txt',\n",
       " '1889-Harrison.txt',\n",
       " '1893-Cleveland.txt',\n",
       " '1897-McKinley.txt',\n",
       " '1901-McKinley.txt',\n",
       " '1905-Roosevelt.txt',\n",
       " '1909-Taft.txt',\n",
       " '1913-Wilson.txt',\n",
       " '1917-Wilson.txt',\n",
       " '1921-Harding.txt',\n",
       " '1925-Coolidge.txt',\n",
       " '1929-Hoover.txt',\n",
       " '1933-Roosevelt.txt',\n",
       " '1937-Roosevelt.txt',\n",
       " '1941-Roosevelt.txt',\n",
       " '1945-Roosevelt.txt',\n",
       " '1949-Truman.txt',\n",
       " '1953-Eisenhower.txt',\n",
       " '1957-Eisenhower.txt',\n",
       " '1961-Kennedy.txt',\n",
       " '1965-Johnson.txt',\n",
       " '1969-Nixon.txt',\n",
       " '1973-Nixon.txt',\n",
       " '1977-Carter.txt',\n",
       " '1981-Reagan.txt',\n",
       " '1985-Reagan.txt',\n",
       " '1989-Bush.txt',\n",
       " '1993-Clinton.txt',\n",
       " '1997-Clinton.txt',\n",
       " '2001-Bush.txt',\n",
       " '2005-Bush.txt',\n",
       " '2009-Obama.txt',\n",
       " '2013-Obama.txt',\n",
       " '2017-Trump.txt',\n",
       " '2021-Biden.txt']"
      ]
     },
     "execution_count": 68,
     "metadata": {},
     "output_type": "execute_result"
    }
   ],
   "source": [
    "inaugural.fileids()"
   ]
  },
  {
   "cell_type": "code",
   "execution_count": 69,
   "id": "5b0308bd-f88d-4f2e-b1bc-473868e4b0b7",
   "metadata": {},
   "outputs": [
    {
     "data": {
      "text/plain": [
       "['1789',\n",
       " '1793',\n",
       " '1797',\n",
       " '1801',\n",
       " '1805',\n",
       " '1809',\n",
       " '1813',\n",
       " '1817',\n",
       " '1821',\n",
       " '1825',\n",
       " '1829',\n",
       " '1833',\n",
       " '1837',\n",
       " '1841',\n",
       " '1845',\n",
       " '1849',\n",
       " '1853',\n",
       " '1857',\n",
       " '1861',\n",
       " '1865',\n",
       " '1869',\n",
       " '1873',\n",
       " '1877',\n",
       " '1881',\n",
       " '1885',\n",
       " '1889',\n",
       " '1893',\n",
       " '1897',\n",
       " '1901',\n",
       " '1905',\n",
       " '1909',\n",
       " '1913',\n",
       " '1917',\n",
       " '1921',\n",
       " '1925',\n",
       " '1929',\n",
       " '1933',\n",
       " '1937',\n",
       " '1941',\n",
       " '1945',\n",
       " '1949',\n",
       " '1953',\n",
       " '1957',\n",
       " '1961',\n",
       " '1965',\n",
       " '1969',\n",
       " '1973',\n",
       " '1977',\n",
       " '1981',\n",
       " '1985',\n",
       " '1989',\n",
       " '1993',\n",
       " '1997',\n",
       " '2001',\n",
       " '2005',\n",
       " '2009',\n",
       " '2013',\n",
       " '2017',\n",
       " '2021']"
      ]
     },
     "execution_count": 69,
     "metadata": {},
     "output_type": "execute_result"
    }
   ],
   "source": [
    "[fileid[:4] for fileid in inaugural.fileids()]"
   ]
  },
  {
   "cell_type": "markdown",
   "id": "35c90df8-8901-4796-b9c1-352b2a747eb9",
   "metadata": {},
   "source": [
    "The following code converts the words in the Inaugural corpus to lowercase using w.lower() [1], then checks if they start with either of the \"targets\" america or citizen using startswith() [1]. Thus it will count words like American's and Citizens."
   ]
  },
  {
   "cell_type": "code",
   "execution_count": 72,
   "id": "5f38c3e5-9891-43d5-b4ad-d2b0ae96d953",
   "metadata": {},
   "outputs": [],
   "source": [
    "con_fdist_inaug = ConditionalFreqDist(\n",
    "    (target, fileid[:4])\n",
    "    for fileid in inaugural.fileids()\n",
    "    for w in inaugural.words(fileid)\n",
    "    for target in ['freedom', 'responsibility']\n",
    "    if w.lower().startswith(target))"
   ]
  },
  {
   "cell_type": "code",
   "execution_count": 78,
   "id": "eb7854a7-5c83-4c51-9ed4-0bb1390d28c9",
   "metadata": {},
   "outputs": [
    {
     "data": {
      "image/png": "[encoded data removed]",
      "text/plain": [
       "<Figure size 432x288 with 1 Axes>"
      ]
     },
     "metadata": {
      "needs_background": "light"
     },
     "output_type": "display_data"
    },
    {
     "data": {
      "text/plain": [
       "<AxesSubplot:xlabel='Samples', ylabel='Counts'>"
      ]
     },
     "execution_count": 78,
     "metadata": {},
     "output_type": "execute_result"
    }
   ],
   "source": [
    "con_fdist_inaug.plot()"
   ]
  },
  {
   "cell_type": "markdown",
   "id": "07e52216-fa04-4d20-8168-f93af7318cb0",
   "metadata": {},
   "source": [
    "## 1.8   Text Corpus Structure\n",
    "\n",
    "We have seen a variety of corpus structures so far; these are summarized in 1.3. The simplest kind lacks any structure: it is just a collection of texts. Often, texts are grouped into categories that might correspond to genre, source, author, language, etc. Sometimes these categories overlap, notably in the case of topical categories as a text can be relevant to more than one topic. Occasionally, text collections have temporal structure, news collections being the most common example."
   ]
  },
  {
   "attachments": {
    "5608e9a6-2328-4c14-86c8-859c346df35f.png": {
     "image/png": "[encoded data removed]"
    }
   },
   "cell_type": "markdown",
   "id": "5c9c00ab-6aec-4dfb-baf5-8b8fe4ef778d",
   "metadata": {},
   "source": [
    "![image.png](attachment:5608e9a6-2328-4c14-86c8-859c346df35f.png)\n",
    "\n",
    "_Common Structures for Text Corpora: The simplest kind of corpus is a collection of isolated texts with no particular organization; some corpora are structured into categories like genre (Brown Corpus); some categorizations overlap, such as topic categories (Reuters Corpus); other corpora represent language use over time (Inaugural Address Corpus)._"
   ]
  },
  {
   "cell_type": "markdown",
   "id": "3609315a-efd3-44f2-a0eb-2eb059654269",
   "metadata": {},
   "source": [
    "Example\tDescription\n",
    "fileids()\tthe files of the corpus\n",
    "fileids([categories])\tthe files of the corpus corresponding to these categories\n",
    "categories()\tthe categories of the corpus\n",
    "categories([fileids])\tthe categories of the corpus corresponding to these files\n",
    "raw()\tthe raw content of the corpus\n",
    "raw(fileids=[f1,f2,f3])\tthe raw content of the specified files\n",
    "raw(categories=[c1,c2])\tthe raw content of the specified categories\n",
    "words()\tthe words of the whole corpus\n",
    "words(fileids=[f1,f2,f3])\tthe words of the specified fileids\n",
    "words(categories=[c1,c2])\tthe words of the specified categories\n",
    "sents()\tthe sentences of the whole corpus\n",
    "sents(fileids=[f1,f2,f3])\tthe sentences of the specified fileids\n",
    "sents(categories=[c1,c2])\tthe sentences of the specified categories\n",
    "abspath(fileid)\tthe location of the given file on disk\n",
    "encoding(fileid)\tthe encoding of the file (if known)\n",
    "open(fileid)\topen a stream for reading the given corpus file\n",
    "root\tif the path to the root of locally installed corpus\n",
    "readme()\tthe contents of the README file of the corpus"
   ]
  },
  {
   "cell_type": "markdown",
   "id": "292543f4-9639-4094-99c1-172364b62e27",
   "metadata": {},
   "source": [
    "## 1.9   Loading your own Corpus\n",
    "If you have your own collection of text files that you would like to access using the above methods, you can easily load them with the help of NLTK's PlaintextCorpusReader. Check the location of your files on your file system; in the following example, we have taken this to be the directory /usr/share/dict. Whatever the location, set this to be the value of corpus_root [1]. The second parameter of the PlaintextCorpusReader initializer [2] can be a list of fileids, like ['a.txt', 'test/b.txt'], or a pattern that matches all fileids, like '[abc]/.*\\.txt' (see 3.4 for information about regular expressions)."
   ]
  },
  {
   "attachments": {
    "e93beaad-33b1-4bb6-be10-043ed616e5ec.png": {
     "image/png": "[encoded data removed]"
    }
   },
   "cell_type": "markdown",
   "id": "f069f01b-4153-4487-bd01-c784606a1757",
   "metadata": {},
   "source": [
    "## 2   Conditional Frequency Distributions\n",
    "We saw that given some list mylist of words or other items, FreqDist(mylist) would compute the number of occurrences of each item in the list. Here we will generalize this idea.\n",
    "\n",
    "When the texts of a corpus are divided into several categories, by genre, topic, author, etc, we can maintain separate frequency distributions for each category. This will allow us to study systematic differences between the categories. In the previous section we achieved this using NLTK's ConditionalFreqDist data type. A conditional frequency distribution is a collection of frequency distributions, each one for a different \"condition\". The condition will often be the category of the text. 2.1 depicts a fragment of a conditional frequency distribution having just two conditions, one for news text and one for romance text\n",
    "\n",
    "![image.png](attachment:e93beaad-33b1-4bb6-be10-043ed616e5ec.png)"
   ]
  },
  {
   "cell_type": "markdown",
   "id": "47b7b81f-d38a-402d-81da-70469e48f46e",
   "metadata": {},
   "source": [
    "## 2.1   Conditions and Events\n",
    "A frequency distribution counts observable events, such as the appearance of words in a text. A conditional frequency distribution needs to pair each event with a condition. So instead of processing a sequence of words [1], we have to process a sequence of pairs:"
   ]
  },
  {
   "cell_type": "markdown",
   "id": "b3377520-ee56-4587-b18f-eafdb7e5e321",
   "metadata": {},
   "source": [
    "## 2.2   Counting Words by Genre\n",
    "In 1 we saw a conditional frequency distribution where the condition was the section of the Brown Corpus, and for each condition we counted words. Whereas FreqDist() takes a simple list as input, ConditionalFreqDist() takes a list of pairs."
   ]
  },
  {
   "cell_type": "code",
   "execution_count": 82,
   "id": "746691e2-a49e-4c58-9e56-66b5f16a668d",
   "metadata": {},
   "outputs": [],
   "source": [
    "brown_con_fdisk = ConditionalFreqDist(\n",
    "    (genre, word)\n",
    "    for genre in brown.categories()\n",
    "    for word  in brown.words(categories=genre))"
   ]
  },
  {
   "cell_type": "markdown",
   "id": "fc40a9f7-c755-4657-9b29-65139cdf0154",
   "metadata": {},
   "source": [
    "Let's break this down, and look at just two genres, news and romance. For each genre [2], we loop over every word in the genre [3], producing pairs consisting of the genre and the word [1]:\n",
    "\n"
   ]
  },
  {
   "cell_type": "code",
   "execution_count": 85,
   "id": "dc9b4fb7-d437-4c8c-92cf-1235023ef092",
   "metadata": {},
   "outputs": [],
   "source": [
    "genre_word = [(genre, word)\n",
    "              for genre in ['fiction', 'science_fiction']\n",
    "              for word in brown.words(categories=genre)]"
   ]
  },
  {
   "cell_type": "markdown",
   "id": "f5cf0785-f4a6-4a66-b7a7-70a648f38c84",
   "metadata": {},
   "source": [
    "So, as we can see below, pairs at the beginning of the list genre_word will be of the form ('fiction', word) [1], while those at the end will be of the form ('science_fiction', word).\n",
    "\n"
   ]
  },
  {
   "cell_type": "code",
   "execution_count": 86,
   "id": "62bedff3-d4e9-484a-9413-f6e98290e81b",
   "metadata": {},
   "outputs": [
    {
     "data": {
      "text/plain": [
       "[('fiction', 'Thirty-three'),\n",
       " ('fiction', 'Scotty'),\n",
       " ('fiction', 'did'),\n",
       " ('fiction', 'not')]"
      ]
     },
     "execution_count": 86,
     "metadata": {},
     "output_type": "execute_result"
    }
   ],
   "source": [
    "genre_word[:4]"
   ]
  },
  {
   "cell_type": "code",
   "execution_count": 87,
   "id": "56d47f9b-8b8f-4e37-b04b-d980d8115b02",
   "metadata": {},
   "outputs": [
    {
     "data": {
      "text/plain": [
       "[('science_fiction', 'out'),\n",
       " ('science_fiction', 'of'),\n",
       " ('science_fiction', 'pain'),\n",
       " ('science_fiction', '.')]"
      ]
     },
     "execution_count": 87,
     "metadata": {},
     "output_type": "execute_result"
    }
   ],
   "source": [
    "genre_word[-4:]"
   ]
  },
  {
   "cell_type": "code",
   "execution_count": null,
   "id": "3a1fdbd1-ff60-4988-927b-f79a9337682d",
   "metadata": {},
   "outputs": [],
   "source": []
  }
 ],
 "metadata": {
  "kernelspec": {
   "display_name": "Python 3 (ipykernel)",
   "language": "python",
   "name": "python3"
  },
  "language_info": {
   "codemirror_mode": {
    "name": "ipython",
    "version": 3
   },
   "file_extension": ".py",
   "mimetype": "text/x-python",
   "name": "python",
   "nbconvert_exporter": "python",
   "pygments_lexer": "ipython3",
   "version": "3.9.10"
  }
 },
 "nbformat": 4,
 "nbformat_minor": 5
}
