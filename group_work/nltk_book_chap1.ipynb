{
 "cells": [
  {
   "cell_type": "markdown",
   "id": "b5c164bc-9f4d-419f-b2c1-ecf97d480828",
   "metadata": {},
   "source": [
    "## 1. Getting started with NLTK"
   ]
  },
  {
   "cell_type": "code",
   "execution_count": 1,
   "id": "f11cf641-b223-4ce3-a494-72a20f369139",
   "metadata": {},
   "outputs": [
    {
     "name": "stdout",
     "output_type": "stream",
     "text": [
      "*** Introductory Examples for the NLTK Book ***\n",
      "Loading text1, ..., text9 and sent1, ..., sent9\n",
      "Type the name of the text or sentence to view it.\n",
      "Type: 'texts()' or 'sents()' to list the materials.\n",
      "text1: Moby Dick by Herman Melville 1851\n",
      "text2: Sense and Sensibility by Jane Austen 1811\n",
      "text3: The Book of Genesis\n",
      "text4: Inaugural Address Corpus\n",
      "text5: Chat Corpus\n",
      "text6: Monty Python and the Holy Grail\n",
      "text7: Wall Street Journal\n",
      "text8: Personals Corpus\n",
      "text9: The Man Who Was Thursday by G . K . Chesterton 1908\n"
     ]
    }
   ],
   "source": [
    "# Get started\n",
    "import nltk\n",
    "from nltk.book import *\n",
    "from nltk.corpus import stopwords\n",
    "from nltk.stem import WordNetLemmatizer\n",
    "import matplotlib as plt"
   ]
  },
  {
   "cell_type": "code",
   "execution_count": 2,
   "id": "1c61ad62-012f-4805-b813-a8585c4beb60",
   "metadata": {},
   "outputs": [
    {
     "data": {
      "text/plain": [
       "<Text: Moby Dick by Herman Melville 1851>"
      ]
     },
     "execution_count": 2,
     "metadata": {},
     "output_type": "execute_result"
    }
   ],
   "source": [
    "text1"
   ]
  },
  {
   "cell_type": "code",
   "execution_count": 3,
   "id": "dec72caa-d778-4ebb-952b-f3a178c17b50",
   "metadata": {},
   "outputs": [
    {
     "data": {
      "text/plain": [
       "<Text: The Man Who Was Thursday by G . K . Chesterton 1908>"
      ]
     },
     "execution_count": 3,
     "metadata": {},
     "output_type": "execute_result"
    }
   ],
   "source": [
    "text9"
   ]
  },
  {
   "cell_type": "markdown",
   "id": "0ebdea1b-12ec-4f99-9a10-fd145f8cfa7c",
   "metadata": {},
   "source": [
    "## Searching through text\n",
    "\n",
    "1. You can use concordance for a given work\n",
    "2. You can search for similar words\n",
    "3. We can search common context for a list of words"
   ]
  },
  {
   "cell_type": "markdown",
   "id": "52d275b2-dfd3-4a8c-b086-6eebdac6b09f",
   "metadata": {},
   "source": [
    "### Concordance\n",
    "\n",
    "See words that surround a given word."
   ]
  },
  {
   "cell_type": "code",
   "execution_count": 4,
   "id": "39ebc13c-4046-4288-bc7f-9d86dde3e23c",
   "metadata": {},
   "outputs": [
    {
     "name": "stdout",
     "output_type": "stream",
     "text": [
      "Displaying 6 of 6 matches:\n",
      "nt empty . Then he realised ( in some odd way ) that the silence was rather a l\n",
      "et smile . There was nothing whatever odd about him , except that he wore a pai\n",
      "uare - shouldered man in tweeds , not odd save for the accident of his ugly spe\n",
      "ut it might have struck a stranger as odd that there appeared in his train , no\n",
      "nnocent world . \" Have you noticed an odd thing ,\" he said , \" about all your d\n",
      "queerer still that I also have had my odd notion about the President , and I al\n"
     ]
    }
   ],
   "source": [
    "text9.concordance('odd')"
   ]
  },
  {
   "cell_type": "markdown",
   "id": "74764109-59c7-4f7c-ba3c-cca166e592e2",
   "metadata": {},
   "source": [
    "### Similar\n",
    "What other words appear in the contenxt of 'odd'?"
   ]
  },
  {
   "cell_type": "code",
   "execution_count": 5,
   "id": "629cc50c-b4d4-474f-99a3-b57515d69a55",
   "metadata": {},
   "outputs": [
    {
     "name": "stdout",
     "output_type": "stream",
     "text": [
      "to of all certain strange curious indescribable anybody unaccountable\n"
     ]
    }
   ],
   "source": [
    "text9.similar('odd')"
   ]
  },
  {
   "cell_type": "code",
   "execution_count": 6,
   "id": "59b3ae3b-6516-4b21-8718-8d8c756c48bd",
   "metadata": {},
   "outputs": [
    {
     "name": "stdout",
     "output_type": "stream",
     "text": [
      "some_way\n"
     ]
    }
   ],
   "source": [
    "text9.common_contexts(['odd', 'strange'])"
   ]
  },
  {
   "cell_type": "markdown",
   "id": "472dd3d5-9a72-4e77-b97a-d8500145a69e",
   "metadata": {},
   "source": [
    "## This part is me doing something\n",
    "\n",
    "Trying to run dispersion on top words."
   ]
  },
  {
   "cell_type": "code",
   "execution_count": 7,
   "id": "5246ada0-b341-4e73-a69c-097e1fe07f4f",
   "metadata": {},
   "outputs": [],
   "source": [
    "# tokenize\n",
    "text9_tokens = [t.lower() for t in text9 if t.isalpha()]"
   ]
  },
  {
   "cell_type": "code",
   "execution_count": 8,
   "id": "86dc04ec-f71e-45e4-b893-831d89e441df",
   "metadata": {},
   "outputs": [],
   "source": [
    "# get stop words and remove\n",
    "stop_words = stopwords.words('english')"
   ]
  },
  {
   "cell_type": "code",
   "execution_count": 9,
   "id": "44e378d9-7d24-41f6-b44f-026795416971",
   "metadata": {},
   "outputs": [],
   "source": [
    "# Now filter these out\n",
    "text9_tokens_wo_stops = [t for t in text9_tokens if t not in stop_words]"
   ]
  },
  {
   "cell_type": "code",
   "execution_count": 10,
   "id": "e29252c9-caa6-4b9b-b72f-62b416bc5960",
   "metadata": {},
   "outputs": [],
   "source": [
    "# Let's run lemmatizing the text\n",
    "wordnet_lemmatizer = WordNetLemmatizer()\n",
    "text9_lemma = [wordnet_lemmatizer.lemmatize(t) for t in text9_tokens_wo_stops]"
   ]
  },
  {
   "cell_type": "code",
   "execution_count": 11,
   "id": "ef1f6db4-487d-49f2-adbd-a162aed1c044",
   "metadata": {},
   "outputs": [
    {
     "data": {
      "image/png": "[encoded data removed]",
      "text/plain": [
       "<Figure size 432x288 with 1 Axes>"
      ]
     },
     "metadata": {
      "needs_background": "light"
     },
     "output_type": "display_data"
    },
    {
     "data": {
      "text/plain": [
       "<AxesSubplot:xlabel='Samples', ylabel='Counts'>"
      ]
     },
     "execution_count": 11,
     "metadata": {},
     "output_type": "execute_result"
    }
   ],
   "source": [
    "# Lets look at the word frequencies\n",
    "dist = FreqDist(text9_lemma)\n",
    "dist.plot(20)"
   ]
  },
  {
   "cell_type": "code",
   "execution_count": 12,
   "id": "5a72239e-1ff7-43b7-9e8d-26a2090cde95",
   "metadata": {},
   "outputs": [
    {
     "name": "stdout",
     "output_type": "stream",
     "text": [
      "head professor man smile president secretary world back hat voice\n",
      "sword road enemy sky way him eyes train table forehead\n"
     ]
    }
   ],
   "source": [
    "text9.similar('face')"
   ]
  },
  {
   "cell_type": "code",
   "execution_count": 13,
   "id": "101bdeee-df80-4d23-ba22-fd4de8f239e7",
   "metadata": {},
   "outputs": [
    {
     "name": "stdout",
     "output_type": "stream",
     "text": [
      "Displaying 25 of 119 matches:\n",
      " long , auburn hair and the impudent face -- that young man was not really a p\n",
      " almost saintly oval , however , his face projected suddenly broad and brutal \n",
      " of feathers that almost brushed the face . Across the great part of the dome \n",
      " braids of red hair , but a kindlier face underneath them , laughed with such \n",
      " at him from under level brows ; her face was grave and open , and there had f\n",
      " at the girl ' s red hair and amused face for what seemed to be a few minutes \n",
      "and long frock coat were black ; the face , in an abrupt shadow , was almost a\n",
      ".\" \" Very well ,\" said Gregory , his face darkening , \" you shall see somethin\n",
      "me with his large but indecipherable face . ' You want a safe disguise , do yo\n",
      "mid a great rumble of applause . His face was deadly pale , so that by contras\n",
      "Gregory had sat staring at him , his face idiotic with astonishment . Now in t\n",
      " you !\" cried Gregory , with frantic face and hands . \" Stop it , it is all --\n",
      "od began to crawl back into his dead face . \" He is a man quite inexperienced \n",
      "e found himself , somehow or other , face to face with Gregory , who still reg\n",
      "himself , somehow or other , face to face with Gregory , who still regarded hi\n",
      "ur word ,\" he said gently , with his face in shadow . \" You are a man of honou\n",
      "he dim , pale morning light that his face was long , pale and intellectual , a\n",
      "d a mere oversight ; the rest of the face was of the type that is best shaven \n",
      "at the pale , dignified and delicate face , and the face still looked blankly \n",
      "ignified and delicate face , and the face still looked blankly across the rive\n",
      "put it before that sad and beautiful face . Then the man smiled , and his smil\n",
      "e silent man , a man of even classic face . And there was the last nightmare t\n",
      " was instantaneous , and the man ' s face dropped at once into its harmonious \n",
      "t contradicted the fanaticism of his face . It seemed almost as if all friendl\n",
      "room towards the balcony , the large face of Sunday grew larger and larger ; a\n"
     ]
    }
   ],
   "source": [
    "text9.concordance('face')"
   ]
  },
  {
   "cell_type": "code",
   "execution_count": 14,
   "id": "e2503779-18fc-47a2-966c-a3e9b7b6e160",
   "metadata": {},
   "outputs": [
    {
     "name": "stderr",
     "output_type": "stream",
     "text": [
      "/Users/kaiprenger/venv/python_class_2022/lib/python3.9/site-packages/nltk/draw/__init__.py:15: UserWarning: nltk.draw package not loaded (please install Tkinter library).\n",
      "  warnings.warn(\"nltk.draw package not loaded (please install Tkinter library).\")\n"
     ]
    },
    {
     "data": {
      "image/png": "[encoded data removed]",
      "text/plain": [
       "<Figure size 432x288 with 1 Axes>"
      ]
     },
     "metadata": {
      "needs_background": "light"
     },
     "output_type": "display_data"
    }
   ],
   "source": [
    "text9.dispersion_plot(['face', 'head', 'eyes', 'forehead', 'head', 'smile', 'voice'])"
   ]
  },
  {
   "cell_type": "markdown",
   "id": "70a144d9-0ee8-47dd-a0bc-0d53d56ce889",
   "metadata": {},
   "source": [
    "Just a random exploration to try to understand some common words, and how related words might present something in text9. Let's get back to the NLTK book tutorial."
   ]
  },
  {
   "cell_type": "markdown",
   "id": "23d63e53-b459-49ed-8a30-d13e404f3da6",
   "metadata": {},
   "source": [
    "## Generate\n",
    "\n",
    "This allows you to try and generate some text in the style of text in the corpus. Cool!"
   ]
  },
  {
   "cell_type": "code",
   "execution_count": 15,
   "id": "c48c5eeb-15cc-408e-98ea-6985f6814dab",
   "metadata": {},
   "outputs": [
    {
     "name": "stderr",
     "output_type": "stream",
     "text": [
      "Building ngram index...\n"
     ]
    },
    {
     "name": "stdout",
     "output_type": "stream",
     "text": [
      "is , and finding a Sunday teashop , turned in his loose straw hat on\n",
      "the bench under the advice of his hands . , or an apple tree , but not\n",
      "an anarchist . an hour his talk was a collision . \" I ' d better .\"\n",
      "the foundation of solid meekness which lies at the anarchist breakfast\n",
      "and had been too true . Syme and I did not lie only in a condition of\n",
      "curious hilarity . for a nightmare to lead to a farcical ingenuity ,\n",
      "and swung out of the affair , and a great\n"
     ]
    },
    {
     "data": {
      "text/plain": [
       "'is , and finding a Sunday teashop , turned in his loose straw hat on\\nthe bench under the advice of his hands . , or an apple tree , but not\\nan anarchist . an hour his talk was a collision . \" I \\' d better .\"\\nthe foundation of solid meekness which lies at the anarchist breakfast\\nand had been too true . Syme and I did not lie only in a condition of\\ncurious hilarity . for a nightmare to lead to a farcical ingenuity ,\\nand swung out of the affair , and a great'"
      ]
     },
     "execution_count": 15,
     "metadata": {},
     "output_type": "execute_result"
    }
   ],
   "source": [
    "text9.generate()"
   ]
  },
  {
   "cell_type": "markdown",
   "id": "13c504eb-4dce-4cc5-bb93-767df32f9c03",
   "metadata": {},
   "source": [
    "## Counting vocabulary"
   ]
  },
  {
   "cell_type": "code",
   "execution_count": 16,
   "id": "be6bf9a4-edae-49ba-955e-4509761cc9d0",
   "metadata": {},
   "outputs": [
    {
     "data": {
      "text/plain": [
       "69213"
      ]
     },
     "execution_count": 16,
     "metadata": {},
     "output_type": "execute_result"
    }
   ],
   "source": [
    "# Calculate the length of the text in words\n",
    "len(text9)"
   ]
  },
  {
   "cell_type": "code",
   "execution_count": 22,
   "id": "4b9904f3-a43a-4b84-afa1-d264a3056819",
   "metadata": {},
   "outputs": [
    {
     "data": {
      "text/plain": [
       "['bentley',\n",
       " 'boys',\n",
       " 'chesterton',\n",
       " 'clerihew',\n",
       " 'cloud',\n",
       " 'edmund',\n",
       " 'g',\n",
       " 'k',\n",
       " 'man',\n",
       " 'men',\n",
       " 'mind',\n",
       " 'sick',\n",
       " 'soul',\n",
       " 'thursday',\n",
       " 'upon',\n",
       " 'wailing',\n",
       " 'weather',\n",
       " 'went',\n",
       " 'yea']"
      ]
     },
     "execution_count": 22,
     "metadata": {},
     "output_type": "execute_result"
    }
   ],
   "source": [
    "# sorted(set(text9)) # damn this is not helpful due to punctuation and capitalization\n",
    "sorted(set(text9_tokens_wo_stops[:20]))"
   ]
  },
  {
   "cell_type": "code",
   "execution_count": 18,
   "id": "0e91c417-651c-44af-a4b4-ac0a1bf13d07",
   "metadata": {},
   "outputs": [
    {
     "name": "stdout",
     "output_type": "stream",
     "text": [
      "6807\n",
      "6159\n"
     ]
    }
   ],
   "source": [
    "# OK, how many unique words without punctuation and case sensitivity\n",
    "print(len(set(text9)))\n",
    "print(len(set(text9_tokens_wo_stops)))"
   ]
  },
  {
   "cell_type": "code",
   "execution_count": 19,
   "id": "19dc5c98-fc99-4267-8ab0-e344ffd0e9a4",
   "metadata": {},
   "outputs": [
    {
     "data": {
      "text/plain": [
       "1"
      ]
     },
     "execution_count": 19,
     "metadata": {},
     "output_type": "execute_result"
    }
   ],
   "source": [
    "text9_tokens.count('aberrations')"
   ]
  },
  {
   "cell_type": "markdown",
   "id": "becb0d2d-8614-4c12-832b-268464df3c45",
   "metadata": {},
   "source": [
    "### Lexical density & percentage\n",
    "\n",
    "Let's create some functions to work on lexical density and word percentage."
   ]
  },
  {
   "cell_type": "code",
   "execution_count": 20,
   "id": "ff3846e3-02b5-4dc6-ada8-053fcc1d4da5",
   "metadata": {},
   "outputs": [],
   "source": [
    "def lexical_density(text):\n",
    "    return len(set(text)) / len(text)\n",
    "\n",
    "def percentage(count, total):\n",
    "    return 100 *  count / total"
   ]
  },
  {
   "cell_type": "code",
   "execution_count": 23,
   "id": "67d87243-7feb-4c3d-92c6-a52f6e60ad73",
   "metadata": {},
   "outputs": [
    {
     "data": {
      "text/plain": [
       "0.10728152033240243"
      ]
     },
     "execution_count": 23,
     "metadata": {},
     "output_type": "execute_result"
    }
   ],
   "source": [
    "lexical_density(text9_tokens)"
   ]
  },
  {
   "cell_type": "code",
   "execution_count": 25,
   "id": "efbdd3b4-f66b-4eb9-9700-6ad5c2cfd3bf",
   "metadata": {},
   "outputs": [
    {
     "data": {
      "text/plain": [
       "0.0983485761345412"
      ]
     },
     "execution_count": 25,
     "metadata": {},
     "output_type": "execute_result"
    }
   ],
   "source": [
    "lexical_density(text9)"
   ]
  },
  {
   "cell_type": "markdown",
   "id": "32ef9186-4b15-4646-a9b4-603b980a9c9b",
   "metadata": {},
   "source": [
    "## 2. A Closer Look at Python: Texts as Lists of Words"
   ]
  },
  {
   "cell_type": "markdown",
   "id": "0e3d7ee7-3a78-4e5b-a500-ed1db5ce67cc",
   "metadata": {},
   "source": [
    "### 2.1 Lists"
   ]
  },
  {
   "cell_type": "code",
   "execution_count": 26,
   "id": "f4a53416-ba18-4f85-b038-09c7558910cc",
   "metadata": {},
   "outputs": [],
   "source": [
    "# Representing the first sentence in Moby Dick\n",
    "sent_1 = ['Call', 'me', 'Ismael', '.']"
   ]
  },
  {
   "cell_type": "code",
   "execution_count": 27,
   "id": "49193488-9290-4239-8d24-8f9182b0e0c0",
   "metadata": {},
   "outputs": [
    {
     "data": {
      "text/plain": [
       "4"
      ]
     },
     "execution_count": 27,
     "metadata": {},
     "output_type": "execute_result"
    }
   ],
   "source": [
    "len(sent_1)"
   ]
  },
  {
   "cell_type": "code",
   "execution_count": 28,
   "id": "8b03f4ec-9b00-4151-876e-fa54549a3b0b",
   "metadata": {},
   "outputs": [
    {
     "data": {
      "text/plain": [
       "1.0"
      ]
     },
     "execution_count": 28,
     "metadata": {},
     "output_type": "execute_result"
    }
   ],
   "source": [
    "lexical_density(sent1)"
   ]
  },
  {
   "cell_type": "code",
   "execution_count": 30,
   "id": "3d8bece9-f36c-4e14-9f9e-370558a2d7c4",
   "metadata": {},
   "outputs": [],
   "source": [
    "sent_2 = ['The', 'family', 'of', 'Dashwood', 'had', 'long', 'been', 'settled', 'in', 'Sussex', '.']"
   ]
  },
  {
   "cell_type": "code",
   "execution_count": 31,
   "id": "f32a4e69-9827-4ee4-9968-348f2da2cf1b",
   "metadata": {},
   "outputs": [],
   "source": [
    "sent_3 = ['In', 'the', 'beginning', 'God', 'created', 'the', 'heaven', 'and', 'the', 'earth', '.']"
   ]
  },
  {
   "cell_type": "code",
   "execution_count": 32,
   "id": "4f8d92f5-cbe5-4a28-b137-7af07a1a07b6",
   "metadata": {},
   "outputs": [
    {
     "data": {
      "text/plain": [
       "['In',\n",
       " 'the',\n",
       " 'beginning',\n",
       " 'God',\n",
       " 'created',\n",
       " 'the',\n",
       " 'heaven',\n",
       " 'and',\n",
       " 'the',\n",
       " 'earth',\n",
       " '.',\n",
       " 'The',\n",
       " 'family',\n",
       " 'of',\n",
       " 'Dashwood',\n",
       " 'had',\n",
       " 'long',\n",
       " 'been',\n",
       " 'settled',\n",
       " 'in',\n",
       " 'Sussex',\n",
       " '.']"
      ]
     },
     "execution_count": 32,
     "metadata": {},
     "output_type": "execute_result"
    }
   ],
   "source": [
    "sent_3 + sent_2"
   ]
  },
  {
   "cell_type": "code",
   "execution_count": 33,
   "id": "03314932-1b66-45c8-b231-99ca307d7d89",
   "metadata": {},
   "outputs": [],
   "source": [
    "sent1.append('Some')"
   ]
  },
  {
   "cell_type": "code",
   "execution_count": 34,
   "id": "586614cd-fb72-4f06-9e6b-26a50c86ef82",
   "metadata": {},
   "outputs": [
    {
     "data": {
      "text/plain": [
       "['Call', 'me', 'Ishmael', '.', 'some']"
      ]
     },
     "execution_count": 34,
     "metadata": {},
     "output_type": "execute_result"
    }
   ],
   "source": [
    "sent1"
   ]
  },
  {
   "cell_type": "code",
   "execution_count": 37,
   "id": "f74cf3e7-55aa-46ba-b88a-a827f156a087",
   "metadata": {},
   "outputs": [],
   "source": [
    "sent1.extend(['body', 'stop', 'me', '!'])"
   ]
  },
  {
   "cell_type": "code",
   "execution_count": 38,
   "id": "811b5b99-3bc3-47b6-8c1f-7d35612af595",
   "metadata": {},
   "outputs": [
    {
     "data": {
      "text/plain": [
       "['Call', 'me', 'Ishmael', '.', 'some', 'body', 'stop', 'me', '!']"
      ]
     },
     "execution_count": 38,
     "metadata": {},
     "output_type": "execute_result"
    }
   ],
   "source": [
    "sent1"
   ]
  },
  {
   "cell_type": "markdown",
   "id": "dad4e121-573e-4686-8f70-57e540402a93",
   "metadata": {},
   "source": [
    "### 2.2 Indexing Lists"
   ]
  },
  {
   "cell_type": "markdown",
   "id": "2f2c82e8-c2f6-46d9-9655-39633a3a1bf9",
   "metadata": {},
   "source": [
    "You can pick out individual words from a text."
   ]
  },
  {
   "cell_type": "code",
   "execution_count": 41,
   "id": "2fb304c1-4800-483c-9c2f-08a90edaac69",
   "metadata": {},
   "outputs": [
    {
     "data": {
      "text/plain": [
       "'awaken'"
      ]
     },
     "execution_count": 41,
     "metadata": {},
     "output_type": "execute_result"
    }
   ],
   "source": [
    "text4[173]"
   ]
  },
  {
   "cell_type": "markdown",
   "id": "8cb02150-34a9-4176-b3ac-2f5bb5a29cc0",
   "metadata": {},
   "source": [
    "You can also use that work to local the index, probably pretty helpful for trying to trim Project Gutenburg texts of preamble."
   ]
  },
  {
   "cell_type": "code",
   "execution_count": 44,
   "id": "856fb3c8-f96a-47f5-8452-b77e35717643",
   "metadata": {},
   "outputs": [
    {
     "data": {
      "text/plain": [
       "2113"
      ]
     },
     "execution_count": 44,
     "metadata": {},
     "output_type": "execute_result"
    }
   ],
   "source": [
    "text4.index('abandoned')"
   ]
  },
  {
   "cell_type": "markdown",
   "id": "98da98bd-8700-4b68-a5f2-87a5887207ed",
   "metadata": {},
   "source": [
    "Of course, you can create sublists by slicing."
   ]
  },
  {
   "cell_type": "code",
   "execution_count": 51,
   "id": "e1898e8d-f0b5-4ded-adef-9173b488b1dc",
   "metadata": {},
   "outputs": [
    {
     "data": {
      "text/plain": [
       "['my',\n",
       " 'country',\n",
       " 'called',\n",
       " 'me',\n",
       " ',',\n",
       " 'being',\n",
       " 'sufficient',\n",
       " 'to',\n",
       " 'awaken',\n",
       " 'in',\n",
       " 'the',\n",
       " 'wisest',\n",
       " 'and',\n",
       " 'most',\n",
       " 'experienced',\n",
       " 'of',\n",
       " 'her',\n",
       " 'citizens',\n",
       " 'a',\n",
       " 'distrustful']"
      ]
     },
     "execution_count": 51,
     "metadata": {},
     "output_type": "execute_result"
    }
   ],
   "source": [
    "text4[165:185]"
   ]
  },
  {
   "cell_type": "code",
   "execution_count": 52,
   "id": "ba525d20-19cf-48af-bf88-27281863ce3d",
   "metadata": {},
   "outputs": [
    {
     "data": {
      "text/plain": [
       "['communication',\n",
       " 'which',\n",
       " 'strong',\n",
       " 'family',\n",
       " 'affection',\n",
       " 'would',\n",
       " 'naturally',\n",
       " 'dictate',\n",
       " ';--',\n",
       " 'and',\n",
       " 'among',\n",
       " 'the',\n",
       " 'merits',\n",
       " 'and',\n",
       " 'the',\n",
       " 'happiness',\n",
       " 'of',\n",
       " 'Elinor',\n",
       " 'and',\n",
       " 'Marianne',\n",
       " ',',\n",
       " 'let',\n",
       " 'it',\n",
       " 'not',\n",
       " 'be',\n",
       " 'ranked',\n",
       " 'as',\n",
       " 'the',\n",
       " 'least',\n",
       " 'considerable',\n",
       " ',',\n",
       " 'that',\n",
       " 'though',\n",
       " 'sisters',\n",
       " ',',\n",
       " 'and',\n",
       " 'living',\n",
       " 'almost',\n",
       " 'within',\n",
       " 'sight',\n",
       " 'of',\n",
       " 'each',\n",
       " 'other',\n",
       " ',',\n",
       " 'they',\n",
       " 'could',\n",
       " 'live',\n",
       " 'without',\n",
       " 'disagreement',\n",
       " 'between',\n",
       " 'themselves',\n",
       " ',',\n",
       " 'or',\n",
       " 'producing',\n",
       " 'coolness',\n",
       " 'between',\n",
       " 'their',\n",
       " 'husbands',\n",
       " '.',\n",
       " 'THE',\n",
       " 'END']"
      ]
     },
     "execution_count": 52,
     "metadata": {},
     "output_type": "execute_result"
    }
   ],
   "source": [
    "text2[141515:]"
   ]
  },
  {
   "cell_type": "markdown",
   "id": "55d29185-03ac-4ac1-ab50-d299d70eed3a",
   "metadata": {},
   "source": [
    "I'm skipping the next few sections, and they're basically talking about variables and strings."
   ]
  },
  {
   "cell_type": "markdown",
   "id": "87d9f332-cabc-4b3c-a3cc-4c9c2d9f9b53",
   "metadata": {},
   "source": [
    "## 3. Computing with Language: Simple Statistics"
   ]
  },
  {
   "cell_type": "code",
   "execution_count": 54,
   "id": "9f6bf1f9-8df1-4f6a-b83b-cfd9a7a72db1",
   "metadata": {},
   "outputs": [
    {
     "data": {
      "text/plain": [
       "['said', 'than']"
      ]
     },
     "execution_count": 54,
     "metadata": {},
     "output_type": "execute_result"
    }
   ],
   "source": [
    "## There's a test to make sure you understand slicing; I'll guess that the answer is 'said than'\n",
    "saying = ['After', 'all', 'is', 'said', 'and', 'done', 'more', 'is', 'said', 'than', 'done']\n",
    "tokens = set(saying)\n",
    "tokens = sorted(tokens)\n",
    "tokens[-2:]"
   ]
  },
  {
   "cell_type": "markdown",
   "id": "5a966903-d6a1-45fa-92ab-3b7acbf40c10",
   "metadata": {},
   "source": [
    "### 3.1 Frequency Distribution\n",
    "\n",
    "In order to find the most frequently used words, we might take a tally. Frequency distrution (`FreqDist`) could help"
   ]
  },
  {
   "cell_type": "code",
   "execution_count": 56,
   "id": "1a304fb3-4d5f-4721-94a7-d92acc391b48",
   "metadata": {},
   "outputs": [
    {
     "data": {
      "text/plain": [
       "FreqDist({',': 3488, 'the': 3291, '.': 2717, 'a': 1713, 'of': 1710, 'and': 1568, '\"': 1336, 'to': 1045, 'in': 888, 'I': 885, ...})"
      ]
     },
     "execution_count": 56,
     "metadata": {},
     "output_type": "execute_result"
    }
   ],
   "source": [
    "fdist9 = FreqDist(text9)\n",
    "fdist9"
   ]
  },
  {
   "cell_type": "code",
   "execution_count": 59,
   "id": "adeb57f7-2e4b-466b-bcac-c6c7315c0fed",
   "metadata": {},
   "outputs": [
    {
     "data": {
      "text/plain": [
       "FreqDist({'syme': 519, 'said': 507, 'man': 276, 'like': 264, 'one': 199, 'could': 151, 'professor': 149, 'would': 120, 'face': 119, 'gregory': 112, ...})"
      ]
     },
     "execution_count": 59,
     "metadata": {},
     "output_type": "execute_result"
    }
   ],
   "source": [
    "real_fdist9 = FreqDist(text9_tokens_wo_stops)\n",
    "real_fdist9"
   ]
  },
  {
   "cell_type": "code",
   "execution_count": 60,
   "id": "b55f4b4b-194c-44fc-aab7-f132d497c374",
   "metadata": {},
   "outputs": [
    {
     "data": {
      "text/plain": [
       "[('syme', 519),\n",
       " ('said', 507),\n",
       " ('man', 276),\n",
       " ('like', 264),\n",
       " ('one', 199),\n",
       " ('could', 151),\n",
       " ('professor', 149),\n",
       " ('would', 120),\n",
       " ('face', 119),\n",
       " ('gregory', 112)]"
      ]
     },
     "execution_count": 60,
     "metadata": {},
     "output_type": "execute_result"
    }
   ],
   "source": [
    "# How about top ten\n",
    "real_fdist9.most_common(10)"
   ]
  },
  {
   "cell_type": "code",
   "execution_count": 63,
   "id": "38385e7b-84b1-4bfd-ad5d-b75730ff497a",
   "metadata": {},
   "outputs": [
    {
     "data": {
      "text/plain": [
       "11"
      ]
     },
     "execution_count": 63,
     "metadata": {},
     "output_type": "execute_result"
    }
   ],
   "source": [
    "# You can also index a word to get the count\n",
    "real_fdist9['forehead']"
   ]
  },
  {
   "cell_type": "code",
   "execution_count": 65,
   "id": "40bbc77d-4bd4-4236-93fb-9691cd33ad30",
   "metadata": {},
   "outputs": [],
   "source": [
    "# How about words that only occur once, or hapaxes?\n",
    "text9_hapaxes = real_fdist9.hapaxes()"
   ]
  },
  {
   "cell_type": "code",
   "execution_count": 66,
   "id": "0bd8b1aa-dec7-43e2-b155-3d1dc1451b13",
   "metadata": {},
   "outputs": [
    {
     "data": {
      "text/plain": [
       "3079"
      ]
     },
     "execution_count": 66,
     "metadata": {},
     "output_type": "execute_result"
    }
   ],
   "source": [
    "len(text9_hapaxes)"
   ]
  },
  {
   "cell_type": "markdown",
   "id": "4b462535-cef3-48d2-84e0-f31f33a6efb9",
   "metadata": {},
   "source": [
    "### 3.2 Fine-grained Selection of Words"
   ]
  },
  {
   "cell_type": "markdown",
   "id": "46eb15e4-6010-418e-bf79-b4e3e9a92724",
   "metadata": {},
   "source": [
    "Let's try to look at the longer words of text9."
   ]
  },
  {
   "cell_type": "code",
   "execution_count": 68,
   "id": "6856e40e-d60b-4139-a379-9ba4fbad2b53",
   "metadata": {},
   "outputs": [
    {
     "data": {
      "text/plain": [
       "['incomprehensible', 'undenominational']"
      ]
     },
     "execution_count": 68,
     "metadata": {},
     "output_type": "execute_result"
    }
   ],
   "source": [
    "text9_dedupe = set(text9)\n",
    "long_words = [w for w in text9_dedupe if len(w) > 15]\n",
    "sorted(long_words)"
   ]
  },
  {
   "cell_type": "markdown",
   "id": "57a2b3ac-22d9-4f1a-ac64-098c9c343634",
   "metadata": {},
   "source": [
    "This is me having some fun now with these longer words."
   ]
  },
  {
   "cell_type": "code",
   "execution_count": 71,
   "id": "d473bae1-6d45-4b9d-a3eb-83204a96131f",
   "metadata": {},
   "outputs": [
    {
     "name": "stdout",
     "output_type": "stream",
     "text": [
      "Displaying 4 of 4 matches:\n",
      "out of the room , shaking with incomprehensible scorn . Four of the men left b\n",
      " He had a vague idea , if this incomprehensible old Jack - in - the - box was \n",
      "is fears fully returned . This incomprehensible man from the fierce council , \n",
      "se there was silence , and the incomprehensible went on . \" But you were men .\n"
     ]
    }
   ],
   "source": [
    "text9.concordance('incomprehensible')"
   ]
  },
  {
   "cell_type": "code",
   "execution_count": 72,
   "id": "1da7c45f-b8a1-4e84-aa24-edf261ff31d1",
   "metadata": {},
   "outputs": [
    {
     "name": "stdout",
     "output_type": "stream",
     "text": [
      "Displaying 1 of 1 matches:\n",
      "hools !\" said Syme . \" Is this undenominational education ?\" \" No ,\" said the \n"
     ]
    }
   ],
   "source": [
    "text9.concordance('undenominational')"
   ]
  },
  {
   "cell_type": "markdown",
   "id": "e1365254-ec3e-4708-ae14-1b9e49478e8e",
   "metadata": {},
   "source": [
    "Fun is over. Back to NLTK book!!!"
   ]
  },
  {
   "cell_type": "markdown",
   "id": "d5f1c19a-7622-4de2-a44f-c05d5fcbff67",
   "metadata": {},
   "source": [
    "Those long words are often hapaxes. What if we only looked at slightly longer words that have a reasonable frequency distirbution in the text."
   ]
  },
  {
   "cell_type": "code",
   "execution_count": 76,
   "id": "f3e03b57-0463-41c2-b12a-4b4e96c52d8a",
   "metadata": {},
   "outputs": [],
   "source": [
    "seven_and_seven = sorted(w for w in set(text9_tokens_wo_stops) if len(w) > 7 and real_fdist9[w] > 7)"
   ]
  },
  {
   "cell_type": "code",
   "execution_count": 77,
   "id": "5504ca74-8e5e-4e78-a418-a7266624f12f",
   "metadata": {},
   "outputs": [
    {
     "data": {
      "text/plain": [
       "['abruptly',\n",
       " 'accident',\n",
       " 'adventures',\n",
       " 'afterwards',\n",
       " 'anarchist',\n",
       " 'anarchists',\n",
       " 'answered',\n",
       " 'anything',\n",
       " 'beautiful',\n",
       " 'breakfast',\n",
       " 'breaking',\n",
       " 'buildings',\n",
       " 'business',\n",
       " 'carriages',\n",
       " 'certainly',\n",
       " 'chairman',\n",
       " 'champagne',\n",
       " 'christians',\n",
       " 'comrades',\n",
       " 'continued',\n",
       " 'contrast',\n",
       " 'conversation',\n",
       " 'criminal',\n",
       " 'curiosity',\n",
       " 'dangerous',\n",
       " 'darkness',\n",
       " 'detective',\n",
       " 'distance',\n",
       " 'dynamiter',\n",
       " 'election',\n",
       " 'elephant',\n",
       " 'enormous',\n",
       " 'especially',\n",
       " 'everyone',\n",
       " 'everything',\n",
       " 'extraordinary',\n",
       " 'followed',\n",
       " 'forehead',\n",
       " 'frightful',\n",
       " 'gentleman',\n",
       " 'gentlemen',\n",
       " 'gradually',\n",
       " 'horrible',\n",
       " 'humanity',\n",
       " 'impression',\n",
       " 'innkeeper',\n",
       " 'innocent',\n",
       " 'inspector',\n",
       " 'intellectual',\n",
       " 'laughing',\n",
       " 'laughter',\n",
       " 'leicester',\n",
       " 'nonsense',\n",
       " 'ordinary',\n",
       " 'original',\n",
       " 'paralytic',\n",
       " 'particular',\n",
       " 'passionate',\n",
       " 'pleasure',\n",
       " 'poetical',\n",
       " 'policeman',\n",
       " 'policemen',\n",
       " 'position',\n",
       " 'possible',\n",
       " 'practical',\n",
       " 'presence',\n",
       " 'president',\n",
       " 'probably',\n",
       " 'professor',\n",
       " 'question',\n",
       " 'ratcliffe',\n",
       " 'realised',\n",
       " 'remember',\n",
       " 'remembered',\n",
       " 'repeated',\n",
       " 'revolver',\n",
       " 'secretary',\n",
       " 'shoulder',\n",
       " 'shoulders',\n",
       " 'simplicity',\n",
       " 'something',\n",
       " 'sometimes',\n",
       " 'somewhat',\n",
       " 'somewhere',\n",
       " 'speaking',\n",
       " 'spectacles',\n",
       " 'standing',\n",
       " 'steadily',\n",
       " 'straight',\n",
       " 'stranger',\n",
       " 'strolled',\n",
       " 'suddenly',\n",
       " 'sunlight',\n",
       " 'surprise',\n",
       " 'terrible',\n",
       " 'thursday',\n",
       " 'together',\n",
       " 'understand',\n",
       " 'understood',\n",
       " 'universe',\n",
       " 'victoria',\n",
       " 'violence',\n",
       " 'whatever',\n",
       " 'whenever',\n",
       " 'witherspoon']"
      ]
     },
     "execution_count": 77,
     "metadata": {},
     "output_type": "execute_result"
    }
   ],
   "source": [
    "seven_and_seven"
   ]
  },
  {
   "cell_type": "code",
   "execution_count": 78,
   "id": "5413275c-f53c-4872-a1fc-4f367d186ed7",
   "metadata": {},
   "outputs": [
    {
     "data": {
      "text/plain": [
       "105"
      ]
     },
     "execution_count": 78,
     "metadata": {},
     "output_type": "execute_result"
    }
   ],
   "source": [
    "len(seven_and_seven)"
   ]
  },
  {
   "cell_type": "markdown",
   "id": "3218ace0-5754-453e-b9f6-3a4f1f0aa621",
   "metadata": {},
   "source": [
    "### 3.3 Collocations and Bigrams\n",
    "\n",
    "A collocation is a sequence of words that occur together unusually often. Thus red wine is a collocation, whereas the wine is not. A characteristic of collocations is that they are resistant to substitution with words that have similar senses; for example, maroon wine sounds definitely odd."
   ]
  },
  {
   "cell_type": "code",
   "execution_count": 79,
   "id": "bd16d73e-e3c3-462b-ab0f-d410975d044d",
   "metadata": {},
   "outputs": [
    {
     "data": {
      "text/plain": [
       "[('After', 'all'),\n",
       " ('all', 'is'),\n",
       " ('is', 'said'),\n",
       " ('said', 'and'),\n",
       " ('and', 'done'),\n",
       " ('done', 'more'),\n",
       " ('more', 'is'),\n",
       " ('is', 'said'),\n",
       " ('said', 'than'),\n",
       " ('than', 'done')]"
      ]
     },
     "execution_count": 79,
     "metadata": {},
     "output_type": "execute_result"
    }
   ],
   "source": [
    "list(bigrams(saying))"
   ]
  },
  {
   "cell_type": "markdown",
   "id": "54a66fdb-9cb8-45cc-b1fb-790e15434017",
   "metadata": {},
   "source": [
    "Here we see that the pair of words than-done is a bigram, and we write it in Python as ('than', 'done'). \n",
    "Now, collocations are essentially just frequent bigrams, except that we want to pay more attention to \n",
    "the cases that involve rare words. In particular, we want to find bigrams that occur more often than \n",
    "we would expect based on the frequency of the individual words. The collocations() function does this \n",
    "for us. We will see how it works later."
   ]
  },
  {
   "cell_type": "code",
   "execution_count": 80,
   "id": "37860cc8-9370-4402-9043-873c594440f6",
   "metadata": {},
   "outputs": [
    {
     "name": "stdout",
     "output_type": "stream",
     "text": [
      "said Syme; asked Syme; Saffron Park; Comrade Gregory; Leicester\n",
      "Square; Colonel Ducroix; red hair; old gentleman; could see; Inspector\n",
      "Ratcliffe; Anarchist Council; blue card; Scotland Yard; dark room;\n",
      "blue eyes; common sense; straw hat; hundred yards; said Gregory; run\n",
      "away\n"
     ]
    }
   ],
   "source": [
    "text9.collocations()"
   ]
  },
  {
   "cell_type": "markdown",
   "id": "9a715aeb-5ef5-4853-b53e-dea7595fc725",
   "metadata": {},
   "source": [
    "Ha! \"Common sense\" seems appropriate for Chesterton!"
   ]
  },
  {
   "cell_type": "markdown",
   "id": "7de75ce0-07fd-4fd6-920a-0c12ad94bcfe",
   "metadata": {},
   "source": [
    "### 3.4 Counting Other Things"
   ]
  },
  {
   "cell_type": "markdown",
   "id": "923bae83-cd33-4d1b-ab46-b99fdc5f1669",
   "metadata": {},
   "source": [
    "A distribution of word lengths in a text, by creating a FreqDist out of a long list of numbers, where each number is the length of the corresponding word in the text."
   ]
  },
  {
   "cell_type": "code",
   "execution_count": 83,
   "id": "9b27a733-cabe-473b-85cf-13eda100f073",
   "metadata": {},
   "outputs": [],
   "source": [
    "count_word_length = [len(w) for w in text9]"
   ]
  },
  {
   "cell_type": "code",
   "execution_count": 84,
   "id": "591de88c-10bc-456d-94e2-3408c74fec0f",
   "metadata": {},
   "outputs": [],
   "source": [
    "new_fdisk_text9 = FreqDist(count_word_length)"
   ]
  },
  {
   "cell_type": "code",
   "execution_count": 85,
   "id": "6cbdec47-79a7-4758-be04-eeb6205412be",
   "metadata": {},
   "outputs": [
    {
     "data": {
      "text/plain": [
       "FreqDist({3: 13759, 1: 11957, 4: 11418, 2: 11363, 5: 6550, 6: 4623, 7: 3820, 8: 2194, 9: 1853, 10: 924, ...})"
      ]
     },
     "execution_count": 85,
     "metadata": {},
     "output_type": "execute_result"
    }
   ],
   "source": [
    "new_fdisk_text9"
   ]
  },
  {
   "cell_type": "code",
   "execution_count": 86,
   "id": "b932b56a-6751-45db-a30c-39e93202771e",
   "metadata": {},
   "outputs": [
    {
     "data": {
      "text/plain": [
       "[(3, 13759),\n",
       " (1, 11957),\n",
       " (4, 11418),\n",
       " (2, 11363),\n",
       " (5, 6550),\n",
       " (6, 4623),\n",
       " (7, 3820),\n",
       " (8, 2194),\n",
       " (9, 1853),\n",
       " (10, 924),\n",
       " (11, 352),\n",
       " (12, 243),\n",
       " (13, 102),\n",
       " (14, 44),\n",
       " (15, 6),\n",
       " (16, 5)]"
      ]
     },
     "execution_count": 86,
     "metadata": {},
     "output_type": "execute_result"
    }
   ],
   "source": [
    "new_fdisk_text9.most_common()"
   ]
  },
  {
   "cell_type": "code",
   "execution_count": 87,
   "id": "ecb9b238-96ef-4532-b7b0-a49e3de08dd1",
   "metadata": {},
   "outputs": [
    {
     "data": {
      "text/plain": [
       "3"
      ]
     },
     "execution_count": 87,
     "metadata": {},
     "output_type": "execute_result"
    }
   ],
   "source": [
    "new_fdisk_text9.max()"
   ]
  },
  {
   "cell_type": "code",
   "execution_count": 88,
   "id": "7cde501e-a3a8-43ea-92cf-31ea09869540",
   "metadata": {},
   "outputs": [
    {
     "data": {
      "text/plain": [
       "13759"
      ]
     },
     "execution_count": 88,
     "metadata": {},
     "output_type": "execute_result"
    }
   ],
   "source": [
    "new_fdisk_text9[3]"
   ]
  },
  {
   "cell_type": "code",
   "execution_count": 89,
   "id": "83fcae49-fa65-4dfa-a40b-e979a4eb5973",
   "metadata": {},
   "outputs": [
    {
     "data": {
      "text/plain": [
       "0.1987921344256137"
      ]
     },
     "execution_count": 89,
     "metadata": {},
     "output_type": "execute_result"
    }
   ],
   "source": [
    "new_fdisk_text9.freq(3)"
   ]
  },
  {
   "cell_type": "markdown",
   "id": "57ea39b5-13d1-421f-9d75-a0f68ef158ff",
   "metadata": {},
   "source": [
    "From this we see that the most frequent word length is 3, and that words of length 3 account for roughly 50,000 (or 20%) of the words making up the book. Could be interested in comparisons between authors and genres."
   ]
  },
  {
   "cell_type": "markdown",
   "id": "44647fe4-aac9-4739-80e9-c5bb5e185f4e",
   "metadata": {},
   "source": [
    "## Ending without part 4 & 5 of the first chapter\n",
    "\n",
    "Part 4 is about Python in general, lists, for loops, code blocks. Doesn't seem specific to NLP or NLTK, and already understood."
   ]
  },
  {
   "cell_type": "code",
   "execution_count": null,
   "id": "9fcb4cca-0e70-41b1-aa69-a0505bb77bb6",
   "metadata": {},
   "outputs": [],
   "source": [
    " "
   ]
  }
 ],
 "metadata": {
  "kernelspec": {
   "display_name": "Python 3 (ipykernel)",
   "language": "python",
   "name": "python3"
  },
  "language_info": {
   "codemirror_mode": {
    "name": "ipython",
    "version": 3
   },
   "file_extension": ".py",
   "mimetype": "text/x-python",
   "name": "python",
   "nbconvert_exporter": "python",
   "pygments_lexer": "ipython3",
   "version": "3.9.10"
  }
 },
 "nbformat": 4,
 "nbformat_minor": 5
}
